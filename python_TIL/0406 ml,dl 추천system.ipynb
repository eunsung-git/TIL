{
 "cells": [
  {
   "cell_type": "code",
   "execution_count": 34,
   "metadata": {},
   "outputs": [],
   "source": [
    "import pandas as pd\n",
    "import numpy as np\n",
    "\n",
    "from math import sqrt\n",
    "\n",
    "import matplotlib.pyplot as plt"
   ]
  },
  {
   "cell_type": "code",
   "execution_count": 39,
   "metadata": {},
   "outputs": [],
   "source": [
    "import matplotlib\n",
    "from matplotlib import font_manager, rc\n",
    "import platform\n",
    "if platform.system()==\"Windows\":\n",
    "    font_name=font_manager.FontProperties(fname=\"c:/Windows/Fonts/malgun.ttf\").get_name()\n",
    "    rc('font', family=font_name)\n",
    "matplotlib.rcParams['axes.unicode_minus']=False\n",
    "\n",
    "import warnings\n",
    "warnings.filterwarnings(\"ignore\")"
   ]
  },
  {
   "cell_type": "code",
   "execution_count": 2,
   "metadata": {},
   "outputs": [],
   "source": [
    "critics={\n",
    "    'BTS':{'암수살인':5, '바울':4, '할로윈':1.5},\n",
    "    '손흥민':{'바울':5, '할로윈':2},\n",
    "    '레드벨벳':{'암수살인':2.5, '바울':2, '할로윈':1},\n",
    "    '트와이스':{'암수살인':3.5, '바울':4, '할로윈':5}\n",
    "}"
   ]
  },
  {
   "cell_type": "code",
   "execution_count": 4,
   "metadata": {},
   "outputs": [
    {
     "data": {
      "text/plain": [
       "{'암수살인': 5, '바울': 4, '할로윈': 1.5}"
      ]
     },
     "execution_count": 4,
     "metadata": {},
     "output_type": "execute_result"
    }
   ],
   "source": [
    "critics['BTS']\n",
    "critics.get('BTS')"
   ]
  },
  {
   "cell_type": "code",
   "execution_count": 6,
   "metadata": {},
   "outputs": [
    {
     "name": "stdout",
     "output_type": "stream",
     "text": [
      "None\n"
     ]
    }
   ],
   "source": [
    "print(critics.get('super'))"
   ]
  },
  {
   "cell_type": "code",
   "execution_count": 7,
   "metadata": {},
   "outputs": [
    {
     "data": {
      "text/plain": [
       "4"
      ]
     },
     "execution_count": 7,
     "metadata": {},
     "output_type": "execute_result"
    }
   ],
   "source": [
    "critics.get('BTS').get('바울')"
   ]
  },
  {
   "cell_type": "code",
   "execution_count": null,
   "metadata": {},
   "outputs": [],
   "source": []
  },
  {
   "cell_type": "code",
   "execution_count": 11,
   "metadata": {},
   "outputs": [],
   "source": [
    "# 두 점 사이의 거리\n",
    "def sim(i,j):\n",
    "    return sqrt(pow(i,2)+pow(j,2))"
   ]
  },
  {
   "cell_type": "code",
   "execution_count": 17,
   "metadata": {},
   "outputs": [
    {
     "name": "stdout",
     "output_type": "stream",
     "text": [
      "3.1622776601683795\n"
     ]
    }
   ],
   "source": [
    "v1=critics['손흥민']['바울']-critics['레드벨벳']['바울']\n",
    "v2=critics['레드벨벳']['할로윈']-critics['손흥민']['할로윈']\n",
    "print(sim(v1,v2))"
   ]
  },
  {
   "cell_type": "code",
   "execution_count": null,
   "metadata": {},
   "outputs": [],
   "source": []
  },
  {
   "cell_type": "code",
   "execution_count": 44,
   "metadata": {},
   "outputs": [
    {
     "name": "stdout",
     "output_type": "stream",
     "text": [
      "BTS 와의 거리 :  1.118033988749895\n",
      "레드벨벳 와의 거리 :  3.1622776601683795\n",
      "트와이스 와의 거리 :  3.1622776601683795\n"
     ]
    }
   ],
   "source": [
    "# 피타고라스 활용 두 점 사이의 거라\n",
    "for i in critics:\n",
    "    if i != '손흥민':\n",
    "        d1=critics.get('손흥민').get('바울')- critics.get(i).get('바울')\n",
    "    if i != '손흥민':\n",
    "        d2=critics.get('손흥민').get('할로윈')- critics.get(i).get('할로윈')\n",
    "        print(i, '와의 거리 : ',sim(d1,d2))\n",
    "    "
   ]
  },
  {
   "cell_type": "code",
   "execution_count": null,
   "metadata": {},
   "outputs": [],
   "source": []
  },
  {
   "cell_type": "code",
   "execution_count": 46,
   "metadata": {},
   "outputs": [
    {
     "name": "stdout",
     "output_type": "stream",
     "text": [
      "BTS 와의 유사도 :  0.4721359549995794\n",
      "레드벨벳 와의 유사도 :  0.2402530733520421\n",
      "트와이스 와의 유사도 :  0.2402530733520421\n"
     ]
    }
   ],
   "source": [
    "# 피타고라스 활용 유사도 측정\n",
    "for i in critics:\n",
    "    if i != '손흥민':\n",
    "        d1=critics.get('손흥민').get('바울')- critics.get(i).get('바울')\n",
    "    if i != '손흥민':\n",
    "        d2=critics.get('손흥민').get('할로윈')- critics.get(i).get('할로윈')\n",
    "        #print(i, '와의 거리 : ',sim(d1,d2))\n",
    "        print(i, '와의 유사도 : ',1/(sim(d1,d2)+1))"
   ]
  },
  {
   "cell_type": "code",
   "execution_count": null,
   "metadata": {},
   "outputs": [],
   "source": []
  },
  {
   "cell_type": "code",
   "execution_count": null,
   "metadata": {},
   "outputs": [],
   "source": [
    "# n차원 활용 "
   ]
  },
  {
   "cell_type": "code",
   "execution_count": null,
   "metadata": {},
   "outputs": [],
   "source": []
  },
  {
   "cell_type": "code",
   "execution_count": 23,
   "metadata": {},
   "outputs": [
    {
     "data": {
      "text/plain": [
       "0.4721359549995794"
      ]
     },
     "execution_count": 23,
     "metadata": {},
     "output_type": "execute_result"
    }
   ],
   "source": [
    "def sim_distance(data,name1,name2):\n",
    "    sum=0\n",
    "    for i in data[name1]:\n",
    "        if i in data[name2]:\n",
    "            sum+=pow(data[name1][i]-data[name2][i],2)\n",
    "    return 1/(sqrt(sum)+1)\n",
    "    \n",
    "sim_distance(critics,'BTS','손흥민')"
   ]
  },
  {
   "cell_type": "code",
   "execution_count": null,
   "metadata": {},
   "outputs": [],
   "source": []
  },
  {
   "cell_type": "code",
   "execution_count": null,
   "metadata": {},
   "outputs": [],
   "source": []
  },
  {
   "cell_type": "code",
   "execution_count": 33,
   "metadata": {},
   "outputs": [
    {
     "name": "stdout",
     "output_type": "stream",
     "text": [
      "[(0.4721359549995794, '손흥민'), (0.23582845781094, '레드벨벳')]\n"
     ]
    }
   ],
   "source": [
    "# top_match(영화평점data,기준관객,등수,유사도함수)\n",
    "# critics에서 BTS와 공통으로 본 영화 중, 평점이 가장 유사한 관객 n명 추출\n",
    "def top_match(data,name,rank=3,simf=sim_distance):\n",
    "    sim_list=[]\n",
    "    for i in data:\n",
    "        if name != i:\n",
    "            sim_list.append((simf(data,name,i),i))\n",
    "            sim_list.sort()\n",
    "            sim_list.reverse()\n",
    "    return sim_list[:rank]\n",
    "\n",
    "print(top_match(critics,'BTS',2))"
   ]
  },
  {
   "cell_type": "code",
   "execution_count": null,
   "metadata": {},
   "outputs": [],
   "source": []
  },
  {
   "cell_type": "code",
   "execution_count": null,
   "metadata": {},
   "outputs": [],
   "source": []
  },
  {
   "cell_type": "code",
   "execution_count": 40,
   "metadata": {},
   "outputs": [],
   "source": [
    "def barplot(data,lab):\n",
    "    pos=range(len(data))\n",
    "    plt.barh(pos,data,height=0.5,color='b')\n",
    "    plt.xlabel('similarity')\n",
    "    plt.ylabel('name')\n",
    "    plt.yticks(pos,lab)\n",
    "    plt.show()"
   ]
  },
  {
   "cell_type": "code",
   "execution_count": 41,
   "metadata": {},
   "outputs": [
    {
     "data": {
      "image/png": "[encoded data removed]",
      "text/plain": [
       "<Figure size 432x288 with 1 Axes>"
      ]
     },
     "metadata": {
      "needs_background": "light"
     },
     "output_type": "display_data"
    }
   ],
   "source": [
    "match_list=top_match(critics,'BTS',3)  \n",
    "score_list=[]\n",
    "name_list=[]\n",
    "for i in match_list:\n",
    "    score_list.append(i[0])\n",
    "    name_list.append(i[1])\n",
    "    \n",
    "barplot(score_list,name_list)"
   ]
  },
  {
   "cell_type": "code",
   "execution_count": null,
   "metadata": {},
   "outputs": [],
   "source": []
  },
  {
   "cell_type": "code",
   "execution_count": null,
   "metadata": {},
   "outputs": [],
   "source": []
  },
  {
   "cell_type": "code",
   "execution_count": null,
   "metadata": {},
   "outputs": [],
   "source": []
  },
  {
   "cell_type": "code",
   "execution_count": null,
   "metadata": {},
   "outputs": [],
   "source": []
  },
  {
   "cell_type": "code",
   "execution_count": 47,
   "metadata": {},
   "outputs": [],
   "source": [
    "critics = {\n",
    "    '레드벨벳': {\n",
    "        '택시운전사': 2.5,\n",
    "        '겨울왕국': 3.5,\n",
    "        '리빙라스베가스': 3.0,\n",
    "        '넘버3': 3.5,\n",
    "        '사랑과전쟁': 2.5,\n",
    "        '세계대전': 3.0,\n",
    "    },\n",
    "    'BTS': {\n",
    "        '택시운전사': 1.0,\n",
    "        '겨울왕국': 4.5,\n",
    "        '리빙라스베가스': 0.5,\n",
    "        '넘버3': 1.5,\n",
    "        '사랑과전쟁': 4.5,\n",
    "        '세계대전': 5.0,\n",
    "    },\n",
    "    '블랙핑크': {\n",
    "        '택시운전사': 3.0,\n",
    "        '겨울왕국': 3.5,\n",
    "        '리빙라스베가스': 1.5,\n",
    "        '넘버3': 5.0,\n",
    "        '세계대전': 3.0,\n",
    "        '사랑과전쟁': 3.5,\n",
    "    },\n",
    "    '소녀시대': {\n",
    "        '택시운전사': 2.5,\n",
    "        '겨울왕국': 3.0,\n",
    "        '넘버3': 3.5,\n",
    "        '세계대전': 4.0,\n",
    "    },\n",
    "    '마마무': {\n",
    "        '겨울왕국': 3.5,\n",
    "        '리빙라스베가스': 3.0,\n",
    "        '세계대전': 4.5,\n",
    "        '넘버3': 4.0,\n",
    "        '사랑과전쟁': 2.5,\n",
    "    },\n",
    "    '오마이걸': {\n",
    "        '택시운전사': 3.0,\n",
    "        '겨울왕국': 4.0,\n",
    "        '리빙라스베가스': 2.0,\n",
    "        '넘버3': 3.0,\n",
    "        '세계대전': 3.5,\n",
    "        '사랑과전쟁': 2.0,\n",
    "    },\n",
    "    '모모랜드': {\n",
    "        '택시운전사': 3.0,\n",
    "        '겨울왕국': 4.0,\n",
    "        '세계대전': 3.0,\n",
    "        '넘버3': 5.0,\n",
    "        '사랑과전쟁': 3.5,\n",
    "    },\n",
    "    '우주소녀': {'겨울왕국': 4.5, '사랑과전쟁': 1.0,\n",
    "             '넘버3': 4.0},\n",
    "}"
   ]
  },
  {
   "cell_type": "code",
   "execution_count": 55,
   "metadata": {},
   "outputs": [
    {
     "data": {
      "image/png": "[encoded data removed]",
      "text/plain": [
       "<Figure size 1008x576 with 1 Axes>"
      ]
     },
     "metadata": {
      "needs_background": "light"
     },
     "output_type": "display_data"
    }
   ],
   "source": [
    "def scoregraph(data,n1,n2):\n",
    "    plt.figure(figsize=(14,8))\n",
    "    \n",
    "    list1=[]\n",
    "    list2=[]\n",
    "    for i in data[n1]:\n",
    "        if i in data[n2]:\n",
    "            list1.append(data[n1][i])\n",
    "            list2.append(data[n2][i])\n",
    "            plt.text(data[n1][i],data[n2][i],i)\n",
    "    plt.plot(list1,list2,'ro')\n",
    "    plt.xlabel(n1)\n",
    "    plt.ylabel(n2)\n",
    "    plt.axis([0,6,0,6])\n",
    "    plt.show()\n",
    "    \n",
    "scoregraph(critics, 'BTS','블랙핑크')"
   ]
  },
  {
   "cell_type": "code",
   "execution_count": null,
   "metadata": {},
   "outputs": [],
   "source": []
  },
  {
   "cell_type": "code",
   "execution_count": null,
   "metadata": {},
   "outputs": [],
   "source": []
  },
  {
   "cell_type": "code",
   "execution_count": 57,
   "metadata": {},
   "outputs": [
    {
     "data": {
      "text/plain": [
       "0.21693045781865616"
      ]
     },
     "execution_count": 57,
     "metadata": {},
     "output_type": "execute_result"
    }
   ],
   "source": [
    "#  특정 관객에 대한 상관계수\n",
    "def sim_pearson(data,n1,n2):\n",
    "    sumx=0\n",
    "    sumy=0\n",
    "    sumsqx=0\n",
    "    sumsqy=0\n",
    "    sumxy=0\n",
    "    cnt=0\n",
    "    for i in data[n1]:\n",
    "        if i in data[n2]:\n",
    "            sumx+=data[n1][i]\n",
    "            sumy+=data[n2][i]\n",
    "            sumsqx+=pow(data[n1][i],2)\n",
    "            sumsqy+=pow(data[n2][i],2)\n",
    "            sumxy+=data[n1][i]*data[n2][i]\n",
    "            cnt+=1\n",
    "    return (sumxy-((sumx*sumy)/cnt)) / sqrt((sumsqx-(pow(sumx,2)/cnt))*(sumsqy-(pow(sumy,2)/cnt)))  \n",
    "\n",
    "sim_pearson(critics, 'BTS', '블랙핑크')"
   ]
  },
  {
   "cell_type": "code",
   "execution_count": null,
   "metadata": {},
   "outputs": [],
   "source": []
  },
  {
   "cell_type": "code",
   "execution_count": 58,
   "metadata": {},
   "outputs": [
    {
     "name": "stdout",
     "output_type": "stream",
     "text": [
      "[(0.5692099788303083, '소녀시대'), (0.41791069697885247, '오마이걸'), (0.21693045781865616, '블랙핑크'), (0.15430334996209194, '마마무'), (0.05477225575051661, '레드벨벳')]\n"
     ]
    }
   ],
   "source": [
    "# 전체 관객에 대한 상관계수\n",
    "# critics에서 BTS와 공통으로 본 영화 중, 상관계수가 가장 높은 관객 n명 추출\n",
    "def top_match(data,name,rank=3,simf=sim_pearson):\n",
    "    sim_list=[]\n",
    "    for i in data:\n",
    "        if name != i:\n",
    "            sim_list.append((simf(data,name,i),i))\n",
    "            sim_list.sort()\n",
    "            sim_list.reverse()\n",
    "    return sim_list[:rank]\n",
    "\n",
    "print(top_match(critics,'BTS',5))"
   ]
  },
  {
   "cell_type": "code",
   "execution_count": 62,
   "metadata": {},
   "outputs": [],
   "source": [
    "# 1) 평점 추측 = 유사도 * 상대방의 평점\n",
    "# 2) 추측 평점의 총합 / 유사도 총합  -> 모든 관객을 고려했을 때 예상되는 평점\n",
    "# 3) 예상 평점을 기준으로 예상 평점이 가장 높은 영화 추천\n",
    "\n",
    "def recommendation(data,person,simf=sim_pearson):\n",
    "    res=top_match(data,person,len(data))\n",
    "    \n",
    "    simsum=0  # 상관계수(유사도) 합\n",
    "    score_dic={}  # 예상 평점 총합\n",
    "    sim_dic={}   # 유사도 총합\n",
    "    list=[]\n",
    "    for sim, name in res:\n",
    "        if sim<0 : continue\n",
    "        for movie in data[name]:\n",
    "            if movie not in data[person]:\n",
    "                simsum+=sim*data[name][movie]\n",
    "                score_dic.setdefault(movie,0)\n",
    "                score_dic[movie]+=simsum\n",
    "                \n",
    "                sim_dic.setdefault(movie,0)\n",
    "                sim_dic[movie]+=sim\n",
    "    \n",
    "  \n",
    "            simsum=0  # 영화 변경  ->  0으로 초기화\n",
    "    \n",
    "    for key in score_dic:\n",
    "        score_dic[key]=score_dic[key]/sim_dic[key]\n",
    "        list.append((score_dic[key],key))\n",
    "    list.sort()\n",
    "    list.reverse()\n",
    "    return list"
   ]
  },
  {
   "cell_type": "code",
   "execution_count": 63,
   "metadata": {},
   "outputs": [
    {
     "data": {
      "text/plain": [
       "[(3.0761574975571793, '사랑과전쟁'), (2.1938491995536373, '리빙라스베가스')]"
      ]
     },
     "execution_count": 63,
     "metadata": {},
     "output_type": "execute_result"
    }
   ],
   "source": [
    "recommendation(critics,'소녀시대')"
   ]
  },
  {
   "cell_type": "code",
   "execution_count": null,
   "metadata": {},
   "outputs": [],
   "source": []
  },
  {
   "cell_type": "code",
   "execution_count": null,
   "metadata": {},
   "outputs": [],
   "source": []
  },
  {
   "cell_type": "code",
   "execution_count": null,
   "metadata": {},
   "outputs": [],
   "source": []
  },
  {
   "cell_type": "code",
   "execution_count": null,
   "metadata": {},
   "outputs": [],
   "source": [
    "# 상관계수 높은 사람 5명\n",
    "# 안 본 영화 중 추천 점수가 높은 순으로 (제목,예상평점) 출력"
   ]
  },
  {
   "cell_type": "code",
   "execution_count": 112,
   "metadata": {},
   "outputs": [
    {
     "data": {
      "text/plain": [
       "['고재형',\n",
       " '김건우',\n",
       " '박경호',\n",
       " '박찬',\n",
       " '김경아',\n",
       " '정서영',\n",
       " '정한음',\n",
       " '오종민',\n",
       " '차유화',\n",
       " '이성천',\n",
       " '이은성',\n",
       " '김나연',\n",
       " '조준형',\n",
       " '김태현',\n",
       " '한미래',\n",
       " '조현진',\n",
       " '유기욱',\n",
       " '김경한',\n",
       " '신아영',\n",
       " '엄다연']"
      ]
     },
     "execution_count": 112,
     "metadata": {},
     "output_type": "execute_result"
    }
   ],
   "source": [
    "path=r'C:\\\\Users\\\\student\\\\Desktop\\\\공부\\\\멀캠TIL\\\\dataset\\\\python\\\\영화평점'\n",
    "\n",
    "data=pd.read_excel(path+'\\\\영화평점.xlsx')\n",
    "list(data.이름)"
   ]
  },
  {
   "cell_type": "code",
   "execution_count": 123,
   "metadata": {},
   "outputs": [
    {
     "ename": "KeyError",
     "evalue": "\"None of ['이름'] are in the columns\"",
     "output_type": "error",
     "traceback": [
      "\u001b[1;31m---------------------------------------------------------------------------\u001b[0m",
      "\u001b[1;31mKeyError\u001b[0m                                  Traceback (most recent call last)",
      "\u001b[1;32m<ipython-input-123-384cb5faa000>\u001b[0m in \u001b[0;36m<module>\u001b[1;34m\u001b[0m\n\u001b[0;32m      7\u001b[0m \u001b[1;31m#'이름' - 0 - 이름\u001b[0m\u001b[1;33m\u001b[0m\u001b[1;33m\u001b[0m\u001b[1;33m\u001b[0m\u001b[0m\n\u001b[0;32m      8\u001b[0m \u001b[1;31m#'명량' - 0 -  평점\u001b[0m\u001b[1;33m\u001b[0m\u001b[1;33m\u001b[0m\u001b[1;33m\u001b[0m\u001b[0m\n\u001b[1;32m----> 9\u001b[1;33m \u001b[0mdata\u001b[0m\u001b[1;33m=\u001b[0m\u001b[0mdata\u001b[0m\u001b[1;33m.\u001b[0m\u001b[0mset_index\u001b[0m\u001b[1;33m(\u001b[0m\u001b[1;34m\"이름\"\u001b[0m\u001b[1;33m)\u001b[0m\u001b[1;33m\u001b[0m\u001b[1;33m\u001b[0m\u001b[0m\n\u001b[0m\u001b[0;32m     10\u001b[0m \u001b[0mdata\u001b[0m\u001b[1;33m.\u001b[0m\u001b[0mT\u001b[0m\u001b[1;33m\u001b[0m\u001b[1;33m\u001b[0m\u001b[0m\n",
      "\u001b[1;32m~\\Anaconda3\\lib\\site-packages\\pandas\\core\\frame.py\u001b[0m in \u001b[0;36mset_index\u001b[1;34m(self, keys, drop, append, inplace, verify_integrity)\u001b[0m\n\u001b[0;32m   4394\u001b[0m \u001b[1;33m\u001b[0m\u001b[0m\n\u001b[0;32m   4395\u001b[0m         \u001b[1;32mif\u001b[0m \u001b[0mmissing\u001b[0m\u001b[1;33m:\u001b[0m\u001b[1;33m\u001b[0m\u001b[1;33m\u001b[0m\u001b[0m\n\u001b[1;32m-> 4396\u001b[1;33m             \u001b[1;32mraise\u001b[0m \u001b[0mKeyError\u001b[0m\u001b[1;33m(\u001b[0m\u001b[1;34m\"None of {} are in the columns\"\u001b[0m\u001b[1;33m.\u001b[0m\u001b[0mformat\u001b[0m\u001b[1;33m(\u001b[0m\u001b[0mmissing\u001b[0m\u001b[1;33m)\u001b[0m\u001b[1;33m)\u001b[0m\u001b[1;33m\u001b[0m\u001b[1;33m\u001b[0m\u001b[0m\n\u001b[0m\u001b[0;32m   4397\u001b[0m \u001b[1;33m\u001b[0m\u001b[0m\n\u001b[0;32m   4398\u001b[0m         \u001b[1;32mif\u001b[0m \u001b[0minplace\u001b[0m\u001b[1;33m:\u001b[0m\u001b[1;33m\u001b[0m\u001b[1;33m\u001b[0m\u001b[0m\n",
      "\u001b[1;31mKeyError\u001b[0m: \"None of ['이름'] are in the columns\""
     ]
    }
   ],
   "source": [
    "# data.loc[10]\n",
    "\n",
    "# data.to_dict('split')\n",
    "# {'index': data.columns, 'columns': list(data.이름),\n",
    "#  'data': [[1, 0.5], [2, 0.75]]}\n",
    "#data.to_dict()\n",
    "#'이름' - 0 - 이름\n",
    "#'명량' - 0 -  평점\n",
    "data=data.set_index(\"이름\")"
   ]
  },
  {
   "cell_type": "code",
   "execution_count": 126,
   "metadata": {},
   "outputs": [],
   "source": [
    "dic_data=data.T.to_dict()"
   ]
  },
  {
   "cell_type": "code",
   "execution_count": 127,
   "metadata": {},
   "outputs": [
    {
     "data": {
      "text/plain": [
       "{'고재형': {'명량': nan,\n",
       "  '국제시장': nan,\n",
       "  '아바타': 4.5,\n",
       "  '택시운전사': 3.5,\n",
       "  '부산행': 4.0,\n",
       "  '변호인': nan,\n",
       "  '겨울왕국': 4.0,\n",
       "  '기생충': 4.0},\n",
       " '김건우': {'명량': 4.0,\n",
       "  '국제시장': 4.5,\n",
       "  '아바타': nan,\n",
       "  '택시운전사': nan,\n",
       "  '부산행': nan,\n",
       "  '변호인': 3.5,\n",
       "  '겨울왕국': 2.5,\n",
       "  '기생충': nan},\n",
       " '박경호': {'명량': 4.0,\n",
       "  '국제시장': 5.0,\n",
       "  '아바타': 4.5,\n",
       "  '택시운전사': nan,\n",
       "  '부산행': 2.0,\n",
       "  '변호인': 3.5,\n",
       "  '겨울왕국': 0.0,\n",
       "  '기생충': 5.0},\n",
       " '박찬': {'명량': 4.0,\n",
       "  '국제시장': 5.0,\n",
       "  '아바타': 3.0,\n",
       "  '택시운전사': nan,\n",
       "  '부산행': 4.5,\n",
       "  '변호인': 3.5,\n",
       "  '겨울왕국': 3.0,\n",
       "  '기생충': 5.0},\n",
       " '김경아': {'명량': 4.0,\n",
       "  '국제시장': 4.0,\n",
       "  '아바타': nan,\n",
       "  '택시운전사': 4.0,\n",
       "  '부산행': 4.0,\n",
       "  '변호인': 3.0,\n",
       "  '겨울왕국': 4.0,\n",
       "  '기생충': 5.0},\n",
       " '정서영': {'명량': 3.0,\n",
       "  '국제시장': 2.0,\n",
       "  '아바타': 5.0,\n",
       "  '택시운전사': 3.0,\n",
       "  '부산행': 1.0,\n",
       "  '변호인': nan,\n",
       "  '겨울왕국': 3.0,\n",
       "  '기생충': 5.0},\n",
       " '정한음': {'명량': 4.0,\n",
       "  '국제시장': 5.0,\n",
       "  '아바타': 5.0,\n",
       "  '택시운전사': 4.0,\n",
       "  '부산행': 5.0,\n",
       "  '변호인': nan,\n",
       "  '겨울왕국': 5.0,\n",
       "  '기생충': nan},\n",
       " '오종민': {'명량': 3.0,\n",
       "  '국제시장': 4.5,\n",
       "  '아바타': 4.5,\n",
       "  '택시운전사': 1.5,\n",
       "  '부산행': nan,\n",
       "  '변호인': 3.5,\n",
       "  '겨울왕국': 4.0,\n",
       "  '기생충': nan},\n",
       " '차유화': {'명량': nan,\n",
       "  '국제시장': 3.5,\n",
       "  '아바타': 4.0,\n",
       "  '택시운전사': 3.5,\n",
       "  '부산행': 2.0,\n",
       "  '변호인': 3.5,\n",
       "  '겨울왕국': 4.0,\n",
       "  '기생충': 3.0},\n",
       " '이성천': {'명량': nan,\n",
       "  '국제시장': nan,\n",
       "  '아바타': 5.0,\n",
       "  '택시운전사': nan,\n",
       "  '부산행': nan,\n",
       "  '변호인': nan,\n",
       "  '겨울왕국': 3.0,\n",
       "  '기생충': nan},\n",
       " '이은성': {'명량': 2.0,\n",
       "  '국제시장': nan,\n",
       "  '아바타': 4.5,\n",
       "  '택시운전사': nan,\n",
       "  '부산행': nan,\n",
       "  '변호인': 3.5,\n",
       "  '겨울왕국': 4.0,\n",
       "  '기생충': 5.0},\n",
       " '김나연': {'명량': 3.0,\n",
       "  '국제시장': 3.5,\n",
       "  '아바타': nan,\n",
       "  '택시운전사': 4.0,\n",
       "  '부산행': 3.0,\n",
       "  '변호인': 4.0,\n",
       "  '겨울왕국': 4.0,\n",
       "  '기생충': 3.0},\n",
       " '조준형': {'명량': 4.0,\n",
       "  '국제시장': 3.0,\n",
       "  '아바타': 3.5,\n",
       "  '택시운전사': 4.0,\n",
       "  '부산행': nan,\n",
       "  '변호인': 4.5,\n",
       "  '겨울왕국': nan,\n",
       "  '기생충': 5.0},\n",
       " '김태현': {'명량': nan,\n",
       "  '국제시장': 4.0,\n",
       "  '아바타': 3.0,\n",
       "  '택시운전사': nan,\n",
       "  '부산행': 3.0,\n",
       "  '변호인': 4.0,\n",
       "  '겨울왕국': 3.0,\n",
       "  '기생충': 4.0},\n",
       " '한미래': {'명량': 3.0,\n",
       "  '국제시장': nan,\n",
       "  '아바타': 4.0,\n",
       "  '택시운전사': 5.0,\n",
       "  '부산행': 4.0,\n",
       "  '변호인': 4.0,\n",
       "  '겨울왕국': 3.0,\n",
       "  '기생충': 5.0},\n",
       " '조현진': {'명량': nan,\n",
       "  '국제시장': nan,\n",
       "  '아바타': 4.0,\n",
       "  '택시운전사': nan,\n",
       "  '부산행': nan,\n",
       "  '변호인': nan,\n",
       "  '겨울왕국': 4.0,\n",
       "  '기생충': nan},\n",
       " '유기욱': {'명량': 3.5,\n",
       "  '국제시장': 4.0,\n",
       "  '아바타': 4.5,\n",
       "  '택시운전사': 4.5,\n",
       "  '부산행': 4.5,\n",
       "  '변호인': 4.0,\n",
       "  '겨울왕국': 4.0,\n",
       "  '기생충': 4.5},\n",
       " '김경한': {'명량': 2.0,\n",
       "  '국제시장': 4.0,\n",
       "  '아바타': 5.0,\n",
       "  '택시운전사': 3.0,\n",
       "  '부산행': 5.0,\n",
       "  '변호인': nan,\n",
       "  '겨울왕국': 5.0,\n",
       "  '기생충': 5.0},\n",
       " '신아영': {'명량': nan,\n",
       "  '국제시장': nan,\n",
       "  '아바타': nan,\n",
       "  '택시운전사': nan,\n",
       "  '부산행': 2.5,\n",
       "  '변호인': nan,\n",
       "  '겨울왕국': 3.0,\n",
       "  '기생충': nan},\n",
       " '엄다연': {'명량': 3.0,\n",
       "  '국제시장': 5.0,\n",
       "  '아바타': nan,\n",
       "  '택시운전사': nan,\n",
       "  '부산행': 4.0,\n",
       "  '변호인': 3.5,\n",
       "  '겨울왕국': nan,\n",
       "  '기생충': 4.0}}"
      ]
     },
     "execution_count": 127,
     "metadata": {},
     "output_type": "execute_result"
    }
   ],
   "source": [
    "dic_data"
   ]
  },
  {
   "cell_type": "code",
   "execution_count": 135,
   "metadata": {},
   "outputs": [
    {
     "name": "stdout",
     "output_type": "stream",
     "text": [
      "[(nan, '엄다연'), (nan, '김경한'), (nan, '조현진')]\n"
     ]
    }
   ],
   "source": [
    "# 전체 관객에 대한 상관계수\n",
    "def top_match(data,name,rank=5,simf=sim_pearson):\n",
    "    sim_list=[]\n",
    "    for i in data:\n",
    "        if name != i:\n",
    "            sim_list.append((simf(data,name,i),i))\n",
    "            sim_list.sort()\n",
    "            sim_list.reverse()\n",
    "    return sim_list[:rank]\n",
    "\n",
    "print(top_match(dic_data,'이은성',5))"
   ]
  },
  {
   "cell_type": "code",
   "execution_count": null,
   "metadata": {},
   "outputs": [],
   "source": []
  },
  {
   "cell_type": "code",
   "execution_count": 131,
   "metadata": {},
   "outputs": [],
   "source": [
    "def recommendation(data,person,simf=sim_pearson):\n",
    "    res=top_match(data,person,len(data))\n",
    "    \n",
    "    simsum=0  # 상관계수(유사도) 합\n",
    "    score_dic={}  # 예상 평점 총합\n",
    "    sim_dic={}   # 유사도 총합\n",
    "    list=[]\n",
    "    for sim, name in res:\n",
    "        if sim<0 : continue\n",
    "        for movie in data[name]:\n",
    "            if movie not in data[person]:\n",
    "                simsum+=sim*data[name][movie]\n",
    "                score_dic.setdefault(movie,0)\n",
    "                score_dic[movie]+=simsum\n",
    "                \n",
    "                sim_dic.setdefault(movie,0)\n",
    "                sim_dic[movie]+=sim\n",
    "    \n",
    "        simsum=0# 영화 변경  ->  0으로 초기화\n",
    "    \n",
    "    for key in score_dic:\n",
    "        score_dic[key]=score_dic[key]/sim_dic[key]\n",
    "        list.append((score_dic[key],key))\n",
    "    list.sort()\n",
    "    list.reverse()\n",
    "    return list"
   ]
  },
  {
   "cell_type": "code",
   "execution_count": 133,
   "metadata": {},
   "outputs": [
    {
     "name": "stdout",
     "output_type": "stream",
     "text": [
      "[]\n"
     ]
    }
   ],
   "source": [
    "print(recommendation(dic_data,'이은성'))"
   ]
  },
  {
   "cell_type": "code",
   "execution_count": null,
   "metadata": {},
   "outputs": [],
   "source": []
  },
  {
   "cell_type": "code",
   "execution_count": null,
   "metadata": {},
   "outputs": [],
   "source": []
  },
  {
   "cell_type": "code",
   "execution_count": 64,
   "metadata": {},
   "outputs": [
    {
     "data": {
      "text/plain": [
       "{'a': 10, 'b': None, 'c': None}"
      ]
     },
     "execution_count": 64,
     "metadata": {},
     "output_type": "execute_result"
    }
   ],
   "source": [
    "# setdefault()\n",
    "x={'a':10, 'b':None}\n",
    "x.setdefault('c')\n",
    "x"
   ]
  },
  {
   "cell_type": "code",
   "execution_count": 65,
   "metadata": {},
   "outputs": [
    {
     "data": {
      "text/plain": [
       "{'a': 10, 'b': None, 'c': None, 'd': 30}"
      ]
     },
     "execution_count": 65,
     "metadata": {},
     "output_type": "execute_result"
    }
   ],
   "source": [
    "x.setdefault('d',30)\n",
    "x"
   ]
  },
  {
   "cell_type": "code",
   "execution_count": 67,
   "metadata": {},
   "outputs": [
    {
     "data": {
      "text/plain": [
       "{'a': 50, 'b': None, 'c': None, 'd': 30}"
      ]
     },
     "execution_count": 67,
     "metadata": {},
     "output_type": "execute_result"
    }
   ],
   "source": [
    "x.update(a=50)\n",
    "x"
   ]
  },
  {
   "cell_type": "code",
   "execution_count": 71,
   "metadata": {},
   "outputs": [
    {
     "data": {
      "text/plain": [
       "{'a': 55, 'b': None, 'c': None, 'd': 30}"
      ]
     },
     "execution_count": 71,
     "metadata": {},
     "output_type": "execute_result"
    }
   ],
   "source": [
    "x['a']+=5\n",
    "x"
   ]
  },
  {
   "cell_type": "code",
   "execution_count": 72,
   "metadata": {},
   "outputs": [
    {
     "data": {
      "text/plain": [
       "{'a': 55, 'b': None, 'c': None, 'd': 30, 'e': 100}"
      ]
     },
     "execution_count": 72,
     "metadata": {},
     "output_type": "execute_result"
    }
   ],
   "source": [
    "x.setdefault('e',100)\n",
    "x"
   ]
  },
  {
   "cell_type": "code",
   "execution_count": null,
   "metadata": {},
   "outputs": [],
   "source": []
  },
  {
   "cell_type": "code",
   "execution_count": null,
   "metadata": {},
   "outputs": [],
   "source": []
  },
  {
   "cell_type": "code",
   "execution_count": 147,
   "metadata": {},
   "outputs": [
    {
     "data": {
      "text/plain": [
       "Index(['Unnamed: 0', '명량', '국제시장', '아바타', '택시운전사', '부산행', '변호인', '겨울왕국',\n",
       "       '기생충'],\n",
       "      dtype='object')"
      ]
     },
     "execution_count": 147,
     "metadata": {},
     "output_type": "execute_result"
    }
   ],
   "source": [
    "path=r'C:\\\\Users\\\\student\\\\Desktop\\\\공부\\\\멀캠TIL\\\\dataset\\\\python\\\\영화평점'\n",
    "\n",
    "data=pd.read_excel(path+'\\\\영화평점 (1).xlsx',header=1)\n",
    "data.columns"
   ]
  },
  {
   "cell_type": "code",
   "execution_count": 148,
   "metadata": {},
   "outputs": [],
   "source": [
    "# 영화 조회할때 사용하기 위해 영화 저장\n",
    "movie_list=data.columns\n",
    "movie_list=movie_list[1:]\n",
    "\n",
    "data=data.rename({'Unnamed: 0':'이름'},axis='columns') \n",
    "data=data.set_index('이름')\n",
    "data=data.T\n",
    "dic_data=data.to_dict()"
   ]
  },
  {
   "cell_type": "code",
   "execution_count": 149,
   "metadata": {},
   "outputs": [],
   "source": [
    "# data에서 평점이 nan인 영화는 제거\n",
    "import math\n",
    "for name in dic_data:\n",
    "    for movie in movie_list:\n",
    "        if math.isnan(dic_data[name][movie])!= True : continue\n",
    "        else : del dic_data[name][movie]"
   ]
  },
  {
   "cell_type": "code",
   "execution_count": 154,
   "metadata": {},
   "outputs": [],
   "source": [
    "def sim_pearson(data,n1,n2):\n",
    "    sumx=0\n",
    "    sumy=0\n",
    "    sumsqx=0\n",
    "    sumsqy=0\n",
    "    sumxy=0\n",
    "    cnt=0\n",
    "    for i in data[n1]:\n",
    "        if i in data[n2]:\n",
    "            sumx+=data[n1][i]\n",
    "            sumy+=data[n2][i]\n",
    "            sumsqx+=pow(data[n1][i],2)\n",
    "            sumsqy+=pow(data[n2][i],2)\n",
    "            sumxy+=data[n1][i]*data[n2][i]\n",
    "            cnt+=1\n",
    "            \n",
    "    # 상관계수 구하는데 분모가 0인 경우가 있어서 그 부분 처리\n",
    "    #corr=(sumXY-((sumX*sumY)/cnt))/sqrt((sumSqX-(pow(sumX,2)/cnt))*(sumSqY-(pow(sumY,2)/cnt)))\n",
    "    numerator=sumxy-((sumx*sumy)/cnt)\n",
    "    denominator=(sumsqx-(pow(sumx,2)/cnt))*(sumsqy-(pow(sumy,2)/cnt))\n",
    "    if denominator==0 : corr=0\n",
    "    else : corr=numerator/sqrt(denominator)\n",
    "    \n",
    "    return corr       \n",
    "#     return (sumxy-((sumx*sumy)/cnt)) / sqrt((sumsqx-(pow(sumx,2)/cnt))*(sumsqy-(pow(sumy,2)/cnt)))  "
   ]
  },
  {
   "cell_type": "code",
   "execution_count": 155,
   "metadata": {},
   "outputs": [
    {
     "name": "stdout",
     "output_type": "stream",
     "text": [
      "[(1.0, '이성천'), (1.0, '엄다연'), (0.9819805060619622, '정한음'), (0.9604721435546506, '유기욱'), (0.9561828874675149, '오종민')]\n"
     ]
    }
   ],
   "source": [
    "def top_match(data,name,rank=3,simf=sim_pearson):\n",
    "    sim_list=[]\n",
    "    for i in data:\n",
    "        if name != i:\n",
    "            sim_list.append((simf(data,name,i),i))\n",
    "            sim_list.sort()\n",
    "            sim_list.reverse()\n",
    "    return sim_list[:rank]\n",
    "\n",
    "print(top_match(dic_data,'이은성',5))"
   ]
  },
  {
   "cell_type": "code",
   "execution_count": 157,
   "metadata": {},
   "outputs": [
    {
     "data": {
      "text/plain": [
       "[(10.73978821802968, '부산행'),\n",
       " (7.000918231128825, '택시운전사'),\n",
       " (4.117118204376513, '국제시장')]"
      ]
     },
     "execution_count": 157,
     "metadata": {},
     "output_type": "execute_result"
    }
   ],
   "source": [
    "def recommendation(data,person,simf=sim_pearson):\n",
    "    res=top_match(data,person,len(data))\n",
    "    \n",
    "    simsum=0  # 상관계수(유사도) 합\n",
    "    score_dic={}  # 예상 평점 총합\n",
    "    sim_dic={}   # 유사도 총합\n",
    "    list=[]\n",
    "    for sim, name in res:\n",
    "        if sim<0 : continue\n",
    "        for movie in data[name]:\n",
    "            if movie not in data[person]:\n",
    "                simsum+=sim*data[name][movie]\n",
    "                score_dic.setdefault(movie,0)\n",
    "                score_dic[movie]+=simsum\n",
    "                \n",
    "                sim_dic.setdefault(movie,0)\n",
    "                sim_dic[movie]+=sim\n",
    "    \n",
    "        simsum=0# 영화 변경  ->  0으로 초기화\n",
    "    \n",
    "    for key in score_dic:\n",
    "        score_dic[key]=score_dic[key]/sim_dic[key]\n",
    "        list.append((score_dic[key],key))\n",
    "    list.sort()\n",
    "    list.reverse()\n",
    "    return list\n",
    "\n",
    "recommendation(dic_data,'이은성')"
   ]
  },
  {
   "cell_type": "code",
   "execution_count": null,
   "metadata": {},
   "outputs": [],
   "source": []
  }
 ],
 "metadata": {
  "kernelspec": {
   "display_name": "Python 3",
   "language": "python",
   "name": "python3"
  },
  "language_info": {
   "codemirror_mode": {
    "name": "ipython",
    "version": 3
   },
   "file_extension": ".py",
   "mimetype": "text/x-python",
   "name": "python",
   "nbconvert_exporter": "python",
   "pygments_lexer": "ipython3",
   "version": "3.7.4"
  }
 },
 "nbformat": 4,
 "nbformat_minor": 2
}
