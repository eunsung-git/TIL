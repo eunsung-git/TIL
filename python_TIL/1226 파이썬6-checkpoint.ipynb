{
 "cells": [
  {
   "cell_type": "code",
   "execution_count": null,
   "metadata": {},
   "outputs": [],
   "source": [
    "클래스 - 객체를 표현하기 위한 개년\n",
    "         게임에서 기사, 궁수, 마버바 등 직업별로 클래스 생성\n",
    "\n",
    "1) 기사 클래스로 홍길동 객체 생성\n",
    "2) 초기값 설정 - 속성\n",
    "3? 동작 스킬 - 메서드\n",
    "\n",
    "클래스=속성+메서드"
   ]
  },
  {
   "cell_type": "code",
   "execution_count": null,
   "metadata": {},
   "outputs": [],
   "source": [
    "클래스 - 객체를 표현하기 위한 개년\n",
    "         게임에서 기사, 궁수, 마버바 등 직업별로 클래스 생성\n",
    "\n",
    "1) 기사 클래스로 홍길동 객체 생성\n",
    "2) 초기값 설정 - 속성\n",
    "3? 동작 스킬 - 메서드\n",
    "\n",
    "클래스=속성+메서드"
   ]
  },
  {
   "cell_type": "code",
   "execution_count": 1,
   "metadata": {},
   "outputs": [
    {
     "ename": "IndentationError",
     "evalue": "expected an indented block (<ipython-input-1-3364189bf903>, line 4)",
     "output_type": "error",
     "traceback": [
      "\u001b[1;36m  File \u001b[1;32m\"<ipython-input-1-3364189bf903>\"\u001b[1;36m, line \u001b[1;32m4\u001b[0m\n\u001b[1;33m    print(add(3))\u001b[0m\n\u001b[1;37m        ^\u001b[0m\n\u001b[1;31mIndentationError\u001b[0m\u001b[1;31m:\u001b[0m expected an indented block\n"
     ]
    }
   ],
   "source": [
    "res=0\n",
    "def add(num):\n",
    "    #global res\n",
    "    res=0\n",
    "    res+=num\n",
    "    return res\n",
    "    \n",
    "print(add(3))\n",
    "print(add(4))"
   ]
  },
  {
   "cell_type": "code",
   "execution_count": 4,
   "metadata": {},
   "outputs": [
    {
     "name": "stdout",
     "output_type": "stream",
     "text": [
      "<function add1 at 0x00000194A71F4678>\n"
     ]
    }
   ],
   "source": [
    "res1=0\n",
    "res2=0\n",
    "\n",
    "def add1(num):\n",
    "    global res1\n",
    "    res1+=num\n",
    "    return res1\n",
    "    \n",
    "def add2(num):\n",
    "    global res2\n",
    "    res2=num\n",
    "    return res2\n",
    "    \n",
    "print(add1)"
   ]
  },
  {
   "cell_type": "code",
   "execution_count": 12,
   "metadata": {},
   "outputs": [],
   "source": [
    "class Calc:  #변수이름 규칙과 같음\n",
    "#    def greeting(self):\n",
    "#        print(hello)\n",
    "    def __init__(self):  # 객체 초기화\n",
    "        self.res=0\n",
    "        print('초기화')\n",
    "    def sub(self, num):\n",
    "        self.res+=num\n",
    "        return self.sub "
   ]
  },
  {
   "cell_type": "code",
   "execution_count": 11,
   "metadata": {},
   "outputs": [],
   "source": [
    "cal1=Calc()\n",
    "cal2=Calc()\n",
    "\n",
    "# print(cal1.add(3))\n",
    "# print(cal1.add(4))\n",
    "# print(cal2.add(3))\n",
    "# print(cal2.add(7))"
   ]
  },
  {
   "cell_type": "code",
   "execution_count": null,
   "metadata": {},
   "outputs": [],
   "source": []
  },
  {
   "cell_type": "code",
   "execution_count": 9,
   "metadata": {},
   "outputs": [
    {
     "name": "stdout",
     "output_type": "stream",
     "text": [
      "hello\n"
     ]
    }
   ],
   "source": [
    "hgd=Calc()  #객체=class()\n",
    "hgd.greeting()"
   ]
  },
  {
   "cell_type": "code",
   "execution_count": null,
   "metadata": {},
   "outputs": [],
   "source": [
    "붕어빵기계 -> class, 속성<특징%메서드<동작>\n",
    "붕여빵ㄷ                       "
   ]
  },
  {
   "cell_type": "code",
   "execution_count": null,
   "metadata": {},
   "outputs": [],
   "source": [
    "class FishBread:\n",
    "    pass      # 아무런 기능이 없는 클래스"
   ]
  },
  {
   "cell_type": "code",
   "execution_count": 21,
   "metadata": {},
   "outputs": [],
   "source": [
    "class FourCal:\n",
    "    def add(self):\n",
    "        res=self.first+self.second\n",
    "        return res\n",
    "    def sub(self):\n",
    "        res2=self.first-self.second\n",
    "        return res2\n",
    "    def mul(self):\n",
    "        res3=self.first*self.second\n",
    "        return res3\n",
    "    def div(self):\n",
    "        res4=self.first/self.second\n",
    "        return res4\n",
    "    \n",
    "    def setData(self, first,second):     # self - 현재 만들어진 객체\n",
    "        self.first=first                 # self.first -  지금 만들어지고 있는 객체의 first 속성\n",
    "        self.second=second               # self.second - 지금 만들어지고 있는 객체의 second 속성\n",
    "        "
   ]
  },
  {
   "cell_type": "code",
   "execution_count": 22,
   "metadata": {},
   "outputs": [
    {
     "name": "stdout",
     "output_type": "stream",
     "text": [
      "<class '__main__.FourCal'>\n",
      "6\n",
      "1\n",
      "10\n",
      "2.0\n"
     ]
    }
   ],
   "source": [
    "#사칙연산 class\n",
    "# 변수=class 명()    변수는 클래스로부터 만들어진 객체\n",
    "a=FourCal()         #FourCal 클래스로부터 객체 생성(a)\n",
    "print(type(a))\n",
    "a.setData(4,2)\n",
    "print(a.add())\n",
    "\n",
    "b=FourCal()\n",
    "b.setData(3,2)\n",
    "print(b.sub())\n",
    "\n",
    "c=FourCal()\n",
    "c.setData(2,5)\n",
    "print(c.mul())\n",
    "\n",
    "d=FourCal()\n",
    "d.setData(8,4)\n",
    "print(d.div())"
   ]
  },
  {
   "cell_type": "code",
   "execution_count": 29,
   "metadata": {},
   "outputs": [],
   "source": [
    "# 상속 - class 자식class명(부모class명):\n",
    "class MoreFourCal(FourCal):\n",
    "    pass"
   ]
  },
  {
   "cell_type": "code",
   "execution_count": 31,
   "metadata": {},
   "outputs": [
    {
     "ename": "SyntaxError",
     "evalue": "invalid syntax (<ipython-input-31-6f6bcb25b662>, line 1)",
     "output_type": "error",
     "traceback": [
      "\u001b[1;36m  File \u001b[1;32m\"<ipython-input-31-6f6bcb25b662>\"\u001b[1;36m, line \u001b[1;32m1\u001b[0m\n\u001b[1;33m    a=MoreFourCal(FourCal):\u001b[0m\n\u001b[1;37m                          ^\u001b[0m\n\u001b[1;31mSyntaxError\u001b[0m\u001b[1;31m:\u001b[0m invalid syntax\n"
     ]
    }
   ],
   "source": [
    "a=MoreFourCal(FourCal):\n",
    "    def pow(self):\n",
    "        res=self.first ** self.second\n",
    "        return res\n",
    "# a.setData(4,2)\n",
    "# a.add()"
   ]
  },
  {
   "cell_type": "code",
   "execution_count": null,
   "metadata": {},
   "outputs": [],
   "source": [
    "# method \\ overriding   # 부모 클래스로부터 상속받은 메서드를 자식이 변경한 것\n",
    "a=MoreFourCal() #[In 53] class를 먼저 실행한 후 실행해야 한다.\n",
    "a.setData(4,2)\n",
    "print(a.pow())"
   ]
  },
  {
   "cell_type": "code",
   "execution_count": null,
   "metadata": {},
   "outputs": [],
   "source": [
    "myObj=FourCal()\n",
    "myObj.setData(4,2)\n",
    "print(myObj.div())\n",
    "\n",
    "myObj2=MoreFourCal() #부모클래스 method 연산 결과이므로 2.0이 나온 것이다.\n",
    "myObj2.setData(4,2)\n",
    "print(myObj.div())"
   ]
  },
  {
   "cell_type": "code",
   "execution_count": null,
   "metadata": {},
   "outputs": [],
   "source": [
    "class SafeFourCal(FourCal):\n",
    "    def div(self):\n",
    "        if self.second==1:\n",
    "            print(\"1로 나누지 마시오!\")\n",
    "            return\n",
    "        else:\n",
    "            return self.first/self.second"
   ]
  },
  {
   "cell_type": "code",
   "execution_count": null,
   "metadata": {},
   "outputs": [],
   "source": [
    "sfc=SafeFourCal()\n",
    "sfc.setData(4,2)\n",
    "# 아래의 것을 다 갖고 있다.\n",
    "#     def add(self):\n",
    "#         res=self.first+self.second\n",
    "#         return res\n",
    "#     # sub, mul, div 함수 추가\n",
    "#     def sub(self):\n",
    "#         res=self.first-self.second\n",
    "#         return res\n",
    "#     def mul(self):\n",
    "#         res=self.first*self.second\n",
    "#         return res\n",
    "#     def div(self):\n",
    "#         res=self.first/self.second\n",
    "#         return res\n",
    "print(sfc.div())"
   ]
  },
  {
   "cell_type": "code",
   "execution_count": 36,
   "metadata": {},
   "outputs": [
    {
     "name": "stdout",
     "output_type": "stream",
     "text": [
      "안녕하세요,저는 홍길동입니다\n",
      "이름 홍길동\n",
      "나이 25\n",
      "사는 곳 서울시 역삼동\n"
     ]
    }
   ],
   "source": [
    "class Person:\n",
    "    def __init__(self,name,age,addr):\n",
    "        self.name=name\n",
    "        self.age=age\n",
    "        self.addr=addr\n",
    "    def greeting(self):\n",
    "        print('안녕하세요,저는 {0}입니다'.format(self.name))\n",
    "\n",
    "ps=Person('홍길동',25,'서울시 역삼동')\n",
    "ps.greeting()\n",
    "print('이름',ps.name)\n",
    "print('나이', ps.age)\n",
    "print('사는 곳',ps.addr)\n"
   ]
  },
  {
   "cell_type": "code",
   "execution_count": 37,
   "metadata": {},
   "outputs": [
    {
     "name": "stdout",
     "output_type": "stream",
     "text": [
      "안녕하세요,저는 홍길동입니다\n",
      "이름 홍길동\n",
      "나이 25\n",
      "사는 곳 서울시 역삼동\n"
     ]
    }
   ],
   "source": [
    "class Person:\n",
    "    def __init__(self,*args):\n",
    "        self.name=args[0]\n",
    "        self.age=args[1]\n",
    "        self.addr=args[2]\n",
    "    def greeting(self):\n",
    "        print('안녕하세요,저는 {0}입니다'.format(self.name))\n",
    "\n",
    "ps=Person('홍길동',25,'서울시 역삼동')\n",
    "ps.greeting()\n",
    "print('이름',ps.name)\n",
    "print('나이', ps.age)\n",
    "print('사는 곳',ps.addr)"
   ]
  },
  {
   "cell_type": "code",
   "execution_count": 41,
   "metadata": {},
   "outputs": [
    {
     "name": "stdout",
     "output_type": "stream",
     "text": [
      "3\n",
      "1.2\n"
     ]
    },
    {
     "data": {
      "text/plain": [
       "False"
      ]
     },
     "execution_count": 41,
     "metadata": {},
     "output_type": "execute_result"
    }
   ],
   "source": [
    "#내장함수 - import 필요 없음\n",
    "\n",
    "print(abs(3))\n",
    "print(abs(-1.2))  # 절댓값"
   ]
  },
  {
   "cell_type": "code",
   "execution_count": 42,
   "metadata": {},
   "outputs": [
    {
     "data": {
      "text/plain": [
       "False"
      ]
     },
     "execution_count": 42,
     "metadata": {},
     "output_type": "execute_result"
    }
   ],
   "source": [
    "all([-1,1,2,-2])    #모두 참일 때, 참\n",
    "all([-1,0,1])"
   ]
  },
  {
   "cell_type": "code",
   "execution_count": 46,
   "metadata": {},
   "outputs": [
    {
     "data": {
      "text/plain": [
       "False"
      ]
     },
     "execution_count": 46,
     "metadata": {},
     "output_type": "execute_result"
    }
   ],
   "source": [
    "any([1,2,3,0])   # 하나라도 참이면, 참 / 모두 거짓인 경우에만 거짓\n",
    "any([0,0])\n",
    "any(['',None,0])"
   ]
  },
  {
   "cell_type": "code",
   "execution_count": 49,
   "metadata": {},
   "outputs": [
    {
     "name": "stdout",
     "output_type": "stream",
     "text": [
      "1\n"
     ]
    }
   ],
   "source": [
    "chr(65)   #아스키 코드를 입력받아 해당 문자 출력\n",
    "\n",
    "res=divmod(6,4)   # (몫, 나머지)\n",
    "print(res[0])"
   ]
  },
  {
   "cell_type": "code",
   "execution_count": 51,
   "metadata": {},
   "outputs": [
    {
     "name": "stdout",
     "output_type": "stream",
     "text": [
      "0 test\n",
      "1 text\n",
      "2 body\n"
     ]
    }
   ],
   "source": [
    "for idx,name in enumerate(['test','text','body']):            #순서가 있는 자료형을 입력받아, 인덱스와 함께 리턴\n",
    "    print(idx, name)"
   ]
  },
  {
   "cell_type": "code",
   "execution_count": 54,
   "metadata": {},
   "outputs": [
    {
     "name": "stdout",
     "output_type": "stream",
     "text": [
      "0 test\n",
      "1 text\n",
      "2 body\n"
     ]
    }
   ],
   "source": [
    "for data in enumerate(['test','text','body']):           \n",
    "    print(data[0], data[1])"
   ]
  },
  {
   "cell_type": "code",
   "execution_count": 59,
   "metadata": {},
   "outputs": [
    {
     "data": {
      "text/plain": [
       "(1, 2)"
      ]
     },
     "execution_count": 59,
     "metadata": {},
     "output_type": "execute_result"
    }
   ],
   "source": [
    "eval('1+2')        # 실행가능한 문자열에 대해 실행결과 리턴\n",
    "eval(\"'hi'+'hello'\")\n",
    "eval('divmod(6,4)')"
   ]
  },
  {
   "cell_type": "code",
   "execution_count": 89,
   "metadata": {},
   "outputs": [],
   "source": [
    "# 1. 다음과 같은 내용을 지닌 파일 test.txt가 있다. 이 파일의 내용 중 \"java\"라는 문자열을 \"python\"으로 바꾸어서 저장해 보자.\n",
    "\n",
    "# Life is too short\n",
    "# you need java\n",
    "# ※ replace 함수를 사용해 보자.\n",
    "\n",
    "\n",
    "\n",
    "f=open('c:/da/test.txt','w')\n",
    "data='Life is too short\\nYou need java'\n",
    "data=data.replace('java','python')\n",
    "f.write(data)\n",
    "f.close()"
   ]
  },
  {
   "cell_type": "code",
   "execution_count": 90,
   "metadata": {},
   "outputs": [],
   "source": [
    "# 2. 사용자의 입력을 파일(test.txt)에 저장하는 프로그램을 작성해 보자. \n",
    "# (단 프로그램을 다시 실행하더라도 기존에 작성한 내용을 유지하고 새로 입력한 내용을 추가해야 한다.)\n",
    "\n",
    "f=open('c:/da/test.txt','a')\n",
    "for i in range(3,):\n",
    "    data='\\n내용을 입력하세요\\n'\n",
    "    f.write(data)\n",
    "f.close()"
   ]
  },
  {
   "cell_type": "code",
   "execution_count": 101,
   "metadata": {},
   "outputs": [
    {
     "ename": "TypeError",
     "evalue": "add() missing 1 required positional argument: 'val'",
     "output_type": "error",
     "traceback": [
      "\u001b[1;31m---------------------------------------------------------------------------\u001b[0m",
      "\u001b[1;31mTypeError\u001b[0m                                 Traceback (most recent call last)",
      "\u001b[1;32m<ipython-input-101-4ed76947747b>\u001b[0m in \u001b[0;36m<module>\u001b[1;34m\u001b[0m\n\u001b[0;32m     34\u001b[0m \u001b[0ma\u001b[0m\u001b[1;33m=\u001b[0m\u001b[0mUpgradeCalculator\u001b[0m\u001b[1;33m(\u001b[0m\u001b[1;33m)\u001b[0m\u001b[1;33m\u001b[0m\u001b[1;33m\u001b[0m\u001b[0m\n\u001b[0;32m     35\u001b[0m \u001b[0ma\u001b[0m\u001b[1;33m.\u001b[0m\u001b[0msetData\u001b[0m\u001b[1;33m(\u001b[0m\u001b[1;36m10\u001b[0m\u001b[1;33m,\u001b[0m\u001b[1;36m7\u001b[0m\u001b[1;33m)\u001b[0m\u001b[1;33m\u001b[0m\u001b[1;33m\u001b[0m\u001b[0m\n\u001b[1;32m---> 36\u001b[1;33m \u001b[0mprint\u001b[0m\u001b[1;33m(\u001b[0m\u001b[0ma\u001b[0m\u001b[1;33m.\u001b[0m\u001b[0madd\u001b[0m\u001b[1;33m(\u001b[0m\u001b[1;33m)\u001b[0m\u001b[1;33m)\u001b[0m\u001b[1;33m\u001b[0m\u001b[1;33m\u001b[0m\u001b[0m\n\u001b[0m\u001b[0;32m     37\u001b[0m \u001b[1;33m\u001b[0m\u001b[0m\n",
      "\u001b[1;31mTypeError\u001b[0m: add() missing 1 required positional argument: 'val'"
     ]
    }
   ],
   "source": [
    "# 3. 다음은 Calculator 클래스이다.\n",
    "\n",
    "# class Calculator:\n",
    "#     def __init__(self):\n",
    "#         self.value = 0\n",
    "\n",
    "#     def add(self, val):\n",
    "#         self.value += val\n",
    "# 위 클래스를 상속하는 UpgradeCalculator를 만들고 값을 뺄 수 있는 minus 메서드를 추가해 보자. 즉 다음과 같이 동작하는 클래스를 만들어야 한다.\n",
    "\n",
    "# cal = UpgradeCalculator()\n",
    "# cal.add(10)\n",
    "# cal.minus(7)\n",
    "\n",
    "# print(cal.value) # 10에서 7을 뺀 3을 출력\n",
    "\n",
    "\n",
    "class Calculator:\n",
    "    def __init__(self):\n",
    "        self.value = 0\n",
    "\n",
    "    def add(self, val):\n",
    "        self.value += val\n",
    "        \n",
    "class UpgradeCalculator(Calculator):\n",
    "    def sub(self):\n",
    "        res=self.first-self.second\n",
    "        return res\n",
    "    def setData(self,first,second):     \n",
    "        self.first=first                \n",
    "        self.second=second               \n",
    "        \n",
    "    \n",
    "a=UpgradeCalculator()\n",
    "a.setData(10,7)\n",
    "print(a.add())\n",
    "    \n"
   ]
  },
  {
   "cell_type": "code",
   "execution_count": null,
   "metadata": {},
   "outputs": [],
   "source": [
    "4. 객체변수 value가 100 이상의 값은 가질 수 없도록 제한하는 MaxLimitCalculator 클래스를 만들어 보자. 즉 다음과 같이 동작해야 한다.\n",
    "\n",
    "cal = MaxLimitCalculator()\n",
    "cal.add(50) # 50 더하기\n",
    "cal.add(60) # 60 더하기\n",
    "\n",
    "print(cal.value) # 100 출력\n",
    "단 반드시 다음과 같은 Calculator 클래스를 상속해서 만들어야 한다.\n",
    "\n",
    "class Calculator:\n",
    "    def __init__(self):\n",
    "        self.value = 0\n",
    "\n",
    "    def add(self, val):\n",
    "        self.value += val"
   ]
  },
  {
   "cell_type": "code",
   "execution_count": 103,
   "metadata": {},
   "outputs": [
    {
     "data": {
      "text/plain": [
       "[3, 6, 9, 12]"
      ]
     },
     "execution_count": 103,
     "metadata": {},
     "output_type": "execute_result"
    }
   ],
   "source": [
    "# 5. map과 lambda를 사용하여 [1, 2, 3, 4] 리스트의 각 요솟값에 3이 곱해진 리스트 [3, 6, 9, 12]를 만들어 보자.\n",
    "\n",
    "\n",
    "def f(x):\n",
    "    return x*3\n",
    "\n",
    "list(map(lambda x:x*3,[1,2,3,4]))"
   ]
  },
  {
   "cell_type": "code",
   "execution_count": null,
   "metadata": {},
   "outputs": [],
   "source": []
  }
 ],
 "metadata": {
  "kernelspec": {
   "display_name": "Python 3",
   "language": "python",
   "name": "python3"
  },
  "language_info": {
   "codemirror_mode": {
    "name": "ipython",
    "version": 3
   },
   "file_extension": ".py",
   "mimetype": "text/x-python",
   "name": "python",
   "nbconvert_exporter": "python",
   "pygments_lexer": "ipython3",
   "version": "3.7.4"
  }
 },
 "nbformat": 4,
 "nbformat_minor": 2
}
