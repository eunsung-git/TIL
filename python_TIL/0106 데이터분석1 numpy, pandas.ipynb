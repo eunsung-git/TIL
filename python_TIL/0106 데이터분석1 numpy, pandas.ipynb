{
 "cells": [
  {
   "cell_type": "code",
   "execution_count": 7,
   "metadata": {},
   "outputs": [
    {
     "data": {
      "text/plain": [
       "array([0, 1, 2, 3, 4])"
      ]
     },
     "execution_count": 7,
     "metadata": {},
     "output_type": "execute_result"
    }
   ],
   "source": [
    "import numpy as np\n",
    "ar=numpy.array([0,1,2,3,4])\n",
    "ar"
   ]
  },
  {
   "cell_type": "code",
   "execution_count": 3,
   "metadata": {},
   "outputs": [
    {
     "data": {
      "text/plain": [
       "numpy.ndarray"
      ]
     },
     "execution_count": 3,
     "metadata": {},
     "output_type": "execute_result"
    }
   ],
   "source": [
    "type(ar)"
   ]
  },
  {
   "cell_type": "code",
   "execution_count": 10,
   "metadata": {},
   "outputs": [
    {
     "name": "stdout",
     "output_type": "stream",
     "text": [
      "[0, 2, 4, 6, 8, 10, 12, 14, 16, 18]\n"
     ]
    },
    {
     "data": {
      "text/plain": [
       "array([ 0,  2,  4,  6,  8, 10, 12, 14, 16, 18])"
      ]
     },
     "execution_count": 10,
     "metadata": {},
     "output_type": "execute_result"
    }
   ],
   "source": [
    "# 시간 복잡도(CPU) : 연산 결과 출력까지 수행되는 라인 갯수 , O(n)\n",
    "# 공간 복잡도(MEM) \n",
    "\n",
    "\n",
    "data=list(range(0,10))\n",
    "ans=[]\n",
    "for d in data:\n",
    "    ans.append(2*d)     # O(10)\n",
    "print(ans)\n",
    "\n",
    "# 벡터화 연산 - for 구문 사용x, 빠른 연산 속도\n",
    "x=np.array(data)\n",
    "x*2"
   ]
  },
  {
   "cell_type": "code",
   "execution_count": 17,
   "metadata": {},
   "outputs": [
    {
     "data": {
      "text/plain": [
       "array([False, False,  True])"
      ]
     },
     "execution_count": 17,
     "metadata": {},
     "output_type": "execute_result"
    }
   ],
   "source": [
    "a=np.array([1,2,3])\n",
    "b=np.array([4,5,6])\n",
    "a2=[1,2,3]\n",
    "b2=[4,5,6]\n",
    "\n",
    "2*a2+b2  # [1,2,3,1,2,3,4,5,6]\n",
    "2*a+b # array([6,9,12])\n",
    "a2==2  # False\n",
    "a==2   # array([False, True, False])\n",
    "#a2>2   #error\n",
    "a>2    # array([False, False, True])"
   ]
  },
  {
   "cell_type": "code",
   "execution_count": 20,
   "metadata": {},
   "outputs": [
    {
     "data": {
      "text/plain": [
       "4"
      ]
     },
     "execution_count": 20,
     "metadata": {},
     "output_type": "execute_result"
    }
   ],
   "source": [
    "m=np.array([[[1,2,3,4],\n",
    "         [5,6,7,8],\n",
    "         [9,10,11,12]],\n",
    "         [[31,32,33,34],\n",
    "         [35,36,37,38],\n",
    "         [39,310,311,312]]])\n",
    "len(m)\n",
    "len(m[0])\n",
    "len(m[0][0])"
   ]
  },
  {
   "cell_type": "code",
   "execution_count": 25,
   "metadata": {},
   "outputs": [
    {
     "data": {
      "text/plain": [
       "2"
      ]
     },
     "execution_count": 25,
     "metadata": {},
     "output_type": "execute_result"
    }
   ],
   "source": [
    "import numpy as np\n",
    "m=np.array([[0,1,2], [3,4,5]])\n",
    "\n",
    "#배열의 차원\n",
    "m.ndim   \n",
    "\n",
    "# 배열의 크기\n",
    "#m.shape"
   ]
  },
  {
   "cell_type": "code",
   "execution_count": 27,
   "metadata": {},
   "outputs": [
    {
     "data": {
      "text/plain": [
       "(2, 3, 4)"
      ]
     },
     "execution_count": 27,
     "metadata": {},
     "output_type": "execute_result"
    }
   ],
   "source": [
    "import numpy as np\n",
    "m=np.array([[[1,2,3,4],\n",
    "         [5,6,7,8],\n",
    "         [9,10,11,12]],\n",
    "         [[31,32,33,34],\n",
    "         [35,36,37,38],\n",
    "         [39,310,311,312]]]) \n",
    "#m.ndim\n",
    "m.shape"
   ]
  },
  {
   "cell_type": "code",
   "execution_count": 83,
   "metadata": {},
   "outputs": [
    {
     "name": "stdout",
     "output_type": "stream",
     "text": [
      "6\n"
     ]
    }
   ],
   "source": [
    "a=[3,1,-2,2,1,-3,-2,0,-7]\n",
    "\n",
    "list=[]\n",
    "for i in range(0,7):\n",
    "    sum=a[i]*a[i+1]*a[i+2]\n",
    "    list.append(sum)\n",
    "\n",
    "maxValue = list[0]\n",
    "for i in range(1, len(list)):\n",
    "    if maxValue < list[i]:\n",
    "        maxValue = list[i]\n",
    "print(maxValue)"
   ]
  },
  {
   "cell_type": "code",
   "execution_count": 86,
   "metadata": {},
   "outputs": [],
   "source": [
    "b=[[3,1,-2],[2,1,-3],[-2,0,-7]]\n",
    "\n",
    "\n",
    "list=[]\n",
    "for i in range(0,2):\n",
    "    mul=b[i][i]*b[i][i+1]*b[i+1][i]*b[i+1][i+1]\n",
    "    list.append(mul)\n",
    "\n",
    "maxValue = list[0]\n",
    "for i in range(1, len(list)):\n",
    "    if maxValue < list[i]:\n",
    "        maxValue = list[i]\n",
    "max=maxValue\n"
   ]
  },
  {
   "cell_type": "code",
   "execution_count": 97,
   "metadata": {},
   "outputs": [
    {
     "data": {
      "text/plain": [
       "6"
      ]
     },
     "execution_count": 97,
     "metadata": {},
     "output_type": "execute_result"
    }
   ],
   "source": [
    "import numpy as np\n",
    "ar=np.array([[1,2,3,4], [5,6,7,8]])\n",
    "# ar[0,:]    # 첫번째 행 전체 array([1,2,3,4])\n",
    "# ar[:,1]    # 두번째 열 전체 array([2,6])\n",
    "# ar[1,1:]   # 두번째 행, 두번째 열~마지막  array([6,7,8])\n",
    "ar[:,:2]\n",
    "ar[0][0]\n",
    "ar[1,1]\n",
    "ar[-1,1]"
   ]
  },
  {
   "cell_type": "code",
   "execution_count": 104,
   "metadata": {},
   "outputs": [
    {
     "data": {
      "text/plain": [
       "array([4, 5])"
      ]
     },
     "execution_count": 104,
     "metadata": {},
     "output_type": "execute_result"
    }
   ],
   "source": [
    "import numpy as np\n",
    "ar=np.array([2,3,4,5])\n",
    "bidx=np.array([True, True, False, True])\n",
    "\n",
    "# ar[bidx]\n",
    "# ar != 4\n",
    "# ar[ar != 4]\n",
    "# ar[ar%2==0]\n",
    "# ar[ar>3]\n"
   ]
  },
  {
   "cell_type": "code",
   "execution_count": 106,
   "metadata": {},
   "outputs": [
    {
     "data": {
      "text/plain": [
       "array([2, 2, 3, 3])"
      ]
     },
     "execution_count": 106,
     "metadata": {},
     "output_type": "execute_result"
    }
   ],
   "source": [
    "import numpy as np\n",
    "ar=np.array([2,3,4,5])\n",
    "idx=np.array([0,3])\n",
    "idx2=np.array([0,0,1,1])\n",
    "\n",
    "#ar[idx]     # array([2, 5])\n",
    "ar[idx2]"
   ]
  },
  {
   "cell_type": "code",
   "execution_count": 111,
   "metadata": {},
   "outputs": [
    {
     "data": {
      "text/plain": [
       "array([[1, 2, 3, 4],\n",
       "       [5, 6, 7, 8]])"
      ]
     },
     "execution_count": 111,
     "metadata": {},
     "output_type": "execute_result"
    }
   ],
   "source": [
    "import numpy as np\n",
    "ar=np.array([[1,2,3,4], [5,6,7,8]])\n",
    "ar[:,[0,3]]\n",
    "ar[:,:]"
   ]
  },
  {
   "cell_type": "code",
   "execution_count": 115,
   "metadata": {},
   "outputs": [
    {
     "data": {
      "text/plain": [
       "array([[25, 26, 27, 28],\n",
       "       [ 1,  2,  3,  4],\n",
       "       [35, 36, 37, 38]])"
      ]
     },
     "execution_count": 115,
     "metadata": {},
     "output_type": "execute_result"
    }
   ],
   "source": [
    "import numpy as np\n",
    "ar=np.array([[1,2,3,4], \n",
    "             [15,16,17,18],\n",
    "             [25,26,27,28], \n",
    "             [35,36,37,38]])\n",
    "\n",
    "ar[2,:]\n",
    "ar[[2,0],:] \n",
    "ar[[2,0,-1],:]"
   ]
  },
  {
   "cell_type": "code",
   "execution_count": 135,
   "metadata": {},
   "outputs": [
    {
     "data": {
      "text/html": [
       "<div>\n",
       "<style scoped>\n",
       "    .dataframe tbody tr th:only-of-type {\n",
       "        vertical-align: middle;\n",
       "    }\n",
       "\n",
       "    .dataframe tbody tr th {\n",
       "        vertical-align: top;\n",
       "    }\n",
       "\n",
       "    .dataframe thead th {\n",
       "        text-align: right;\n",
       "    }\n",
       "</style>\n",
       "<table border=\"1\" class=\"dataframe\">\n",
       "  <thead>\n",
       "    <tr style=\"text-align: right;\">\n",
       "      <th></th>\n",
       "      <th>ID</th>\n",
       "      <th>LAST_NAME</th>\n",
       "      <th>AGE</th>\n",
       "    </tr>\n",
       "  </thead>\n",
       "  <tbody>\n",
       "    <tr>\n",
       "      <td>0</td>\n",
       "      <td>1</td>\n",
       "      <td>KIM</td>\n",
       "      <td>25</td>\n",
       "    </tr>\n",
       "    <tr>\n",
       "      <td>1</td>\n",
       "      <td>2</td>\n",
       "      <td>LEE</td>\n",
       "      <td>22</td>\n",
       "    </tr>\n",
       "    <tr>\n",
       "      <td>2</td>\n",
       "      <td>3</td>\n",
       "      <td>PARK</td>\n",
       "      <td>33</td>\n",
       "    </tr>\n",
       "    <tr>\n",
       "      <td>3</td>\n",
       "      <td>4</td>\n",
       "      <td>CHOI</td>\n",
       "      <td>24</td>\n",
       "    </tr>\n",
       "    <tr>\n",
       "      <td>4</td>\n",
       "      <td>5</td>\n",
       "      <td>CHO</td>\n",
       "      <td>30</td>\n",
       "    </tr>\n",
       "  </tbody>\n",
       "</table>\n",
       "</div>"
      ],
      "text/plain": [
       "   ID LAST_NAME  AGE\n",
       "0   1       KIM   25\n",
       "1   2       LEE   22\n",
       "2   3      PARK   33\n",
       "3   4      CHOI   24\n",
       "4   5       CHO   30"
      ]
     },
     "execution_count": 135,
     "metadata": {},
     "output_type": "execute_result"
    }
   ],
   "source": [
    "import pandas as pd\n",
    "csvTest=pd.read_csv('test_csv.csv')\n",
    "csvTest"
   ]
  },
  {
   "cell_type": "code",
   "execution_count": 134,
   "metadata": {},
   "outputs": [
    {
     "data": {
      "text/html": [
       "<div>\n",
       "<style scoped>\n",
       "    .dataframe tbody tr th:only-of-type {\n",
       "        vertical-align: middle;\n",
       "    }\n",
       "\n",
       "    .dataframe tbody tr th {\n",
       "        vertical-align: top;\n",
       "    }\n",
       "\n",
       "    .dataframe thead th {\n",
       "        text-align: right;\n",
       "    }\n",
       "</style>\n",
       "<table border=\"1\" class=\"dataframe\">\n",
       "  <thead>\n",
       "    <tr style=\"text-align: right;\">\n",
       "      <th></th>\n",
       "      <th>ID|LAST_NAME|AGE</th>\n",
       "    </tr>\n",
       "  </thead>\n",
       "  <tbody>\n",
       "    <tr>\n",
       "      <td>0</td>\n",
       "      <td>1|KIM|25</td>\n",
       "    </tr>\n",
       "    <tr>\n",
       "      <td>1</td>\n",
       "      <td>2|LEE|22</td>\n",
       "    </tr>\n",
       "    <tr>\n",
       "      <td>2</td>\n",
       "      <td>3|PARK|33</td>\n",
       "    </tr>\n",
       "    <tr>\n",
       "      <td>3</td>\n",
       "      <td>4|CHOI|24</td>\n",
       "    </tr>\n",
       "    <tr>\n",
       "      <td>4</td>\n",
       "      <td>5|CHO|30</td>\n",
       "    </tr>\n",
       "  </tbody>\n",
       "</table>\n",
       "</div>"
      ],
      "text/plain": [
       "  ID|LAST_NAME|AGE\n",
       "0         1|KIM|25\n",
       "1         2|LEE|22\n",
       "2        3|PARK|33\n",
       "3        4|CHOI|24\n",
       "4         5|CHO|30"
      ]
     },
     "execution_count": 134,
     "metadata": {},
     "output_type": "execute_result"
    }
   ],
   "source": [
    "import pandas as pd\n",
    "text=pd.read_csv(\"test_text.txt\")\n",
    "text"
   ]
  },
  {
   "cell_type": "code",
   "execution_count": null,
   "metadata": {},
   "outputs": [],
   "source": []
  }
 ],
 "metadata": {
  "kernelspec": {
   "display_name": "Python 3",
   "language": "python",
   "name": "python3"
  },
  "language_info": {
   "codemirror_mode": {
    "name": "ipython",
    "version": 3
   },
   "file_extension": ".py",
   "mimetype": "text/x-python",
   "name": "python",
   "nbconvert_exporter": "python",
   "pygments_lexer": "ipython3",
   "version": "3.7.4"
  }
 },
 "nbformat": 4,
 "nbformat_minor": 2
}
