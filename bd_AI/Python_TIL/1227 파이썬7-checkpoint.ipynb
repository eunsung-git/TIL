{
 "cells": [
  {
   "cell_type": "code",
   "execution_count": null,
   "metadata": {},
   "outputs": [],
   "source": [
    "\"\"\"\n",
    "filter 반복가능자료형 요소가 첫번째 인수인 함수에 입력되었을때 \n",
    "\n",
    "\"\"\"\n",
    "def positive(p):\n",
    "res=[]\n",
    "for i in p:\n",
    "    if i 0>:\n",
    "        res.append(i)\n",
    "print(list(positive([1,-3,2,-5]))"
   ]
  },
  {
   "cell_type": "code",
   "execution_count": null,
   "metadata": {},
   "outputs": [],
   "source": [
    "target=[1,2,3,4]\n",
    "def add1(n):\n",
    "    return n-\\\n",
    "for v in target:\n",
    "    res.append(add1(v))\n",
    "print(res)\n",
    "\n",
    "print(list(map(add1,tartget))\n",
    "print(list(map(lambda x:x+target))\n",
    "\n",
    "print(list(map(str,target)))"
   ]
  },
  {
   "cell_type": "code",
   "execution_count": null,
   "metadata": {},
   "outputs": [],
   "source": [
    "target=list(range(1,11))\n",
    "res=[]\n",
    "def is_even(n):\n",
    "    return True if n%2==0 else False\n",
    "res=filter(is_even, target)\n",
    "print(list(res()))\n",
    "# for v in target:\n",
    "#     if is_even(v):\n",
    "#         res.append(v)\n",
    "# print(res)\n",
    "\n",
    "\n",
    "print(list(filter(lambda x:x%2==0,target)))\n"
   ]
  },
  {
   "cell_type": "code",
   "execution_count": 2,
   "metadata": {},
   "outputs": [
    {
     "name": "stdout",
     "output_type": "stream",
     "text": [
      "[1, 3]\n"
     ]
    }
   ],
   "source": [
    "target=[1,3,-2,-5]\n",
    "print(list(filter(lambda x:x>0,target)))"
   ]
  },
  {
   "cell_type": "code",
   "execution_count": 3,
   "metadata": {},
   "outputs": [
    {
     "data": {
      "text/plain": [
       "'0xfe'"
      ]
     },
     "execution_count": 3,
     "metadata": {},
     "output_type": "execute_result"
    }
   ],
   "source": [
    "hex(254)"
   ]
  },
  {
   "cell_type": "code",
   "execution_count": 4,
   "metadata": {},
   "outputs": [
    {
     "name": "stdout",
     "output_type": "stream",
     "text": [
      "140710632333776\n",
      "140710632333776\n"
     ]
    }
   ],
   "source": [
    "a=3\n",
    "print(id(3))  # 객체의 메모리 주소값\n",
    "print(id(a))"
   ]
  },
  {
   "cell_type": "code",
   "execution_count": null,
   "metadata": {},
   "outputs": [],
   "source": [
    "int('3')\n",
    "int(3.14)\n",
    "int('101;')"
   ]
  },
  {
   "cell_type": "code",
   "execution_count": null,
   "metadata": {},
   "outputs": [],
   "source": []
  },
  {
   "cell_type": "code",
   "execution_count": null,
   "metadata": {},
   "outputs": [],
   "source": [
    "# 1. 일반적인 함수 구현\n",
    "def two_times(num(:))\n",
    "    #구현부분\n",
    "    rew=two_times([1,2,3])\n",
    "    print(res)\n",
    "    \n",
    "2.\n",
    "\n",
    "#3. lambda gkatn \\"
   ]
  },
  {
   "cell_type": "code",
   "execution_count": null,
   "metadata": {},
   "outputs": [],
   "source": [
    "oct(8)\n",
    "cha(97) #8진수->10진수\n",
    "ora('a')\n",
    "pow(2,4)"
   ]
  },
  {
   "cell_type": "raw",
   "metadata": {},
   "source": [
    "round(3.4567, 2)"
   ]
  },
  {
   "cell_type": "code",
   "execution_count": 8,
   "metadata": {},
   "outputs": [
    {
     "name": "stdout",
     "output_type": "stream",
     "text": [
      "None\n",
      "[1, 2, 3]\n",
      "[1, 2, 3]\n"
     ]
    },
    {
     "data": {
      "text/plain": [
       "[1, 3, 2]"
      ]
     },
     "execution_count": 8,
     "metadata": {},
     "output_type": "execute_result"
    }
   ],
   "source": [
    "#list.sort() : list 정렬, 반환값은 None, 원본 list 순서 변경\n",
    "\n",
    "li=[1,3,2]\n",
    "print(li.sort())\n",
    "print(li)\n",
    "\n",
    "# sorted.(list) : 졍렬된 새로운 list 반환, 원본 list 순서 변경 x\n",
    "li2=[1,3,2]\n",
    "print(sorted(li2))\n",
    "li2"
   ]
  },
  {
   "cell_type": "code",
   "execution_count": 11,
   "metadata": {},
   "outputs": [
    {
     "data": {
      "text/plain": [
       "['a', 'd', 'o', 't', 'y']"
      ]
     },
     "execution_count": 11,
     "metadata": {},
     "output_type": "execute_result"
    }
   ],
   "source": [
    "sorted(['a','c','b'])\n",
    "sorted('today')"
   ]
  },
  {
   "cell_type": "code",
   "execution_count": 14,
   "metadata": {},
   "outputs": [
    {
     "data": {
      "text/plain": [
       "'hi'"
      ]
     },
     "execution_count": 14,
     "metadata": {},
     "output_type": "execute_result"
    }
   ],
   "source": [
    "str(3)\n",
    "str('hi'.upper())\n",
    "str('HI'.lower())"
   ]
  },
  {
   "cell_type": "code",
   "execution_count": 17,
   "metadata": {},
   "outputs": [
    {
     "data": {
      "text/plain": [
       "6"
      ]
     },
     "execution_count": 17,
     "metadata": {},
     "output_type": "execute_result"
    }
   ],
   "source": [
    "sum([1,2])\n",
    "sum((1,2,3))"
   ]
  },
  {
   "cell_type": "code",
   "execution_count": 21,
   "metadata": {},
   "outputs": [
    {
     "data": {
      "text/plain": [
       "[('a', 'd', 'g'), ('b', 'e', 'h'), ('c', 'f', 'i')]"
      ]
     },
     "execution_count": 21,
     "metadata": {},
     "output_type": "execute_result"
    }
   ],
   "source": [
    "list(zip('abc','def'))\n",
    "list(zip('abc','defg'))   # g가 버려짐\n",
    "list(zip('abc','de'))     # c가 버려짐\n",
    "list(zip('abc','def','ghi'))"
   ]
  },
  {
   "cell_type": "code",
   "execution_count": 22,
   "metadata": {},
   "outputs": [],
   "source": [
    "# pickle : 객체 상태 그대로 저장/불러오기 모듈\n",
    "import pickle\n",
    "f=open('test.txt','wb')\n",
    "data={1:'python',2:'java'}\n",
    "pickle.dump(data, f)\n",
    "f.close()"
   ]
  },
  {
   "cell_type": "code",
   "execution_count": 24,
   "metadata": {},
   "outputs": [
    {
     "name": "stdout",
     "output_type": "stream",
     "text": [
      "{1: 'python', 2: 'java'}\n"
     ]
    }
   ],
   "source": [
    "f=open('test.txt','rb')\n",
    "data=pickle.load(f)\n",
    "print(data)"
   ]
  },
  {
   "cell_type": "code",
   "execution_count": 25,
   "metadata": {},
   "outputs": [
    {
     "data": {
      "text/plain": [
       "'test2.txt'"
      ]
     },
     "execution_count": 25,
     "metadata": {},
     "output_type": "execute_result"
    }
   ],
   "source": [
    "import shutil    # 파일 복사\n",
    "shutil.copy('test.txt','test2.txt')"
   ]
  },
  {
   "cell_type": "code",
   "execution_count": 28,
   "metadata": {},
   "outputs": [
    {
     "data": {
      "text/plain": [
       "['c:/windows\\\\addins',\n",
       " 'c:/windows\\\\appcompat',\n",
       " 'c:/windows\\\\apppatch',\n",
       " 'c:/windows\\\\AppReadiness',\n",
       " 'c:/windows\\\\assembly',\n",
       " 'c:/windows\\\\bcastdvr',\n",
       " 'c:/windows\\\\bfsvc.exe',\n",
       " 'c:/windows\\\\BitLockerDiscoveryVolumeContents',\n",
       " 'c:/windows\\\\Boot',\n",
       " 'c:/windows\\\\bootstat.dat',\n",
       " 'c:/windows\\\\Branding',\n",
       " 'c:/windows\\\\CbsTemp',\n",
       " 'c:/windows\\\\Containers',\n",
       " 'c:/windows\\\\CSC',\n",
       " 'c:/windows\\\\Cursors',\n",
       " 'c:/windows\\\\debug',\n",
       " 'c:/windows\\\\diagnostics',\n",
       " 'c:/windows\\\\DiagTrack',\n",
       " 'c:/windows\\\\DigitalLocker',\n",
       " 'c:/windows\\\\Downloaded Program Files',\n",
       " 'c:/windows\\\\Education.xml',\n",
       " 'c:/windows\\\\ELAMBKUP',\n",
       " 'c:/windows\\\\en-US',\n",
       " 'c:/windows\\\\Enterprise.xml',\n",
       " 'c:/windows\\\\explorer.exe',\n",
       " 'c:/windows\\\\Fonts',\n",
       " 'c:/windows\\\\GameBarPresenceWriter',\n",
       " 'c:/windows\\\\Globalization',\n",
       " 'c:/windows\\\\Help',\n",
       " 'c:/windows\\\\HelpPane.exe',\n",
       " 'c:/windows\\\\hh.exe',\n",
       " 'c:/windows\\\\IdentityCRL',\n",
       " 'c:/windows\\\\IME',\n",
       " 'c:/windows\\\\ImmersiveControlPanel',\n",
       " 'c:/windows\\\\INF',\n",
       " 'c:/windows\\\\InputMethod',\n",
       " 'c:/windows\\\\Installer',\n",
       " 'c:/windows\\\\ko-KR',\n",
       " 'c:/windows\\\\L2Schemas',\n",
       " 'c:/windows\\\\LanguageOverlayCache',\n",
       " 'c:/windows\\\\LiveKernelReports',\n",
       " 'c:/windows\\\\Logs',\n",
       " 'c:/windows\\\\Media',\n",
       " 'c:/windows\\\\mib.bin',\n",
       " 'c:/windows\\\\Microsoft.NET',\n",
       " 'c:/windows\\\\Migration',\n",
       " 'c:/windows\\\\minidump',\n",
       " 'c:/windows\\\\ModemLogs',\n",
       " 'c:/windows\\\\notepad.exe',\n",
       " 'c:/windows\\\\OCR',\n",
       " 'c:/windows\\\\Offline Web Pages',\n",
       " 'c:/windows\\\\Panther',\n",
       " 'c:/windows\\\\PCHEALTH',\n",
       " 'c:/windows\\\\Performance',\n",
       " 'c:/windows\\\\PFRO.log',\n",
       " 'c:/windows\\\\PLA',\n",
       " 'c:/windows\\\\PolicyDefinitions',\n",
       " 'c:/windows\\\\Prefetch',\n",
       " 'c:/windows\\\\PrintDialog',\n",
       " 'c:/windows\\\\Professional.xml',\n",
       " 'c:/windows\\\\ProfessionalEducation.xml',\n",
       " 'c:/windows\\\\ProfessionalWorkstation.xml',\n",
       " 'c:/windows\\\\Provisioning',\n",
       " 'c:/windows\\\\regedit.exe',\n",
       " 'c:/windows\\\\Registration',\n",
       " 'c:/windows\\\\RemotePackages',\n",
       " 'c:/windows\\\\rescache',\n",
       " 'c:/windows\\\\Resources',\n",
       " 'c:/windows\\\\SchCache',\n",
       " 'c:/windows\\\\schemas',\n",
       " 'c:/windows\\\\security',\n",
       " 'c:/windows\\\\ServerRdsh.xml',\n",
       " 'c:/windows\\\\ServiceProfiles',\n",
       " 'c:/windows\\\\ServiceState',\n",
       " 'c:/windows\\\\servicing',\n",
       " 'c:/windows\\\\Setup',\n",
       " 'c:/windows\\\\setupact.log',\n",
       " 'c:/windows\\\\setuperr.log',\n",
       " 'c:/windows\\\\ShellComponents',\n",
       " 'c:/windows\\\\ShellExperiences',\n",
       " 'c:/windows\\\\SHELLNEW',\n",
       " 'c:/windows\\\\SKB',\n",
       " 'c:/windows\\\\SoftwareDistribution',\n",
       " 'c:/windows\\\\Speech',\n",
       " 'c:/windows\\\\Speech_OneCore',\n",
       " 'c:/windows\\\\splwow64.exe',\n",
       " 'c:/windows\\\\System',\n",
       " 'c:/windows\\\\system.ini',\n",
       " 'c:/windows\\\\System32',\n",
       " 'c:/windows\\\\SystemApps',\n",
       " 'c:/windows\\\\SystemResources',\n",
       " 'c:/windows\\\\SysWOW64',\n",
       " 'c:/windows\\\\TAPI',\n",
       " 'c:/windows\\\\Tasks',\n",
       " 'c:/windows\\\\Temp',\n",
       " 'c:/windows\\\\TextInput',\n",
       " 'c:/windows\\\\tracing',\n",
       " 'c:/windows\\\\twain_32',\n",
       " 'c:/windows\\\\twain_32.dll',\n",
       " 'c:/windows\\\\Vss',\n",
       " 'c:/windows\\\\WaaS',\n",
       " 'c:/windows\\\\Web',\n",
       " 'c:/windows\\\\win.ini',\n",
       " 'c:/windows\\\\WindowsShell.Manifest',\n",
       " 'c:/windows\\\\WindowsUpdate.log',\n",
       " 'c:/windows\\\\winhlp32.exe',\n",
       " 'c:/windows\\\\WinSxS',\n",
       " 'c:/windows\\\\WMSysPr9.prx',\n",
       " 'c:/windows\\\\write.exe']"
      ]
     },
     "execution_count": 28,
     "metadata": {},
     "output_type": "execute_result"
    }
   ],
   "source": [
    "import glob\n",
    "glob.glob('c:/windows/*')"
   ]
  },
  {
   "cell_type": "code",
   "execution_count": 30,
   "metadata": {},
   "outputs": [
    {
     "data": {
      "text/plain": [
       "True"
      ]
     },
     "execution_count": 30,
     "metadata": {},
     "output_type": "execute_result"
    }
   ],
   "source": [
    "import webbrowser\n",
    "webbrowser.open('http://www.google.com')\n"
   ]
  },
  {
   "cell_type": "code",
   "execution_count": 35,
   "metadata": {},
   "outputs": [
    {
     "name": "stdout",
     "output_type": "stream",
     "text": [
      "p1:30 20\n",
      "p2:50 40\n",
      "28.284271247461902\n"
     ]
    }
   ],
   "source": [
    "#2차원 평면 위치\n",
    "class Point2D:\n",
    "    def __init__(self,x,y):\n",
    "        self.x=x\n",
    "        self.y=y\n",
    "p1=Point2D(x=30,y=20)\n",
    "p2=Point2D(x=50,y=40)\n",
    "print('p1:{} {}'.format(p1.x,p1.y))\n",
    "print('p2:{} {}'.format(p2.x,p2.y))\n",
    "\n",
    "# 두 점 사이의 거리\n",
    "import math\n",
    "d=math.sqrt(pow(p2.x-p1.x,2)+pow(p2.y-p1.y,2))\n",
    "print(d)"
   ]
  },
  {
   "cell_type": "code",
   "execution_count": null,
   "metadata": {},
   "outputs": [],
   "source": [
    "# iterator(반복자) - 데이터를 차례대로 꺼낼 수 있는 객체\n",
    "\n",
    "for i in range(10)\n",
    "\n",
    "# iterable - 반복가능한 객체\n",
    "dir() : 데이터가 iterable한지 확인\n"
   ]
  },
  {
   "cell_type": "code",
   "execution_count": 39,
   "metadata": {},
   "outputs": [
    {
     "name": "stdout",
     "output_type": "stream",
     "text": [
      "1\n",
      "2\n",
      "3\n"
     ]
    }
   ],
   "source": [
    "\n",
    "it=[1,2,3].__iter__()\n",
    "print(it.__next__())\n",
    "print(it.__next__())\n",
    "print(it.__next__())"
   ]
  },
  {
   "cell_type": "code",
   "execution_count": 48,
   "metadata": {},
   "outputs": [
    {
     "name": "stdout",
     "output_type": "stream",
     "text": [
      "\n",
      "950101-*******\n",
      "970202-*******\n",
      "\n",
      "\n",
      "kim 950101-*******\n",
      "lee 970202-*******\n",
      "\n"
     ]
    }
   ],
   "source": [
    "# 정규표현식 - 문자열을 규칙에 맞춰 정리\n",
    "\n",
    "data=\"\"\"\n",
    "kim 950101-1234567\n",
    "lee 970202-2345678\n",
    "\"\"\"\n",
    "result=[]\n",
    "for line in data.split('\\n'):\n",
    "    word_res=[]\n",
    "    for word in line.split(' '):\n",
    "        if len(word)==14 and word[:6].isdigit() and word[7:].isdigit():\n",
    "            w=word[0:6]+'-'+\"*******\"\n",
    "            word_res.append(w)\n",
    "    result.append(' '.join(word_res))\n",
    "print('\\n'.join(result))\n",
    "\n",
    "\n",
    "\n",
    "data=\"\"\"\n",
    "kim 950101-1234567\n",
    "lee 970202-2345678\n",
    "\"\"\"\n",
    "import re   # 정규표현식 모듈\n",
    "pattern=re.compile('(\\d{6})[-]\\d{7}')\n",
    "print(pattern.sub('\\g<1>-*******', data))"
   ]
  },
  {
   "cell_type": "code",
   "execution_count": 51,
   "metadata": {},
   "outputs": [
    {
     "name": "stdout",
     "output_type": "stream",
     "text": [
      "<re.Match object; span=(0, 5), match='hello'>\n",
      "None\n"
     ]
    }
   ],
   "source": [
    "# 정규표현식 작성\n",
    "# re.match('패턴','문자열) - 문자열에 패턴 존재 유무 확인\n",
    "\n",
    "print(re.match('hello','hello,world'))\n",
    "print(re.match('hi', 'hello, worid'))"
   ]
  },
  {
   "cell_type": "code",
   "execution_count": 72,
   "metadata": {},
   "outputs": [
    {
     "name": "stdout",
     "output_type": "stream",
     "text": [
      "<re.Match object; span=(0, 1), match='f'>\n",
      "<re.Match object; span=(0, 1), match='f'>\n",
      "None\n",
      "<re.Match object; span=(0, 1), match='A'>\n",
      "<re.Match object; span=(0, 1), match='A'>\n",
      "<re.Match object; span=(0, 1), match='1'>\n",
      "<re.Match object; span=(0, 1), match='1'>\n",
      "None\n",
      "None\n",
      "None\n",
      "<re.Match object; span=(0, 1), match='1'>\n",
      "<re.Match object; span=(0, 1), match='t'>\n",
      "<re.Match object; span=(0, 1), match='대'>\n"
     ]
    }
   ],
   "source": [
    "# 정규표현식 메타문자 - 문자의 본래 의미가 아닌, 특정 의미를 갖는 문자\n",
    "# () [] {} \\ | ? + * $ ^\n",
    "\"\"\"\n",
    "1) [] - 문자 관련 정규식에서 사용 / 사이에 어떤 문자도 올 수 있음\n",
    "        ex) [abcdef] a,b,c,d,e,f 문자 중에서 한 개의 문자와 매치\n",
    "                     print(re.match('[abcdef]','a'))\n",
    "\"\"\"\n",
    "# print(re.match('[abcdef]','a'))\n",
    "# print(re.match('[abcdef]','z'))\n",
    "# print(re.match('[abcdef]','all'))\n",
    "# print(re.match('[abcdef]','sky'))\n",
    "# print(re.match('[abcdef]','best'))\n",
    "print(re.match('[abcdef]','fgha'))\n",
    "print(re.match('[a-z]','fgha'))\n",
    "print(re.match('[a-z]','ABC'))\n",
    "print(re.match('[A-Z]','ABC'))\n",
    "print(re.match('[a-zA-Z]','ABC'))\n",
    "# [A-Z] 알파벳 대소문자 모두\n",
    "\n",
    "\n",
    "# [0-9],\\d 숫자 모두 / [^0-9],\\D 숫자를 제외한 모두 / [0-9a-zA_Z],\\w 숫자+문자 / \\W 숫자+영문자가 아닌 나머지\n",
    "print(re.match('[0-9]','119'))\n",
    "print(re.match('\\d','119'))\n",
    "print(re.match('[^0-9]','119'))\n",
    "print(re.match('\\D','119'))\n",
    "print(re.match('[0-9a-zA-Z]','대한민국'))\n",
    "print(re.match('\\w','119'))\n",
    "print(re.match('\\w','test'))\n",
    "print(re.match('\\W','test'))\n",
    "print(re.match('[가-핳]','대한민국'))"
   ]
  },
  {
   "cell_type": "code",
   "execution_count": 74,
   "metadata": {},
   "outputs": [
    {
     "name": "stdout",
     "output_type": "stream",
     "text": [
      "None\n",
      "<re.Match object; span=(7, 9), match='hi'>\n"
     ]
    }
   ],
   "source": [
    "\"\"\"\n",
    "^문자열 - 문자열이 맨 앞에 오는지 판단\n",
    "문자열$ - 문자열이 맨 뒤에 오는지 판단\n",
    "\"\"\"\n",
    "\n",
    "print(re.search('^hi','hello, hi'))\n",
    "print(re.search('hi$','hello, hi'))"
   ]
  },
  {
   "cell_type": "code",
   "execution_count": 77,
   "metadata": {},
   "outputs": [
    {
     "name": "stdout",
     "output_type": "stream",
     "text": [
      "<re.Match object; span=(0, 2), match='hi'>\n",
      "None\n",
      "<re.Match object; span=(0, 5), match='hello'>\n"
     ]
    }
   ],
   "source": [
    "# '|(bar)'  'or'\n",
    "print(re.match('hello|hi|good','hi'))\n",
    "print(re.match('hello|hi|good','goo'))\n",
    "print(re.match('hello|hi|good','hello'))"
   ]
  },
  {
   "cell_type": "code",
   "execution_count": null,
   "metadata": {},
   "outputs": [],
   "source": [
    "# [] 사이의 문자들과 매치\n",
    "\"\"\"\n",
    "[abc] -> a (0), before (o), kick (x)\n",
    "\"\"\""
   ]
  },
  {
   "cell_type": "code",
   "execution_count": 80,
   "metadata": {},
   "outputs": [
    {
     "name": "stdout",
     "output_type": "stream",
     "text": [
      "<re.Match object; span=(0, 1), match='1'>\n"
     ]
    }
   ],
   "source": [
    "print(re.match('[0-9]','123'))\n",
    "#                패턴   문자열\n",
    "# 패턴이 문자열에 있는지 확인\n"
   ]
  },
  {
   "cell_type": "code",
   "execution_count": 84,
   "metadata": {},
   "outputs": [
    {
     "name": "stdout",
     "output_type": "stream",
     "text": [
      "<re.Match object; span=(0, 3), match='123'>\n",
      "<re.Match object; span=(0, 2), match='12'>\n",
      "<re.Match object; span=(0, 0), match=''>\n"
     ]
    }
   ],
   "source": [
    "# '*' 숫자가 0개 이상 있는지 판단\n",
    "print(re.match('[0-9]*','123'))\n",
    "\n",
    "print(re.match('[0-9]*','12a3'))\n",
    "print(re.match('[0-9]*','x12a3'))"
   ]
  },
  {
   "cell_type": "code",
   "execution_count": 88,
   "metadata": {},
   "outputs": [
    {
     "name": "stdout",
     "output_type": "stream",
     "text": [
      "<re.Match object; span=(0, 0), match=''>\n",
      "<re.Match object; span=(0, 3), match='abc'>\n",
      "None\n",
      "None\n"
     ]
    }
   ],
   "source": [
    "print(re.match('[a-z]*','12a3bc'))\n",
    "\n",
    "\n",
    "# '+' 문자가 1개 이상 있는지 판단\n",
    "print(re.match('[a-z]+','abc123def'))\n",
    "print(re.match('[a-z]+','12a3bc'))\n",
    "print(re.match('[a-z]+','9abc123def'))"
   ]
  },
  {
   "cell_type": "code",
   "execution_count": 99,
   "metadata": {},
   "outputs": [
    {
     "name": "stdout",
     "output_type": "stream",
     "text": [
      "<re.Match object; span=(0, 1), match='a'>\n",
      "<re.Match object; span=(0, 3), match='aaa'>\n",
      "<re.Match object; span=(0, 1), match='b'>\n",
      "None\n",
      "<re.Match object; span=(0, 2), match='ab'>\n",
      "None\n",
      "<re.Match object; span=(0, 6), match='aaaaab'>\n",
      "None\n",
      "<re.Match object; span=(0, 5), match='aabbc'>\n",
      "<re.Match object; span=(0, 9), match='aabbccccb'>\n"
     ]
    }
   ],
   "source": [
    "print(re.match('a*','a'))\n",
    "print(re.match('a*','aaab'))\n",
    "print(re.match('a*b','b'))   # a가 0개 이상 있으면서 b로 이어지므로 match (0)\n",
    "print(re.match('a+b','b'))\n",
    "print(re.match('a+b','ab'))\n",
    "print(re.match('a+b','aacb'))\n",
    "print(re.match('a+b*','aaaaabcc'))\n",
    "print(re.match('a+b','aacb'))\n",
    "print(re.match('a*b*c','aabbc'))\n",
    "print(re.match('a*b*c+b','aabbccccb'))"
   ]
  },
  {
   "cell_type": "code",
   "execution_count": 104,
   "metadata": {},
   "outputs": [
    {
     "name": "stdout",
     "output_type": "stream",
     "text": [
      "<re.Match object; span=(0, 1), match='h'>\n",
      "<re.Match object; span=(0, 1), match='h'>\n",
      "<re.Match object; span=(0, 1), match='h'>\n",
      "<re.Match object; span=(0, 0), match=''>\n",
      "<re.Match object; span=(0, 1), match='h'>\n"
     ]
    }
   ],
   "source": [
    "# '?' 문자가 0개 또는 1개 있는지 판단\n",
    "print(re.match('h?','h'))\n",
    "print(re.match('h?','hi'))\n",
    "print(re.match('h?','hello'))\n",
    "print(re.match('h?','ello'))\n",
    "print(re.match('h?','hhhello'))"
   ]
  },
  {
   "cell_type": "code",
   "execution_count": 115,
   "metadata": {},
   "outputs": [
    {
     "name": "stdout",
     "output_type": "stream",
     "text": [
      "<re.Match object; span=(0, 2), match='he'>\n",
      "<re.Match object; span=(0, 3), match='hel'>\n",
      "None\n",
      "None\n",
      "<re.Match object; span=(0, 3), match='dog'>\n",
      "None\n",
      "<re.Match object; span=(0, 2), match='dg'>\n",
      "<re.Match object; span=(0, 2), match='dg'>\n",
      "<re.Match object; span=(0, 10), match='dggggggggg'>\n"
     ]
    }
   ],
   "source": [
    "# '.'  해당 문자 다음에 문자가 1개 있는지 판단\n",
    "\n",
    "print(re.match('h.','hello'))\n",
    "print(re.match('h.l','hello'))\n",
    "print(re.match('a.b','ab'))    # a와 b 사이에 문자가 1개 있으면 match\n",
    "print(re.match('a.b','acccb'))\n",
    "\n",
    "print(re.match('do*g','dog'))\n",
    "print(re.match('do*g','dokg'))\n",
    "print(re.match('do*g','dg'))\n",
    "print(re.match('do*g','dggggggggg'))\n",
    "print(re.match('do*g+','dggggggggg'))"
   ]
  },
  {
   "cell_type": "code",
   "execution_count": 126,
   "metadata": {},
   "outputs": [
    {
     "name": "stdout",
     "output_type": "stream",
     "text": [
      "<re.Match object; span=(0, 3), match='aaa'>\n",
      "<re.Match object; span=(0, 4), match='aaab'>\n",
      "<re.Match object; span=(0, 6), match='aaabbb'>\n",
      "<re.Match object; span=(0, 6), match='aaabbb'>\n",
      "<re.Match object; span=(0, 7), match='aaabbbc'>\n",
      "<re.Match object; span=(0, 9), match='aaabbbccc'>\n",
      "None\n",
      "None\n",
      "<re.Match object; span=(0, 2), match='hi'>\n",
      "<re.Match object; span=(0, 4), match='hihi'>\n",
      "None\n",
      "<re.Match object; span=(0, 8), match='hihihehe'>\n"
     ]
    }
   ],
   "source": [
    "# 'a{3}'  a가 3개 있는지 판단\n",
    "\n",
    "print(re.match('a{3}','aaabbbccc'))\n",
    "print(re.match('a{3}b','aaabbbccc'))\n",
    "print(re.match('a{3}b*','aaabbbccc'))\n",
    "print(re.match('a{3}b+','aaabbbccc'))\n",
    "print(re.match('a{3}b+c','aaabbbccc'))\n",
    "print(re.match('a{3}b+c*','aaabbbccc'))\n",
    "print(re.match('hellohi','hello'))\n",
    "print(re.match('a{3}','aabbbccc'))\n",
    "\n",
    "# '(문자열){횟수}'  (문자열)이 {횟수}만큼 있는지 판단\n",
    "print(re.match('(hi){1}','hii'))\n",
    "print(re.match('(hi){2}','hihi'))\n",
    "print(re.match('(hi){2}','hibyehihi'))\n",
    "print(re.match('(hi){2}(he){2}','hihihehe'))"
   ]
  },
  {
   "cell_type": "code",
   "execution_count": null,
   "metadata": {},
   "outputs": [],
   "source": [
    "# a.b -> a + 모든문자 + b\n",
    "# a[.]b -> a + . + b"
   ]
  },
  {
   "cell_type": "code",
   "execution_count": 132,
   "metadata": {},
   "outputs": [
    {
     "name": "stdout",
     "output_type": "stream",
     "text": [
      "<re.Match object; span=(0, 13), match='010-1234-5678'>\n",
      "None\n",
      "<re.Match object; span=(0, 13), match='010-1234-5678'>\n",
      "<re.Match object; span=(0, 12), match='02-1234-5678'>\n",
      "<re.Match object; span=(0, 14), match='990101-1234567'>\n",
      "비정상\n"
     ]
    }
   ],
   "source": [
    "tel1='010-1234-5678'\n",
    "tel2='02-1234-5678'\n",
    "print(re.match('[0-9]{3}-[0-9]{4}-[0-9]{4}',tel1))\n",
    "print(re.match('[0-9]{3}-[0-9]{4}-[0-9]{4}',tel2))\n",
    "print(re.match('[0-9]{2,3}-[0-9]{4}-[0-9]{4}',tel1))\n",
    "print(re.match('[0-9]{2,3}-[0-9]{4}-[0-9]{4}',tel2))\n",
    "\n",
    "jm='990101-1234567'\n",
    "check=print(re.match('[0-9]{6}-[0-9]{7}',jm))\n",
    "if check:\n",
    "    print('정상')\n",
    "else:\n",
    "    print('비정상')"
   ]
  },
  {
   "cell_type": "code",
   "execution_count": null,
   "metadata": {},
   "outputs": [],
   "source": [
    "#Q. 잔액이 200원 미만이면 판매 중지되도록\n",
    "\n",
    "coffee=10  # 커피 10잔, 1잔 200원\n",
    "money=1300\n",
    "\n",
    "while money:\n",
    "    print('coffee here')\n",
    "    coffee=coffee-1\n",
    "    money=money-200\n",
    "    print('남은 커피는 %d잔' % coffee)\n",
    "    print('잔액 %d원' % money)\n",
    "    if money<200:\n",
    "        print('no money')\n",
    "        break"
   ]
  },
  {
   "cell_type": "code",
   "execution_count": null,
   "metadata": {},
   "outputs": [],
   "source": [
    "# 커피 자판기 만들기\n",
    "# 금액 투입\n",
    "# 커피 선택\n",
    "# 커피 출력(품절)\n",
    "# 잔액 출력\n",
    "# 동전: 500, 100, 1000 등등\n",
    "# *관리자 / 사용자 기능 구현    \n",
    "\n",
    "\n",
    "\n",
    "\"\"\"\n",
    "동전 : 10, 50, 100\n",
    "최소의 동전을 사용하\\여 거스름돈 반환\n",
    "임의의 금액 입력 -> 최소 개수 동전 -> 큰 화폐 단위부터 교환\n",
    "ex) 120원 반환 - \n",
    "\n",
    "\n",
    "동전 : 10, 60, 100\n",
    "최소의 동전을 사용하\\여 거스름돈 반환\n",
    "ex) 120원 반환 - 10-12 / 60-2 / 100-1,10-2\n",
    "=> backtracking\n",
    "\n",
    "\"\"\"\n"
   ]
  }
 ],
 "metadata": {
  "kernelspec": {
   "display_name": "Python 3",
   "language": "python",
   "name": "python3"
  },
  "language_info": {
   "codemirror_mode": {
    "name": "ipython",
    "version": 3
   },
   "file_extension": ".py",
   "mimetype": "text/x-python",
   "name": "python",
   "nbconvert_exporter": "python",
   "pygments_lexer": "ipython3",
   "version": "3.7.4"
  }
 },
 "nbformat": 4,
 "nbformat_minor": 2
}
