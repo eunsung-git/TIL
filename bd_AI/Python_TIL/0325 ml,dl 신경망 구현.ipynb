{
 "cells": [
  {
   "cell_type": "code",
   "execution_count": null,
   "metadata": {},
   "outputs": [],
   "source": [
    "### 신경망 구현\n",
    "## 1. 초기화 (입력/은닉/출력 노드 수, 학습률 설정)\n",
    "## 2. 학습 (W 업데이트)\n",
    "## 3. 질의 (입력->연산->출력 노드에 전달)"
   ]
  },
  {
   "cell_type": "code",
   "execution_count": 72,
   "metadata": {},
   "outputs": [],
   "source": [
    "import numpy as np\n",
    "import scipy.special\n",
    "\n",
    "class neuralnetwork:\n",
    "    \n",
    "    ## 1. 신경망 초기화\n",
    "    def  __init__(self,input_nodes,hidden_nodes,output_nodes,learning_rate):\n",
    "        # 입력/은닉/출력node,  학습율\n",
    "        self.inodes=input_nodes\n",
    "        self.hnodes=hidden_nodes\n",
    "        self.onodes=output_nodes\n",
    "        self.lr=learning_rate\n",
    "        \n",
    "        # 가중치 W -> 행렬\n",
    "        # 입력~은닉 W = (은닉n * 입력n)\n",
    "        self.wih=np.random.normal(0.0,pow(self.hnodes,-0.5),(self.hnodes,self.inodes))\n",
    "        # 은닉~출력 W = (출력n * 은닉n)\n",
    "        self.who=np.random.normal(0.0,pow(self.onodes,-0.5),(self.onodes,self.hnodes))\n",
    "        \n",
    "        self.active_func=lambda x:scipy.special.expit(x)\n",
    "        pass\n",
    "    \n",
    "    ## 2. 신경망 학습\n",
    "    # 1) forward propagation ; 입력 데이터 계산 (query) -> 예측값 구하기\n",
    "    # 2) back propagation : 예측값과 실제값의 차이 계산 - > W  업데이트 \n",
    "    def train(self,inputs_list,targets_list):\n",
    "        # inputs_list/targets_list를 2차원 행렬로 변환\n",
    "        inputs=np.array(inputs_list,ndmin=2).T\n",
    "        targets=np.array(targets_list,ndmin=2).T\n",
    "        \n",
    "        # 1) forward propagation ; 입력 데이터 계산 (query) -> 예측값 구하기\n",
    "        # 은닉node로 들어오는 신호 계산\n",
    "        hidden_inputs=np.dot(self.wih,inputs)\n",
    "        # 은닉node에서 나가는 신호 계산\n",
    "        hidden_outputs=self.active_func(hidden_inputs)\n",
    "        # 출력node로 들어오는 신호 계산\n",
    "        final_inputs=np.dot(self.who, hidden_outputs)\n",
    "        # 출력node에서 나가는 신호 계산\n",
    "        final_outputs=self.active_func(final_inputs)\n",
    "        \n",
    "        \n",
    "        # error = 실제값-예측값\n",
    "        output_errors=targets-final_outputs\n",
    "        \n",
    "        # 은닉node에 대한 역전파 오차 - w에 의해  나뉜  출력node의 error를 재조합하여 계산\n",
    "        hidden_errors=np.dot(self.who.T,output_errors)\n",
    "        # 은닉node~출력node 간의 w 업데이트 - output_errors 이용\n",
    "        self.who+=self.lr * np.dot((output_errors*final_outputs*(1.0-final_outputs)), np.transpose(hidden_outputs))\n",
    "        # 입력node~은닉node 간의 w 업데이트 - hidden_errors 이용\n",
    "        self.wih+=self.lr * np.dot((hidden_errors*hidden_outputs*(1.0-hidden_outputs)), np.transpose(inputs))\n",
    "        \n",
    "        pass\n",
    "    \n",
    "    ## 3. 신경망 질의 - 입력~출력 실행\n",
    "    def query(self,inputs_list):\n",
    "        # inputs_list를 2차원 행렬로 변환\n",
    "        inputs=np.array(inputs_list,ndmin=2).T\n",
    "        # 은닉node로 들어오는 신호 계산\n",
    "        hidden_inputs=np.dot(self.wih,inputs)\n",
    "        # 은닉node에서 나가는 신호 계산\n",
    "        hidden_outputs=self.active_func(hidden_inputs)\n",
    "        # 출력node로 들어오는 신호 계산\n",
    "        final_inputs=np.dot(self.who, hidden_outputs)\n",
    "        # 출력node에서 나가는 신호 계산\n",
    "        final_outputs=self.active_func(final_inputs)\n",
    "        \n",
    "        return final_outputs"
   ]
  },
  {
   "cell_type": "code",
   "execution_count": 9,
   "metadata": {},
   "outputs": [
    {
     "data": {
      "text/plain": [
       "array([[0.43838053],\n",
       "       [0.45800916],\n",
       "       [0.38649392]])"
      ]
     },
     "execution_count": 9,
     "metadata": {},
     "output_type": "execute_result"
    }
   ],
   "source": [
    "# 입력, 은닉, 출력 노드 수 설정\n",
    "input_nodes=3\n",
    "hidden_nodes=3\n",
    "output_nodes=3\n",
    "\n",
    "# 학습률 정의 (0.1~0.001)\n",
    "learning_rate=0.3\n",
    "\n",
    "# 신경망 객체 생성\n",
    "n=neuralnetwork(input_nodes,hidden_nodes,output_nodes,learning_rate)"
   ]
  },
  {
   "cell_type": "code",
   "execution_count": null,
   "metadata": {},
   "outputs": [],
   "source": []
  },
  {
   "cell_type": "code",
   "execution_count": null,
   "metadata": {},
   "outputs": [],
   "source": []
  },
  {
   "cell_type": "code",
   "execution_count": null,
   "metadata": {},
   "outputs": [],
   "source": [
    "### MNIST "
   ]
  },
  {
   "cell_type": "code",
   "execution_count": 21,
   "metadata": {},
   "outputs": [],
   "source": [
    "import numpy as  np\n",
    "import matplotlib.pyplot as  plt"
   ]
  },
  {
   "cell_type": "code",
   "execution_count": 35,
   "metadata": {},
   "outputs": [
    {
     "data": {
      "text/plain": [
       "<matplotlib.image.AxesImage at 0x1b8a28f2948>"
      ]
     },
     "execution_count": 35,
     "metadata": {},
     "output_type": "execute_result"
    },
    {
     "data": {
      "image/png": "[encoded data removed]",
      "text/plain": [
       "<Figure size 432x288 with 1 Axes>"
      ]
     },
     "metadata": {
      "needs_background": "light"
     },
     "output_type": "display_data"
    }
   ],
   "source": [
    "# train=open('C:\\\\Users\\\\student\\\\Desktop\\\\공부\\\\멀캠TIL\\\\dataset\\\\python\\\\data\\\\mnist_train.csv',  'r')\n",
    "# train_list=train.readlines()\n",
    "# all_values=train_list[0].split(',')\n",
    "\n",
    "# # list -> (28,28) array\n",
    "# image_array=np.asfarray(all_values[1:]).reshape((28,28))\n",
    "# plt.imshow(image_array,cmap='Greys',interpolation=None)"
   ]
  },
  {
   "cell_type": "code",
   "execution_count": 36,
   "metadata": {},
   "outputs": [],
   "source": [
    "#  \n",
    "scaled_input=(np.asfarray(all_values[1:])/255*0.99)+0.01"
   ]
  },
  {
   "cell_type": "code",
   "execution_count": 38,
   "metadata": {},
   "outputs": [
    {
     "data": {
      "text/plain": [
       "array([0.01, 0.01, 0.01, 0.01, 0.01, 0.99, 0.01, 0.01, 0.01, 0.01])"
      ]
     },
     "execution_count": 38,
     "metadata": {},
     "output_type": "execute_result"
    }
   ],
   "source": [
    "# onodes=10\n",
    "# targets=np.zeros(onodes)+0.01\n",
    "# targets[int(all_values[0])]=0.99\n",
    "# targets"
   ]
  },
  {
   "cell_type": "code",
   "execution_count": null,
   "metadata": {},
   "outputs": [],
   "source": []
  },
  {
   "cell_type": "code",
   "execution_count": null,
   "metadata": {},
   "outputs": [],
   "source": []
  },
  {
   "cell_type": "code",
   "execution_count": 73,
   "metadata": {},
   "outputs": [],
   "source": [
    "# 입력, 은닉, 출력 노드 수 설정\n",
    "input_nodes=784\n",
    "hidden_nodes=100\n",
    "output_nodes=10 \n",
    "\n",
    "# 학습률 정의 (0.1~0.001)\n",
    "learning_rate=0.3\n",
    "\n",
    "# 신경망 객체 생성\n",
    "n=neuralnetwork(input_nodes,hidden_nodes,output_nodes,learning_rate)"
   ]
  },
  {
   "cell_type": "code",
   "execution_count": 78,
   "metadata": {},
   "outputs": [],
   "source": [
    "# 입력, 은닉, 출력 노드 수 설정\n",
    "input_nodes=784\n",
    "hidden_nodes=100\n",
    "output_nodes=10 \n",
    "\n",
    "# 학습률 정의 (0.1~0.001)\n",
    "learning_rate=0.3\n",
    "\n",
    "# 신경망 객체 생성\n",
    "n=neuralnetwork(input_nodes,hidden_nodes,output_nodes,learning_rate)\n",
    "\n",
    "## mnist data training\n",
    "train=open('C:\\\\Users\\\\student\\\\Desktop\\\\공부\\\\멀캠TIL\\\\dataset\\\\python\\\\data\\\\mnist_train_100.csv',  'r')\n",
    "train_list=train.readlines()\n",
    "train.close()\n",
    "\n",
    "# 신경망 training\n",
    "epochs=5\n",
    "for e in range(epochs):\n",
    "    for record in train_list:\n",
    "        train_values=record.split(',')\n",
    "        # 입력node\n",
    "        inputs=(np.asfarray(train_values[1:])/255*0.99)+0.01\n",
    "\n",
    "        # 실제값\n",
    "        targets=np.zeros(output_nodes)+0.01\n",
    "        targets[int(train_values[0])]=0.99\n",
    "\n",
    "        n.train(inputs,targets)"
   ]
  },
  {
   "cell_type": "code",
   "execution_count": 79,
   "metadata": {},
   "outputs": [],
   "source": [
    "## mnist data test\n",
    "test=open('C:\\\\Users\\\\student\\\\Desktop\\\\공부\\\\멀캠TIL\\\\dataset\\\\python\\\\data\\\\mnist_test_10.csv',  'r')\n",
    "test_list=test.readlines()\n",
    "test.close()\n",
    "\n",
    "#test_values=test_list[0].split(',')\n",
    "# image_array=np.asfarray(test_values[1:]).reshape((28,28))\n",
    "# plt.imshow(image_array,cmap='Greys')"
   ]
  },
  {
   "cell_type": "code",
   "execution_count": 81,
   "metadata": {},
   "outputs": [
    {
     "name": "stdout",
     "output_type": "stream",
     "text": [
      "7  : answer_label\n",
      "7  : my network's answer\n",
      "2  : answer_label\n",
      "2  : my network's answer\n",
      "1  : answer_label\n",
      "1  : my network's answer\n",
      "0  : answer_label\n",
      "0  : my network's answer\n",
      "4  : answer_label\n",
      "4  : my network's answer\n",
      "1  : answer_label\n",
      "1  : my network's answer\n",
      "4  : answer_label\n",
      "9  : my network's answer\n",
      "9  : answer_label\n",
      "4  : my network's answer\n",
      "5  : answer_label\n",
      "4  : my network's answer\n",
      "9  : answer_label\n",
      "4  : my network's answer\n",
      "0.6\n"
     ]
    }
   ],
   "source": [
    "# test 결과 확인\n",
    "score_card=[]\n",
    "for record in test_list:\n",
    "    test_values=record.split(',')\n",
    "    # 실제값\n",
    "    answer_label=int(test_values[0])\n",
    "    #print(answer_label, ' : answer_label')\n",
    "\n",
    "    outputs=n.query((np.asfarray(test_values[1:])/255*0.99)+0.01)\n",
    "    label=np.argmax(outputs)\n",
    "    #print(label, \" : my network's answer\")\n",
    "          \n",
    "    if label==answer_label:\n",
    "          score_card.append(1)\n",
    "    else:\n",
    "          score_card.append(0)\n",
    "\n",
    "score_card_array=np.asarray(score_card)   \n",
    "print(score_card_array.sum()/score_card_array.size)   "
   ]
  },
  {
   "cell_type": "code",
   "execution_count": null,
   "metadata": {},
   "outputs": [],
   "source": []
  },
  {
   "cell_type": "code",
   "execution_count": null,
   "metadata": {},
   "outputs": [],
   "source": []
  },
  {
   "cell_type": "code",
   "execution_count": null,
   "metadata": {},
   "outputs": [],
   "source": [
    "### 전체 mnist data"
   ]
  },
  {
   "cell_type": "code",
   "execution_count": 99,
   "metadata": {},
   "outputs": [],
   "source": [
    "# 입력, 은닉, 출력 노드 수 설정\n",
    "input_nodes=784\n",
    "hidden_nodes=100\n",
    "output_nodes=10000\n",
    "\n",
    "# 학습률 정의 (0.1~0.001)\n",
    "learning_rate=0.3\n",
    "\n",
    "# 신경망 객체 생성\n",
    "n=neuralnetwork(input_nodes,hidden_nodes,output_nodes,learning_rate)\n",
    "\n",
    "## mnist data training\n",
    "train=open('C:\\\\Users\\\\student\\\\Desktop\\\\공부\\\\멀캠TIL\\\\dataset\\\\python\\\\data\\\\mnist_train.csv',  'r')\n",
    "train_list=train.readlines()\n",
    "train_list=train_list[1:]\n",
    "train.close()"
   ]
  },
  {
   "cell_type": "code",
   "execution_count": 102,
   "metadata": {},
   "outputs": [
    {
     "ename": "KeyboardInterrupt",
     "evalue": "",
     "output_type": "error",
     "traceback": [
      "\u001b[1;31m---------------------------------------------------------------------------\u001b[0m",
      "\u001b[1;31mKeyboardInterrupt\u001b[0m                         Traceback (most recent call last)",
      "\u001b[1;32m<ipython-input-102-3e815513e99d>\u001b[0m in \u001b[0;36m<module>\u001b[1;34m\u001b[0m\n\u001b[0;32m     10\u001b[0m         \u001b[0mtargets\u001b[0m\u001b[1;33m[\u001b[0m\u001b[0mint\u001b[0m\u001b[1;33m(\u001b[0m\u001b[0mtrain_values\u001b[0m\u001b[1;33m[\u001b[0m\u001b[1;36m0\u001b[0m\u001b[1;33m]\u001b[0m\u001b[1;33m)\u001b[0m\u001b[1;33m]\u001b[0m\u001b[1;33m=\u001b[0m\u001b[1;36m0.99\u001b[0m\u001b[1;33m\u001b[0m\u001b[1;33m\u001b[0m\u001b[0m\n\u001b[0;32m     11\u001b[0m \u001b[1;33m\u001b[0m\u001b[0m\n\u001b[1;32m---> 12\u001b[1;33m         \u001b[0mn\u001b[0m\u001b[1;33m.\u001b[0m\u001b[0mtrain\u001b[0m\u001b[1;33m(\u001b[0m\u001b[0minputs\u001b[0m\u001b[1;33m,\u001b[0m\u001b[0mtargets\u001b[0m\u001b[1;33m)\u001b[0m\u001b[1;33m\u001b[0m\u001b[1;33m\u001b[0m\u001b[0m\n\u001b[0m",
      "\u001b[1;32m<ipython-input-72-3412a4e450e2>\u001b[0m in \u001b[0;36mtrain\u001b[1;34m(self, inputs_list, targets_list)\u001b[0m\n\u001b[0;32m     46\u001b[0m         \u001b[0mhidden_errors\u001b[0m\u001b[1;33m=\u001b[0m\u001b[0mnp\u001b[0m\u001b[1;33m.\u001b[0m\u001b[0mdot\u001b[0m\u001b[1;33m(\u001b[0m\u001b[0mself\u001b[0m\u001b[1;33m.\u001b[0m\u001b[0mwho\u001b[0m\u001b[1;33m.\u001b[0m\u001b[0mT\u001b[0m\u001b[1;33m,\u001b[0m\u001b[0moutput_errors\u001b[0m\u001b[1;33m)\u001b[0m\u001b[1;33m\u001b[0m\u001b[1;33m\u001b[0m\u001b[0m\n\u001b[0;32m     47\u001b[0m         \u001b[1;31m# 은닉node~출력node 간의 w 업데이트 - output_errors 이용\u001b[0m\u001b[1;33m\u001b[0m\u001b[1;33m\u001b[0m\u001b[1;33m\u001b[0m\u001b[0m\n\u001b[1;32m---> 48\u001b[1;33m         \u001b[0mself\u001b[0m\u001b[1;33m.\u001b[0m\u001b[0mwho\u001b[0m\u001b[1;33m+=\u001b[0m\u001b[0mself\u001b[0m\u001b[1;33m.\u001b[0m\u001b[0mlr\u001b[0m \u001b[1;33m*\u001b[0m \u001b[0mnp\u001b[0m\u001b[1;33m.\u001b[0m\u001b[0mdot\u001b[0m\u001b[1;33m(\u001b[0m\u001b[1;33m(\u001b[0m\u001b[0moutput_errors\u001b[0m\u001b[1;33m*\u001b[0m\u001b[0mfinal_outputs\u001b[0m\u001b[1;33m*\u001b[0m\u001b[1;33m(\u001b[0m\u001b[1;36m1.0\u001b[0m\u001b[1;33m-\u001b[0m\u001b[0mfinal_outputs\u001b[0m\u001b[1;33m)\u001b[0m\u001b[1;33m)\u001b[0m\u001b[1;33m,\u001b[0m \u001b[0mnp\u001b[0m\u001b[1;33m.\u001b[0m\u001b[0mtranspose\u001b[0m\u001b[1;33m(\u001b[0m\u001b[0mhidden_outputs\u001b[0m\u001b[1;33m)\u001b[0m\u001b[1;33m)\u001b[0m\u001b[1;33m\u001b[0m\u001b[1;33m\u001b[0m\u001b[0m\n\u001b[0m\u001b[0;32m     49\u001b[0m         \u001b[1;31m# 입력node~은닉node 간의 w 업데이트 - hidden_errors 이용\u001b[0m\u001b[1;33m\u001b[0m\u001b[1;33m\u001b[0m\u001b[1;33m\u001b[0m\u001b[0m\n\u001b[0;32m     50\u001b[0m         \u001b[0mself\u001b[0m\u001b[1;33m.\u001b[0m\u001b[0mwih\u001b[0m\u001b[1;33m+=\u001b[0m\u001b[0mself\u001b[0m\u001b[1;33m.\u001b[0m\u001b[0mlr\u001b[0m \u001b[1;33m*\u001b[0m \u001b[0mnp\u001b[0m\u001b[1;33m.\u001b[0m\u001b[0mdot\u001b[0m\u001b[1;33m(\u001b[0m\u001b[1;33m(\u001b[0m\u001b[0mhidden_errors\u001b[0m\u001b[1;33m*\u001b[0m\u001b[0mhidden_outputs\u001b[0m\u001b[1;33m*\u001b[0m\u001b[1;33m(\u001b[0m\u001b[1;36m1.0\u001b[0m\u001b[1;33m-\u001b[0m\u001b[0mhidden_outputs\u001b[0m\u001b[1;33m)\u001b[0m\u001b[1;33m)\u001b[0m\u001b[1;33m,\u001b[0m \u001b[0mnp\u001b[0m\u001b[1;33m.\u001b[0m\u001b[0mtranspose\u001b[0m\u001b[1;33m(\u001b[0m\u001b[0minputs\u001b[0m\u001b[1;33m)\u001b[0m\u001b[1;33m)\u001b[0m\u001b[1;33m\u001b[0m\u001b[1;33m\u001b[0m\u001b[0m\n",
      "\u001b[1;31mKeyboardInterrupt\u001b[0m: "
     ]
    }
   ],
   "source": [
    "epochs=3\n",
    "for e in range(epochs):\n",
    "    for record in train_list:\n",
    "        train_values=record.split(',')\n",
    "        # 입력node\n",
    "        inputs=(np.asfarray(train_values[1:])/255*0.99)+0.01\n",
    "\n",
    "        # 실제값\n",
    "        targets=np.zeros(output_nodes)+0.01\n",
    "        targets[int(train_values[0])]=0.99\n",
    "\n",
    "        n.train(inputs,targets)"
   ]
  },
  {
   "cell_type": "code",
   "execution_count": null,
   "metadata": {},
   "outputs": [],
   "source": []
  },
  {
   "cell_type": "code",
   "execution_count": null,
   "metadata": {},
   "outputs": [],
   "source": [
    "test=open('C:\\\\Users\\\\student\\\\Desktop\\\\공부\\\\멀캠TIL\\\\dataset\\\\python\\\\data\\\\mnist_test.csv',  'r')\n",
    "test_list=test.readlines()\n",
    "test_list=test_list[1:]\n",
    "test.close()"
   ]
  },
  {
   "cell_type": "code",
   "execution_count": 92,
   "metadata": {},
   "outputs": [
    {
     "name": "stdout",
     "output_type": "stream",
     "text": [
      "0.7\n"
     ]
    }
   ],
   "source": [
    "score_card=[]\n",
    "for record in test_list:\n",
    "    test_values=record.split(',')\n",
    "    # 실제값\n",
    "    answer_label=int(test_values[0])\n",
    "    #print(answer_label, ' : answer_label')\n",
    "\n",
    "    outputs=n.query((np.asfarray(test_values[1:])/255*0.99)+0.01)\n",
    "    label=np.argmax(outputs)\n",
    "    #print(label, \" : my network's answer\")\n",
    "          \n",
    "    if label==answer_label:\n",
    "          score_card.append(1)\n",
    "    else:\n",
    "          score_card.append(0)\n",
    "\n",
    "score_card_array=np.asarray(score_card)   \n",
    "print(score_card_array.sum()/score_card_array.size)   "
   ]
  },
  {
   "cell_type": "code",
   "execution_count": null,
   "metadata": {},
   "outputs": [],
   "source": []
  },
  {
   "cell_type": "code",
   "execution_count": null,
   "metadata": {},
   "outputs": [],
   "source": []
  },
  {
   "cell_type": "code",
   "execution_count": null,
   "metadata": {},
   "outputs": [],
   "source": [
    "# import pandas as pd\n",
    "# graph=pd.DataFrame({'epoch 1': , 'epoch5':0.6, 'epoch7':0.7,  'epoch10': })"
   ]
  },
  {
   "cell_type": "code",
   "execution_count": null,
   "metadata": {},
   "outputs": [],
   "source": []
  }
 ],
 "metadata": {
  "kernelspec": {
   "display_name": "Python 3",
   "language": "python",
   "name": "python3"
  },
  "language_info": {
   "codemirror_mode": {
    "name": "ipython",
    "version": 3
   },
   "file_extension": ".py",
   "mimetype": "text/x-python",
   "name": "python",
   "nbconvert_exporter": "python",
   "pygments_lexer": "ipython3",
   "version": "3.7.4"
  }
 },
 "nbformat": 4,
 "nbformat_minor": 2
}
