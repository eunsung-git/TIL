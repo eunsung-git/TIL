{
 "cells": [
  {
   "cell_type": "code",
   "execution_count": 29,
   "metadata": {},
   "outputs": [],
   "source": [
    "### mnist - keras\n",
    "from keras.datasets import mnist\n",
    "from keras.utils import np_utils\n",
    "from keras.models import Sequential\n",
    "from keras.layers import *\n",
    "from keras.callbacks import ModelCheckpoint, EarlyStopping\n",
    "import numpy as np\n",
    "import sys\n",
    "import tensorflow as tf\n",
    "import os"
   ]
  },
  {
   "cell_type": "code",
   "execution_count": 2,
   "metadata": {},
   "outputs": [],
   "source": [
    "(xtrain,ytrain), (xtest,ytest) = mnist.load_data()"
   ]
  },
  {
   "cell_type": "code",
   "execution_count": 3,
   "metadata": {},
   "outputs": [
    {
     "name": "stdout",
     "output_type": "stream",
     "text": [
      "(60000, 28, 28) (60000,)\n",
      "(10000, 28, 28) (10000,)\n"
     ]
    }
   ],
   "source": [
    "print(xtrain.shape, ytrain.shape)\n",
    "print(xtest.shape, ytest.shape)"
   ]
  },
  {
   "cell_type": "code",
   "execution_count": 6,
   "metadata": {},
   "outputs": [
    {
     "data": {
      "image/png": "[encoded data removed]",
      "text/plain": [
       "<Figure size 432x288 with 1 Axes>"
      ]
     },
     "metadata": {
      "needs_background": "light"
     },
     "output_type": "display_data"
    }
   ],
   "source": [
    "import matplotlib.pyplot as plt\n",
    "\n",
    "plt.imshow(xtrain[0], cmap='Greys')\n",
    "plt.show()"
   ]
  },
  {
   "cell_type": "code",
   "execution_count": 9,
   "metadata": {},
   "outputs": [
    {
     "ename": "SyntaxError",
     "evalue": "unexpected EOF while parsing (<ipython-input-9-0db32c2ca3e8>, line 4)",
     "output_type": "error",
     "traceback": [
      "\u001b[1;36m  File \u001b[1;32m\"<ipython-input-9-0db32c2ca3e8>\"\u001b[1;36m, line \u001b[1;32m4\u001b[0m\n\u001b[1;33m    #     sys.stdout.write('\\n')\u001b[0m\n\u001b[1;37m                                ^\u001b[0m\n\u001b[1;31mSyntaxError\u001b[0m\u001b[1;31m:\u001b[0m unexpected EOF while parsing\n"
     ]
    }
   ],
   "source": [
    "for x in xtrain[0]:\n",
    "    for i in x:\n",
    "#       sys.stdout.write('%d\\t' % i)\n",
    "#   sys.stdout.write('\\n')"
   ]
  },
  {
   "cell_type": "code",
   "execution_count": 10,
   "metadata": {},
   "outputs": [],
   "source": [
    "xtrain = xtrain.reshape(xtrain.shape[0],784).astype('float64')/255\n",
    "xtest = xtest.reshape(xtest.shape[0],784).astype('float64')/255"
   ]
  },
  {
   "cell_type": "code",
   "execution_count": 12,
   "metadata": {},
   "outputs": [],
   "source": [
    "ytrain = np_utils.to_categorical(ytrain,10)\n",
    "ytest = np_utils.to_categorical(ytest,10)"
   ]
  },
  {
   "cell_type": "code",
   "execution_count": 16,
   "metadata": {},
   "outputs": [
    {
     "name": "stdout",
     "output_type": "stream",
     "text": [
      "WARNING:tensorflow:From C:\\Users\\student\\Anaconda3\\lib\\site-packages\\tensorflow_core\\python\\ops\\resource_variable_ops.py:1630: calling BaseResourceVariable.__init__ (from tensorflow.python.ops.resource_variable_ops) with constraint is deprecated and will be removed in a future version.\n",
      "Instructions for updating:\n",
      "If using Keras pass *_constraint arguments to layers.\n"
     ]
    }
   ],
   "source": [
    "# model 구성\n",
    "model = Sequential()\n",
    "model.add(Dense(512, input_dim=784, activation='relu'))\n",
    "model.add(Dense(10, activation='softmax'))\n",
    "\n",
    "## model 환경 설정\n",
    "model.compile(loss='categorical_crossentropy', optimizer='adam', metrics=['accuracy'])"
   ]
  },
  {
   "cell_type": "code",
   "execution_count": 20,
   "metadata": {},
   "outputs": [],
   "source": [
    "# model 최적화\n",
    "modeldir = './mymodel/'\n",
    "\n",
    "if not os.path.exists(modeldir):\n",
    "    modelpath = './mymodel/{epoch:02d}-{val_loss:.4f}.hdf5'\n",
    "    os.mkdir(modeldir)\n",
    "# model 저장 옵션 설정\n",
    "checkpointer = ModelCheckpoint(filepath=modelpath, monitor='val_loss', verbose=1, save_best_only=True)\n",
    "\n",
    "# \n",
    "es = EarlyStopping(monitor='val_loss', patience=10)"
   ]
  },
  {
   "cell_type": "code",
   "execution_count": 23,
   "metadata": {},
   "outputs": [
    {
     "name": "stdout",
     "output_type": "stream",
     "text": [
      "Train on 60000 samples, validate on 10000 samples\n",
      "Epoch 1/30\n",
      "60000/60000 [==============================] - 3s 56us/step - loss: 0.0020 - accuracy: 0.9997 - val_loss: 0.0792 - val_accuracy: 0.9801\n",
      "\n",
      "Epoch 00001: val_loss did not improve from 0.05770\n",
      "Epoch 2/30\n",
      "60000/60000 [==============================] - 3s 54us/step - loss: 9.4711e-04 - accuracy: 0.9999 - val_loss: 0.0649 - val_accuracy: 0.9833\n",
      "\n",
      "Epoch 00002: val_loss did not improve from 0.05770\n",
      "Epoch 3/30\n",
      "60000/60000 [==============================] - 3s 55us/step - loss: 4.2928e-04 - accuracy: 1.0000 - val_loss: 0.0665 - val_accuracy: 0.9828\n",
      "\n",
      "Epoch 00003: val_loss did not improve from 0.05770\n",
      "Epoch 4/30\n",
      "60000/60000 [==============================] - 3s 57us/step - loss: 3.2665e-04 - accuracy: 1.0000 - val_loss: 0.0670 - val_accuracy: 0.9830\n",
      "\n",
      "Epoch 00004: val_loss did not improve from 0.05770\n",
      "Epoch 5/30\n",
      "60000/60000 [==============================] - 3s 57us/step - loss: 2.8326e-04 - accuracy: 1.0000 - val_loss: 0.0684 - val_accuracy: 0.9830\n",
      "\n",
      "Epoch 00005: val_loss did not improve from 0.05770\n",
      "Epoch 6/30\n",
      "60000/60000 [==============================] - 3s 56us/step - loss: 2.4924e-04 - accuracy: 1.0000 - val_loss: 0.0681 - val_accuracy: 0.9832\n",
      "\n",
      "Epoch 00006: val_loss did not improve from 0.05770\n",
      "Epoch 7/30\n",
      "60000/60000 [==============================] - 3s 57us/step - loss: 2.1772e-04 - accuracy: 1.0000 - val_loss: 0.0690 - val_accuracy: 0.9831\n",
      "\n",
      "Epoch 00007: val_loss did not improve from 0.05770\n",
      "Epoch 8/30\n",
      "60000/60000 [==============================] - 3s 55us/step - loss: 2.0202e-04 - accuracy: 1.0000 - val_loss: 0.0698 - val_accuracy: 0.9834\n",
      "\n",
      "Epoch 00008: val_loss did not improve from 0.05770\n",
      "Epoch 9/30\n",
      "60000/60000 [==============================] - 3s 55us/step - loss: 1.7616e-04 - accuracy: 1.0000 - val_loss: 0.0703 - val_accuracy: 0.9832\n",
      "\n",
      "Epoch 00009: val_loss did not improve from 0.05770\n",
      "Epoch 10/30\n",
      "60000/60000 [==============================] - 3s 56us/step - loss: 1.6796e-04 - accuracy: 1.0000 - val_loss: 0.0724 - val_accuracy: 0.9831\n",
      "\n",
      "Epoch 00010: val_loss did not improve from 0.05770\n",
      "Epoch 11/30\n",
      "60000/60000 [==============================] - 3s 58us/step - loss: 0.0164 - accuracy: 0.9952 - val_loss: 0.0937 - val_accuracy: 0.9774\n",
      "\n",
      "Epoch 00011: val_loss did not improve from 0.05770\n",
      "Epoch 12/30\n",
      "60000/60000 [==============================] - 3s 56us/step - loss: 0.0084 - accuracy: 0.9971 - val_loss: 0.0867 - val_accuracy: 0.9785\n",
      "\n",
      "Epoch 00012: val_loss did not improve from 0.05770\n"
     ]
    }
   ],
   "source": [
    "# model 생성\n",
    "history = model.fit(xtrain, ytrain, validation_data=(xtest,ytest), epochs=30, batch_size=200, callbacks=[checkpointer, es])"
   ]
  },
  {
   "cell_type": "code",
   "execution_count": 24,
   "metadata": {},
   "outputs": [
    {
     "name": "stdout",
     "output_type": "stream",
     "text": [
      "10000/10000 [==============================] - 0s 47us/step\n",
      "test accuracy : 0.9785\n"
     ]
    }
   ],
   "source": [
    "print('test accuracy : %.4f' % (model.evaluate(xtest,ytest)[1]))"
   ]
  },
  {
   "cell_type": "code",
   "execution_count": 25,
   "metadata": {},
   "outputs": [],
   "source": [
    "val_loss = history.history['val_loss']\n",
    "train_loss = history.history['loss']"
   ]
  },
  {
   "cell_type": "code",
   "execution_count": 27,
   "metadata": {},
   "outputs": [
    {
     "data": {
      "image/png": "[encoded data removed]",
      "text/plain": [
       "<Figure size 432x288 with 1 Axes>"
      ]
     },
     "metadata": {
      "needs_background": "light"
     },
     "output_type": "display_data"
    }
   ],
   "source": [
    "xlen = np.arange(len(train_loss))\n",
    "\n",
    "plt.plot(xlen, val_loss, marker='.', c='red', label='test_loss')\n",
    "plt.plot(xlen, train_loss, marker='.', c='blue', label='train_loss')\n",
    "plt.legend()\n",
    "plt.grid()\n",
    "plt.xlabel('epoch')\n",
    "plt.ylabel('loss')\n",
    "plt.show()"
   ]
  },
  {
   "cell_type": "code",
   "execution_count": null,
   "metadata": {},
   "outputs": [],
   "source": []
  },
  {
   "cell_type": "code",
   "execution_count": null,
   "metadata": {},
   "outputs": [],
   "source": []
  },
  {
   "cell_type": "code",
   "execution_count": 47,
   "metadata": {},
   "outputs": [],
   "source": [
    "(xtrain,ytrain), (xtest,ytest) = mnist.load_data()"
   ]
  },
  {
   "cell_type": "code",
   "execution_count": 48,
   "metadata": {},
   "outputs": [],
   "source": [
    "xtrain2 = xtrain.reshape(xtrain.shape[0],28,28,1).astype('float64')/255\n",
    "xtest2 = xtest.reshape(xtest.shape[0],28,28,1).astype('float64')/255"
   ]
  },
  {
   "cell_type": "code",
   "execution_count": 49,
   "metadata": {},
   "outputs": [],
   "source": [
    "ytrain = np_utils.to_categorical(ytrain,10)\n",
    "ytest = np_utils.to_categorical(ytest,10)"
   ]
  },
  {
   "cell_type": "code",
   "execution_count": 50,
   "metadata": {},
   "outputs": [
    {
     "name": "stdout",
     "output_type": "stream",
     "text": [
      "(60000, 28, 28, 1) (60000, 10) (10000, 28, 28, 1) (10000, 10)\n"
     ]
    }
   ],
   "source": [
    "print(xtrain2.shape, ytrain.shape, xtest2.shape, ytest.shape)"
   ]
  },
  {
   "cell_type": "code",
   "execution_count": 51,
   "metadata": {},
   "outputs": [],
   "source": [
    "model2 = Sequential()\n",
    "# Conv2D(filter갯수, kernel_size=(,), input_shape=(r,c,color), activation= )\n",
    "model2.add(Conv2D(32, kernel_size=(3,3), input_shape=(28,28,1), activation='relu'))\n",
    "model2.add(Conv2D(64, kernel_size=(3,3), activation='relu'))\n",
    "model2.add(MaxPooling2D(pool_size=2))\n",
    "model2.add(Dropout(0.25))\n",
    "# Flatten() - 1차원으로 변경\n",
    "model2.add(Flatten())\n",
    "model2.add(Dense(128, activation='relu'))\n",
    "model2.add(Dropout(0.5))\n",
    "model2.add(Dense(10, activation='softmax'))"
   ]
  },
  {
   "cell_type": "code",
   "execution_count": 52,
   "metadata": {},
   "outputs": [
    {
     "name": "stdout",
     "output_type": "stream",
     "text": [
      "Train on 60000 samples, validate on 10000 samples\n",
      "Epoch 1/30\n",
      "60000/60000 [==============================] - 83s 1ms/step - loss: 0.2798 - accuracy: 0.9143 - val_loss: 0.0584 - val_accuracy: 0.9805\n",
      "\n",
      "Epoch 00001: val_loss did not improve from 0.05770\n",
      "Epoch 2/30\n",
      "60000/60000 [==============================] - 72s 1ms/step - loss: 0.0864 - accuracy: 0.9750 - val_loss: 0.0365 - val_accuracy: 0.9882\n",
      "\n",
      "Epoch 00002: val_loss improved from 0.05770 to 0.03645, saving model to ./mymodel/02-0.0365.hdf5\n",
      "Epoch 3/30\n",
      "60000/60000 [==============================] - 73s 1ms/step - loss: 0.0659 - accuracy: 0.9799 - val_loss: 0.0342 - val_accuracy: 0.9890\n",
      "\n",
      "Epoch 00003: val_loss improved from 0.03645 to 0.03423, saving model to ./mymodel/03-0.0342.hdf5\n",
      "Epoch 4/30\n",
      "60000/60000 [==============================] - 73s 1ms/step - loss: 0.0524 - accuracy: 0.9842 - val_loss: 0.0317 - val_accuracy: 0.9892\n",
      "\n",
      "Epoch 00004: val_loss improved from 0.03423 to 0.03167, saving model to ./mymodel/04-0.0317.hdf5\n",
      "Epoch 5/30\n",
      "60000/60000 [==============================] - 72s 1ms/step - loss: 0.0455 - accuracy: 0.9856 - val_loss: 0.0280 - val_accuracy: 0.9902\n",
      "\n",
      "Epoch 00005: val_loss improved from 0.03167 to 0.02799, saving model to ./mymodel/05-0.0280.hdf5\n",
      "Epoch 6/30\n",
      "60000/60000 [==============================] - 77s 1ms/step - loss: 0.0403 - accuracy: 0.9870 - val_loss: 0.0261 - val_accuracy: 0.9924\n",
      "\n",
      "Epoch 00006: val_loss improved from 0.02799 to 0.02607, saving model to ./mymodel/06-0.0261.hdf5\n",
      "Epoch 7/30\n",
      "60000/60000 [==============================] - 75s 1ms/step - loss: 0.0346 - accuracy: 0.9894 - val_loss: 0.0276 - val_accuracy: 0.9910\n",
      "\n",
      "Epoch 00007: val_loss did not improve from 0.02607\n",
      "Epoch 8/30\n",
      "60000/60000 [==============================] - 71s 1ms/step - loss: 0.0330 - accuracy: 0.9895 - val_loss: 0.0279 - val_accuracy: 0.9919\n",
      "\n",
      "Epoch 00008: val_loss did not improve from 0.02607\n",
      "Epoch 9/30\n",
      "60000/60000 [==============================] - 71s 1ms/step - loss: 0.0301 - accuracy: 0.9901 - val_loss: 0.0273 - val_accuracy: 0.9917\n",
      "\n",
      "Epoch 00009: val_loss did not improve from 0.02607\n",
      "Epoch 10/30\n",
      "60000/60000 [==============================] - 71s 1ms/step - loss: 0.0267 - accuracy: 0.9911 - val_loss: 0.0254 - val_accuracy: 0.9927\n",
      "\n",
      "Epoch 00010: val_loss improved from 0.02607 to 0.02535, saving model to ./mymodel/10-0.0254.hdf5\n",
      "Epoch 11/30\n",
      "60000/60000 [==============================] - 69s 1ms/step - loss: 0.0239 - accuracy: 0.9921 - val_loss: 0.0251 - val_accuracy: 0.9928\n",
      "\n",
      "Epoch 00011: val_loss improved from 0.02535 to 0.02515, saving model to ./mymodel/11-0.0251.hdf5\n",
      "Epoch 12/30\n",
      "60000/60000 [==============================] - 67s 1ms/step - loss: 0.0228 - accuracy: 0.9926 - val_loss: 0.0269 - val_accuracy: 0.9925\n",
      "\n",
      "Epoch 00012: val_loss did not improve from 0.02515\n",
      "Epoch 13/30\n",
      "60000/60000 [==============================] - 69s 1ms/step - loss: 0.0208 - accuracy: 0.9933 - val_loss: 0.0227 - val_accuracy: 0.9931\n",
      "\n",
      "Epoch 00013: val_loss improved from 0.02515 to 0.02274, saving model to ./mymodel/13-0.0227.hdf5\n",
      "Epoch 14/30\n",
      "60000/60000 [==============================] - 71s 1ms/step - loss: 0.0181 - accuracy: 0.9938 - val_loss: 0.0268 - val_accuracy: 0.9923\n",
      "\n",
      "Epoch 00014: val_loss did not improve from 0.02274\n",
      "Epoch 15/30\n",
      "60000/60000 [==============================] - 77s 1ms/step - loss: 0.0197 - accuracy: 0.9934 - val_loss: 0.0272 - val_accuracy: 0.9930\n",
      "\n",
      "Epoch 00015: val_loss did not improve from 0.02274\n",
      "Epoch 16/30\n",
      "60000/60000 [==============================] - 70s 1ms/step - loss: 0.0193 - accuracy: 0.9939 - val_loss: 0.0263 - val_accuracy: 0.9927\n",
      "\n",
      "Epoch 00016: val_loss did not improve from 0.02274\n",
      "Epoch 17/30\n",
      "60000/60000 [==============================] - 71s 1ms/step - loss: 0.0157 - accuracy: 0.9948 - val_loss: 0.0266 - val_accuracy: 0.9934\n",
      "\n",
      "Epoch 00017: val_loss did not improve from 0.02274\n",
      "Epoch 18/30\n",
      "60000/60000 [==============================] - 72s 1ms/step - loss: 0.0158 - accuracy: 0.9946 - val_loss: 0.0263 - val_accuracy: 0.9929\n",
      "\n",
      "Epoch 00018: val_loss did not improve from 0.02274\n",
      "Epoch 19/30\n",
      "60000/60000 [==============================] - 70s 1ms/step - loss: 0.0157 - accuracy: 0.9944 - val_loss: 0.0250 - val_accuracy: 0.9931\n",
      "\n",
      "Epoch 00019: val_loss did not improve from 0.02274\n",
      "Epoch 20/30\n",
      "60000/60000 [==============================] - 71s 1ms/step - loss: 0.0160 - accuracy: 0.9943 - val_loss: 0.0279 - val_accuracy: 0.9933\n",
      "\n",
      "Epoch 00020: val_loss did not improve from 0.02274\n",
      "Epoch 21/30\n",
      "60000/60000 [==============================] - 69s 1ms/step - loss: 0.0129 - accuracy: 0.9956 - val_loss: 0.0307 - val_accuracy: 0.9927\n",
      "\n",
      "Epoch 00021: val_loss did not improve from 0.02274\n",
      "Epoch 22/30\n",
      "60000/60000 [==============================] - 71s 1ms/step - loss: 0.0119 - accuracy: 0.9959 - val_loss: 0.0300 - val_accuracy: 0.9927\n",
      "\n",
      "Epoch 00022: val_loss did not improve from 0.02274\n",
      "Epoch 23/30\n",
      "60000/60000 [==============================] - 69s 1ms/step - loss: 0.0123 - accuracy: 0.9959 - val_loss: 0.0286 - val_accuracy: 0.9932\n",
      "\n",
      "Epoch 00023: val_loss did not improve from 0.02274\n"
     ]
    }
   ],
   "source": [
    "model2.compile(loss='categorical_crossentropy', optimizer='adam', metrics=['accuracy'])\n",
    "\n",
    "history = model2.fit(xtrain2, ytrain, validation_data=(xtest2,ytest), epochs=30, batch_size=200, callbacks=[checkpointer, es])"
   ]
  },
  {
   "cell_type": "code",
   "execution_count": 53,
   "metadata": {},
   "outputs": [
    {
     "name": "stdout",
     "output_type": "stream",
     "text": [
      "10000/10000 [==============================] - 3s 316us/step\n",
      "test accuracy : 0.9932\n"
     ]
    }
   ],
   "source": [
    "print('test accuracy : %.4f' % (model2.evaluate(xtest2,ytest)[1]))"
   ]
  },
  {
   "cell_type": "code",
   "execution_count": null,
   "metadata": {},
   "outputs": [],
   "source": []
  }
 ],
 "metadata": {
  "kernelspec": {
   "display_name": "Python 3",
   "language": "python",
   "name": "python3"
  },
  "language_info": {
   "codemirror_mode": {
    "name": "ipython",
    "version": 3
   },
   "file_extension": ".py",
   "mimetype": "text/x-python",
   "name": "python",
   "nbconvert_exporter": "python",
   "pygments_lexer": "ipython3",
   "version": "3.7.4"
  }
 },
 "nbformat": 4,
 "nbformat_minor": 2
}
