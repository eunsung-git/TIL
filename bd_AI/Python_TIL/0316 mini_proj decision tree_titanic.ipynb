{
 "cells": [
  {
   "cell_type": "code",
   "execution_count": 62,
   "metadata": {},
   "outputs": [],
   "source": [
    "import pandas as pd\n",
    "import numpy as np\n",
    "import matplotlib.pyplot as plt\n",
    "import seaborn as sns\n",
    "from sklearn.model_selection import train_test_split\n",
    "from sklearn.tree import export_graphviz\n",
    "from sklearn import tree\n",
    "from sklearn import metrics\n",
    "%matplotlib inline"
   ]
  },
  {
   "cell_type": "code",
   "execution_count": 63,
   "metadata": {},
   "outputs": [],
   "source": [
    "path=r'C:\\\\Users\\\\student\\\\Desktop\\\\공부\\\\멀캠TIL\\\\dataset\\\\python\\\\data'\n",
    "\n",
    "train=pd.read_csv(path+'\\\\titanic_train.csv')\n",
    "test=pd.read_csv(path+'\\\\titanic_test.csv')"
   ]
  },
  {
   "cell_type": "code",
   "execution_count": 64,
   "metadata": {},
   "outputs": [],
   "source": [
    "## train / test data  전처리\n",
    "trainData=train.copy()\n",
    "#trainData.isnull().sum()\n",
    "trainData.drop(['PassengerId'],axis=1,inplace=True)\n",
    "trainData.drop(['Name'],axis=1,inplace=True)\n",
    "trainData.drop(['Ticket'],axis=1,inplace=True)\n",
    "trainData.drop(['Cabin'],axis=1,inplace=True)\n",
    "trainData.drop(['Age'],axis=1,inplace=True)"
   ]
  },
  {
   "cell_type": "code",
   "execution_count": 65,
   "metadata": {},
   "outputs": [],
   "source": [
    "# sex, Embarked 수정\n",
    "trainData['Sex_cat']=trainData['Sex'].map({'male':1,'female':0})\n",
    "trainData.drop('Sex',axis=1,inplace=True)\n",
    "trainData['Embarked_cat']=trainData['Embarked'].map({'S':1,'C':2, 'Q':3})\n",
    "trainData.drop('Embarked',axis=1,inplace=True)\n",
    "trainData['Embarked_cat']=trainData['Embarked_cat'].fillna(0)"
   ]
  },
  {
   "cell_type": "code",
   "execution_count": 66,
   "metadata": {},
   "outputs": [
    {
     "name": "stdout",
     "output_type": "stream",
     "text": [
      "<class 'pandas.core.frame.DataFrame'>\n",
      "RangeIndex: 891 entries, 0 to 890\n",
      "Data columns (total 7 columns):\n",
      "Survived        891 non-null int64\n",
      "Pclass          891 non-null int64\n",
      "SibSp           891 non-null int64\n",
      "Parch           891 non-null int64\n",
      "Fare            891 non-null float64\n",
      "Sex_cat         891 non-null int64\n",
      "Embarked_cat    891 non-null float64\n",
      "dtypes: float64(2), int64(5)\n",
      "memory usage: 48.9 KB\n"
     ]
    }
   ],
   "source": [
    "trainData.info()"
   ]
  },
  {
   "cell_type": "code",
   "execution_count": null,
   "metadata": {},
   "outputs": [],
   "source": []
  },
  {
   "cell_type": "code",
   "execution_count": 67,
   "metadata": {},
   "outputs": [],
   "source": [
    "## model 생성\n",
    "# 입력변수\n",
    "dropSurvived=trainData.drop('Survived',axis=1)\n",
    "# 출력변수\n",
    "label=trainData['Survived']"
   ]
  },
  {
   "cell_type": "code",
   "execution_count": 68,
   "metadata": {},
   "outputs": [],
   "source": [
    "# train_test_split(입력변수, 출력변수, 사이즈, 랜덤)\n",
    "xtrain, xtest,ytrain,ytest=train_test_split(dropSurvived,label,train_size=0.7,random_state=42)"
   ]
  },
  {
   "cell_type": "code",
   "execution_count": null,
   "metadata": {},
   "outputs": [],
   "source": []
  },
  {
   "cell_type": "code",
   "execution_count": 57,
   "metadata": {},
   "outputs": [
    {
     "name": "stdout",
     "output_type": "stream",
     "text": [
      "dt training score :  0.7849117174959872\n",
      "dt test score :  0.7910447761194029\n"
     ]
    }
   ],
   "source": []
  },
  {
   "cell_type": "code",
   "execution_count": 61,
   "metadata": {},
   "outputs": [
    {
     "name": "stdout",
     "output_type": "stream",
     "text": [
      "dt train score: 0, dt test score: 0, depth: 8 \n",
      "\n"
     ]
    }
   ],
   "source": [
    "# depth=[2,3,4,5,6,7,8]\n",
    "# highest_test=0\n",
    "# highest_depth=0\n",
    "# highest_train=0\n",
    "\n",
    "# for i in range(2,9):\n",
    "#     dt=tree.DecisionTreeClassifier(max_depth=i).fit(xtrain,ytrain)\n",
    "#     dt_sc_train=dt.score(xtrain, ytrain)\n",
    "#     dt_sc_test=dt.score(xtest, ytest)\n",
    "    \n",
    "#     if dt_sc_test>=highest_test:\n",
    "#         dt_sc_test=highest_test\n",
    "#         dt_sc_train=highest_train\n",
    "#         highest_depth=i\n",
    "# print('dt train score: {}, dt test score: {}, depth: {} \\n'.format(highest_train, highest_test,highest_depth))            \n",
    "   "
   ]
  },
  {
   "cell_type": "code",
   "execution_count": null,
   "metadata": {},
   "outputs": [],
   "source": []
  },
  {
   "cell_type": "code",
   "execution_count": null,
   "metadata": {},
   "outputs": [],
   "source": []
  },
  {
   "cell_type": "code",
   "execution_count": 77,
   "metadata": {},
   "outputs": [
    {
     "name": "stdout",
     "output_type": "stream",
     "text": [
      "dt2 training score :  0.7929373996789727\n",
      "dt2 test score :  0.7723880597014925\n"
     ]
    }
   ],
   "source": [
    "## depth=2\n",
    "dt2=tree.DecisionTreeClassifier(max_depth=2)\n",
    "dt2.fit(xtrain,ytrain)\n",
    "dt2_sc_train=dt2.score(xtrain, ytrain)\n",
    "dt2_sc_test=dt2.score(xtest, ytest)\n",
    "print('dt2 training score : ',dt2_sc_train)\n",
    "print('dt2 test score : ',dt2_sc_test)"
   ]
  },
  {
   "cell_type": "code",
   "execution_count": null,
   "metadata": {},
   "outputs": [],
   "source": []
  },
  {
   "cell_type": "code",
   "execution_count": 82,
   "metadata": {},
   "outputs": [
    {
     "name": "stdout",
     "output_type": "stream",
     "text": [
      "dt5 training score :  0.8459069020866774\n",
      "dt5 test score :  0.7649253731343284\n"
     ]
    }
   ],
   "source": [
    "## depth=5\n",
    "dt5=tree.DecisionTreeClassifier(max_depth=5)\n",
    "dt5.fit(xtrain,ytrain)\n",
    "dt5_sc_train=dt5.score(xtrain, ytrain)\n",
    "dt5_sc_test=dt5.score(xtest, ytest)\n",
    "print('dt5 training score : ',dt5_sc_train)\n",
    "print('dt5 test score : ',dt5_sc_test)"
   ]
  },
  {
   "cell_type": "code",
   "execution_count": null,
   "metadata": {},
   "outputs": [],
   "source": []
  },
  {
   "cell_type": "code",
   "execution_count": 79,
   "metadata": {},
   "outputs": [
    {
     "name": "stdout",
     "output_type": "stream",
     "text": [
      "dt7 training score :  0.8892455858747994\n",
      "dt7 test score :  0.8283582089552238\n"
     ]
    }
   ],
   "source": [
    "## depth=7\n",
    "dt7=tree.DecisionTreeClassifier(max_depth=7)\n",
    "dt7.fit(xtrain,ytrain)\n",
    "dt7_sc_train=dt7.score(xtrain, ytrain)\n",
    "dt7_sc_test=dt7.score(xtest, ytest)\n",
    "print('dt7 training score : ',dt7_sc_train)\n",
    "print('dt7 test score : ',dt7_sc_test)"
   ]
  },
  {
   "cell_type": "code",
   "execution_count": null,
   "metadata": {},
   "outputs": [],
   "source": []
  },
  {
   "cell_type": "code",
   "execution_count": 80,
   "metadata": {},
   "outputs": [
    {
     "name": "stdout",
     "output_type": "stream",
     "text": [
      "dt8 training score :  0.898876404494382\n",
      "dt8 test score :  0.8097014925373134\n"
     ]
    }
   ],
   "source": [
    "## depth=8\n",
    "dt8=tree.DecisionTreeClassifier(max_depth=8)\n",
    "dt8.fit(xtrain,ytrain)\n",
    "dt8_sc_train=dt8.score(xtrain, ytrain)\n",
    "dt8_sc_test=dt8.score(xtest, ytest)\n",
    "print('dt8 training score : ',dt8_sc_train)\n",
    "print('dt8 test score : ',dt8_sc_test)"
   ]
  },
  {
   "cell_type": "code",
   "execution_count": null,
   "metadata": {},
   "outputs": [],
   "source": []
  },
  {
   "cell_type": "code",
   "execution_count": 81,
   "metadata": {},
   "outputs": [
    {
     "name": "stdout",
     "output_type": "stream",
     "text": [
      "dt9 training score :  0.9197431781701445\n",
      "dt9 test score :  0.7985074626865671\n"
     ]
    }
   ],
   "source": [
    "## depth=9\n",
    "dt9=tree.DecisionTreeClassifier(max_depth=9)\n",
    "dt9.fit(xtrain,ytrain)\n",
    "dt9_sc_train=dt9.score(xtrain, ytrain)\n",
    "dt9_sc_test=dt9.score(xtest, ytest)\n",
    "print('dt9 training score : ',dt9_sc_train)\n",
    "print('dt9 test score : ',dt9_sc_test)"
   ]
  },
  {
   "cell_type": "code",
   "execution_count": null,
   "metadata": {},
   "outputs": [],
   "source": []
  },
  {
   "cell_type": "code",
   "execution_count": null,
   "metadata": {},
   "outputs": [],
   "source": []
  },
  {
   "cell_type": "code",
   "execution_count": null,
   "metadata": {},
   "outputs": [],
   "source": []
  },
  {
   "cell_type": "code",
   "execution_count": null,
   "metadata": {},
   "outputs": [],
   "source": []
  },
  {
   "cell_type": "code",
   "execution_count": null,
   "metadata": {},
   "outputs": [],
   "source": []
  },
  {
   "cell_type": "code",
   "execution_count": null,
   "metadata": {},
   "outputs": [],
   "source": []
  },
  {
   "cell_type": "code",
   "execution_count": null,
   "metadata": {},
   "outputs": [],
   "source": []
  }
 ],
 "metadata": {
  "kernelspec": {
   "display_name": "Python 3",
   "language": "python",
   "name": "python3"
  },
  "language_info": {
   "codemirror_mode": {
    "name": "ipython",
    "version": 3
   },
   "file_extension": ".py",
   "mimetype": "text/x-python",
   "name": "python",
   "nbconvert_exporter": "python",
   "pygments_lexer": "ipython3",
   "version": "3.7.4"
  }
 },
 "nbformat": 4,
 "nbformat_minor": 2
}
