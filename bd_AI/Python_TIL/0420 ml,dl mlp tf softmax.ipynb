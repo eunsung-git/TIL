{
 "cells": [
  {
   "cell_type": "code",
   "execution_count": 1,
   "metadata": {},
   "outputs": [],
   "source": [
    "import numpy as np"
   ]
  },
  {
   "cell_type": "code",
   "execution_count": 56,
   "metadata": {},
   "outputs": [],
   "source": [
    "x=[2,4,6,8]\n",
    "y=[81,93,91,97]\n",
    "\n",
    "mx=np.mean(x)\n",
    "my=np.mean(y)"
   ]
  },
  {
   "cell_type": "code",
   "execution_count": 3,
   "metadata": {},
   "outputs": [
    {
     "data": {
      "text/plain": [
       "20.0"
      ]
     },
     "execution_count": 3,
     "metadata": {},
     "output_type": "execute_result"
    }
   ],
   "source": [
    "# 기울기 분모\n",
    "divisor=sum([(mx-i)**2 for i in x])\n",
    "divisor"
   ]
  },
  {
   "cell_type": "code",
   "execution_count": 5,
   "metadata": {},
   "outputs": [
    {
     "name": "stdout",
     "output_type": "stream",
     "text": [
      "분모:  20.0\n",
      "분자:  46.0\n"
     ]
    }
   ],
   "source": [
    "# 기울기 분자\n",
    "def top(x,mx,y,my):\n",
    "    d=0\n",
    "    for i in range(len(x)):\n",
    "        d+=(x[i]-mx)*(y[i]-my)\n",
    "    return d\n",
    "dividend=top(x, mx,y ,my)\n",
    "\n",
    "print('분모: ', divisor)\n",
    "print('분자: ', dividend)"
   ]
  },
  {
   "cell_type": "code",
   "execution_count": 6,
   "metadata": {},
   "outputs": [
    {
     "data": {
      "text/plain": [
       "2.3"
      ]
     },
     "execution_count": 6,
     "metadata": {},
     "output_type": "execute_result"
    }
   ],
   "source": [
    "# 기울기\n",
    "w=dividend/divisor\n",
    "w"
   ]
  },
  {
   "cell_type": "code",
   "execution_count": 7,
   "metadata": {},
   "outputs": [
    {
     "data": {
      "text/plain": [
       "79.0"
      ]
     },
     "execution_count": 7,
     "metadata": {},
     "output_type": "execute_result"
    }
   ],
   "source": [
    "#  ==\n",
    "b=my-(mx*w)\n",
    "b"
   ]
  },
  {
   "cell_type": "code",
   "execution_count": null,
   "metadata": {},
   "outputs": [],
   "source": [
    "# y=2.3x+79"
   ]
  },
  {
   "cell_type": "code",
   "execution_count": null,
   "metadata": {},
   "outputs": [],
   "source": []
  },
  {
   "cell_type": "code",
   "execution_count": null,
   "metadata": {},
   "outputs": [],
   "source": []
  },
  {
   "cell_type": "code",
   "execution_count": null,
   "metadata": {},
   "outputs": [],
   "source": [
    "# 다중선형회귀"
   ]
  },
  {
   "cell_type": "code",
   "execution_count": 38,
   "metadata": {},
   "outputs": [],
   "source": [
    "# MSE (평균제곱오차) \n",
    "# RMSE\n",
    "data=[[2,0,81],[4,4,93],[6,2,91],[8,3,97]]\n",
    "#wb=[2.3, 79]\n",
    "\n",
    "x1 = [i[0] for i in data]\n",
    "x2 = [i[1] for i in data]\n",
    "y = [i[2] for i in data]"
   ]
  },
  {
   "cell_type": "code",
   "execution_count": 37,
   "metadata": {},
   "outputs": [],
   "source": [
    "def predict(x):\n",
    "    return wb[0]*x+wb[1]"
   ]
  },
  {
   "cell_type": "code",
   "execution_count": 39,
   "metadata": {},
   "outputs": [
    {
     "name": "stdout",
     "output_type": "stream",
     "text": [
      "공부시간=2, 과외시간=81, 실제점수=84\n",
      "공부시간=4, 과외시간=93, 실제점수=88\n",
      "공부시간=6, 과외시간=91, 실제점수=93\n",
      "공부시간=8, 과외시간=97, 실제점수=97\n"
     ]
    }
   ],
   "source": [
    "pred_list=[]\n",
    "for i in range(len(x)):\n",
    "    pred_list.append(predict(x[i]))\n",
    "    print('공부시간=%.f, 과외시간=%.f, 실제점수=%.f' % (x[i],y[i],predict(x[i])))    "
   ]
  },
  {
   "cell_type": "code",
   "execution_count": 40,
   "metadata": {},
   "outputs": [],
   "source": [
    "def rmse(p,a):\n",
    "    return np.sqrt(((p-a)**2).mean())"
   ]
  },
  {
   "cell_type": "code",
   "execution_count": 41,
   "metadata": {},
   "outputs": [
    {
     "name": "stdout",
     "output_type": "stream",
     "text": [
      "rmse : 2.880972058177584\n"
     ]
    }
   ],
   "source": [
    "print(\"rmse : \"+ str(rmse(np.array(pred_list), np.array(y))))"
   ]
  },
  {
   "cell_type": "code",
   "execution_count": null,
   "metadata": {},
   "outputs": [],
   "source": []
  },
  {
   "cell_type": "code",
   "execution_count": null,
   "metadata": {},
   "outputs": [],
   "source": []
  },
  {
   "cell_type": "code",
   "execution_count": 53,
   "metadata": {},
   "outputs": [],
   "source": [
    "import tensorflow as tf"
   ]
  },
  {
   "cell_type": "code",
   "execution_count": 57,
   "metadata": {},
   "outputs": [],
   "source": [
    "w1 = tf.Variable(tf.random_normal([1],0,10,dtype=tf.float32, seed=0))\n",
    "w2 = tf.Variable(tf.random_normal([1],0,10,dtype=tf.float32, seed=0))\n",
    "b = tf.Variable(tf.random_normal([1],0,100,dtype=tf.float32, seed=0))"
   ]
  },
  {
   "cell_type": "code",
   "execution_count": 58,
   "metadata": {},
   "outputs": [],
   "source": [
    "hf = w1*x1+w2*x2+b\n",
    "rmse = tf.sqrt(tf.reduce_mean(tf.square(hf-y)))\n",
    "lr=0.1"
   ]
  },
  {
   "cell_type": "code",
   "execution_count": 59,
   "metadata": {},
   "outputs": [],
   "source": [
    "train = tf.train.GradientDescentOptimizer(lr).minimize(rmse)"
   ]
  },
  {
   "cell_type": "code",
   "execution_count": 60,
   "metadata": {},
   "outputs": [
    {
     "name": "stdout",
     "output_type": "stream",
     "text": [
      "rmse =  157.1025, w1 = -3.4711, w2 = -3.7536, y절편 = -39.8165\n",
      "rmse =  38.3175, w1 = 15.5062, w2 = 6.7151, y절편 = -17.2144\n",
      "rmse =  30.3843, w1 = 12.5031, w2 = 6.0286, y절편 = 2.4616\n",
      "rmse =  22.4538, w1 = 9.6164, w2 = 5.0839, y절편 = 22.1414\n",
      "rmse =  14.5243, w1 = 6.7485, w2 = 4.0978, y절편 = 41.8210\n",
      "rmse =  6.5989, w1 = 3.8830, w2 = 3.1085, y절편 = 61.4953\n",
      "rmse =  1.8368, w1 = 1.8749, w2 = 2.4440, y절편 = 77.1553\n",
      "rmse =  1.8370, w1 = 1.7713, w2 = 2.4087, y절편 = 77.8928\n",
      "rmse =  1.8369, w1 = 1.7699, w2 = 2.4082, y절편 = 77.9022\n",
      "rmse =  1.8369, w1 = 1.7699, w2 = 2.4082, y절편 = 77.9022\n",
      "rmse =  1.8369, w1 = 1.7699, w2 = 2.4082, y절편 = 77.9022\n"
     ]
    }
   ],
   "source": [
    "with tf.Session() as session:\n",
    "    session.run(tf.global_variables_initializer())\n",
    "    for step in range(5001):\n",
    "        session.run(train)\n",
    "        if step%00==0:\n",
    "            print('rmse =  %.4f, w1 = %.4f, w2 = %.4f, y절편 = %.4f' % (session.run(rmse),session.run(w1),session.run(w2),session.run(b)) )"
   ]
  },
  {
   "cell_type": "code",
   "execution_count": null,
   "metadata": {},
   "outputs": [],
   "source": []
  },
  {
   "cell_type": "code",
   "execution_count": null,
   "metadata": {},
   "outputs": [],
   "source": []
  },
  {
   "cell_type": "code",
   "execution_count": null,
   "metadata": {},
   "outputs": [],
   "source": [
    "# 로지스틱회귀"
   ]
  },
  {
   "cell_type": "code",
   "execution_count": null,
   "metadata": {},
   "outputs": [],
   "source": [
    "data = [[2,0],[4,0],[6,0],[8,1],[10,1],[12,1],[14,1]]\n",
    "xdata =[i[0] for i in data]\n",
    "ydata =[i[1] for i in data]"
   ]
  },
  {
   "cell_type": "code",
   "execution_count": null,
   "metadata": {},
   "outputs": [],
   "source": [
    "w = tf.Variable(tf.random_normal([1]),dtype=tf.float32, seed=0)\n",
    "b = tf.Variable(tf.random_normal([1]),dtype=tf.float32, seed=0)"
   ]
  },
  {
   "cell_type": "code",
   "execution_count": null,
   "metadata": {},
   "outputs": [],
   "source": [
    "hf = 1 / (1+np.e**(w*xdata+b))\n",
    "cost = -tf.reduce_mean(np.array(ydata)*tf.log(hf)+(1-np.array(ydata))*tf.log(1-hf))"
   ]
  },
  {
   "cell_type": "code",
   "execution_count": null,
   "metadata": {},
   "outputs": [],
   "source": []
  },
  {
   "cell_type": "code",
   "execution_count": null,
   "metadata": {},
   "outputs": [],
   "source": []
  },
  {
   "cell_type": "code",
   "execution_count": null,
   "metadata": {},
   "outputs": [],
   "source": []
  },
  {
   "cell_type": "code",
   "execution_count": null,
   "metadata": {},
   "outputs": [],
   "source": [
    "#multi label classification"
   ]
  },
  {
   "cell_type": "code",
   "execution_count": 71,
   "metadata": {},
   "outputs": [],
   "source": [
    "xdata = [[1, 2, 1, 1],\n",
    "          [2, 1, 3, 2],\n",
    "          [3, 1, 3, 4],\n",
    "          [4, 1, 5, 5],\n",
    "          [1, 7, 5, 5],\n",
    "          [1, 2, 5, 6],\n",
    "          [1, 6, 6, 6],\n",
    "          [1, 7, 7, 7]]\n",
    "ydata = [[0, 0, 1],\n",
    "          [0, 0, 1],\n",
    "          [0, 0, 1],\n",
    "          [0, 1, 0],\n",
    "          [0, 1, 0],\n",
    "          [0, 1, 0],\n",
    "          [1, 0, 0],\n",
    "          [1, 0, 0]]"
   ]
  },
  {
   "cell_type": "code",
   "execution_count": 64,
   "metadata": {},
   "outputs": [],
   "source": [
    "x=tf.placeholder(\"float\", [None, 4])\n",
    "y=tf.placeholder(\"float\", [None, 3])\n",
    "\n",
    "#3:분류기의 개수(분류 결과 종류의 가지수)\n",
    "nb_classes=3\n",
    "\n",
    "w=tf.Variable(tf.random_normal([4,nb_classes]))\n",
    "b=tf.Variable(tf.random_normal([nb_classes]))\n",
    "\n",
    "#hf=xw+b\n",
    "hf=tf.nn.softmax(tf.matmul(x,w)+b)"
   ]
  },
  {
   "cell_type": "code",
   "execution_count": 65,
   "metadata": {},
   "outputs": [],
   "source": [
    "cost =  tf.reduce_mean(-tf.reduce_sum(y*tf.log(hf),axis=1))\n",
    "train=tf.train.GradientDescentOptimizer(0.1).minimize(cost)"
   ]
  },
  {
   "cell_type": "code",
   "execution_count": 66,
   "metadata": {},
   "outputs": [
    {
     "name": "stdout",
     "output_type": "stream",
     "text": [
      "0 9.14563\n",
      "200 0.5326166\n",
      "400 0.42966056\n",
      "600 0.35101944\n",
      "800 0.27597964\n",
      "1000 0.23386501\n",
      "1200 0.21169451\n",
      "1400 0.19332153\n",
      "1600 0.17782182\n",
      "1800 0.1645652\n",
      "2000 0.15309936\n"
     ]
    }
   ],
   "source": [
    "with  tf.Session() as session:\n",
    "    session.run(tf.global_variables_initializer())\n",
    "    for step in range(2001):\n",
    "        _,cv = session.run([train,cost],feed_dict={x:xdata,y:ydata})\n",
    "        if step%200==0:\n",
    "            print(step, cv)"
   ]
  },
  {
   "cell_type": "code",
   "execution_count": 70,
   "metadata": {},
   "outputs": [
    {
     "name": "stdout",
     "output_type": "stream",
     "text": [
      "분류결과 : 1\n",
      "분류결과 : 1\n",
      "분류결과 : 1\n",
      "분류결과 : 1\n",
      "분류결과 : 1\n",
      "분류결과 : 1\n",
      "분류결과 : 1\n",
      "분류결과 : 1\n",
      "분류결과 : 1\n",
      "분류결과 : 1\n",
      "분류결과 : 1\n"
     ]
    }
   ],
   "source": [
    "with  tf.Session() as session:\n",
    "    session.run(tf.global_variables_initializer())\n",
    "    for step in range(2001):\n",
    "        res = session.run(hf, feed_dict={x:[[1,11,7,9]]})\n",
    "        if step%200==0:\n",
    "            print('분류결과 : '+str(session.run(tf.argmax(res,1))[0]))"
   ]
  },
  {
   "cell_type": "code",
   "execution_count": null,
   "metadata": {},
   "outputs": [],
   "source": []
  },
  {
   "cell_type": "code",
   "execution_count": null,
   "metadata": {},
   "outputs": [],
   "source": []
  }
 ],
 "metadata": {
  "kernelspec": {
   "display_name": "Python 3",
   "language": "python",
   "name": "python3"
  },
  "language_info": {
   "codemirror_mode": {
    "name": "ipython",
    "version": 3
   },
   "file_extension": ".py",
   "mimetype": "text/x-python",
   "name": "python",
   "nbconvert_exporter": "python",
   "pygments_lexer": "ipython3",
   "version": "3.7.4"
  }
 },
 "nbformat": 4,
 "nbformat_minor": 2
}
