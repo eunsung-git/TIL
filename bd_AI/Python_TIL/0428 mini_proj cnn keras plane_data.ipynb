{
 "cells": [
  {
   "cell_type": "code",
   "execution_count": null,
   "metadata": {},
   "outputs": [],
   "source": [
    "### cnn keras planesnet"
   ]
  },
  {
   "cell_type": "code",
   "execution_count": 33,
   "metadata": {},
   "outputs": [],
   "source": [
    "import tensorflow as tf\n",
    "from tensorflow import keras\n",
    "from keras.models import Sequential\n",
    "from keras.layers import *\n",
    "from keras.preprocessing.image import *\n",
    "from keras.callbacks import EarlyStopping, ReduceLROnPlateau\n",
    "from sklearn.model_selection import train_test_split\n",
    "import numpy as np\n",
    "import pandas as pd\n",
    "import os"
   ]
  },
  {
   "cell_type": "code",
   "execution_count": 53,
   "metadata": {},
   "outputs": [],
   "source": [
    "planes = os.listdir('C:\\\\Users\\\\student\\\\Desktop\\\\dataset\\\\python\\\\planesnet')"
   ]
  },
  {
   "cell_type": "code",
   "execution_count": 56,
   "metadata": {},
   "outputs": [],
   "source": [
    "categories = []\n",
    "for name in planes:\n",
    "    category = name.split('__')[0]\n",
    "    if category == '0':\n",
    "        categories.append('X')\n",
    "    else:\n",
    "        categories.append('O')\n",
    "        \n",
    "df = pd.DataFrame({'filename': planes, 'label':categories})"
   ]
  },
  {
   "cell_type": "code",
   "execution_count": 57,
   "metadata": {},
   "outputs": [
    {
     "data": {
      "text/html": [
       "<div>\n",
       "<style scoped>\n",
       "    .dataframe tbody tr th:only-of-type {\n",
       "        vertical-align: middle;\n",
       "    }\n",
       "\n",
       "    .dataframe tbody tr th {\n",
       "        vertical-align: top;\n",
       "    }\n",
       "\n",
       "    .dataframe thead th {\n",
       "        text-align: right;\n",
       "    }\n",
       "</style>\n",
       "<table border=\"1\" class=\"dataframe\">\n",
       "  <thead>\n",
       "    <tr style=\"text-align: right;\">\n",
       "      <th></th>\n",
       "      <th>filename</th>\n",
       "      <th>label</th>\n",
       "    </tr>\n",
       "  </thead>\n",
       "  <tbody>\n",
       "    <tr>\n",
       "      <td>0</td>\n",
       "      <td>0__20140723_181317_0905__-122.073653222_37.709...</td>\n",
       "      <td>X</td>\n",
       "    </tr>\n",
       "    <tr>\n",
       "      <td>1</td>\n",
       "      <td>0__20140723_181317_0905__-122.083122783_37.722...</td>\n",
       "      <td>X</td>\n",
       "    </tr>\n",
       "    <tr>\n",
       "      <td>2</td>\n",
       "      <td>0__20140723_181317_0905__-122.105473207_37.672...</td>\n",
       "      <td>X</td>\n",
       "    </tr>\n",
       "  </tbody>\n",
       "</table>\n",
       "</div>"
      ],
      "text/plain": [
       "                                            filename label\n",
       "0  0__20140723_181317_0905__-122.073653222_37.709...     X\n",
       "1  0__20140723_181317_0905__-122.083122783_37.722...     X\n",
       "2  0__20140723_181317_0905__-122.105473207_37.672...     X"
      ]
     },
     "execution_count": 57,
     "metadata": {},
     "output_type": "execute_result"
    }
   ],
   "source": [
    "df.head(3)"
   ]
  },
  {
   "cell_type": "code",
   "execution_count": 58,
   "metadata": {},
   "outputs": [
    {
     "data": {
      "text/plain": [
       "X    24000\n",
       "O     8000\n",
       "Name: label, dtype: int64"
      ]
     },
     "execution_count": 58,
     "metadata": {},
     "output_type": "execute_result"
    }
   ],
   "source": [
    "df.label.value_counts()"
   ]
  },
  {
   "cell_type": "code",
   "execution_count": 59,
   "metadata": {},
   "outputs": [],
   "source": [
    "train_df, test_df = train_test_split(df, test_size=0.25, random_state=42)"
   ]
  },
  {
   "cell_type": "code",
   "execution_count": 69,
   "metadata": {},
   "outputs": [
    {
     "name": "stdout",
     "output_type": "stream",
     "text": [
      "Found 24000 validated image filenames belonging to 2 classes.\n",
      "Found 8000 validated image filenames belonging to 2 classes.\n"
     ]
    }
   ],
   "source": [
    "# generator\n",
    "idg = ImageDataGenerator(rescale=1./255)\n",
    "train_idg = idg.flow_from_dataframe(train_df, 'C:\\\\Users\\\\student\\\\Desktop\\\\dataset\\\\python\\\\planesnet',\n",
    "                                              x_col='filename', y_col='label', class_mode='binary', \n",
    "                                              target_size=(20,20), batch_size=200)\n",
    "test_idg = idg.flow_from_dataframe(test_df, 'C:\\\\Users\\\\student\\\\Desktop\\\\dataset\\\\python\\\\planesnet',\n",
    "                                              x_col='filename', y_col='label', class_mode='binary', \n",
    "                                              target_size=(20,20), batch_size=200)"
   ]
  },
  {
   "cell_type": "code",
   "execution_count": null,
   "metadata": {},
   "outputs": [],
   "source": []
  },
  {
   "cell_type": "code",
   "execution_count": 73,
   "metadata": {},
   "outputs": [],
   "source": [
    "model = Sequential()\n",
    "model.add(Conv2D(32, (3,3),input_shape=(20,20,3), activation='relu'))\n",
    "model.add(MaxPooling2D(pool_size=(2,2)))\n",
    "model.add(Dropout(0.3))\n",
    "\n",
    "model.add(Conv2D(64, (3,3), activation='relu'))\n",
    "model.add(MaxPooling2D(pool_size=(2,2)))\n",
    "model.add(Dropout(0.3))\n",
    "\n",
    "model.add(Flatten())\n",
    "model.add(Dense(128, activation='relu'))\n",
    "\n",
    "model.add(Dense(1, activation='sigmoid'))"
   ]
  },
  {
   "cell_type": "code",
   "execution_count": 74,
   "metadata": {},
   "outputs": [],
   "source": [
    "model.compile(loss='binary_crossentropy', optimizer='adam', metrics=['accuracy'])"
   ]
  },
  {
   "cell_type": "code",
   "execution_count": 75,
   "metadata": {},
   "outputs": [
    {
     "name": "stdout",
     "output_type": "stream",
     "text": [
      "Epoch 1/5\n",
      "110/110 [==============================] - 428s 4s/step - loss: 0.5351 - accuracy: 0.7594 - val_loss: 0.3374 - val_accuracy: 0.8799\n",
      "Epoch 2/5\n",
      "110/110 [==============================] - 13s 117ms/step - loss: 0.2978 - accuracy: 0.8758 - val_loss: 0.1894 - val_accuracy: 0.9239\n",
      "Epoch 3/5\n",
      "110/110 [==============================] - 12s 114ms/step - loss: 0.2085 - accuracy: 0.9169 - val_loss: 0.1958 - val_accuracy: 0.9463\n",
      "Epoch 4/5\n",
      "110/110 [==============================] - 47s 429ms/step - loss: 0.1618 - accuracy: 0.9385 - val_loss: 0.1620 - val_accuracy: 0.9520\n",
      "Epoch 5/5\n",
      "110/110 [==============================] - 267s 2s/step - loss: 0.1611 - accuracy: 0.9386 - val_loss: 0.0773 - val_accuracy: 0.9549\n"
     ]
    },
    {
     "data": {
      "text/plain": [
       "<keras.callbacks.callbacks.History at 0x1f8db7ac308>"
      ]
     },
     "execution_count": 75,
     "metadata": {},
     "output_type": "execute_result"
    }
   ],
   "source": [
    "model.fit_generator(train_idg, epochs=5, steps_per_epoch=110, validation_data=test_idg, validation_steps=40)"
   ]
  },
  {
   "cell_type": "code",
   "execution_count": 76,
   "metadata": {},
   "outputs": [
    {
     "data": {
      "text/plain": [
       "0.9548749923706055"
      ]
     },
     "execution_count": 76,
     "metadata": {},
     "output_type": "execute_result"
    }
   ],
   "source": [
    "model.evaluate_generator(test_idg)[1]"
   ]
  },
  {
   "cell_type": "code",
   "execution_count": 29,
   "metadata": {},
   "outputs": [],
   "source": []
  },
  {
   "cell_type": "code",
   "execution_count": 32,
   "metadata": {},
   "outputs": [],
   "source": []
  },
  {
   "cell_type": "code",
   "execution_count": null,
   "metadata": {},
   "outputs": [],
   "source": []
  }
 ],
 "metadata": {
  "kernelspec": {
   "display_name": "Python 3",
   "language": "python",
   "name": "python3"
  },
  "language_info": {
   "codemirror_mode": {
    "name": "ipython",
    "version": 3
   },
   "file_extension": ".py",
   "mimetype": "text/x-python",
   "name": "python",
   "nbconvert_exporter": "python",
   "pygments_lexer": "ipython3",
   "version": "3.7.4"
  }
 },
 "nbformat": 4,
 "nbformat_minor": 2
}
