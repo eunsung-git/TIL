{
 "cells": [
  {
   "cell_type": "code",
   "execution_count": 196,
   "metadata": {},
   "outputs": [],
   "source": [
    "import pandas as pd\n",
    "import numpy as np\n",
    "\n",
    "from math import sqrt\n",
    "\n",
    "import matplotlib.pyplot as plt"
   ]
  },
  {
   "cell_type": "code",
   "execution_count": 208,
   "metadata": {},
   "outputs": [],
   "source": [
    "path=r'C:\\\\Users\\\\student\\\\Desktop\\\\공부\\\\멀캠TIL\\\\dataset\\\\python\\\\movielens'\n",
    "\n",
    "ratings=pd.read_csv(path+'\\\\ratings.csv')\n",
    "movies=pd.read_csv(path+'\\\\movies.csv')\n",
    "\n",
    "# ratings 데이터를 userId가 인덱스로 movieId가 컬럼으로 가도록 재구성\n",
    "data=pd.pivot_table(ratings, 'rating', 'userId', 'movieId')\n",
    "\n",
    "# NaN 값을 -1로 변경\n",
    "data.fillna(-1, inplace=True)"
   ]
  },
  {
   "cell_type": "code",
   "execution_count": 203,
   "metadata": {},
   "outputs": [],
   "source": [
    "## 상관 계수를 이용해 추천 영화 및 예상 평점 출력\n",
    "\n",
    "def sim_pearson(data, n1, n2):\n",
    "    sumX=0\n",
    "    sumY=0\n",
    "    sumSqX=0\n",
    "    sumSqY=0\n",
    "    sumXY=0\n",
    "    cnt=0\n",
    "\n",
    "    for i in data.loc[n1, data.loc[n1, :]>=0].index:\n",
    "        if data.loc[n2, i]>=0:\n",
    "            sumX+=data.loc[n1, i]\n",
    "            sumY+=data.loc[n2, i]\n",
    "            sumSqX+=pow(data.loc[n1, i], 2)\n",
    "            sumSqY+=pow(data.loc[n2, i], 2)\n",
    "            sumXY+=(data.loc[n1, i] * data.loc[n2, i])\n",
    "            cnt+=1\n",
    "            \n",
    "    if cnt != 0:\n",
    "        return (sumXY-((sumX*sumY)/cnt)) / sqrt(((sumSqX-(pow(sumX, 2)/cnt)) * (sumSqY-(pow(sumY, 2)/cnt)))+1e-7)"
   ]
  },
  {
   "cell_type": "code",
   "execution_count": 204,
   "metadata": {},
   "outputs": [],
   "source": [
    "def top_match(data, name, rank=2, simf=sim_pearson):\n",
    "    simList=[]\n",
    "    for i in data.index:\n",
    "        if name != i:\n",
    "            if simf(data, name, i) is not None:\n",
    "                simList.append((simf(data, name, i), i))\n",
    "    simList.sort()\n",
    "    simList.reverse()\n",
    "    \n",
    "    return simList[:rank]"
   ]
  },
  {
   "cell_type": "code",
   "execution_count": 205,
   "metadata": {},
   "outputs": [],
   "source": [
    "def recommendation(data, person, simf=sim_pearson):\n",
    "    res=top_match(data, person, len(data))\n",
    "    score_dic={}\n",
    "    sim_dic={}\n",
    "    myList=[]\n",
    "    for sim, name in res:\n",
    "        if sim<0:\n",
    "            continue\n",
    "        for movie in data.loc[person, data.loc[person, :]<0].index:\n",
    "            simSum=0\n",
    "            if data.loc[name, movie]>=0:\n",
    "                simSum+=sim * data.loc[name, movie]\n",
    "                \n",
    "                score_dic.setdefault(movie, 0)\n",
    "                score_dic[movie]+=simSum\n",
    "                \n",
    "                sim_dic.setdefault(movie, 0)\n",
    "                sim_dic[movie]+=sim\n",
    "                \n",
    "    for key in score_dic:\n",
    "        myList.append((score_dic[key] / (sim_dic[key]+1e-7), key))\n",
    "    myList.sort()\n",
    "    myList.reverse()\n",
    "    \n",
    "    return myList"
   ]
  },
  {
   "cell_type": "code",
   "execution_count": 209,
   "metadata": {},
   "outputs": [
    {
     "data": {
      "text/plain": [
       "[(4.999999499999993, 'Convent, The (O Convento) (1995)'),\n",
       " (4.999999373183189, 'Chaperone, The (2011)'),\n",
       " (4.999999373183189, 'Color of Friendship, The (2000)'),\n",
       " (4.9999991873013885, 'Story of G.I. Joe (1945)'),\n",
       " (4.999999175543349, 'Shelter (2007)'),\n",
       " (4.999999133973823, 'Bigger Than the Sky (2005)'),\n",
       " (4.999999056103958,\n",
       "  'Investigation of a Citizen Above Suspicion (Indagine su un cittadino al di sopra di ogni sospetto) (1970)'),\n",
       " (4.999999034236146, 'Slaves of New York (1989)'),\n",
       " (4.999998922988259, 'To Have, or Not (En avoir (ou pas)) (1995)'),\n",
       " (4.999998887128813, 'Secrets of Jonathan Sperry, The (2008)')]"
      ]
     },
     "execution_count": 209,
     "metadata": {},
     "output_type": "execute_result"
    }
   ],
   "source": [
    "movieList=[]\n",
    "for r, m_id in recommendation(data, 1):\n",
    "    movieList.append((r, movies.loc[movies['movieId']==m_id, 'title'].values[0]))\n",
    "movieList[:10]"
   ]
  },
  {
   "cell_type": "code",
   "execution_count": null,
   "metadata": {},
   "outputs": [],
   "source": []
  }
 ],
 "metadata": {
  "kernelspec": {
   "display_name": "Python 3",
   "language": "python",
   "name": "python3"
  },
  "language_info": {
   "codemirror_mode": {
    "name": "ipython",
    "version": 3
   },
   "file_extension": ".py",
   "mimetype": "text/x-python",
   "name": "python",
   "nbconvert_exporter": "python",
   "pygments_lexer": "ipython3",
   "version": "3.7.4"
  }
 },
 "nbformat": 4,
 "nbformat_minor": 2
}
