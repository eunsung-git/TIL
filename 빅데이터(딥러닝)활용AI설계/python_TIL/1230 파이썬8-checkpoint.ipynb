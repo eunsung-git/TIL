{
 "cells": [
  {
   "cell_type": "code",
   "execution_count": null,
   "metadata": {},
   "outputs": [],
   "source": [
    "# 메타문자\n",
    "[] : [] 사이의 문자들과 매치 / [A-K] [0-9] [^0-9]\n",
    "ex) [ABCDE]\n",
    "A : 0\n",
    "BLUE : 0\n",
    "DRY : 0\n",
    "SKY : X\n",
    "\n",
    "\\d <=> [0-9] / \\D <=> [^0-9] \n",
    "\\w <=> [a-zA-Z0-9_] / \\W <=> [^a-zA-Z0-9_]\n",
    "\n",
    ".(dot) : 모든 문자\n",
    "a.b <=> a + 모든 문자 + b\n",
    "aab : 0\n",
    "abb : 0\n",
    "a0b : 0\n",
    "adtkorfifhkgtub\n",
    "\n",
    "* : 0번 이상 반복\n",
    "ex) ca*t \n",
    "ct : 0\n",
    "cat : 0\n",
    "caaaat : 0\n",
    "    \n",
    "+ : 1번 이상 반복\n",
    "ex) ca+t \n",
    "ct : x\n",
    "cat : 0\n",
    "caaaat : 0\n",
    "    \n",
    "{} : {} 의 숫자만큼 반드시 반복\n",
    "ex) ca{2}t <=> c + a는 반드시 2번 반복 + t\n",
    "cat : x\n",
    "caat : 0\n",
    "    \n",
    "{a,b} : a~b번 반복\n",
    "ex) ca{2,5}t <=> c + a는 2번 이상 5번 이하 + t\n",
    "cat : x\n",
    "caaat : 0\n",
    "\n",
    "ca?t <=> c + a(option) + t"
   ]
  },
  {
   "cell_type": "code",
   "execution_count": 7,
   "metadata": {},
   "outputs": [
    {
     "data": {
      "text/plain": [
       "<re.Match object; span=(0, 3), match='abb'>"
      ]
     },
     "execution_count": 7,
     "metadata": {},
     "output_type": "execute_result"
    }
   ],
   "source": [
    "import re\n",
    "re.match('a.b', 'abb')"
   ]
  },
  {
   "cell_type": "code",
   "execution_count": 16,
   "metadata": {},
   "outputs": [
    {
     "name": "stdout",
     "output_type": "stream",
     "text": [
      "<re.Match object; span=(0, 1), match='h'>\n",
      "<re.Match object; span=(0, 7), match='hellohi'>\n",
      "<re.Match object; span=(0, 7), match='hellohi'>\n",
      "<re.Match object; span=(0, 1), match='h'>\n",
      "<re.Match object; span=(0, 5), match='반가워안녕'>\n",
      "None\n",
      "<re.Match object; span=(0, 1), match='h'>\n",
      "None\n",
      "<re.Match object; span=(0, 1), match='H'>\n",
      "<re.Match object; span=(0, 3), match='123'>\n",
      "<re.Match object; span=(6, 9), match='456'>\n",
      "<re.Match object; span=(6, 9), match='456'>\n"
     ]
    }
   ],
   "source": [
    "import re\n",
    "\n",
    "print(re.match('[a-zA-Z]', 'hellohi123'))\n",
    "print(re.match('[a-zA-Z]*', 'hellohi123'))\n",
    "print(re.match('[a-zA-Z]+', 'hellohi123'))\n",
    "print(re.match('[a-zA-Z0-9]', 'hellohi123'))\n",
    "print(re.match('[가-힣]+', '반가워안녕ㅋㅋㅋㅎㅎ'))\n",
    "\n",
    "print(re.match('[^a-zA-Z]', 'hellohi123'))  # [] 안에 ^ : \n",
    "print(re.match('^[a-zA-Z]', 'hellohi123'))  # [] 밖에 ^ : 패턴문자로 시작하면 match\n",
    "print(re.match('[^A-Z]', 'Hello'))\n",
    "print(re.match('^[A-Z]', 'Hello'))\n",
    "\n",
    "\n",
    "print(re.match('^[0-9]+', '123abc456'))\n",
    "print(re.search('[0-9]+$', '123abc456'))\n"
   ]
  },
  {
   "cell_type": "code",
   "execution_count": 25,
   "metadata": {},
   "outputs": [
    {
     "name": "stdout",
     "output_type": "stream",
     "text": [
      "None\n",
      "<re.Match object; span=(1, 3), match='**'>\n",
      "<re.Match object; span=(0, 3), match='aB가'>\n",
      "<re.Match object; span=(0, 6), match='aB가_10'>\n",
      "<re.Match object; span=(0, 4), match='(#:)'>\n",
      "<re.Match object; span=(0, 1), match=' '>\n",
      "<re.Match object; span=(0, 11), match='test HI 99 '>\n"
     ]
    }
   ],
   "source": [
    "# 특수문자 앞에는 \\ 붙이기\n",
    "\n",
    "print(re.match('\\*+', '3**8'))\n",
    "print(re.search('\\*+', '3**8'))\n",
    "\n",
    "print(re.match('\\D+', 'aB가10'))   # \\D : 숫자(x)\n",
    "print(re.match('\\w+', 'aB가_10'))   # \\w : 숫자+문자+_\n",
    "\n",
    "print(re.match('\\W+', '(#:)'))      # \\W : 숫자+문자+_ (x)\n",
    "\n",
    "# \\s : 공백문자 \n",
    "print(re.match('\\s+', ' test'))\n",
    "print(re.match('[a-zA-Z0-9\\s]+', 'test HI 99 안녕'))"
   ]
  },
  {
   "cell_type": "code",
   "execution_count": 26,
   "metadata": {},
   "outputs": [
    {
     "name": "stdout",
     "output_type": "stream",
     "text": [
      "<re.Match object; span=(0, 3), match='123'>\n",
      "None\n",
      "<re.Match object; span=(0, 2), match='12'>\n"
     ]
    }
   ],
   "source": [
    "# re.compile() :  정규식 저장 => 객체(패턴) return\n",
    "\n",
    "pat = re.compile('[0-9]+')\n",
    "print(pat.match('123'))\n",
    "print(pat.match('abc'))\n",
    "print(pat.match('12가나다'))\n",
    "\n"
   ]
  },
  {
   "cell_type": "code",
   "execution_count": 28,
   "metadata": {},
   "outputs": [
    {
     "data": {
      "text/plain": [
       "'\\n정규식 작성 방법\\n1. 패턴 저장 (re.compile())\\n2. 패턴을 사용하여 문자열 검색 수행 (match, search, findall, finditer 함수)\\nmatch : 문자열 처음부터 정규식과 매치되는지 조사\\nsearch : 문자열 전체에 대해 정규식과 매치되는지 조사\\nfindall : 정규식과 매치되는 모든 문자열을 list로 리턴\\nfinditer : 정규식과 매치되는 모든 문자열을 반복가능객체로 리턴\\n\\n'"
      ]
     },
     "execution_count": 28,
     "metadata": {},
     "output_type": "execute_result"
    }
   ],
   "source": [
    "\"\"\"\n",
    "정규식 작성 방법\n",
    "1. 패턴 저장 (re.compile())\n",
    "2. 패턴을 사용하여 문자열 검색 수행 (match, search, findall, finditer 함수)\n",
    "match : 문자열 처음부터 정규식과 매치되는지 조사\n",
    "search : 문자열 전체에 대해 정규식과 매치되는지 조사\n",
    "findall : 정규식과 매치되는 모든 문자열을 list로 리턴\n",
    "finditer : 정규식과 매치되는 모든 문자열을 반복가능객체로 리턴\n",
    "\n",
    "\"\"\""
   ]
  },
  {
   "cell_type": "code",
   "execution_count": 29,
   "metadata": {},
   "outputs": [
    {
     "name": "stdout",
     "output_type": "stream",
     "text": [
      "<re.Match object; span=(0, 6), match='python'>\n"
     ]
    }
   ],
   "source": [
    "p=re.compile('[a-z]+')\n",
    "m=p.match('python')\n",
    "print(m)"
   ]
  },
  {
   "cell_type": "code",
   "execution_count": 30,
   "metadata": {},
   "outputs": [
    {
     "name": "stdout",
     "output_type": "stream",
     "text": [
      "match python\n",
      "<re.Match object; span=(0, 6), match='python'>\n"
     ]
    }
   ],
   "source": [
    "m=p.match('python')\n",
    "if m:\n",
    "    print('match', m.group())\n",
    "else :\n",
    "    print('not match')\n",
    "print(m)"
   ]
  },
  {
   "cell_type": "code",
   "execution_count": 32,
   "metadata": {},
   "outputs": [
    {
     "name": "stdout",
     "output_type": "stream",
     "text": [
      "<re.Match object; span=(0, 6), match='python'>\n",
      "<re.Match object; span=(2, 8), match='python'>\n"
     ]
    }
   ],
   "source": [
    "m=p.search('python')\n",
    "print(m)\n",
    "\n",
    "m=p.search('9 python 7 java')\n",
    "print(m)"
   ]
  },
  {
   "cell_type": "code",
   "execution_count": 42,
   "metadata": {},
   "outputs": [
    {
     "name": "stdout",
     "output_type": "stream",
     "text": [
      "['ife', 'is', 'too', 'short']\n",
      "ife\n",
      "is\n",
      "too\n",
      "short\n"
     ]
    },
    {
     "ename": "AttributeError",
     "evalue": "'str' object has no attribute 'group'",
     "output_type": "error",
     "traceback": [
      "\u001b[1;31m---------------------------------------------------------------------------\u001b[0m",
      "\u001b[1;31mAttributeError\u001b[0m                            Traceback (most recent call last)",
      "\u001b[1;32m<ipython-input-42-efc172a81973>\u001b[0m in \u001b[0;36m<module>\u001b[1;34m\u001b[0m\n\u001b[0;32m      6\u001b[0m \u001b[1;33m\u001b[0m\u001b[0m\n\u001b[0;32m      7\u001b[0m \u001b[1;32mfor\u001b[0m \u001b[0mr\u001b[0m \u001b[1;32min\u001b[0m \u001b[0mres\u001b[0m\u001b[1;33m:\u001b[0m\u001b[1;33m\u001b[0m\u001b[1;33m\u001b[0m\u001b[0m\n\u001b[1;32m----> 8\u001b[1;33m     \u001b[0mprint\u001b[0m\u001b[1;33m(\u001b[0m\u001b[0mr\u001b[0m\u001b[1;33m.\u001b[0m\u001b[0mgroup\u001b[0m\u001b[1;33m(\u001b[0m\u001b[1;33m)\u001b[0m\u001b[1;33m)\u001b[0m\u001b[1;33m\u001b[0m\u001b[1;33m\u001b[0m\u001b[0m\n\u001b[0m\u001b[0;32m      9\u001b[0m \u001b[1;33m\u001b[0m\u001b[0m\n\u001b[0;32m     10\u001b[0m \u001b[1;32mfor\u001b[0m \u001b[0mr\u001b[0m \u001b[1;32min\u001b[0m \u001b[0mres\u001b[0m\u001b[1;33m:\u001b[0m\u001b[1;33m\u001b[0m\u001b[1;33m\u001b[0m\u001b[0m\n",
      "\u001b[1;31mAttributeError\u001b[0m: 'str' object has no attribute 'group'"
     ]
    }
   ],
   "source": [
    "res=p.findall('Life is too short')\n",
    "print(res)"
   ]
  },
  {
   "cell_type": "code",
   "execution_count": 43,
   "metadata": {},
   "outputs": [
    {
     "name": "stdout",
     "output_type": "stream",
     "text": [
      "<callable_iterator object at 0x000001F573304A08>\n",
      "1\n",
      "4\n",
      "ife\n",
      "(1, 4)\n",
      "5\n",
      "7\n",
      "is\n",
      "(5, 7)\n",
      "8\n",
      "11\n",
      "too\n",
      "(8, 11)\n",
      "12\n",
      "17\n",
      "short\n",
      "(12, 17)\n"
     ]
    }
   ],
   "source": [
    "res=p.finditer('Life is too short')\n",
    "print(res)\n",
    "\n",
    "for r in res:\n",
    "    print(r.start())   # 매치 시작위치\n",
    "    print(r.end())    # 매치 끝 위치\n",
    "    print(r.group())  # 매치 문자열\n",
    "    print(r.span())   # (시작, 끝)"
   ]
  },
  {
   "cell_type": "code",
   "execution_count": null,
   "metadata": {},
   "outputs": [],
   "source": [
    "# p=re.compile('[a-z]+')\n",
    "# m=p.match('multi')\n",
    "# <=>\n",
    "# re.match('[a-z]+', 'multi')"
   ]
  },
  {
   "cell_type": "code",
   "execution_count": 52,
   "metadata": {},
   "outputs": [
    {
     "name": "stdout",
     "output_type": "stream",
     "text": [
      "None\n",
      "<re.Match object; span=(0, 3), match='a\\nb'>\n",
      "<re.Match object; span=(0, 1), match='P'>\n",
      "<re.Match object; span=(0, 10), match='python one'>\n",
      "<re.Match object; span=(0, 10), match='python one'>\n",
      "['python one']\n",
      "['python one', 'python two']\n"
     ]
    }
   ],
   "source": [
    "# compile 옵션\n",
    "\n",
    "#.(dot) : \\n 문자 제외\n",
    "p=re.compile('a.b') \n",
    "m=p.match('a\\nb')\n",
    "print(m)\n",
    "\n",
    "# DOTALL : .(dot)에 \\n 포함\n",
    "p=re.compile('a.b', re.DOTALL) \n",
    "m=p.match('a\\nb')\n",
    "print(m)\n",
    "\n",
    "# re.I : ignorecase , 대소문자 구분 없음\n",
    "p=re.compile('[a-z]',re.I)\n",
    "print(p.match('Python'))\n",
    "\n",
    "# MULTILINE \n",
    "text=\"\"\"python one\n",
    "python two\n",
    "you need python\n",
    "\"\"\"\n",
    "p=re.compile('^python\\s\\w+')\n",
    "print(p.match(text))\n",
    "print(p.search(text))\n",
    "print(p.findall(text))   # ^를 문자열 전체의 처음에 대해서 적용\n",
    "\n",
    "\n",
    "p=re.compile('^python\\s\\w+', re.MULTILINE)\n",
    "print(p.findall(text))     # ^를 문자열의 각 line 단위로 적용"
   ]
  },
  {
   "cell_type": "code",
   "execution_count": 54,
   "metadata": {},
   "outputs": [
    {
     "name": "stdout",
     "output_type": "stream",
     "text": [
      "<re.Match object; span=(0, 3), match='Bye'>\n",
      "<re.Match object; span=(0, 2), match='Hi'>\n",
      "None\n"
     ]
    }
   ],
   "source": [
    "pat=re.compile('Bye|Hi')\n",
    "print(pat.match('ByeHello'))\n",
    "print(pat.match('HiHello'))\n",
    "print(pat.match('Hello'))\n"
   ]
  },
  {
   "cell_type": "code",
   "execution_count": 56,
   "metadata": {},
   "outputs": [
    {
     "name": "stdout",
     "output_type": "stream",
     "text": [
      "<re.Match object; span=(0, 4), match='Life'>\n",
      "<re.Match object; span=(12, 17), match='short'>\n"
     ]
    }
   ],
   "source": [
    "print(re.search('^Life','Life is too short'))\n",
    "print(re.search('short$','Life is too short'))"
   ]
  },
  {
   "cell_type": "code",
   "execution_count": 63,
   "metadata": {},
   "outputs": [
    {
     "name": "stdout",
     "output_type": "stream",
     "text": [
      "xyzxyz\n"
     ]
    }
   ],
   "source": [
    "# grouping : 패턴식 내부에 괄호로 묶어서 표현\n",
    "\n",
    "pat=re.compile('(xyz)+')\n",
    "m=pat.search('xyzxyzxykz ok')\n",
    "print(m.group())"
   ]
  },
  {
   "cell_type": "code",
   "execution_count": 70,
   "metadata": {},
   "outputs": [
    {
     "name": "stdout",
     "output_type": "stream",
     "text": [
      "<re.Match object; span=(0, 17), match='kim 010-2345-6789'>\n"
     ]
    }
   ],
   "source": [
    "pat=re.compile('\\w+\\s+\\d+[-]\\d+[-]\\d+')\n",
    "m=pat.search('kim 010-2345-6789')\n",
    "print(m)"
   ]
  },
  {
   "cell_type": "code",
   "execution_count": 76,
   "metadata": {},
   "outputs": [
    {
     "name": "stdout",
     "output_type": "stream",
     "text": [
      "kim 010-2345-6789\n",
      "kim\n",
      "010\n",
      "2345-6789\n",
      "2345\n",
      "6789\n"
     ]
    }
   ],
   "source": [
    "# () : grouping 기호\n",
    "\n",
    "pat=re.compile('(\\w+)\\s+(\\d+)[-]((\\d+)[-](\\d+))')\n",
    "m=pat.search('kim 010-2345-6789')\n",
    "print(m.group(0))\n",
    "print(m.group(1))\n",
    "print(m.group(2))\n",
    "print(m.group(3))\n",
    "print(m.group(4))\n",
    "print(m.group(5))"
   ]
  },
  {
   "cell_type": "code",
   "execution_count": 77,
   "metadata": {},
   "outputs": [
    {
     "name": "stdout",
     "output_type": "stream",
     "text": [
      "kim\n"
     ]
    }
   ],
   "source": [
    "# group 단위로 이름 부여\n",
    "# (?P<그룹명>...)\n",
    "pat=re.compile('(?P<name>\\w+)\\s+(\\d+)[-]((\\d+)[-](\\d+))')\n",
    "m=pat.search('kim 010-2345-6789')\n",
    "print(m.group('name'))"
   ]
  },
  {
   "cell_type": "code",
   "execution_count": 81,
   "metadata": {},
   "outputs": [
    {
     "data": {
      "text/plain": [
       "'color socks and color shoes'"
      ]
     },
     "execution_count": 81,
     "metadata": {},
     "output_type": "execute_result"
    }
   ],
   "source": [
    "# 텍스트 수집 -> 전처리 -> 워드임베딩(숫자 변환(인코딩)) -> deep 신경망 모델 설계 -> 모델링 -> 분류/예측\n",
    "\n",
    "pat=re.compile('red|blue')\n",
    "# pat.sub(바꿀문자열, 대상문자열)  -> 대상문자열에서 패턴이 발견되면 바꿀문자열로 변경\n",
    "pat.sub('color', 'blue socks and red shoes')"
   ]
  },
  {
   "cell_type": "code",
   "execution_count": 84,
   "metadata": {},
   "outputs": [
    {
     "data": {
      "text/plain": [
       "\"You R dozing off. I'm also sleepy.\""
      ]
     },
     "execution_count": 84,
     "metadata": {},
     "output_type": "execute_result"
    }
   ],
   "source": [
    "pat=re.compile('are')\n",
    "pat.sub('R', \"You are dozing off. I'm also sleepy.\")"
   ]
  },
  {
   "cell_type": "code",
   "execution_count": 85,
   "metadata": {},
   "outputs": [
    {
     "data": {
      "text/plain": [
       "'대한민국 좋은 나라 대한민국 대한민국 대한민국'"
      ]
     },
     "execution_count": 85,
     "metadata": {},
     "output_type": "execute_result"
    }
   ],
   "source": [
    "pat=re.compile('우리나라|한국|코리아')\n",
    "pat.sub('대한민국', \"우리나라 좋은 나라 한국 코리아 대한민국\")"
   ]
  },
  {
   "cell_type": "code",
   "execution_count": 86,
   "metadata": {},
   "outputs": [
    {
     "name": "stdout",
     "output_type": "stream",
     "text": [
      "<re.Match object; span=(0, 7), match='100 200'>\n",
      "<re.Match object; span=(0, 7), match='100 200'>\n"
     ]
    }
   ],
   "source": [
    "g=re.match('[0-9]+ [0-9]+', '100 200')\n",
    "print(g)\n",
    "\n",
    "g=re.match('\\d+\\s\\d+', '100 200')\n",
    "print(g)"
   ]
  },
  {
   "cell_type": "code",
   "execution_count": 94,
   "metadata": {},
   "outputs": [
    {
     "name": "stdout",
     "output_type": "stream",
     "text": [
      "sumPrice\n",
      "50\n"
     ]
    }
   ],
   "source": [
    "# 함수에서 '이름', '인수' 추출\n",
    "\n",
    "g=re.match('(?P<func>[a-z][a-zA-Z0-9_]+)\\((?P<arg>\\d+)\\)','sumPrice(50)')\n",
    "print(g.group('func'))\n",
    "print(g.group('arg'))"
   ]
  },
  {
   "cell_type": "code",
   "execution_count": 95,
   "metadata": {},
   "outputs": [
    {
     "name": "stdout",
     "output_type": "stream",
     "text": [
      "['10', '20', '40']\n"
     ]
    }
   ],
   "source": [
    "print(re.findall('[0-9]+', '10 20 th 40'))"
   ]
  },
  {
   "cell_type": "code",
   "execution_count": 96,
   "metadata": {},
   "outputs": [
    {
     "data": {
      "text/plain": [
       "'대한민국 좋은 나라 대한민국 대한민국 대한민국'"
      ]
     },
     "execution_count": 96,
     "metadata": {},
     "output_type": "execute_result"
    }
   ],
   "source": [
    "# pat=re.compile('우리나라|한국|코리아')\n",
    "# pat.sub('대한민국', \"우리나라 좋은 나라 한국 코리아 대한민국\")\n",
    "#<=>\n",
    "# re.sub('패턴', '바꿀문자열','문자열')\n",
    "\n",
    "re.sub('우리나라|한국|코리아','대한민국','우리나라 좋은 나라 한국 코리아 대한민국')"
   ]
  },
  {
   "cell_type": "code",
   "execution_count": 101,
   "metadata": {},
   "outputs": [
    {
     "name": "stdout",
     "output_type": "stream",
     "text": [
      "010-1234-5678 park\n"
     ]
    }
   ],
   "source": [
    "#re.sub('(?P<name>\\w+)\\s(?P<phone>(\\d+)[-](\\d+)[-](\\d+))','\\g<2> \\g<1>','park 010-1234-5678')\n",
    "\n",
    "p=re.compile('(?P<name>\\w+)\\s(?P<phone>(\\d+)[-](\\d+)[-](\\d+))')\n",
    "print(p.sub('\\g<2> \\g<1>','park 010-1234-5678'))"
   ]
  },
  {
   "cell_type": "code",
   "execution_count": 108,
   "metadata": {},
   "outputs": [],
   "source": [
    "def toHex(mat):\n",
    "    val=int(mat.group())\n",
    "    return hex(val)"
   ]
  },
  {
   "cell_type": "code",
   "execution_count": 110,
   "metadata": {},
   "outputs": [
    {
     "data": {
      "text/plain": [
       "'call 0x72, 0x63 for user code'"
      ]
     },
     "execution_count": 110,
     "metadata": {},
     "output_type": "execute_result"
    }
   ],
   "source": [
    "pat=re.compile('\\d+')\n",
    "pat.sub(toHex, 'call 114, 99 for user code')"
   ]
  },
  {
   "cell_type": "code",
   "execution_count": null,
   "metadata": {},
   "outputs": [],
   "source": [
    "n=input()\n",
    "\n",
    "1. 형식에 부합하도록 패턴식 정의\n",
    "emails = ['python@mail.example.com', \n",
    "'python+kr@example.com',              # 올바른 형식\n",
    "          'python-dojang@example.co.kr', 'python_10@example.info',         # 올바른 형식\n",
    "          'python.dojang@e-xample.com',                                    # 올바른 형식\n",
    "          '@example.com', 'python@example', 'python@example-com']          # 잘못된 형식\n",
    "\n",
    "#아이디(점포함)@도메인주소(점포함)\n",
    "                        .com   .co.kr   .net \n",
    "    \n",
    "(?P<id>(\\w+\\W?)[@]\\w+)\n",
    "\\w+.*\\w*[@]\\w+[.]\\w[.]*\\w*"
   ]
  },
  {
   "cell_type": "code",
   "execution_count": null,
   "metadata": {},
   "outputs": [],
   "source": [
    "# 2. 토지 파일 전처리(정규식)\n",
    "# -저자명 추출\n",
    "# -편 제목 추출\n",
    "# ex) 제2편 제목 - 추적과 음모\n",
    "# -각 편에 대한 장 구성 정보 출력\n",
    "# ex) 제 1편 - ??장으로 구성\n",
    "# -인용부호(겹따옴표)로 묶여있는 대사만 추출->챗봇\n",
    "#  (토지/어린왕자 대사 추출)\n",
    "# -치환(양반, 사람 => 사람)\n",
    "\n",
    "\n",
    "f=open('c:/da/토지 파일.txt','wb')\n",
    "data=pickle.load(f)\n",
    "data=data.replace('양반','사람')\n",
    "f.write(data)\n",
    "f.close()\n",
    "\n",
    "\n",
    "\n",
    "\\<[author]\\>"
   ]
  }
 ],
 "metadata": {
  "kernelspec": {
   "display_name": "Python 3",
   "language": "python",
   "name": "python3"
  },
  "language_info": {
   "codemirror_mode": {
    "name": "ipython",
    "version": 3
   },
   "file_extension": ".py",
   "mimetype": "text/x-python",
   "name": "python",
   "nbconvert_exporter": "python",
   "pygments_lexer": "ipython3",
   "version": "3.7.4"
  }
 },
 "nbformat": 4,
 "nbformat_minor": 2
}
