{
 "cells": [
  {
   "cell_type": "code",
   "execution_count": 35,
   "metadata": {},
   "outputs": [],
   "source": [
    "import pandas as pd\n",
    "import numpy as np\n",
    "import matplotlib.pyplot as plt\n",
    "from matplotlib.colors import ListedColormap\n",
    "import seaborn as sns\n",
    "\n",
    "from sklearn.model_selection import train_test_split\n",
    "\n",
    "# 정규화\n",
    "from sklearn.preprocessing import MinMaxScaler\n",
    "\n",
    "# SVC\n",
    "from sklearn.svm import SVC\n",
    "\n",
    "# k-fold\n",
    "from sklearn.model_selection import cross_val_score, StratifiedKFold\n",
    "\n",
    "# LinearSVC\n",
    "from sklearn.svm import LinearSVC\n",
    "\n",
    "# RGF SVC - GridSearchCV\n",
    "from sklearn.model_selection import GridSearchCV"
   ]
  },
  {
   "cell_type": "code",
   "execution_count": 49,
   "metadata": {},
   "outputs": [],
   "source": [
    "path=r'C:\\\\Users\\\\student\\\\Desktop\\\\공부\\\\멀캠TIL\\\\dataset\\\\python\\\\data'\n",
    "\n",
    "train=pd.read_csv(path+'\\\\titanic_train.csv')\n",
    "test=pd.read_csv(path+'\\\\titanic_test.csv')"
   ]
  },
  {
   "cell_type": "code",
   "execution_count": 50,
   "metadata": {},
   "outputs": [
    {
     "data": {
      "text/plain": [
       "PassengerId      0\n",
       "Survived         0\n",
       "Pclass           0\n",
       "Name             0\n",
       "Sex              0\n",
       "Age            177\n",
       "SibSp            0\n",
       "Parch            0\n",
       "Ticket           0\n",
       "Fare             0\n",
       "Cabin          687\n",
       "Embarked         2\n",
       "dtype: int64"
      ]
     },
     "execution_count": 50,
     "metadata": {},
     "output_type": "execute_result"
    }
   ],
   "source": [
    "#train.Sex.unique()\n",
    "train.isnull().sum()"
   ]
  },
  {
   "cell_type": "code",
   "execution_count": null,
   "metadata": {},
   "outputs": [],
   "source": []
  },
  {
   "cell_type": "code",
   "execution_count": 51,
   "metadata": {},
   "outputs": [],
   "source": [
    "trainData=train.copy()\n",
    "\n",
    "trainData.drop(['PassengerId'],axis=1,inplace=True)\n",
    "trainData.drop(['Name'],axis=1,inplace=True)\n",
    "trainData.drop(['Ticket'],axis=1,inplace=True)\n",
    "trainData.drop(['Cabin'],axis=1,inplace=True)\n",
    "trainData.drop(['Age'],axis=1,inplace=True)"
   ]
  },
  {
   "cell_type": "code",
   "execution_count": 26,
   "metadata": {},
   "outputs": [],
   "source": []
  },
  {
   "cell_type": "code",
   "execution_count": 53,
   "metadata": {},
   "outputs": [
    {
     "data": {
      "text/plain": [
       "Survived    0\n",
       "Pclass      0\n",
       "Sex         0\n",
       "SibSp       0\n",
       "Parch       0\n",
       "Fare        0\n",
       "Embarked    2\n",
       "dtype: int64"
      ]
     },
     "execution_count": 53,
     "metadata": {},
     "output_type": "execute_result"
    }
   ],
   "source": [
    "trainData.isnull().sum()\n",
    "#trainData.info()"
   ]
  },
  {
   "cell_type": "code",
   "execution_count": null,
   "metadata": {},
   "outputs": [],
   "source": []
  },
  {
   "cell_type": "code",
   "execution_count": 54,
   "metadata": {},
   "outputs": [],
   "source": [
    "# sex, Embarked 수정\n",
    "trainData['Sex_cat']=trainData['Sex'].map({'male':1,'female':0})\n",
    "trainData.drop('Sex',axis=1,inplace=True)\n",
    "trainData['Embarked_cat']=trainData['Embarked'].map({'S':1,'C':2, 'Q':3})\n",
    "trainData.drop('Embarked',axis=1,inplace=True)"
   ]
  },
  {
   "cell_type": "code",
   "execution_count": 58,
   "metadata": {},
   "outputs": [],
   "source": [
    "trainData['Embarked_cat']=trainData['Embarked_cat'].fillna(0)"
   ]
  },
  {
   "cell_type": "code",
   "execution_count": 59,
   "metadata": {},
   "outputs": [
    {
     "data": {
      "text/plain": [
       "Survived        0\n",
       "Pclass          0\n",
       "SibSp           0\n",
       "Parch           0\n",
       "Fare            0\n",
       "Sex_cat         0\n",
       "Embarked_cat    0\n",
       "dtype: int64"
      ]
     },
     "execution_count": 59,
     "metadata": {},
     "output_type": "execute_result"
    }
   ],
   "source": [
    "#trainData.info()\n",
    "trainData.isnull().sum()"
   ]
  },
  {
   "cell_type": "code",
   "execution_count": null,
   "metadata": {},
   "outputs": [],
   "source": []
  },
  {
   "cell_type": "code",
   "execution_count": 60,
   "metadata": {},
   "outputs": [],
   "source": [
    "# 정규화\n",
    "y_train=np.array(trainData['Survived'])\n",
    "\n",
    "x_train=trainData.drop(['Survived'], axis=1)\n",
    "x_train=np.array(x_train)\n",
    "\n",
    "scaler=MinMaxScaler()\n",
    "x_train=scaler.fit_transform(x_train)"
   ]
  },
  {
   "cell_type": "code",
   "execution_count": null,
   "metadata": {},
   "outputs": [],
   "source": []
  },
  {
   "cell_type": "code",
   "execution_count": null,
   "metadata": {},
   "outputs": [],
   "source": []
  },
  {
   "cell_type": "code",
   "execution_count": 61,
   "metadata": {},
   "outputs": [],
   "source": [
    "# train set, test set 나누기\n",
    "xtrain, xtest, ytrain,ytest=train_test_split(x_train,y_train,train_size=0.7,random_state=42)"
   ]
  },
  {
   "cell_type": "code",
   "execution_count": null,
   "metadata": {},
   "outputs": [],
   "source": []
  },
  {
   "cell_type": "code",
   "execution_count": 84,
   "metadata": {},
   "outputs": [
    {
     "name": "stdout",
     "output_type": "stream",
     "text": [
      "SVC - C: 1, train score: 0.784912, test score : 0.791045 \n",
      "\n",
      "SVC - C: 3, train score: 0.784912, test score : 0.791045 \n",
      "\n",
      "SVC - C: 5, train score: 0.784912, test score : 0.791045 \n",
      "\n",
      "SVC - C: 10, train score: 0.784912, test score : 0.791045 \n",
      "\n",
      "SVC - C: 40, train score: 0.784912, test score : 0.791045 \n",
      "\n",
      "SVC - C: 60, train score: 0.784912, test score : 0.791045 \n",
      "\n",
      "SVC - C: 80, train score: 0.784912, test score : 0.791045 \n",
      "\n",
      "SVC - C: 100, train score: 0.784912, test score : 0.791045 \n",
      "\n"
     ]
    }
   ],
   "source": [
    "for thisC in [1,3,5,10,40,60,80,100]:\n",
    "    model=SVC(kernel='linear',C=thisC).fit(xtrain,ytrain)\n",
    "    score_train=model.score(xtrain,ytrain)\n",
    "    score_test=model.score(xtest,ytest)\n",
    "    print('SVC - C: {}, train score: {:2f}, test score : {:2f} \\n'.format(thisC,score_train,score_test))"
   ]
  },
  {
   "cell_type": "code",
   "execution_count": 86,
   "metadata": {},
   "outputs": [
    {
     "name": "stdout",
     "output_type": "stream",
     "text": [
      "k-fold cv score : [0.73015873 0.888      0.70967742 0.78225806 0.81451613]\n",
      "k-fold cv 평균 score : 0.7849220686123912\n",
      "stratified k-fold cv score : [0.8015873  0.824      0.7983871  0.71774194 0.78225806]\n",
      "stratified k-fold cv 평균 score : 0.784794879672299\n"
     ]
    }
   ],
   "source": [
    "# k-fold 교차검증\n",
    "model=SVC(kernel='linear', C=20).fit(xtrain,ytrain)\n",
    "scores=cross_val_score(model, xtrain, ytrain, cv=5)\n",
    "print('k-fold cv score : ' + str(scores))\n",
    "print('k-fold cv 평균 score : ' + str(scores.mean()))\n",
    "\n",
    "# stratified k-fold 교차검증\n",
    "st_scores=cross_val_score(model, xtrain, ytrain,cv=StratifiedKFold(5,random_state=10,shuffle=True))\n",
    "print('stratified k-fold cv score : ' + str(st_scores))\n",
    "print('stratified k-fold cv 평균 score : ' + str(st_scores.mean()))"
   ]
  },
  {
   "cell_type": "code",
   "execution_count": null,
   "metadata": {},
   "outputs": [],
   "source": []
  },
  {
   "cell_type": "code",
   "execution_count": 87,
   "metadata": {},
   "outputs": [
    {
     "name": "stdout",
     "output_type": "stream",
     "text": [
      "LinearSVC - C: 1, train score: 0.794543, test score : 0.798507 \n",
      "\n",
      "LinearSVC - C: 3, train score: 0.794543, test score : 0.794776 \n",
      "\n",
      "LinearSVC - C: 5, train score: 0.794543, test score : 0.794776 \n",
      "\n",
      "LinearSVC - C: 10, train score: 0.794543, test score : 0.794776 \n",
      "\n",
      "LinearSVC - C: 40, train score: 0.799358, test score : 0.802239 \n",
      "\n",
      "LinearSVC - C: 60, train score: 0.791332, test score : 0.794776 \n",
      "\n",
      "LinearSVC - C: 80, train score: 0.797753, test score : 0.802239 \n",
      "\n",
      "LinearSVC - C: 100, train score: 0.744783, test score : 0.772388 \n",
      "\n"
     ]
    },
    {
     "name": "stderr",
     "output_type": "stream",
     "text": [
      "C:\\Users\\student\\Anaconda3\\lib\\site-packages\\sklearn\\svm\\base.py:929: ConvergenceWarning: Liblinear failed to converge, increase the number of iterations.\n",
      "  \"the number of iterations.\", ConvergenceWarning)\n",
      "C:\\Users\\student\\Anaconda3\\lib\\site-packages\\sklearn\\svm\\base.py:929: ConvergenceWarning: Liblinear failed to converge, increase the number of iterations.\n",
      "  \"the number of iterations.\", ConvergenceWarning)\n",
      "C:\\Users\\student\\Anaconda3\\lib\\site-packages\\sklearn\\svm\\base.py:929: ConvergenceWarning: Liblinear failed to converge, increase the number of iterations.\n",
      "  \"the number of iterations.\", ConvergenceWarning)\n",
      "C:\\Users\\student\\Anaconda3\\lib\\site-packages\\sklearn\\svm\\base.py:929: ConvergenceWarning: Liblinear failed to converge, increase the number of iterations.\n",
      "  \"the number of iterations.\", ConvergenceWarning)\n",
      "C:\\Users\\student\\Anaconda3\\lib\\site-packages\\sklearn\\svm\\base.py:929: ConvergenceWarning: Liblinear failed to converge, increase the number of iterations.\n",
      "  \"the number of iterations.\", ConvergenceWarning)\n"
     ]
    }
   ],
   "source": [
    "for thisC in [1,3,5,10,40,60,80,100]:\n",
    "    model2=LinearSVC(C=thisC).fit(xtrain,  ytrain)\n",
    "    score_train=model2.score(xtrain,ytrain)\n",
    "    score_test=model2.score(xtest,ytest)\n",
    "    print('LinearSVC - C: {}, train score: {:2f}, test score : {:2f} \\n'.format(thisC,score_train,score_test))"
   ]
  },
  {
   "cell_type": "code",
   "execution_count": null,
   "metadata": {},
   "outputs": [],
   "source": []
  },
  {
   "cell_type": "code",
   "execution_count": null,
   "metadata": {},
   "outputs": [],
   "source": []
  },
  {
   "cell_type": "code",
   "execution_count": 89,
   "metadata": {},
   "outputs": [
    {
     "name": "stdout",
     "output_type": "stream",
     "text": [
      "{'C': 2, 'gamma': 0.75}\n",
      "0.8170144462279294\n"
     ]
    }
   ],
   "source": [
    "# RBF SVS model 생성\n",
    "param={'C':[1,2,3,5,7,10], 'gamma':[.1, .25, .5, .75, 1]}\n",
    "model=GridSearchCV(SVC(kernel='rbf'), param, cv=5).fit(xtrain, ytrain)\n",
    "print(model.best_params_)\n",
    "print(model.best_score_)"
   ]
  },
  {
   "cell_type": "code",
   "execution_count": null,
   "metadata": {},
   "outputs": [],
   "source": []
  },
  {
   "cell_type": "code",
   "execution_count": null,
   "metadata": {},
   "outputs": [],
   "source": []
  },
  {
   "cell_type": "code",
   "execution_count": 75,
   "metadata": {},
   "outputs": [],
   "source": [
    "## test data 예측\n",
    "# data 전처리\n",
    "testData=test.copy()"
   ]
  },
  {
   "cell_type": "code",
   "execution_count": 76,
   "metadata": {},
   "outputs": [],
   "source": [
    "testData.drop(['PassengerId'],axis=1,inplace=True)\n",
    "testData.drop(['Name'],axis=1,inplace=True)\n",
    "testData.drop(['Ticket'],axis=1,inplace=True)\n",
    "testData.drop(['Cabin'],axis=1,inplace=True)\n",
    "testData.drop(['Age'],axis=1,inplace=True)"
   ]
  },
  {
   "cell_type": "code",
   "execution_count": 77,
   "metadata": {},
   "outputs": [],
   "source": [
    "# sex, Embarked 수정\n",
    "testData['Sex_cat']=testData['Sex'].map({'male':1,'female':0})\n",
    "testData.drop('Sex',axis=1,inplace=True)\n",
    "testData['Embarked_cat']=testData['Embarked'].map({'S':1,'C':2, 'Q':3})\n",
    "testData.drop('Embarked',axis=1,inplace=True)\n",
    "\n",
    "testData['Embarked_cat']=testData['Embarked_cat'].fillna(0)"
   ]
  },
  {
   "cell_type": "code",
   "execution_count": 80,
   "metadata": {},
   "outputs": [],
   "source": [
    "testData['Fare']=testData['Fare'].fillna(0)"
   ]
  },
  {
   "cell_type": "code",
   "execution_count": 81,
   "metadata": {},
   "outputs": [
    {
     "data": {
      "text/plain": [
       "Pclass          0\n",
       "SibSp           0\n",
       "Parch           0\n",
       "Fare            0\n",
       "Sex_cat         0\n",
       "Embarked_cat    0\n",
       "dtype: int64"
      ]
     },
     "execution_count": 81,
     "metadata": {},
     "output_type": "execute_result"
    }
   ],
   "source": [
    "#testData.info()\n",
    "testData.isnull().sum()"
   ]
  },
  {
   "cell_type": "code",
   "execution_count": null,
   "metadata": {},
   "outputs": [],
   "source": []
  },
  {
   "cell_type": "code",
   "execution_count": 82,
   "metadata": {},
   "outputs": [],
   "source": [
    "# 정규화\n",
    "testData=scaler.fit_transform(testData)"
   ]
  },
  {
   "cell_type": "code",
   "execution_count": null,
   "metadata": {},
   "outputs": [],
   "source": []
  },
  {
   "cell_type": "code",
   "execution_count": null,
   "metadata": {},
   "outputs": [],
   "source": []
  },
  {
   "cell_type": "code",
   "execution_count": 90,
   "metadata": {},
   "outputs": [
    {
     "data": {
      "text/html": [
       "<div>\n",
       "<style scoped>\n",
       "    .dataframe tbody tr th:only-of-type {\n",
       "        vertical-align: middle;\n",
       "    }\n",
       "\n",
       "    .dataframe tbody tr th {\n",
       "        vertical-align: top;\n",
       "    }\n",
       "\n",
       "    .dataframe thead th {\n",
       "        text-align: right;\n",
       "    }\n",
       "</style>\n",
       "<table border=\"1\" class=\"dataframe\">\n",
       "  <thead>\n",
       "    <tr style=\"text-align: right;\">\n",
       "      <th></th>\n",
       "      <th>0</th>\n",
       "    </tr>\n",
       "  </thead>\n",
       "  <tbody>\n",
       "    <tr>\n",
       "      <td>0</td>\n",
       "      <td>0</td>\n",
       "    </tr>\n",
       "    <tr>\n",
       "      <td>1</td>\n",
       "      <td>0</td>\n",
       "    </tr>\n",
       "    <tr>\n",
       "      <td>2</td>\n",
       "      <td>0</td>\n",
       "    </tr>\n",
       "    <tr>\n",
       "      <td>3</td>\n",
       "      <td>0</td>\n",
       "    </tr>\n",
       "    <tr>\n",
       "      <td>4</td>\n",
       "      <td>0</td>\n",
       "    </tr>\n",
       "    <tr>\n",
       "      <td>...</td>\n",
       "      <td>...</td>\n",
       "    </tr>\n",
       "    <tr>\n",
       "      <td>413</td>\n",
       "      <td>0</td>\n",
       "    </tr>\n",
       "    <tr>\n",
       "      <td>414</td>\n",
       "      <td>1</td>\n",
       "    </tr>\n",
       "    <tr>\n",
       "      <td>415</td>\n",
       "      <td>0</td>\n",
       "    </tr>\n",
       "    <tr>\n",
       "      <td>416</td>\n",
       "      <td>0</td>\n",
       "    </tr>\n",
       "    <tr>\n",
       "      <td>417</td>\n",
       "      <td>0</td>\n",
       "    </tr>\n",
       "  </tbody>\n",
       "</table>\n",
       "<p>418 rows × 1 columns</p>\n",
       "</div>"
      ],
      "text/plain": [
       "     0\n",
       "0    0\n",
       "1    0\n",
       "2    0\n",
       "3    0\n",
       "4    0\n",
       "..  ..\n",
       "413  0\n",
       "414  1\n",
       "415  0\n",
       "416  0\n",
       "417  0\n",
       "\n",
       "[418 rows x 1 columns]"
      ]
     },
     "execution_count": 90,
     "metadata": {},
     "output_type": "execute_result"
    }
   ],
   "source": [
    "## model 생성 및 예측\n",
    "model_test=SVC(kernel='rbf', C=2, gamma=.75).fit(xtrain,ytrain)\n",
    "\n",
    "pred=model_test.predict(testData)\n",
    "pred=pd.DataFrame(pred)\n",
    "pred"
   ]
  },
  {
   "cell_type": "code",
   "execution_count": null,
   "metadata": {},
   "outputs": [],
   "source": []
  }
 ],
 "metadata": {
  "kernelspec": {
   "display_name": "Python 3",
   "language": "python",
   "name": "python3"
  },
  "language_info": {
   "codemirror_mode": {
    "name": "ipython",
    "version": 3
   },
   "file_extension": ".py",
   "mimetype": "text/x-python",
   "name": "python",
   "nbconvert_exporter": "python",
   "pygments_lexer": "ipython3",
   "version": "3.7.4"
  }
 },
 "nbformat": 4,
 "nbformat_minor": 2
}
