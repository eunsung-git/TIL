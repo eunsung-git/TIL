{
 "cells": [
  {
   "cell_type": "code",
   "execution_count": 3,
   "metadata": {},
   "outputs": [
    {
     "name": "stdout",
     "output_type": "stream",
     "text": [
      "7\n"
     ]
    }
   ],
   "source": [
    "# def 함수명(매개변수):\n",
    "#     수행문장\n",
    "#     수행문장\n",
    "#     ...\n",
    "#     return\n",
    "\n",
    "\n",
    "def add(a,b):\n",
    "     return a+b\n",
    "a=3\n",
    "b=4\n",
    "sum=add(a,b)\n",
    "print(sum)"
   ]
  },
  {
   "cell_type": "code",
   "execution_count": 4,
   "metadata": {},
   "outputs": [],
   "source": [
    "def say(): \n",
    "    return 'bye'    # 결과값이 반드시 필요한 경우, return 사용"
   ]
  },
  {
   "cell_type": "code",
   "execution_count": 8,
   "metadata": {},
   "outputs": [
    {
     "name": "stdout",
     "output_type": "stream",
     "text": [
      "bye\n"
     ]
    }
   ],
   "source": [
    "res=say()\n",
    "print(res)"
   ]
  },
  {
   "cell_type": "code",
   "execution_count": 15,
   "metadata": {},
   "outputs": [
    {
     "name": "stdout",
     "output_type": "stream",
     "text": [
      "3과 4 합은 7입니다\n",
      "None\n"
     ]
    }
   ],
   "source": [
    "def add(a,b):\n",
    "    print('%d과 %d 합은 %d입니다' % (a,b,a+b))\n",
    "#    return a+b\n",
    "\n",
    "print(add(3,4))   # return 값이 없는 경우 none"
   ]
  },
  {
   "cell_type": "code",
   "execution_count": 16,
   "metadata": {},
   "outputs": [],
   "source": [
    "def add(a,b):\n",
    "    return a+b"
   ]
  },
  {
   "cell_type": "code",
   "execution_count": 18,
   "metadata": {},
   "outputs": [
    {
     "name": "stdout",
     "output_type": "stream",
     "text": [
      "10\n"
     ]
    }
   ],
   "source": [
    "res=add(b=3,a=7)\n",
    "print(res)"
   ]
  },
  {
   "cell_type": "code",
   "execution_count": 23,
   "metadata": {},
   "outputs": [
    {
     "name": "stdout",
     "output_type": "stream",
     "text": [
      "6\n",
      "21\n"
     ]
    }
   ],
   "source": [
    "# 여러 개의 입력값을 전달받는 함수\n",
    "#def 함수명(*매개변수):\n",
    "#    수행문장\n",
    "def add_many(*args):\n",
    "    res=0\n",
    "    for i in args:\n",
    "        res+=i\n",
    "    return res\n",
    "        \n",
    "#    수행문장\n",
    "\n",
    "print(add_many(1,2,3))\n",
    "#res=add_many(1,2,3)\n",
    "#print(res)\n",
    "\n",
    "res=add_many(1,2,3,4,5,6)\n",
    "print(res)"
   ]
  },
  {
   "cell_type": "code",
   "execution_count": 25,
   "metadata": {},
   "outputs": [
    {
     "name": "stdout",
     "output_type": "stream",
     "text": [
      "6\n",
      "6\n"
     ]
    }
   ],
   "source": [
    "def add_mul(ch,*args):\n",
    "    if ch=='add':\n",
    "        res=0\n",
    "        for i in args:\n",
    "            res+=i\n",
    "            \n",
    "        \n",
    "    elif ch=='mul':\n",
    "        res=0\n",
    "        for i in args:\n",
    "            res+=i\n",
    "    return res\n",
    "    \n",
    "print(add_mul('add',1,2,3))\n",
    "\n",
    "print(add_mul('mul',1,2,3))"
   ]
  },
  {
   "cell_type": "code",
   "execution_count": 27,
   "metadata": {},
   "outputs": [],
   "source": [
    "def dict_args(**args):\n",
    "    print(args)   # args 는 dict 변수"
   ]
  },
  {
   "cell_type": "code",
   "execution_count": 29,
   "metadata": {},
   "outputs": [
    {
     "name": "stdout",
     "output_type": "stream",
     "text": [
      "{'height': 180, 'weight': 70}\n"
     ]
    }
   ],
   "source": [
    "dict_args(height=180, weight=70)"
   ]
  },
  {
   "cell_type": "code",
   "execution_count": 31,
   "metadata": {},
   "outputs": [],
   "source": [
    "def a_and_b(a,b):\n",
    "    return a+b, a*b"
   ]
  },
  {
   "cell_type": "code",
   "execution_count": 35,
   "metadata": {},
   "outputs": [
    {
     "name": "stdout",
     "output_type": "stream",
     "text": [
      "3\n",
      "2\n"
     ]
    }
   ],
   "source": [
    "#res=a_and_b(1,2)\n",
    "#print(res)\n",
    "res_add, res_mul=a_and_b(1,2)\n",
    "print(res_add)\n",
    "print(res_mul)"
   ]
  },
  {
   "cell_type": "code",
   "execution_count": 36,
   "metadata": {},
   "outputs": [],
   "source": [
    "def a_and_b(a,b):\n",
    "    return a+b \n",
    "    return a*b  # 수행 안함"
   ]
  },
  {
   "cell_type": "code",
   "execution_count": 37,
   "metadata": {},
   "outputs": [
    {
     "name": "stdout",
     "output_type": "stream",
     "text": [
      "3\n"
     ]
    }
   ],
   "source": [
    "res=a_and_b(1,2)\n",
    "print(res)"
   ]
  },
  {
   "cell_type": "code",
   "execution_count": 41,
   "metadata": {},
   "outputs": [
    {
     "ename": "SyntaxError",
     "evalue": "invalid syntax (<ipython-input-41-45b14526f08c>, line 2)",
     "output_type": "error",
     "traceback": [
      "\u001b[1;36m  File \u001b[1;32m\"<ipython-input-41-45b14526f08c>\"\u001b[1;36m, line \u001b[1;32m2\u001b[0m\n\u001b[1;33m    if nick='바보':\u001b[0m\n\u001b[1;37m           ^\u001b[0m\n\u001b[1;31mSyntaxError\u001b[0m\u001b[1;31m:\u001b[0m invalid syntax\n"
     ]
    }
   ],
   "source": [
    "def sn(nick):\n",
    "    if nick='바보':\n",
    "        return   #함수를 호출한 위치로 회귀\n",
    "    print('별명은 %s입니다' % nick)"
   ]
  },
  {
   "cell_type": "code",
   "execution_count": 42,
   "metadata": {},
   "outputs": [
    {
     "ename": "NameError",
     "evalue": "name 'sn' is not defined",
     "output_type": "error",
     "traceback": [
      "\u001b[1;31m---------------------------------------------------------------------------\u001b[0m",
      "\u001b[1;31mNameError\u001b[0m                                 Traceback (most recent call last)",
      "\u001b[1;32m<ipython-input-42-d5fa0016e66a>\u001b[0m in \u001b[0;36m<module>\u001b[1;34m\u001b[0m\n\u001b[1;32m----> 1\u001b[1;33m \u001b[0msn\u001b[0m\u001b[1;33m(\u001b[0m\u001b[1;34m'천재'\u001b[0m\u001b[1;33m)\u001b[0m\u001b[1;33m\u001b[0m\u001b[1;33m\u001b[0m\u001b[0m\n\u001b[0m\u001b[0;32m      2\u001b[0m \u001b[0msn\u001b[0m\u001b[1;33m(\u001b[0m\u001b[1;34m'바보'\u001b[0m\u001b[1;33m)\u001b[0m\u001b[1;33m\u001b[0m\u001b[1;33m\u001b[0m\u001b[0m\n",
      "\u001b[1;31mNameError\u001b[0m: name 'sn' is not defined"
     ]
    }
   ],
   "source": [
    "sn('천재')\n",
    "sn('바보')"
   ]
  },
  {
   "cell_type": "code",
   "execution_count": 45,
   "metadata": {},
   "outputs": [
    {
     "name": "stdout",
     "output_type": "stream",
     "text": [
      "홍길동 20 True\n"
     ]
    }
   ],
   "source": [
    "def test(name,old,man=True):\n",
    "    print(name, old, man)\n",
    "test('홍길동',20)\n",
    "#test('홍갑순',20, False)"
   ]
  },
  {
   "cell_type": "code",
   "execution_count": 46,
   "metadata": {},
   "outputs": [],
   "source": [
    "import turtle as t\n",
    "t.shape('turtle')"
   ]
  },
  {
   "cell_type": "code",
   "execution_count": 52,
   "metadata": {},
   "outputs": [],
   "source": [
    "t.right(90)\n",
    "t.forward(100)\n",
    "t.right(90)\n",
    "t.forward(100)"
   ]
  },
  {
   "cell_type": "code",
   "execution_count": 54,
   "metadata": {},
   "outputs": [],
   "source": [
    "t.shape('turtle')\n",
    "for i in range(4):\n",
    "    t.forward(100)\n",
    "    t.right(90)"
   ]
  },
  {
   "cell_type": "code",
   "execution_count": 55,
   "metadata": {},
   "outputs": [],
   "source": [
    "t.shape('turtle')\n",
    "for i in range(5):\n",
    "    t.forward(100)\n",
    "    t.right(72)"
   ]
  },
  {
   "cell_type": "code",
   "execution_count": 59,
   "metadata": {},
   "outputs": [],
   "source": [
    "t.clear()"
   ]
  },
  {
   "cell_type": "code",
   "execution_count": 58,
   "metadata": {},
   "outputs": [],
   "source": [
    "t.shape('turtle')\n",
    "for i in range(5):\n",
    "    t.forward(100)\n",
    "    t.right(72)"
   ]
  },
  {
   "cell_type": "code",
   "execution_count": 60,
   "metadata": {},
   "outputs": [
    {
     "name": "stdout",
     "output_type": "stream",
     "text": [
      "7\n"
     ]
    }
   ],
   "source": [
    "n=int(input())\n",
    "for i in range(n):\n",
    "    t.forward(100)\n",
    "    t.right(360/n)"
   ]
  },
  {
   "cell_type": "code",
   "execution_count": 64,
   "metadata": {},
   "outputs": [
    {
     "name": "stdout",
     "output_type": "stream",
     "text": [
      "15\n",
      "15\n",
      "15\n",
      "15\n"
     ]
    }
   ],
   "source": [
    "# lambda 매개변수들: 식\n",
    "\n",
    "def p_ten(x):\n",
    "    return x+10\n",
    "print(p_ten(5))\n",
    "\n",
    "p_ten2=lambda x: x+10\n",
    "print(p_ten2(5))\n",
    "\n",
    "# (lambda 매개변수들:식)(5)\n",
    "print((lambda x: x+10)(5))\n",
    "\n",
    "# lambda 표현식 내부에는 변수 선언 x\n",
    "# print((lambda x: y=2; x+y)(5)) 에러 발생\n",
    "y=2\n",
    "print((lambda x: x+10)(5))"
   ]
  },
  {
   "cell_type": "code",
   "execution_count": 68,
   "metadata": {},
   "outputs": [
    {
     "name": "stdout",
     "output_type": "stream",
     "text": [
      "[11, 12, 13]\n"
     ]
    },
    {
     "data": {
      "text/plain": [
       "[11, 12, 13]"
      ]
     },
     "execution_count": 68,
     "metadata": {},
     "output_type": "execute_result"
    }
   ],
   "source": [
    "# map(함수, 자료) # 자료에 대해 함수를 수행한 결과 출력\n",
    "# print(list(map(int,[3.14])))\n",
    "def pten(x):\n",
    "    return x+10\n",
    "\n",
    "res=list(map(pten,[1,2,3]))\n",
    "print(res)\n",
    "\n",
    "list(map(lambda x:x+10,[1,2,3]))"
   ]
  },
  {
   "cell_type": "code",
   "execution_count": 72,
   "metadata": {},
   "outputs": [
    {
     "name": "stdout",
     "output_type": "stream",
     "text": [
      "6\n",
      "1\n",
      "5\n"
     ]
    }
   ],
   "source": [
    "print((lambda x:x+1)(5))\n",
    "\n",
    "print((lambda : 1)())\n",
    "\n",
    "x=5\n",
    "print((lambda :x)())"
   ]
  },
  {
   "cell_type": "code",
   "execution_count": 77,
   "metadata": {},
   "outputs": [
    {
     "name": "stdout",
     "output_type": "stream",
     "text": [
      "5\n",
      "5\n",
      "5\n"
     ]
    }
   ],
   "source": [
    "def add(x,y):\n",
    "    return x+y\n",
    "res=add(2,3)\n",
    "print(res)\n",
    "\n",
    "#lambda\n",
    "add2=lambda x,y:x+y\n",
    "res=add2(2,3)\n",
    "print(res)\n",
    "\n",
    "y=3\n",
    "print((lambda x: x+y)(2))"
   ]
  },
  {
   "cell_type": "code",
   "execution_count": 96,
   "metadata": {},
   "outputs": [
    {
     "ename": "IndexError",
     "evalue": "list index out of range",
     "output_type": "error",
     "traceback": [
      "\u001b[1;31m---------------------------------------------------------------------------\u001b[0m",
      "\u001b[1;31mIndexError\u001b[0m                                Traceback (most recent call last)",
      "\u001b[1;32m<ipython-input-96-a7b79a87377f>\u001b[0m in \u001b[0;36m<module>\u001b[1;34m\u001b[0m\n\u001b[0;32m     26\u001b[0m          \u001b[0ma\u001b[0m\u001b[1;33m[\u001b[0m\u001b[0mi\u001b[0m\u001b[1;33m]\u001b[0m\u001b[1;33m=\u001b[0m\u001b[0mfloat\u001b[0m\u001b[1;33m(\u001b[0m\u001b[0ma\u001b[0m\u001b[1;33m[\u001b[0m\u001b[0mi\u001b[0m\u001b[1;33m]\u001b[0m\u001b[1;33m)\u001b[0m\u001b[1;33m\u001b[0m\u001b[1;33m\u001b[0m\u001b[0m\n\u001b[0;32m     27\u001b[0m     \u001b[1;32melse\u001b[0m\u001b[1;33m:\u001b[0m\u001b[1;33m\u001b[0m\u001b[1;33m\u001b[0m\u001b[0m\n\u001b[1;32m---> 28\u001b[1;33m          \u001b[0ma\u001b[0m\u001b[1;33m[\u001b[0m\u001b[0mi\u001b[0m\u001b[1;33m]\u001b[0m\u001b[1;33m+=\u001b[0m\u001b[1;36m10\u001b[0m\u001b[1;33m\u001b[0m\u001b[1;33m\u001b[0m\u001b[0m\n\u001b[0m\u001b[0;32m     29\u001b[0m \u001b[0mprint\u001b[0m\u001b[1;33m(\u001b[0m\u001b[0mlist\u001b[0m\u001b[1;33m(\u001b[0m\u001b[0mmap\u001b[0m\u001b[1;33m(\u001b[0m\u001b[0mfun\u001b[0m\u001b[1;33m,\u001b[0m\u001b[0ma\u001b[0m\u001b[1;33m)\u001b[0m\u001b[1;33m)\u001b[0m\u001b[1;33m)\u001b[0m\u001b[1;33m\u001b[0m\u001b[1;33m\u001b[0m\u001b[0m\n\u001b[0;32m     30\u001b[0m \u001b[1;33m\u001b[0m\u001b[0m\n",
      "\u001b[1;31mIndexError\u001b[0m: list index out of range"
     ]
    }
   ],
   "source": [
    "# lambda 표현식에 조건식 적용\n",
    "a=list(range(1,11))\n",
    "# a값들 중 3의 배수는 100을 더해서 출력\n",
    "# for i in range(0,10):\n",
    "#     if a[i]%3==0:\n",
    "#         a[i]+=100\n",
    "# print(a)\n",
    "\n",
    "#->\n",
    "# lambda 매개변수식: 식1 if 조건식 else 식2\n",
    "print(list(map(lambda x:str(x) if x%3==0 else x, a)))\n",
    "\n",
    "# elif 사용 x\n",
    "# 식1 if 조건식1 else 식2 if 조건식2 else 식3\n",
    "# if 조건식:\n",
    "#     식1\n",
    "# elif 조건식:\n",
    "#     식2\n",
    "# else:\n",
    "#     식3\n",
    "\n",
    "\n",
    "def fun(x):\n",
    "    if x==1:\n",
    "        return str(x)\n",
    "    elif x==2:\n",
    "        return float(x)\n",
    "    else:\n",
    "        return x+10\n",
    "print(list(map(fun,a)))\n",
    "\n",
    "# or\n",
    "\n",
    "print(list(map(lambda x:str(x) if x==1 else float(x) if x==2 else x+10, a)))"
   ]
  },
  {
   "cell_type": "code",
   "execution_count": 99,
   "metadata": {},
   "outputs": [
    {
     "data": {
      "text/plain": [
       "[6, 14, 24, 36, 50]"
      ]
     },
     "execution_count": 99,
     "metadata": {},
     "output_type": "execute_result"
    }
   ],
   "source": [
    "# lambda의 매개변수가 여러개인 경우\n",
    "a=[1,2,3,4,5]\n",
    "b=[6,7,8,9,10]\n",
    "list(map(lambda x,y:x*y,a,b))"
   ]
  },
  {
   "cell_type": "code",
   "execution_count": 101,
   "metadata": {},
   "outputs": [
    {
     "name": "stdout",
     "output_type": "stream",
     "text": [
      "[True, False, False, True, True, True, False]\n",
      "[7, 4, 9, 6]\n"
     ]
    }
   ],
   "source": [
    "a=[7,3,1,4,9,6,2]\n",
    "def fun2(x):\n",
    "    return x>3 and x<10\n",
    "print(list(map(fun2,a))) \n",
    "\n",
    "# filter는 조건에 맞는 데이터만 추출\n",
    "# filter로 지정한 함수의 리턴값이 true일 때만 해당 요소 추출\n",
    "print(list(filter(fun2,a)))  "
   ]
  },
  {
   "cell_type": "code",
   "execution_count": 102,
   "metadata": {},
   "outputs": [],
   "source": [
    "# reduce - 각 요소를 함수로 처리 후, 이전 결과와 누적하여 변환하는 함수\n",
    "from functools import reduce"
   ]
  },
  {
   "cell_type": "code",
   "execution_count": 103,
   "metadata": {},
   "outputs": [],
   "source": [
    "def fun3(x,y):\n",
    "    return x+y"
   ]
  },
  {
   "cell_type": "code",
   "execution_count": 104,
   "metadata": {},
   "outputs": [
    {
     "name": "stdout",
     "output_type": "stream",
     "text": [
      "15\n"
     ]
    }
   ],
   "source": [
    "a=[1,2,3,4,5]\n",
    "print(reduce(fun3,a))"
   ]
  },
  {
   "cell_type": "code",
   "execution_count": 105,
   "metadata": {},
   "outputs": [
    {
     "ename": "SyntaxError",
     "evalue": "invalid syntax (<ipython-input-105-9f62511e6bef>, line 1)",
     "output_type": "error",
     "traceback": [
      "\u001b[1;36m  File \u001b[1;32m\"<ipython-input-105-9f62511e6bef>\"\u001b[1;36m, line \u001b[1;32m1\u001b[0m\n\u001b[1;33m    print(reduce(lambda(x,y:x+y,a)))\u001b[0m\n\u001b[1;37m                       ^\u001b[0m\n\u001b[1;31mSyntaxError\u001b[0m\u001b[1;31m:\u001b[0m invalid syntax\n"
     ]
    }
   ],
   "source": [
    "print(reduce(lambda(x,y:x+y,a)))\n",
    "\n",
    "# ====\n",
    "\n",
    "a=[1,2,3,4,5]\n",
    "x=a[0]\n",
    "for i in range(len(a)-1):\n",
    "    x=x+a[i+1]\n",
    "print(x)"
   ]
  },
  {
   "cell_type": "code",
   "execution_count": 106,
   "metadata": {},
   "outputs": [
    {
     "name": "stdout",
     "output_type": "stream",
     "text": [
      "1\n",
      "1\n"
     ]
    }
   ],
   "source": [
    "x=1  # 전역변수 - 함수 바깥에 선언된 변수, 함수 내/외부에서 모두 접근 가능\n",
    "def f():          # 함수 정의\n",
    "    print(x)\n",
    "f()               # 함수 호출\n",
    "print(x)"
   ]
  },
  {
   "cell_type": "code",
   "execution_count": 112,
   "metadata": {},
   "outputs": [
    {
     "name": "stdout",
     "output_type": "stream",
     "text": [
      "2\n"
     ]
    }
   ],
   "source": [
    "# 지역변수 - 함수 내부에서 선언된 변수, 함수 내부에서만 접근 가능\n",
    "def f2():\n",
    "    x2=2\n",
    "    print(x2)\n",
    "f2()"
   ]
  },
  {
   "cell_type": "code",
   "execution_count": 113,
   "metadata": {},
   "outputs": [
    {
     "name": "stdout",
     "output_type": "stream",
     "text": [
      "20\n",
      "10\n"
     ]
    }
   ],
   "source": [
    "x=10\n",
    "def f3():\n",
    "    x=20\n",
    "    print(x)  # 지역변수값 출력\n",
    "f3()\n",
    "print(x)  # 전역변수값 출력"
   ]
  },
  {
   "cell_type": "code",
   "execution_count": 114,
   "metadata": {},
   "outputs": [
    {
     "name": "stdout",
     "output_type": "stream",
     "text": [
      "20\n",
      "20\n"
     ]
    }
   ],
   "source": [
    "x=10\n",
    "def f3():\n",
    "    # global - 함수 내부에서 전역변수값을 변경할 경우\n",
    "    # global 뒤에 전역변수 이름 지정\n",
    "    global x\n",
    "    x=20\n",
    "    print(x)  # 전역변수값 출력\n",
    "f3()\n",
    "print(x)  "
   ]
  },
  {
   "cell_type": "code",
   "execution_count": 118,
   "metadata": {},
   "outputs": [
    {
     "name": "stdout",
     "output_type": "stream",
     "text": [
      "20\n",
      "20\n"
     ]
    }
   ],
   "source": [
    "def f4():\n",
    "    global x4\n",
    "    x4=20\n",
    "    print(x4)\n",
    "f4()\n",
    "print(x4)"
   ]
  },
  {
   "cell_type": "code",
   "execution_count": 119,
   "metadata": {},
   "outputs": [
    {
     "name": "stdout",
     "output_type": "stream",
     "text": [
      "hello\n"
     ]
    }
   ],
   "source": [
    "# 함수 내부에 함수 정의\n",
    "\"\"\"\n",
    "def 함수1():\n",
    "    문장\n",
    "    def 함수2():\n",
    "    문장\n",
    "\"\"\"\n",
    "def outer():\n",
    "    msg='hello'\n",
    "    def inner():\n",
    "        print(msg)\n",
    "    inner()\n",
    "outer()\n",
    "    "
   ]
  },
  {
   "cell_type": "code",
   "execution_count": 121,
   "metadata": {},
   "outputs": [
    {
     "name": "stdout",
     "output_type": "stream",
     "text": [
      "10\n"
     ]
    }
   ],
   "source": [
    "def f5():\n",
    "    x=10\n",
    "    def f6():\n",
    "        x=20\n",
    "    f6()\n",
    "    print(x)\n",
    "f5()"
   ]
  },
  {
   "cell_type": "code",
   "execution_count": 126,
   "metadata": {},
   "outputs": [],
   "source": [
    "f=open('c:/da/newFile.txt','w')  #열기 모드(쓰기(w)/읽기(r))\n",
    "# 쓰기모드로 열 경우, 이미 파일이 존재할 경우 기존 내용이 사라짐\n",
    "\n",
    "# 파일 내용 작성\n",
    "for i in range(1,11):\n",
    "    data='%d번 줄입니다\\n' % i\n",
    "    f.write(data)\n",
    "f.close()"
   ]
  },
  {
   "cell_type": "code",
   "execution_count": 127,
   "metadata": {},
   "outputs": [
    {
     "name": "stdout",
     "output_type": "stream",
     "text": [
      "1번 줄입니다\n",
      "\n"
     ]
    }
   ],
   "source": [
    "# readline 함수\n",
    "f=open('c:/da/newFile.txt', 'r')\n",
    "line=f.readline()\n",
    "print(line)\n",
    "f.close()"
   ]
  },
  {
   "cell_type": "code",
   "execution_count": 128,
   "metadata": {},
   "outputs": [
    {
     "name": "stdout",
     "output_type": "stream",
     "text": [
      "1번 줄입니다\n",
      "\n",
      "2번 줄입니다\n",
      "\n",
      "3번 줄입니다\n",
      "\n",
      "4번 줄입니다\n",
      "\n",
      "5번 줄입니다\n",
      "\n",
      "6번 줄입니다\n",
      "\n",
      "7번 줄입니다\n",
      "\n",
      "8번 줄입니다\n",
      "\n",
      "9번 줄입니다\n",
      "\n",
      "10번 줄입니다\n",
      "\n"
     ]
    }
   ],
   "source": [
    "# readline 함수\n",
    "f=open('c:/da/newFile.txt', 'r')\n",
    "while True:\n",
    "    line=f.readline()  # 더이상 읽을 줄이 없으면 none 출력\n",
    "    if not line:break\n",
    "    print(line)\n",
    "f.close()"
   ]
  },
  {
   "cell_type": "code",
   "execution_count": 129,
   "metadata": {},
   "outputs": [
    {
     "name": "stdout",
     "output_type": "stream",
     "text": [
      "['1번 줄입니다\\n', '2번 줄입니다\\n', '3번 줄입니다\\n', '4번 줄입니다\\n', '5번 줄입니다\\n', '6번 줄입니다\\n', '7번 줄입니다\\n', '8번 줄입니다\\n', '9번 줄입니다\\n', '10번 줄입니다\\n']\n"
     ]
    }
   ],
   "source": [
    "f=open('c:/da/newFile.txt','r')\n",
    "lines=f.readlines()\n",
    "print(lines)\n"
   ]
  },
  {
   "cell_type": "code",
   "execution_count": 131,
   "metadata": {},
   "outputs": [
    {
     "name": "stdout",
     "output_type": "stream",
     "text": [
      "\n"
     ]
    }
   ],
   "source": [
    "data=f.read()\n",
    "print(data)\n",
    "f.close()"
   ]
  },
  {
   "cell_type": "code",
   "execution_count": 134,
   "metadata": {},
   "outputs": [],
   "source": [
    "# 파일에 새로운 내용 추가\n",
    "\n",
    "f=open('c:/da/newFile.txt','a')\n",
    "for i in range(11,20):\n",
    "    data='%d번째 줄입니다\\n' % i\n",
    "    f.write(data)\n",
    "f.close()"
   ]
  },
  {
   "cell_type": "code",
   "execution_count": 140,
   "metadata": {},
   "outputs": [],
   "source": [
    "# close 없이 생성 -> with      \n",
    "with open('c:/da/newFile.txt','w') as f:\n",
    "    f.write('life is too short')\n",
    "# 함수를 벗어났을 때 자동으로 close"
   ]
  },
  {
   "cell_type": "code",
   "execution_count": null,
   "metadata": {},
   "outputs": [],
   "source": [
    "# 1. 회문 판별하기\n",
    "# 단어 입력: level(입력)\n",
    "# True\n",
    "# 단어 입력: hello(입력)\n",
    "# False\n",
    "\n",
    "n=str(input())\n",
    "l=list(n)\n",
    "if len(n)%2==0 and l \n",
    "    "
   ]
  },
  {
   "cell_type": "code",
   "execution_count": null,
   "metadata": {},
   "outputs": [],
   "source": [
    "# 2.n-gram 만들기\n",
    "# 입력 : hello\n",
    "# he\n",
    "# el\n",
    "# ll\n",
    "# lo\n",
    "\n",
    "n=input()\n"
   ]
  },
  {
   "cell_type": "code",
   "execution_count": null,
   "metadata": {},
   "outputs": [],
   "source": [
    "# 3. 파일명 포매팅\n",
    "# 입력:\n",
    "# 1.jpg 10.jpg 2.jpg\n",
    "# 출력:\n",
    "# ['001.jpg', '010.jpg', '002'.jpg]\n",
    "\n"
   ]
  },
  {
   "cell_type": "code",
   "execution_count": 150,
   "metadata": {},
   "outputs": [],
   "source": [
    "# N = 10, K = 3\n",
    "\n",
    "# a=[1,2,3,4,5,6,7,8,9,10]\n",
    "for i in range(1,11):\n",
    "    if i%3==0:\n",
    "        del i"
   ]
  }
 ],
 "metadata": {
  "kernelspec": {
   "display_name": "Python 3",
   "language": "python",
   "name": "python3"
  },
  "language_info": {
   "codemirror_mode": {
    "name": "ipython",
    "version": 3
   },
   "file_extension": ".py",
   "mimetype": "text/x-python",
   "name": "python",
   "nbconvert_exporter": "python",
   "pygments_lexer": "ipython3",
   "version": "3.7.4"
  }
 },
 "nbformat": 4,
 "nbformat_minor": 2
}
