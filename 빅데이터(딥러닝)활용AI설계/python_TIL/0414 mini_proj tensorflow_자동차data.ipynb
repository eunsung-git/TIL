{
 "cells": [
  {
   "cell_type": "code",
   "execution_count": 71,
   "metadata": {},
   "outputs": [],
   "source": [
    "import pandas as pd\n",
    "\n",
    "path = r'C:\\\\Users\\\\student\\\\Desktop\\\\dataset\\\\python\\\\carsdata'\n",
    "cardata = pd.read_csv(path+'\\\\cars.csv')"
   ]
  },
  {
   "cell_type": "code",
   "execution_count": 72,
   "metadata": {},
   "outputs": [
    {
     "data": {
      "text/plain": [
       "Index(['mpg', ' cylinders', ' cubicinches', ' hp', ' weightlbs', ' time-to-60',\n",
       "       ' year', ' brand'],\n",
       "      dtype='object')"
      ]
     },
     "execution_count": 72,
     "metadata": {},
     "output_type": "execute_result"
    }
   ],
   "source": [
    "cardata.columns"
   ]
  },
  {
   "cell_type": "code",
   "execution_count": 73,
   "metadata": {},
   "outputs": [],
   "source": [
    "cardata = cardata.iloc[:,[1,3]]"
   ]
  },
  {
   "cell_type": "code",
   "execution_count": 74,
   "metadata": {},
   "outputs": [
    {
     "data": {
      "text/plain": [
       "Index([' cylinders', ' hp'], dtype='object')"
      ]
     },
     "execution_count": 74,
     "metadata": {},
     "output_type": "execute_result"
    }
   ],
   "source": [
    "cardata.columns"
   ]
  },
  {
   "cell_type": "code",
   "execution_count": 75,
   "metadata": {},
   "outputs": [
    {
     "data": {
      "text/plain": [
       "(261,)"
      ]
     },
     "execution_count": 75,
     "metadata": {},
     "output_type": "execute_result"
    }
   ],
   "source": [
    "cardata.iloc[:,0].shape"
   ]
  },
  {
   "cell_type": "code",
   "execution_count": 76,
   "metadata": {},
   "outputs": [],
   "source": [
    "x_cylinders = list(cardata.iloc[:,0])\n",
    "y_hp = list(cardata.iloc[:,1])"
   ]
  },
  {
   "cell_type": "code",
   "execution_count": 77,
   "metadata": {},
   "outputs": [],
   "source": [
    "import tensorflow as tf\n",
    "\n",
    "w = tf.Variable(tf.random_normal([1]))\n",
    "b = tf.Variable(tf.random_normal([1]))\n",
    "hf = x_cylinders*w+b\n",
    "\n",
    "session = tf.Session()\n",
    "session.run(tf.global_variables_initializer())\n",
    "\n",
    "cost = tf.reduce_mean(tf.square(hf-y_hp))"
   ]
  },
  {
   "cell_type": "code",
   "execution_count": 78,
   "metadata": {},
   "outputs": [
    {
     "name": "stdout",
     "output_type": "stream",
     "text": [
      "0 12731.397 [0.07588387] [0.5491068]\n",
      "10000 467.01245 [19.52112] [-2.645878]\n",
      "20000 466.85068 [19.706339] [-3.777532]\n",
      "30000 466.84528 [19.740103] [-3.9838383]\n",
      "40000 466.84512 [19.746172] [-4.0210075]\n",
      "50000 466.8451 [19.747238] [-4.0275464]\n",
      "60000 466.8451 [19.747238] [-4.0275464]\n",
      "70000 466.8451 [19.747238] [-4.0275464]\n",
      "80000 466.8451 [19.747238] [-4.0275464]\n",
      "90000 466.8451 [19.747238] [-4.0275464]\n",
      "100000 466.8451 [19.747238] [-4.0275464]\n"
     ]
    }
   ],
   "source": [
    "opt = tf.train.GradientDescentOptimizer(0.001)\n",
    "train = opt.minimize(cost)\n",
    "\n",
    "for step in range(100001):\n",
    "    session.run(train)\n",
    "    if step%10000==0:\n",
    "        print(step,session.run(cost),session.run(w),session.run(b))"
   ]
  },
  {
   "cell_type": "code",
   "execution_count": 80,
   "metadata": {},
   "outputs": [
    {
     "name": "stdout",
     "output_type": "stream",
     "text": [
      "예상값 : 134.20312070846558\n"
     ]
    }
   ],
   "source": [
    "yhat = session.run(w)[0]*7+session.run(b)[0]\n",
    "print('예상값 :',yhat)"
   ]
  },
  {
   "cell_type": "code",
   "execution_count": null,
   "metadata": {},
   "outputs": [],
   "source": []
  }
 ],
 "metadata": {
  "kernelspec": {
   "display_name": "Python 3",
   "language": "python",
   "name": "python3"
  },
  "language_info": {
   "codemirror_mode": {
    "name": "ipython",
    "version": 3
   },
   "file_extension": ".py",
   "mimetype": "text/x-python",
   "name": "python",
   "nbconvert_exporter": "python",
   "pygments_lexer": "ipython3",
   "version": "3.7.4"
  }
 },
 "nbformat": 4,
 "nbformat_minor": 2
}
