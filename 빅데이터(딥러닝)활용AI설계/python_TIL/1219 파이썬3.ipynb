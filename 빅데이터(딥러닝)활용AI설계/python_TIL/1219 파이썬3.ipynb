{
 "cells": [
  {
   "cell_type": "code",
   "execution_count": 4,
   "metadata": {},
   "outputs": [],
   "source": [
    "#자료구조 : 자료를 저장 및 관리하는 방법 - python - 리스트, 튜플, 딕셔너리, \n",
    "#알고리즘 : 문제를 해결하는 방법\n",
    "\n",
    "#리스트[] - 생성, 삭제, 수정 가능\n",
    "#튜플(  ,  , ) - 변경 x"
   ]
  },
  {
   "cell_type": "code",
   "execution_count": 2,
   "metadata": {},
   "outputs": [
    {
     "data": {
      "text/plain": [
       "(3, 2, 5, 6, 1)"
      ]
     },
     "execution_count": 2,
     "metadata": {},
     "output_type": "execute_result"
    }
   ],
   "source": [
    "a=(3,2,5,6,1)\n",
    "a"
   ]
  },
  {
   "cell_type": "code",
   "execution_count": 3,
   "metadata": {},
   "outputs": [
    {
     "data": {
      "text/plain": [
       "(3, 2, 5, 6, 1)"
      ]
     },
     "execution_count": 3,
     "metadata": {},
     "output_type": "execute_result"
    }
   ],
   "source": [
    "# 괄호를 묶지 않아도 튜플 가능\n",
    "\n",
    "a=3,2,5,6,1\n",
    "a"
   ]
  },
  {
   "cell_type": "code",
   "execution_count": 8,
   "metadata": {},
   "outputs": [
    {
     "data": {
      "text/plain": [
       "int"
      ]
     },
     "execution_count": 8,
     "metadata": {},
     "output_type": "execute_result"
    }
   ],
   "source": [
    "a1=()\n",
    "a1\n",
    "\n",
    "a2=5\n",
    "type(a2)"
   ]
  },
  {
   "cell_type": "code",
   "execution_count": 9,
   "metadata": {},
   "outputs": [
    {
     "data": {
      "text/plain": [
       "tuple"
      ]
     },
     "execution_count": 9,
     "metadata": {},
     "output_type": "execute_result"
    }
   ],
   "source": [
    "# 1개 값 튜플 정의할 때는 뒤에 , 추가\n",
    "a3=5,    \n",
    "type(a3)"
   ]
  },
  {
   "cell_type": "code",
   "execution_count": 13,
   "metadata": {},
   "outputs": [
    {
     "data": {
      "text/plain": [
       "('john', 25, 180.5, True)"
      ]
     },
     "execution_count": 13,
     "metadata": {},
     "output_type": "execute_result"
    }
   ],
   "source": [
    "# 튜플은 자료형에 관계없이 데이터 저장 가능\n",
    "a4=('john',25,180.5,True)\n",
    "a4\n",
    "\n",
    "#a4[1]=50    --- error  -> 데이터가 변경되지 않고 계속 유지되어야 하는 경우 튜플 사용"
   ]
  },
  {
   "cell_type": "code",
   "execution_count": 17,
   "metadata": {},
   "outputs": [
    {
     "data": {
      "text/plain": [
       "(0, 1, 2, 3, 4, 5, 6, 7, 8, 9)"
      ]
     },
     "execution_count": 17,
     "metadata": {},
     "output_type": "execute_result"
    }
   ],
   "source": [
    "a=tuple(range(10))\n",
    "a"
   ]
  },
  {
   "cell_type": "code",
   "execution_count": 21,
   "metadata": {},
   "outputs": [
    {
     "data": {
      "text/plain": [
       "[1, 2, 3]"
      ]
     },
     "execution_count": 21,
     "metadata": {},
     "output_type": "execute_result"
    }
   ],
   "source": [
    "# tuple <-> list\n",
    "a=[1,2,3]\n",
    "a\n",
    "a=tuple(a)\n",
    "a\n",
    "a=list(a)\n",
    "a"
   ]
  },
  {
   "cell_type": "code",
   "execution_count": 22,
   "metadata": {},
   "outputs": [
    {
     "data": {
      "text/plain": [
       "['h', 'e', 'l', 'l', 'o']"
      ]
     },
     "execution_count": 22,
     "metadata": {},
     "output_type": "execute_result"
    }
   ],
   "source": [
    "list('hello')"
   ]
  },
  {
   "cell_type": "code",
   "execution_count": 23,
   "metadata": {},
   "outputs": [
    {
     "data": {
      "text/plain": [
       "('h', 'e', 'l', 'l', 'o')"
      ]
     },
     "execution_count": 23,
     "metadata": {},
     "output_type": "execute_result"
    }
   ],
   "source": [
    "tuple('hello')"
   ]
  },
  {
   "cell_type": "code",
   "execution_count": 29,
   "metadata": {},
   "outputs": [
    {
     "data": {
      "text/plain": [
       "2"
      ]
     },
     "execution_count": 29,
     "metadata": {},
     "output_type": "execute_result"
    }
   ],
   "source": [
    "x,y=[1,2]\n",
    "x\n",
    "y\n",
    "x,y=(1,2)\n",
    "x\n",
    "y\n",
    "\n",
    "#unpacking - list, tuple의 요소를 여러 개의 변수에 할당하는 것\n",
    "#packing - 변수에 list, tuple을 할당하는 것\n",
    "a=[1,2,3]  #list packing\n",
    "b=(1,2,3)  #tuple packing"
   ]
  },
  {
   "cell_type": "code",
   "execution_count": 30,
   "metadata": {},
   "outputs": [
    {
     "ename": "TypeError",
     "evalue": "'tuple' object doesn't support item deletion",
     "output_type": "error",
     "traceback": [
      "\u001b[1;31m---------------------------------------------------------------------------\u001b[0m",
      "\u001b[1;31mTypeError\u001b[0m                                 Traceback (most recent call last)",
      "\u001b[1;32m<ipython-input-30-7419f72a3f3a>\u001b[0m in \u001b[0;36m<module>\u001b[1;34m\u001b[0m\n\u001b[0;32m      1\u001b[0m \u001b[0mt1\u001b[0m\u001b[1;33m=\u001b[0m\u001b[1;33m(\u001b[0m\u001b[1;36m1\u001b[0m\u001b[1;33m,\u001b[0m\u001b[1;36m2\u001b[0m\u001b[1;33m,\u001b[0m\u001b[1;34m'x'\u001b[0m\u001b[1;33m,\u001b[0m\u001b[1;34m'y'\u001b[0m\u001b[1;33m)\u001b[0m\u001b[1;33m\u001b[0m\u001b[1;33m\u001b[0m\u001b[0m\n\u001b[1;32m----> 2\u001b[1;33m \u001b[1;32mdel\u001b[0m \u001b[0mt1\u001b[0m\u001b[1;33m[\u001b[0m\u001b[1;36m0\u001b[0m\u001b[1;33m]\u001b[0m\u001b[1;33m\u001b[0m\u001b[1;33m\u001b[0m\u001b[0m\n\u001b[0m",
      "\u001b[1;31mTypeError\u001b[0m: 'tuple' object doesn't support item deletion"
     ]
    }
   ],
   "source": [
    "t1=(1,2,'x','y')\n",
    "del t1[0]\n",
    "# 데이터 삭제 불가능"
   ]
  },
  {
   "cell_type": "code",
   "execution_count": 31,
   "metadata": {},
   "outputs": [
    {
     "data": {
      "text/plain": [
       "(2, 'x', 'y')"
      ]
     },
     "execution_count": 31,
     "metadata": {},
     "output_type": "execute_result"
    }
   ],
   "source": [
    "t1=(1,2,'x','y')\n",
    "t1[1:]"
   ]
  },
  {
   "cell_type": "code",
   "execution_count": 32,
   "metadata": {},
   "outputs": [
    {
     "data": {
      "text/plain": [
       "(1, 2, 'x', 'y', 3, 4)"
      ]
     },
     "execution_count": 32,
     "metadata": {},
     "output_type": "execute_result"
    }
   ],
   "source": [
    "t1=(1,2,'x','y')\n",
    "t2=(3,4)\n",
    "t1+t2"
   ]
  },
  {
   "cell_type": "code",
   "execution_count": 33,
   "metadata": {},
   "outputs": [
    {
     "data": {
      "text/plain": [
       "(3, 4, 3, 4, 3, 4)"
      ]
     },
     "execution_count": 33,
     "metadata": {},
     "output_type": "execute_result"
    }
   ],
   "source": [
    "t2=(3,4)\n",
    "t2*3"
   ]
  },
  {
   "cell_type": "code",
   "execution_count": 35,
   "metadata": {},
   "outputs": [
    {
     "data": {
      "text/plain": [
       "2"
      ]
     },
     "execution_count": 35,
     "metadata": {},
     "output_type": "execute_result"
    }
   ],
   "source": [
    "t2=(3,4)\n",
    "len(t2)"
   ]
  },
  {
   "cell_type": "code",
   "execution_count": 44,
   "metadata": {},
   "outputs": [
    {
     "data": {
      "text/plain": [
       "[0, 10, 20, 30, 40, 50, 60, 70, 80, 90]"
      ]
     },
     "execution_count": 44,
     "metadata": {},
     "output_type": "execute_result"
    }
   ],
   "source": [
    "#sequence형 - 데이터가 연속적으로 표현된 자료형 ex)list, tuple, range, 문자열\n",
    "#sequence형 \n",
    "\n",
    "# 0~90까지 10씩 증가 리스트 a\n",
    "a=list(range(0,91,10))\n",
    "a"
   ]
  },
  {
   "cell_type": "code",
   "execution_count": 45,
   "metadata": {},
   "outputs": [
    {
     "data": {
      "text/plain": [
       "True"
      ]
     },
     "execution_count": 45,
     "metadata": {},
     "output_type": "execute_result"
    }
   ],
   "source": [
    "# 0~90까지 10씩 증가 리스트 a\n",
    "a=list(range(0,91,10))\n",
    "a\n",
    "\n",
    "#sequence형에 대해 in 연산자 사용 가능\n",
    "30 in a   #a 안에 30이 있나?\n",
    "100 in a\n",
    "30 not in a\n",
    "100 not in a"
   ]
  },
  {
   "cell_type": "code",
   "execution_count": 49,
   "metadata": {},
   "outputs": [
    {
     "data": {
      "text/plain": [
       "False"
      ]
     },
     "execution_count": 49,
     "metadata": {},
     "output_type": "execute_result"
    }
   ],
   "source": [
    "'h' in 'hello, python'\n",
    "'h' not in 'hello, python'\n",
    "7 in range(100)\n",
    "100 in range(100)"
   ]
  },
  {
   "cell_type": "code",
   "execution_count": 65,
   "metadata": {},
   "outputs": [
    {
     "data": {
      "text/plain": [
       "[0, 1, 2, 0, 1, 2, 0, 1, 2]"
      ]
     },
     "execution_count": 65,
     "metadata": {},
     "output_type": "execute_result"
    }
   ],
   "source": [
    "# +연산자로 sequence형 자료 연결 가능\n",
    "a=[1,2]\n",
    "b=[3,4]\n",
    "a+b\n",
    "'hello'+'hi'\n",
    "a=(1,2)\n",
    "b=(3,4)\n",
    "a+b\n",
    "\n",
    "# 단, range 는 +연산자 불가능\n",
    "# range(0,3)+range(3,5)\n",
    "list(range(0,3))+list(range(3,5))\n",
    "tuple(range(0,3))+tuple(range(3,5))\n",
    "\n",
    "#문자+숫자 (x)  -> 숫자를 문자로 변환\n",
    "'hi'+str(7)\n",
    "\n",
    "#ange(0,3)*3   #error\n",
    "list(range(0,3))*3"
   ]
  },
  {
   "cell_type": "code",
   "execution_count": 73,
   "metadata": {},
   "outputs": [
    {
     "data": {
      "text/plain": [
       "6"
      ]
     },
     "execution_count": 73,
     "metadata": {},
     "output_type": "execute_result"
    }
   ],
   "source": [
    "# len : sequence 형의 길이\n",
    "\n",
    "a=[1,2,3]\n",
    "len(a)\n",
    "a=(1,2,3)\n",
    "len(a)\n",
    "len(range(0,3))\n",
    "len('hello')\n",
    "\n",
    "hi='안녕'\n",
    "len(hi)   # 문자의 개수\n",
    "\n",
    "# urf-8\n",
    "len(hi.encode('utf-8'))"
   ]
  },
  {
   "cell_type": "code",
   "execution_count": 80,
   "metadata": {},
   "outputs": [
    {
     "data": {
      "text/plain": [
       "'o'"
      ]
     },
     "execution_count": 80,
     "metadata": {},
     "output_type": "execute_result"
    }
   ],
   "source": [
    "# sequence형 자료 참조는 []\n",
    "\n",
    "x='hi hello'\n",
    "x[0]\n",
    "x.__getitem__(0)\n",
    "# x[10]  \n",
    "len(x)\n",
    "x[len(x)-1]\n",
    "x[-1]"
   ]
  },
  {
   "cell_type": "code",
   "execution_count": 93,
   "metadata": {},
   "outputs": [
    {
     "data": {
      "text/plain": [
       "'hi hello'"
      ]
     },
     "execution_count": 93,
     "metadata": {},
     "output_type": "execute_result"
    }
   ],
   "source": [
    "x[2:-1]\n",
    "x[2:]\n",
    "x[1:7:2]   # index 1부터 2씩 증가하면서 6까지 \n",
    "x[:8:2]\n",
    "x[3::2]\n",
    "x[::2]\n",
    "x[::]\n",
    "\n",
    "x[5:1]\n",
    "x[5:1:-1]  # 5,4,3,2\n",
    "x[::-1]  #역순\n",
    "\n",
    "x[0:len(x)]\n",
    "x[:len(x)]"
   ]
  },
  {
   "cell_type": "code",
   "execution_count": 96,
   "metadata": {},
   "outputs": [
    {
     "data": {
      "text/plain": [
       "[0, 2, 4, 6]"
      ]
     },
     "execution_count": 96,
     "metadata": {},
     "output_type": "execute_result"
    }
   ],
   "source": [
    "x=range(10)\n",
    "x[4:7]\n",
    "list(range(0,7,2))"
   ]
  },
  {
   "cell_type": "code",
   "execution_count": 98,
   "metadata": {},
   "outputs": [
    {
     "data": {
      "text/plain": [
       "'hlwl'"
      ]
     },
     "execution_count": 98,
     "metadata": {},
     "output_type": "execute_result"
    }
   ],
   "source": [
    "x='hello world'\n",
    "x[:10:3]"
   ]
  },
  {
   "cell_type": "code",
   "execution_count": 108,
   "metadata": {},
   "outputs": [
    {
     "data": {
      "text/plain": [
       "[0, 'a', 21, 'b', 'x', 'c', 60, 'd', 80, 90]"
      ]
     },
     "execution_count": 108,
     "metadata": {},
     "output_type": "execute_result"
    }
   ],
   "source": [
    "a=list(range(0,100,10))\n",
    "a\n",
    "a[1]=11\n",
    "a\n",
    "a[2:5]=[21,31,'x']\n",
    "a\n",
    "a[1:9:2]=['a','b','c','d']\n",
    "a"
   ]
  },
  {
   "cell_type": "code",
   "execution_count": 111,
   "metadata": {},
   "outputs": [
    {
     "data": {
      "text/plain": [
       "[0, 'a']"
      ]
     },
     "execution_count": 111,
     "metadata": {},
     "output_type": "execute_result"
    }
   ],
   "source": [
    "del a[2:6]\n",
    "a"
   ]
  },
  {
   "cell_type": "code",
   "execution_count": 112,
   "metadata": {},
   "outputs": [],
   "source": [
    "# dictionary : key&value 로 자료 표현\n",
    "\n",
    "person=[180,70,'0','seoul']\n",
    "person2={'키':180, '몸무게':70, '혈액형':'O','사는곳':'seoul'}"
   ]
  },
  {
   "cell_type": "code",
   "execution_count": 114,
   "metadata": {},
   "outputs": [
    {
     "data": {
      "text/plain": [
       "{'키': 180, '몸무게': 70, '혈액형': 'O', '사는곳': 'seoul'}"
      ]
     },
     "execution_count": 114,
     "metadata": {},
     "output_type": "execute_result"
    }
   ],
   "source": [
    "person2"
   ]
  },
  {
   "cell_type": "code",
   "execution_count": 119,
   "metadata": {},
   "outputs": [
    {
     "data": {
      "text/plain": [
       "{'키': 180, '몸무게': 80, '혈액형': 'O', '사는곳': 'seoul'}"
      ]
     },
     "execution_count": 119,
     "metadata": {},
     "output_type": "execute_result"
    }
   ],
   "source": [
    "person2={'키':180, '몸무게':70, '혈액형':'O','사는곳':'seoul', '몸무게':80}\n",
    "person2   # key가 중복되면 마지막 자료가 저장"
   ]
  },
  {
   "cell_type": "code",
   "execution_count": 122,
   "metadata": {},
   "outputs": [
    {
     "data": {
      "text/plain": [
       "{'키': 180, '몸무게': 70, '혈액형': 'O', '사는곳': 'seoul', False: 0}"
      ]
     },
     "execution_count": 122,
     "metadata": {},
     "output_type": "execute_result"
    }
   ],
   "source": [
    "person2={'키':180, '몸무게':70, '혈액형':'O','사는곳':'seoul', False:0}\n",
    "person2"
   ]
  },
  {
   "cell_type": "code",
   "execution_count": 124,
   "metadata": {},
   "outputs": [
    {
     "data": {
      "text/plain": [
       "{'키': 180,\n",
       " '몸무게': 70,\n",
       " '혈액형': 'O',\n",
       " '사는곳': 'seoul',\n",
       " 99: '구구',\n",
       " 3.14: [3.14, '원주율']}"
      ]
     },
     "execution_count": 124,
     "metadata": {},
     "output_type": "execute_result"
    }
   ],
   "source": [
    "person2={'키':180, '몸무게':70, '혈액형':'O','사는곳':'seoul', 99:'구구', 3.14:[3.14, '원주율']}\n",
    "person2"
   ]
  },
  {
   "cell_type": "code",
   "execution_count": 125,
   "metadata": {},
   "outputs": [
    {
     "ename": "TypeError",
     "evalue": "unhashable type: 'list'",
     "output_type": "error",
     "traceback": [
      "\u001b[1;31m---------------------------------------------------------------------------\u001b[0m",
      "\u001b[1;31mTypeError\u001b[0m                                 Traceback (most recent call last)",
      "\u001b[1;32m<ipython-input-125-d1067822474a>\u001b[0m in \u001b[0;36m<module>\u001b[1;34m\u001b[0m\n\u001b[1;32m----> 1\u001b[1;33m \u001b[0mperson2\u001b[0m\u001b[1;33m=\u001b[0m\u001b[1;33m{\u001b[0m\u001b[1;34m'키'\u001b[0m\u001b[1;33m:\u001b[0m\u001b[1;36m180\u001b[0m\u001b[1;33m,\u001b[0m \u001b[1;34m'몸무게'\u001b[0m\u001b[1;33m:\u001b[0m\u001b[1;36m70\u001b[0m\u001b[1;33m,\u001b[0m \u001b[1;34m'혈액형'\u001b[0m\u001b[1;33m:\u001b[0m\u001b[1;34m'O'\u001b[0m\u001b[1;33m,\u001b[0m\u001b[1;34m'사는곳'\u001b[0m\u001b[1;33m:\u001b[0m\u001b[1;34m'seoul'\u001b[0m\u001b[1;33m,\u001b[0m\u001b[1;33m[\u001b[0m\u001b[1;34m'주소'\u001b[0m\u001b[1;33m,\u001b[0m\u001b[1;34m'전번'\u001b[0m\u001b[1;33m]\u001b[0m\u001b[1;33m:\u001b[0m \u001b[1;34m'서울,02'\u001b[0m\u001b[1;33m}\u001b[0m\u001b[1;33m\u001b[0m\u001b[1;33m\u001b[0m\u001b[0m\n\u001b[0m",
      "\u001b[1;31mTypeError\u001b[0m: unhashable type: 'list'"
     ]
    }
   ],
   "source": [
    "person2={'키':180, '몸무게':70, '혈액형':'O','사는곳':'seoul',['주소','전번']: '서울,02'}"
   ]
  },
  {
   "cell_type": "code",
   "execution_count": 129,
   "metadata": {},
   "outputs": [
    {
     "data": {
      "text/plain": [
       "{'키': 180,\n",
       " '몸무게': 70,\n",
       " '혈액형': 'O',\n",
       " '사는곳': 'seoul',\n",
       " '취미': {'오전': ['수영', '야구'], '오후': '공부'}}"
      ]
     },
     "execution_count": 129,
     "metadata": {},
     "output_type": "execute_result"
    }
   ],
   "source": [
    "person2={'키':180, '몸무게':70, '혈액형':'O','사는곳':'seoul','취미':{'오전':['수영','야구'],'오후':'공부'}}\n",
    "person2    # value 위치에 여러 종류의 자료형 사용 가능"
   ]
  },
  {
   "cell_type": "code",
   "execution_count": 131,
   "metadata": {},
   "outputs": [
    {
     "data": {
      "text/plain": [
       "{}"
      ]
     },
     "execution_count": 131,
     "metadata": {},
     "output_type": "execute_result"
    }
   ],
   "source": [
    "# - key, value가 여러 쌍으루 구성\n",
    "# - , 로 구분\n",
    "# - Key는 불변, value는 변/불변\n",
    "\n",
    "x={}\n",
    "x\n",
    "x=dict()\n",
    "x"
   ]
  },
  {
   "cell_type": "code",
   "execution_count": 142,
   "metadata": {},
   "outputs": [
    {
     "data": {
      "text/plain": [
       "{'height': 180, 'weight': 70, 'bt': 'o'}"
      ]
     },
     "execution_count": 142,
     "metadata": {},
     "output_type": "execute_result"
    }
   ],
   "source": [
    "# dict(키1:값1, 키2:값2....)\n",
    "# 문법척 차이 구분!\n",
    "\n",
    "per=dict(height=180,weight=70,bt='o')\n",
    "per\n",
    "\n",
    "per=dict(zip(['height','weight','bt'],[180,70,'o']))\n",
    "per\n",
    "\n",
    "per=dict([('height',180),('weight',70),('bt','o')])\n",
    "per\n",
    "\n",
    "per=dict({'height':180,'weight':70,'bt':'o'})\n",
    "per"
   ]
  },
  {
   "cell_type": "code",
   "execution_count": 135,
   "metadata": {},
   "outputs": [
    {
     "data": {
      "text/plain": [
       "<zip at 0x11f73a78b88>"
      ]
     },
     "execution_count": 135,
     "metadata": {},
     "output_type": "execute_result"
    }
   ],
   "source": [
    "zip(['height','weight','bt'],[180,70,'o']) "
   ]
  },
  {
   "cell_type": "code",
   "execution_count": 144,
   "metadata": {},
   "outputs": [
    {
     "data": {
      "text/plain": [
       "{'a': [1, 2, 3]}"
      ]
     },
     "execution_count": 144,
     "metadata": {},
     "output_type": "execute_result"
    }
   ],
   "source": [
    "a={1:'hi'}\n",
    "a\n",
    "a={'a':[1,2,3]}\n",
    "a"
   ]
  },
  {
   "cell_type": "code",
   "execution_count": 147,
   "metadata": {},
   "outputs": [
    {
     "name": "stdout",
     "output_type": "stream",
     "text": [
      "{'a': [1, 2, 3], 2: 'b'}\n",
      "{1: 'a'}\n"
     ]
    },
    {
     "data": {
      "text/plain": [
       "{'a': [1, 2, 3], 2: 'b', 'name': 'hgd'}"
      ]
     },
     "execution_count": 147,
     "metadata": {},
     "output_type": "execute_result"
    }
   ],
   "source": [
    "b={1:'a'}\n",
    "print(a)\n",
    "print(b)\n",
    "a[2]='b' #key : 2, value : 'b'\n",
    "a\n",
    "a['name']='hgd'\n",
    "a"
   ]
  },
  {
   "cell_type": "code",
   "execution_count": 162,
   "metadata": {},
   "outputs": [
    {
     "name": "stdout",
     "output_type": "stream",
     "text": [
      "a\n",
      "2\n",
      "name\n",
      "weight\n",
      "[1, 2, 3]\n",
      "b\n",
      "lss\n",
      "70.5\n",
      "('a', [1, 2, 3])\n",
      "(2, 'b')\n",
      "('name', 'lss')\n",
      "('weight', 70.5)\n"
     ]
    }
   ],
   "source": [
    "a['name']='lss'\n",
    "a\n",
    "# dictionary[key]='value'\n",
    "a['weight']=70.5\n",
    "a\n",
    "a['name'] # dict[key] -> vaue\n",
    "a\n",
    "'weight' in a  # key 존재 확인\n",
    "'sky' in a\n",
    "'sky' not in a\n",
    "len(a)\n",
    "a.keys()  # key 목록 확인\n",
    "\n",
    "list(a.keys())\n",
    "\n",
    "for k in a.keys():\n",
    "    print(k)\n",
    "    \n",
    "for v in a.values():\n",
    "    print(v)\n",
    "\n",
    "list(a.values())\n",
    "\n",
    "for i in a.items():\n",
    "    print(i)"
   ]
  },
  {
   "cell_type": "code",
   "execution_count": 170,
   "metadata": {},
   "outputs": [
    {
     "name": "stdout",
     "output_type": "stream",
     "text": [
      "None\n"
     ]
    }
   ],
   "source": [
    "a.get('name')   # none 나올 수 있음\n",
    "a['name']       # error \n",
    "#a['nn']\n",
    "print(a.get('nn')) "
   ]
  },
  {
   "cell_type": "code",
   "execution_count": 171,
   "metadata": {},
   "outputs": [
    {
     "data": {
      "text/plain": [
       "'kim'"
      ]
     },
     "execution_count": 171,
     "metadata": {},
     "output_type": "execute_result"
    }
   ],
   "source": [
    "a.get('nn','kim')  #dic a에 nn key가 없다면 'kim' 출력\n",
    "                   # default 설정\n",
    "    \n"
   ]
  },
  {
   "cell_type": "code",
   "execution_count": 182,
   "metadata": {},
   "outputs": [
    {
     "data": {
      "text/plain": [
       "'k'"
      ]
     },
     "execution_count": 182,
     "metadata": {},
     "output_type": "execute_result"
    }
   ],
   "source": [
    "# set : 집합\n",
    "# x={1,1,2,2,3}-> {1,2,3}  \n",
    "\n",
    "s=set([1,2,3,1])   \n",
    "s\n",
    "s2=set('hello')\n",
    "s2\n",
    "\n",
    "# - 중복 허용 x\n",
    "# - 순서 x\n",
    "\n",
    "#s2[1]  # error\n",
    "\n",
    "s3=set(['k','i','m'])\n",
    "s3list=list(s3)\n",
    "s3list\n",
    "s3list[1]\n",
    "\n",
    "s3=tuple(['k','i','m'])\n",
    "s3[0]"
   ]
  },
  {
   "cell_type": "code",
   "execution_count": 184,
   "metadata": {},
   "outputs": [],
   "source": [
    "s1=set([1,2,3,4])\n",
    "s2=set([5,6,3,4])"
   ]
  },
  {
   "cell_type": "code",
   "execution_count": 187,
   "metadata": {},
   "outputs": [
    {
     "data": {
      "text/plain": [
       "{3, 4}"
      ]
     },
     "execution_count": 187,
     "metadata": {},
     "output_type": "execute_result"
    }
   ],
   "source": [
    "# 교집합\n",
    "s1&s2\n",
    "s1.intersection(s2)"
   ]
  },
  {
   "cell_type": "code",
   "execution_count": 189,
   "metadata": {},
   "outputs": [
    {
     "data": {
      "text/plain": [
       "{1, 2, 3, 4, 5, 6}"
      ]
     },
     "execution_count": 189,
     "metadata": {},
     "output_type": "execute_result"
    }
   ],
   "source": [
    "# 합집합\n",
    "s1|s2\n",
    "s1.union(s2)"
   ]
  },
  {
   "cell_type": "code",
   "execution_count": 194,
   "metadata": {},
   "outputs": [
    {
     "data": {
      "text/plain": [
       "{1, 2}"
      ]
     },
     "execution_count": 194,
     "metadata": {},
     "output_type": "execute_result"
    }
   ],
   "source": [
    "# 차집합\n",
    "s1-s2\n",
    "s1.difference(s2)"
   ]
  },
  {
   "cell_type": "code",
   "execution_count": 199,
   "metadata": {},
   "outputs": [
    {
     "data": {
      "text/plain": [
       "{1, 2, 3, 4, 5}"
      ]
     },
     "execution_count": 199,
     "metadata": {},
     "output_type": "execute_result"
    }
   ],
   "source": [
    "s=set([1,2])\n",
    "s.add(3)     # 데이터 추가\n",
    "s\n",
    "#s.add([4,5])  add 는 2개 이상 추가 x\n",
    "s\n",
    "s.update([4,5])\n",
    "s"
   ]
  },
  {
   "cell_type": "code",
   "execution_count": 211,
   "metadata": {},
   "outputs": [
    {
     "name": "stdout",
     "output_type": "stream",
     "text": [
      "\n",
      "문장을 수행합니다\n",
      "수행합니다\n",
      "수행합니다\n"
     ]
    }
   ],
   "source": [
    "# true : 'test', [1,2], (1,2), {1,2}, 1        -> 있으면 참\n",
    "# false : '', [], (),{}, 0, none               -> 없으면 거짓\n",
    "\n",
    "#조건문\n",
    "\n",
    "#if 조건:\n",
    "#    수행문\n",
    " \n",
    "x=10\n",
    "if x==10:\n",
    "    print()\n",
    "    \n",
    "X=3\n",
    "if X==10:\n",
    "    print(\"10입니다\")\n",
    "    print(\"5보다 큽니다\")\n",
    "print(\"문장을 수행합니다\")\n",
    "\n",
    "if \"test\":\n",
    "    print(\"수행합니다\")\n",
    "    \n",
    "if 1:\n",
    "    print(\"수행합니다\")\n",
    "\n",
    "if []:\n",
    "    print(\"수행합니다\")\n",
    "    \n",
    "if None:\n",
    "    print(\"수행합니다\")"
   ]
  },
  {
   "cell_type": "code",
   "execution_count": 214,
   "metadata": {},
   "outputs": [
    {
     "name": "stdout",
     "output_type": "stream",
     "text": [
      "안녕\n",
      "하세요\n"
     ]
    }
   ],
   "source": [
    "x=10\n",
    "if x==10:\n",
    "    pass\n",
    "if x==10:\n",
    "    print('안녕')\n",
    "    if x%2==0:\n",
    "        print('하세요')"
   ]
  },
  {
   "cell_type": "code",
   "execution_count": 215,
   "metadata": {},
   "outputs": [
    {
     "name": "stdout",
     "output_type": "stream",
     "text": [
      "x는\n",
      "5입니다\n"
     ]
    }
   ],
   "source": [
    "x=5\n",
    "if x==5:\n",
    "    print('x는')\n",
    "print(\"5입니다\")"
   ]
  },
  {
   "cell_type": "code",
   "execution_count": 217,
   "metadata": {},
   "outputs": [
    {
     "name": "stdout",
     "output_type": "stream",
     "text": [
      "3 이상\n",
      "10 미만\n",
      "입니다\n"
     ]
    }
   ],
   "source": [
    "x=5\n",
    "if x>=3:\n",
    "    print('3 이상')\n",
    "    if x<10:\n",
    "        print('10 미만')\n",
    "    if x<5:\n",
    "        print('5 미만')\n",
    "print('입니다')"
   ]
  },
  {
   "cell_type": "code",
   "execution_count": 218,
   "metadata": {},
   "outputs": [
    {
     "name": "stdout",
     "output_type": "stream",
     "text": [
      "거짓\n"
     ]
    }
   ],
   "source": [
    "if []:\n",
    "    print('참')\n",
    "else:\n",
    "    print('거짓')"
   ]
  },
  {
   "cell_type": "code",
   "execution_count": 219,
   "metadata": {},
   "outputs": [
    {
     "name": "stdout",
     "output_type": "stream",
     "text": [
      "참\n"
     ]
    }
   ],
   "source": [
    "if [1,2]:\n",
    "    print('참')\n",
    "else:\n",
    "    print('거짓')"
   ]
  },
  {
   "cell_type": "code",
   "execution_count": 220,
   "metadata": {},
   "outputs": [
    {
     "name": "stdout",
     "output_type": "stream",
     "text": [
      "거짓\n"
     ]
    }
   ],
   "source": [
    "if None:\n",
    "    print('참')\n",
    "else:\n",
    "    print('거짓')"
   ]
  },
  {
   "cell_type": "code",
   "execution_count": 224,
   "metadata": {},
   "outputs": [
    {
     "data": {
      "text/plain": [
       "False"
      ]
     },
     "execution_count": 224,
     "metadata": {},
     "output_type": "execute_result"
    }
   ],
   "source": [
    "bool(0)\n",
    "bool(10)\n",
    "bool('python')\n",
    "bool('')"
   ]
  },
  {
   "cell_type": "code",
   "execution_count": 226,
   "metadata": {},
   "outputs": [
    {
     "name": "stdout",
     "output_type": "stream",
     "text": [
      "3\n"
     ]
    },
    {
     "data": {
      "text/plain": [
       "[1, 2]"
      ]
     },
     "execution_count": 226,
     "metadata": {},
     "output_type": "execute_result"
    }
   ],
   "source": [
    "a=[1,2,3]\n",
    "if a:\n",
    "    print(a.pop())\n",
    "a"
   ]
  },
  {
   "cell_type": "code",
   "execution_count": 228,
   "metadata": {},
   "outputs": [
    {
     "name": "stdout",
     "output_type": "stream",
     "text": [
      "3\n",
      "2\n",
      "1\n"
     ]
    }
   ],
   "source": [
    "a=[1,2,3]\n",
    "while a:    # [조건문]이 참인 동안에 계속 반복\n",
    "    print(a.pop())    "
   ]
  },
  {
   "cell_type": "code",
   "execution_count": null,
   "metadata": {},
   "outputs": [],
   "source": [
    "x=\n",
    "if x<10:\n",
    "    print('10보다 작아요')\n",
    "else:\n",
    "    print('10보다 커요')"
   ]
  },
  {
   "cell_type": "code",
   "execution_count": null,
   "metadata": {},
   "outputs": [],
   "source": [
    "# 1. 어떤 자연수 n이 있을 때, d(n)을 n의 각 자릿수 숫자들과 n 자신을 더한 숫자라고 정의하자.\n",
    "# 예를 들어\n",
    "# d(91) = 9 + 1 + 91 = 101\n",
    "# 이 때, n을 d(n)의 제네레이터(generator)라고 한다. 위의 예에서 91은 101의 제네레이터이다.\n",
    "# 어떤 숫자들은 하나 이상의 제네레이터를 가지고 있는데, 101의 제네레이터는 91 뿐 아니라 100도 있다. \n",
    "#그런데 반대로, 제네레이터가 없는 숫자들도 있으며, 이런 숫자를 인도의 수학자 Kaprekar가 셀프 넘버(self-number)라 이름 붙였다. \n",
    "#예를 들어 1,3,5,7,9,20,31 은 셀프 넘버 들이다.\n",
    "# 1 이상이고 5000 보다 작은 모든 셀프 넘버들의 합을 구하라.\n",
    "\n",
    "for i in range(1,4999):\n",
    "    print()\n",
    "    \n",
    "\n"
   ]
  },
  {
   "cell_type": "code",
   "execution_count": null,
   "metadata": {},
   "outputs": [],
   "source": [
    "# 2.표준 입력으로 가격(정수)과 쿠폰 이름이 각 줄에 입력됩니다. Cash3000 쿠폰은 3,000원, Cash5000 쿠폰은 5,000원을 할인합니다. \n",
    "# 쿠폰에 따라 할인된 가격을 출력하는 프로그램을 만드세요(input에서 안내 문자열은 출력하지 않아야 합니다).\n",
    "# 입력 \n",
    "# 27000\n",
    "# Cash3000\n",
    "\n",
    "# 출력\n",
    "# 24000\n",
    "\n",
    "#price=int(input('가격 입력 : '))\n",
    "#cash3000=price-int(3000)\n",
    "#print(cash3000)\n",
    "\n",
    "price=int(input('가격 입력 : '))\n",
    "coupon=str(input('쿠폰 입력 : '))\n",
    "\n",
    "#cash3000=price-int(3000)\n",
    "#cash5000=price-int(5000)\n",
    "\n",
    "if coupon=='cash3000':\n",
    "    print(price-int(3000))\n",
    "elif coupon=='cash5000':\n",
    "    print(price-int(5000))\n",
    "\n",
    "\n",
    "\n",
    "\n"
   ]
  },
  {
   "cell_type": "code",
   "execution_count": 230,
   "metadata": {},
   "outputs": [
    {
     "data": {
      "text/plain": [
       "(-10, -8, -6, -4, -2, 0, 2, 4, 6, 8)"
      ]
     },
     "execution_count": 230,
     "metadata": {},
     "output_type": "execute_result"
    }
   ],
   "source": [
    "# 3.표준 입력으로 정수가 입력됩니다. range의 시작하는 숫자는 -10, 끝나는 숫자는 10이며 입력된 정수만큼 증가하는 숫자가 \n",
    "# 들어가도록 튜플을 만들고, 해당 튜플을 출력하는 프로그램을 만드세요(input에서 안내 문자열은 출력하지 않아야 합니다).\n",
    "# 입력\n",
    "# 2\n",
    "# 출력\n",
    "# (-10, -8, -6, -4, -2, 0, 2, 4, 6, 8)\n",
    "\n",
    "tuple(range(-10,10,2))"
   ]
  },
  {
   "cell_type": "code",
   "execution_count": 234,
   "metadata": {},
   "outputs": [
    {
     "data": {
      "text/plain": [
       "{1, 2, 3, 4, 5}"
      ]
     },
     "execution_count": 234,
     "metadata": {},
     "output_type": "execute_result"
    }
   ],
   "source": [
    "# 5. a 리스트에서 중복 숫자를 제거해 보자.\n",
    "\n",
    "a = [1, 1, 1, 2, 2, 3, 3, 3, 4, 4, 5]\n",
    "set(a)"
   ]
  },
  {
   "cell_type": "code",
   "execution_count": 251,
   "metadata": {},
   "outputs": [
    {
     "ename": "SyntaxError",
     "evalue": "invalid syntax (<ipython-input-251-4e4b05a5e906>, line 7)",
     "output_type": "error",
     "traceback": [
      "\u001b[1;36m  File \u001b[1;32m\"<ipython-input-251-4e4b05a5e906>\"\u001b[1;36m, line \u001b[1;32m7\u001b[0m\n\u001b[1;33m    n.index(x)=range(1:12:2)\u001b[0m\n\u001b[1;37m                      ^\u001b[0m\n\u001b[1;31mSyntaxError\u001b[0m\u001b[1;31m:\u001b[0m invalid syntax\n"
     ]
    }
   ],
   "source": [
    "# 4.튜플 n에서 인덱스가 홀수인 요소들이 출력되게 만드세요.\n",
    "# n = -32, 75, 97, -10, 9, 32, 4, -15, 0, 76, 14, 2\n",
    "\n",
    "n= (-32, 75, 97, -10, 9, 32, 4, -15, 0, 76, 14, 2)\n",
    "\n",
    "k=list(range(1,12,2))\n",
    "\n",
    "n.index(x)=range(1,12,2)\n",
    "print(list())"
   ]
  },
  {
   "cell_type": "code",
   "execution_count": null,
   "metadata": {},
   "outputs": [],
   "source": []
  }
 ],
 "metadata": {
  "kernelspec": {
   "display_name": "Python 3",
   "language": "python",
   "name": "python3"
  },
  "language_info": {
   "codemirror_mode": {
    "name": "ipython",
    "version": 3
   },
   "file_extension": ".py",
   "mimetype": "text/x-python",
   "name": "python",
   "nbconvert_exporter": "python",
   "pygments_lexer": "ipython3",
   "version": "3.7.4"
  }
 },
 "nbformat": 4,
 "nbformat_minor": 2
}
