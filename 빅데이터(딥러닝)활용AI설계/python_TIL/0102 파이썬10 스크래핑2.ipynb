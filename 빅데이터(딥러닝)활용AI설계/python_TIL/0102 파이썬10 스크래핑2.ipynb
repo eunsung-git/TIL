{
 "cells": [
  {
   "cell_type": "code",
   "execution_count": 1,
   "metadata": {},
   "outputs": [],
   "source": [
    "from bs4 import BeautifulSoup"
   ]
  },
  {
   "cell_type": "code",
   "execution_count": 2,
   "metadata": {},
   "outputs": [],
   "source": [
    "html=\"\"\"\n",
    "<html><body>\n",
    "<h1>scrapping</h1>\n",
    "<p>webpage분석</p>\n",
    "<p>원하는 부분 추출</p>\n",
    "</body></html>\n",
    "\"\"\"\n",
    "soup=BeautifulSoup(html, 'html.parser')         # (변수명, parser 종류)"
   ]
  },
  {
   "cell_type": "code",
   "execution_count": 3,
   "metadata": {},
   "outputs": [],
   "source": [
    "h1=soup.html.body.h1\n",
    "p1=soup.html.body.p  # 가장 처음 만나는 p만 출력\n",
    "\n",
    "p2=p1.next_sibling.next_sibling"
   ]
  },
  {
   "cell_type": "code",
   "execution_count": 6,
   "metadata": {},
   "outputs": [
    {
     "data": {
      "text/plain": [
       "'원하는 부분 추출'"
      ]
     },
     "execution_count": 6,
     "metadata": {},
     "output_type": "execute_result"
    }
   ],
   "source": [
    "#h1.string\n",
    "#p1.string\n",
    "\n",
    "p2.string"
   ]
  },
  {
   "cell_type": "code",
   "execution_count": 23,
   "metadata": {},
   "outputs": [],
   "source": [
    "# find() : id 를 이용하여 직접 접근 \n",
    "\n",
    "html=\"\"\"\n",
    "<html><body>\n",
    "<h1 id='title'>scrapping</h1>\n",
    "<p id='body'>webpage분석</p>\n",
    "<p>원하는 부분 추출</p>\n",
    "</body></html>\n",
    "\"\"\"\n",
    "soup=BeautifulSoup(html, 'html.parser')   "
   ]
  },
  {
   "cell_type": "code",
   "execution_count": 27,
   "metadata": {},
   "outputs": [],
   "source": [
    "title=soup.find(id='title')\n",
    "body=soup.find(id='body')"
   ]
  },
  {
   "cell_type": "code",
   "execution_count": 28,
   "metadata": {},
   "outputs": [
    {
     "name": "stdout",
     "output_type": "stream",
     "text": [
      "title=scrapping\n",
      "body=webpage분석\n"
     ]
    }
   ],
   "source": [
    "print('title='+title.string)\n",
    "print('body='+body.string)"
   ]
  },
  {
   "cell_type": "code",
   "execution_count": 32,
   "metadata": {},
   "outputs": [],
   "source": [
    "# find_all() : 여러 개의 태그를 한 번에 추출        토지 추출할 때 사용할 것\n",
    " \n",
    "html2=\"\"\"\n",
    "<html><body>\n",
    "<ul>\n",
    "<li><a href='http://www.naver.com'>naver</a></li>\n",
    "<li><a href='http://www.daum.net'>daum</a></li>\n",
    "</ul>\n",
    "</body></html>\n",
    "\"\"\"\n",
    "\n",
    "soup2=BeautifulSoup(html2, 'html.parser')"
   ]
  },
  {
   "cell_type": "code",
   "execution_count": 39,
   "metadata": {},
   "outputs": [
    {
     "name": "stdout",
     "output_type": "stream",
     "text": [
      "naver -> http://www.naver.com\n",
      "daum -> http://www.daum.net\n"
     ]
    }
   ],
   "source": [
    "links=soup2.find_all('a')\n",
    "for a in links:\n",
    "    # if 'href' in a.attrs:\n",
    "    href=a.attrs['href']           # 속성\n",
    "    text=a.string\n",
    "    print(text, '->', href)"
   ]
  },
  {
   "cell_type": "code",
   "execution_count": 42,
   "metadata": {},
   "outputs": [],
   "source": [
    "# 날씨예보에서 특정 내용 추출\n",
    "\n",
    "import urllib.request as req"
   ]
  },
  {
   "cell_type": "code",
   "execution_count": 45,
   "metadata": {},
   "outputs": [],
   "source": [
    "url='http://www.weather.go.kr/weather/forecast/mid-term-rss3.jsp'\n",
    "res=req.urlopen(url)\n",
    "soup3=BeautifulSoup(res, 'html.parser')"
   ]
  },
  {
   "cell_type": "code",
   "execution_count": 48,
   "metadata": {},
   "outputs": [
    {
     "data": {
      "text/plain": [
       "'기상청 육상 중기예보'"
      ]
     },
     "execution_count": 48,
     "metadata": {},
     "output_type": "execute_result"
    }
   ],
   "source": [
    "soup3.title.string"
   ]
  },
  {
   "cell_type": "code",
   "execution_count": 53,
   "metadata": {},
   "outputs": [
    {
     "data": {
      "text/plain": [
       "'기상청 육상 중기예보'"
      ]
     },
     "execution_count": 53,
     "metadata": {},
     "output_type": "execute_result"
    }
   ],
   "source": [
    "soup3.find('title').string"
   ]
  },
  {
   "cell_type": "code",
   "execution_count": 54,
   "metadata": {},
   "outputs": [
    {
     "data": {
      "text/plain": [
       "'기압골의 영향으로 6일부터 8일 사이에 전국에 비 또는 눈이 오겠고, 제주도는 10~11일에도 비가 오겠습니다. <br />한편, 동풍의 영향으로 9일은 강원영동에 비 또는 눈이 오겠습니다. 그 밖의 날은 고기압의 가장자리에 들어 가끔 구름많겠습니다.<br />기온은 평년(최저기온: -12~0℃, 최고기온: 0~8℃)보다 높겠습니다.<br />강수량은 평년(0~3mm)보다 많겠습니다.'"
      ]
     },
     "execution_count": 54,
     "metadata": {},
     "output_type": "execute_result"
    }
   ],
   "source": [
    "soup3.find('wf').string"
   ]
  },
  {
   "cell_type": "code",
   "execution_count": 55,
   "metadata": {},
   "outputs": [],
   "source": [
    "# css 선택자 (개발자도구 -> 객체선택 -> copy selector)\n",
    "\n",
    "# soup3.select_one(선택자) ; 선택자로 지정된 요소 하나 추출\n",
    "# soup3.select(선택자) ; 선택자로 지정된 여러 요소 추출\n",
    "\n",
    "html3=\"\"\"\n",
    "<html><body>\n",
    "<div id='myid'>\n",
    "<h1>2020년</h1>\n",
    "<ul class='day'>\n",
    "<li>월</li>\n",
    "<li>화</li>\n",
    "<li>수</li>\n",
    "</ul>\n",
    "</div>\n",
    "</body></html>\n",
    "\"\"\"\n",
    "soup4=BeautifulSoup(html3, 'html.parser')"
   ]
  },
  {
   "cell_type": "code",
   "execution_count": 65,
   "metadata": {},
   "outputs": [
    {
     "data": {
      "text/plain": [
       "<h1>2020년</h1>"
      ]
     },
     "execution_count": 65,
     "metadata": {},
     "output_type": "execute_result"
    }
   ],
   "source": [
    "soup4.select_one('div#myid h1')           # id ; #\n",
    "soup4.select_one('div#myid > h1')"
   ]
  },
  {
   "cell_type": "code",
   "execution_count": 70,
   "metadata": {},
   "outputs": [
    {
     "data": {
      "text/plain": [
       "[<li>월</li>, <li>화</li>, <li>수</li>]"
      ]
     },
     "execution_count": 70,
     "metadata": {},
     "output_type": "execute_result"
    }
   ],
   "source": [
    "soup4.select('div#myid > ul.day > li')      # class ; ."
   ]
  },
  {
   "cell_type": "code",
   "execution_count": 73,
   "metadata": {},
   "outputs": [
    {
     "name": "stdout",
     "output_type": "stream",
     "text": [
      "월\n",
      "화\n",
      "수\n"
     ]
    }
   ],
   "source": [
    "myList=soup4.select('div#myid > ul.day > li')   \n",
    "for l in myList:\n",
    "    print(l.string)"
   ]
  },
  {
   "cell_type": "code",
   "execution_count": 98,
   "metadata": {},
   "outputs": [
    {
     "data": {
      "text/plain": [
       "'55,400.00'"
      ]
     },
     "execution_count": 98,
     "metadata": {},
     "output_type": "execute_result"
    }
   ],
   "source": [
    "url2='https://finance.yahoo.com/quote/005930.KS?p=005930.KS&.tsrc=fin-srch'\n",
    "res=req.urlopen(url2)\n",
    "soup5=BeautifulSoup(res, 'html.parser')\n",
    "soup6=soup5.select('#quote-header-info > div')[2]\n",
    "soup6.select_one('div > span').string"
   ]
  },
  {
   "cell_type": "code",
   "execution_count": 114,
   "metadata": {},
   "outputs": [
    {
     "name": "stdout",
     "output_type": "stream",
     "text": [
      "하늘과 바람과 별과 시 (증보판)\n",
      "서시\n",
      "자화상\n",
      "소년\n",
      "눈 오는 지도\n",
      "돌아와 보는 밤\n",
      "병원\n",
      "새로운 길\n",
      "간판 없는 거리\n",
      "태초의 아침\n",
      "또 태초의 아침\n",
      "새벽이 올 때까지\n",
      "무서운 시간\n",
      "십자가\n",
      "바람이 불어\n",
      "슬픈 족속\n",
      "눈감고 간다\n",
      "또 다른 고향\n",
      "길\n",
      "별 헤는 밤\n"
     ]
    }
   ],
   "source": [
    "url3='https://ko.wikisource.org/wiki/%EC%A0%80%EC%9E%90:%EC%9C%A4%EB%8F%99%EC%A3%BC'\n",
    "res3=req.urlopen(url3)\n",
    "soup7=BeautifulSoup(res3, 'html.parser')\n",
    "myList2=soup7.select('#mw-content-text > div > ul:nth-child(6) > li')\n",
    "for a in myList2:\n",
    "    print(a.text)"
   ]
  },
  {
   "cell_type": "code",
   "execution_count": 122,
   "metadata": {},
   "outputs": [
    {
     "name": "stdout",
     "output_type": "stream",
     "text": [
      "서시\n",
      "자화상\n",
      "소년\n",
      "눈 오는 지도\n",
      "돌아와 보는 밤\n",
      "병원\n",
      "새로운 길\n",
      "간판 없는 거리\n",
      "태초의 아침\n",
      "또 태초의 아침\n",
      "새벽이 올 때까지\n",
      "무서운 시간\n",
      "십자가\n",
      "바람이 불어\n",
      "슬픈 족속\n",
      "눈감고 간다\n",
      "또 다른 고향\n",
      "길\n",
      "별 헤는 밤\n"
     ]
    }
   ],
   "source": [
    "url3='https://ko.wikisource.org/wiki/%EC%A0%80%EC%9E%90:%EC%9C%A4%EB%8F%99%EC%A3%BC'\n",
    "res3=req.urlopen(url3)\n",
    "soup7=BeautifulSoup(res3, 'html.parser')\n",
    "soup7.select('#mw-content-text > div > ul:nth-child(6) > li')\n",
    "myList3=soup7.select('#mw-content-text > div > ul:nth-child(6) > li > ul > li > a')\n",
    "for b in myList3:\n",
    "    print(b.string)\n"
   ]
  },
  {
   "cell_type": "code",
   "execution_count": 149,
   "metadata": {},
   "outputs": [
    {
     "name": "stdout",
     "output_type": "stream",
     "text": [
      "python\n",
      "python\n",
      "python\n",
      "python\n",
      "python\n",
      "python\n",
      "python\n",
      "python\n",
      "python\n",
      "python\n"
     ]
    }
   ],
   "source": [
    "html4=\"\"\"\n",
    "<ul id='language'>\n",
    "<li id='bas'>basic</li>\n",
    "<li id='cpp'>c++</li>\n",
    "<li id='ja'>java</li>\n",
    "<li id='py'>python</li>\n",
    "<li id='sp'>spark</li>\n",
    "</ul>\n",
    "\"\"\"\n",
    "\n",
    "# 추출방법 10가지\n",
    "sel=BeautifulSoup(html4, 'html.parser')\n",
    "myFunc=lambda arg:print(sel.select_one(arg).string)\n",
    "myFunc('#py')\n",
    "myFunc('li#py')\n",
    "myFunc('ul > li#py')\n",
    "myFunc('#language #py')\n",
    "myFunc('#language > #py')\n",
    "myFunc('ul#language > li#py')\n",
    "myFunc('li[id=\"py\"]')\n",
    "myFunc('li:nth-of-type(4)')\n",
    "print(sel.select('li')[3].string)\n",
    "print(sel.find_all('li')[3].string)"
   ]
  },
  {
   "cell_type": "code",
   "execution_count": 167,
   "metadata": {},
   "outputs": [
    {
     "name": "stdout",
     "output_type": "stream",
     "text": [
      "아보카도\n",
      "아보카도\n",
      "아보카도\n"
     ]
    }
   ],
   "source": [
    "fp=open('fru-veg.html', encoding='utf-8')\n",
    "soup8=BeautifulSoup(fp, 'html.parser')\n",
    "print(soup8.select_one('#ve > li:nth-of-type(4)').string)\n",
    "print(soup8.select(\"#ve > li[data-lo='us']\")[1].string)\n",
    "print(soup8.select(\"#ve > li.black\")[1].string)"
   ]
  },
  {
   "cell_type": "code",
   "execution_count": 170,
   "metadata": {},
   "outputs": [
    {
     "name": "stdout",
     "output_type": "stream",
     "text": [
      "아보카도\n",
      "아보카도\n"
     ]
    }
   ],
   "source": [
    "cond={'data-lo':'us', 'class':'black'}\n",
    "print(soup8.find('li', cond).string)\n",
    "\n",
    "print(soup8.find(id='ve').find('li', cond).string)"
   ]
  },
  {
   "cell_type": "code",
   "execution_count": 171,
   "metadata": {},
   "outputs": [
    {
     "name": "stdout",
     "output_type": "stream",
     "text": [
      "[<a href=\"https://test.html\">test2</a>, <a href=\"https://test.html\">test3</a>]\n"
     ]
    }
   ],
   "source": [
    "# 정규표현식과 함께 데이터 추출\n",
    "html5=\"\"\"\n",
    "<li><a href='test.html'>test</li>\n",
    "<li><a href='https://test.html'>test2</li>\n",
    "<li><a href='https://test.html'>test3</li>\n",
    "<li><a href='http://test.html'>test4</li>\n",
    "\"\"\"\n",
    "\n",
    "soup9=BeautifulSoup(html5, 'html.parser')\n",
    "import re\n",
    "li=soup9.find_all(href=re.compile('https://'))\n",
    "print(li)"
   ]
  },
  {
   "cell_type": "code",
   "execution_count": null,
   "metadata": {},
   "outputs": [],
   "source": [
    "# 문제 1\n",
    "\n",
    "# 다음의 조건을 만족하는 Point라는 클래스를 작성하세요.\n",
    "\n",
    "# Point 클래스는 생성자(__init__)를 통해 (x, y) 좌표를 입력받는다.\n",
    "# setx(x), sety(y) 메서드를 통해 x 좌표와 y 좌표를 따로 입력받을 수도 있다.\n",
    "# get() 메서드를 호출하면 튜플로 구성된 (x, y) 좌표를 반환한다.\n",
    "# move(dx, dy) 메서드는 현재 좌표를 dx, dy만큼 이동시킨다.\n",
    "# 모든 메서드는 인스턴스 메서드다.\n",
    "\n",
    "class Point:\n",
    "    def __init__(self, x, y):  # 객체 초기화\n",
    "        self.x=x\n",
    "        self.y=y\n",
    "    def sets(self,x,y):\n",
    "        self.x=setx\n",
    "        self.y=sety\n",
    "\n"
   ]
  },
  {
   "cell_type": "code",
   "execution_count": null,
   "metadata": {},
   "outputs": [],
   "source": [
    "# 문제 2\n",
    "\n",
    "# 문제 1에서 생성한 Point 클래스에 대한 인스턴스를 생성한 후 4개의 메서드를 사용하는 코드를 작성하세요.\n"
   ]
  },
  {
   "cell_type": "code",
   "execution_count": 180,
   "metadata": {},
   "outputs": [],
   "source": [
    "# 문제 3\n",
    "\n",
    "# 1부터 10까지의 숫자를 각 라인 단위로 파일에 출력하는 프로그램을 작성하세요.\n",
    "\n",
    "# 생성되는 파일의 이름은 number.txt 이다.\n",
    "\n",
    "f=open('c:/da/number.txt','w')\n",
    "for i in range(0,10):\n",
    "    i+=1\n",
    "    f.write(str(i)+'\\n')\n",
    "f.close()"
   ]
  },
  {
   "cell_type": "code",
   "execution_count": null,
   "metadata": {},
   "outputs": [],
   "source": [
    "# 문제 4\n",
    "\n",
    "# 사용자에게 경로를 입력받은 후 해당 경로에 있는 디렉터리와 파일 목록을 flist.txt라는 파일로 출력하는 함수를 작성하세요."
   ]
  },
  {
   "cell_type": "code",
   "execution_count": 217,
   "metadata": {},
   "outputs": [
    {
     "name": "stdout",
     "output_type": "stream",
     "text": [
      "['1984년 12월 22일', '1988년 3월 1일', '1995년 3월 11일', '2006년 7월 31일', '2006년 8월 7일', '2009년 8월 15일', '2011년 11월 4일', '2016년 3월 6일']\n"
     ]
    }
   ],
   "source": [
    "# 문제 5\n",
    "# 윤동주 시인 방송 출연 년월일 추출(화요일 수업내용 중)\n",
    "\n",
    "\n",
    "import re\n",
    "url='https://ko.wikipedia.org/wiki/%EC%9C%A4%EB%8F%99%EC%A3%BC'\n",
    "res=req.urlopen(url)\n",
    "soup=BeautifulSoup(res, 'html.parser')\n",
    "p=soup.select('#mw-content-text > div > ul:nth-child(71)')\n",
    "for a in p:\n",
    "    day=a.text\n",
    "    pat=re.compile('\\d+[년]\\s\\d+[월]\\s\\d+[일]')\n",
    "    print(pat.findall(day))\n"
   ]
  },
  {
   "cell_type": "code",
   "execution_count": 228,
   "metadata": {},
   "outputs": [
    {
     "name": "stdout",
     "output_type": "stream",
     "text": [
      "['기압골의', '영향으로', '일부터', '일', '사이에', '전국에', '비', '또는', '눈이', '오겠고', '제주도는', '일에도', '비가', '오겠습니다', '한편', '동풍의', '영향으로', '일은', '강원영동에', '비', '또는', '눈이', '오겠습니다', '그', '밖의', '날은', '고기압의', '가장자리에', '들어', '가끔', '구름많겠습니다', '기온은', '평년', '최저기온', '최고기온', '보다', '높겠습니다', '강수량은', '평년', '보다', '많겠습니다']\n"
     ]
    }
   ],
   "source": [
    "# 문제 6\n",
    "# 영문, 숫자 포함하여 특수문자 모두 제거(오늘 수업내용 중)\n",
    "\n",
    "\n",
    "url='http://www.weather.go.kr/weather/forecast/mid-term-rss3.jsp'    \n",
    "res=req.urlopen(url)\n",
    "soup3=BeautifulSoup(res, 'html.parser')\n",
    "q=soup3.find('wf')\n",
    "for b in q:\n",
    "    kor=b.string\n",
    "    pat=re.compile('[가-힣]+')\n",
    "    print(pat.findall(kor))"
   ]
  },
  {
   "cell_type": "code",
   "execution_count": null,
   "metadata": {},
   "outputs": [],
   "source": []
  }
 ],
 "metadata": {
  "kernelspec": {
   "display_name": "Python 3",
   "language": "python",
   "name": "python3"
  },
  "language_info": {
   "codemirror_mode": {
    "name": "ipython",
    "version": 3
   },
   "file_extension": ".py",
   "mimetype": "text/x-python",
   "name": "python",
   "nbconvert_exporter": "python",
   "pygments_lexer": "ipython3",
   "version": "3.7.4"
  }
 },
 "nbformat": 4,
 "nbformat_minor": 2
}
