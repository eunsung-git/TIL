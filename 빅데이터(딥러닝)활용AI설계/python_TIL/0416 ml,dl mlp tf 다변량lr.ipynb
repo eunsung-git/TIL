{
 "cells": [
  {
   "cell_type": "code",
   "execution_count": 2,
   "metadata": {},
   "outputs": [],
   "source": [
    "import tensorflow as tf\n",
    "tf.set_random_seed(777)\n",
    "import numpy as np\n",
    "import pandas as pd"
   ]
  },
  {
   "cell_type": "code",
   "execution_count": 3,
   "metadata": {},
   "outputs": [],
   "source": [
    "# 변수 정의\n",
    "# y = x*w+b\n",
    "w = tf.Variable(tf.random_normal([1]), name='weight')\n",
    "b = tf.Variable(tf.random_normal([1]), name='bias')"
   ]
  },
  {
   "cell_type": "code",
   "execution_count": 4,
   "metadata": {},
   "outputs": [],
   "source": [
    "x = tf.placeholder(tf.float32, shape=[None])\n",
    "y = tf.placeholder(tf.float32, shape=[None])"
   ]
  },
  {
   "cell_type": "code",
   "execution_count": 5,
   "metadata": {},
   "outputs": [],
   "source": [
    "# model 생성\n",
    "hf = x*w+b\n",
    "cost = tf.reduce_mean(tf.square(hf-y))"
   ]
  },
  {
   "cell_type": "code",
   "execution_count": 6,
   "metadata": {},
   "outputs": [],
   "source": [
    "opt = tf.train.GradientDescentOptimizer(learning_rate=0.01)\n",
    "train = opt.minimize(cost)"
   ]
  },
  {
   "cell_type": "code",
   "execution_count": 7,
   "metadata": {},
   "outputs": [],
   "source": [
    "# variable 초기화\n",
    "session = tf.Session()\n",
    "session.run(tf.global_variables_initializer())"
   ]
  },
  {
   "cell_type": "code",
   "execution_count": 8,
   "metadata": {},
   "outputs": [
    {
     "name": "stdout",
     "output_type": "stream",
     "text": [
      "0 1.3302349 [-0.83235663] [2.168677]\n",
      "100 0.34429216 [-0.5454619] [1.679854]\n",
      "200 0.21275164 [-0.2148748] [1.5344255]\n",
      "300 0.13146769 [0.04499756] [1.4201072]\n",
      "400 0.081239015 [0.24928111] [1.3302424]\n",
      "500 0.050200745 [0.4098666] [1.2596006]\n",
      "600 0.031021029 [0.5361014] [1.2040699]\n",
      "700 0.019169085 [0.63533366] [1.1604173]\n",
      "800 0.011845314 [0.7133389] [1.1261027]\n",
      "900 0.00731967 [0.7746586] [1.0991279]\n",
      "1000 0.004523099 [0.82286125] [1.0779237]\n",
      "1100 0.0027950013 [0.8607528] [1.0612555]\n",
      "1200 0.0017271442 [0.8905388] [1.0481522]\n",
      "1300 0.0010672751 [0.9139535] [1.0378519]\n",
      "1400 0.0006595154 [0.9323596] [1.0297551]\n",
      "1500 0.00040754033 [0.94682854] [1.0233903]\n",
      "1600 0.00025183623 [0.9582021] [1.018387]\n",
      "1700 0.00015561536 [0.96714354] [1.0144535]\n",
      "1800 9.616031e-05 [0.9741718] [1.0113618]\n",
      "1900 5.9420563e-05 [0.97969687] [1.0089314]\n",
      "2000 3.6718488e-05 [0.98404] [1.0070208]\n"
     ]
    }
   ],
   "source": [
    "for step in range(2001):\n",
    "    _,cv,bv,wv = session.run([train,cost,b,w], feed_dict={x:[1,2,3],y:[2,3,4]})\n",
    "    if step % 100==0:\n",
    "        print(step, cv, bv, wv)"
   ]
  },
  {
   "cell_type": "code",
   "execution_count": 13,
   "metadata": {},
   "outputs": [
    {
     "name": "stdout",
     "output_type": "stream",
     "text": [
      "[11.054249]\n",
      "[11.054249 11.557759]\n",
      "[11.054249 11.557759 21.124456]\n"
     ]
    }
   ],
   "source": [
    "print(session.run(hf,feed_dict={x:[10]}))\n",
    "print(session.run(hf,feed_dict={x:[10,10.5]}))\n",
    "print(session.run(hf,feed_dict={x:[10,10.5,20]}))"
   ]
  },
  {
   "cell_type": "code",
   "execution_count": null,
   "metadata": {},
   "outputs": [],
   "source": []
  },
  {
   "cell_type": "code",
   "execution_count": null,
   "metadata": {},
   "outputs": [],
   "source": []
  },
  {
   "cell_type": "code",
   "execution_count": 14,
   "metadata": {},
   "outputs": [],
   "source": [
    "w = tf.Variable([100.], tf.float32)\n",
    "b = tf.Variable([-10.], tf.float32)\n",
    "x = tf.placeholder(tf.float32)\n",
    "y = tf.placeholder(tf.float32)"
   ]
  },
  {
   "cell_type": "code",
   "execution_count": 15,
   "metadata": {},
   "outputs": [],
   "source": [
    "hf = x*w+b\n",
    "cost = tf.reduce_sum(tf.square(hf-y))"
   ]
  },
  {
   "cell_type": "code",
   "execution_count": 16,
   "metadata": {},
   "outputs": [],
   "source": [
    "opt = tf.train.GradientDescentOptimizer(0.01)\n",
    "train = opt.minimize(cost)"
   ]
  },
  {
   "cell_type": "code",
   "execution_count": 17,
   "metadata": {},
   "outputs": [],
   "source": [
    "xtrain = [1,2,3,4,5]\n",
    "ytrain = [0,-1,-2,-3,-4]"
   ]
  },
  {
   "cell_type": "code",
   "execution_count": 18,
   "metadata": {},
   "outputs": [],
   "source": [
    "session = tf.Session()\n",
    "session.run(tf.global_variables_initializer())"
   ]
  },
  {
   "cell_type": "code",
   "execution_count": 19,
   "metadata": {},
   "outputs": [],
   "source": [
    "for i in range(1000):\n",
    "    session.run(train,{x:xtrain,y:ytrain})\n",
    "    wv,bv,cv = session.run([w,b,cost],{x:xtrain,y:ytrain})\n",
    "    print('weight :%s bias :%s cost : %s' %(wv,bv,cv))"
   ]
  },
  {
   "cell_type": "code",
   "execution_count": 21,
   "metadata": {},
   "outputs": [
    {
     "name": "stdout",
     "output_type": "stream",
     "text": [
      "weight :[-0.9999995] bias :[0.99999833] cost : 2.5579538e-12\n"
     ]
    }
   ],
   "source": [
    "wv,bv,cv = session.run([w,b,cost],{x:xtrain,y:ytrain})\n",
    "print('weight :%s bias :%s cost : %s' %(wv,bv,cv))"
   ]
  },
  {
   "cell_type": "code",
   "execution_count": null,
   "metadata": {},
   "outputs": [],
   "source": []
  },
  {
   "cell_type": "code",
   "execution_count": null,
   "metadata": {},
   "outputs": [],
   "source": []
  },
  {
   "cell_type": "code",
   "execution_count": null,
   "metadata": {},
   "outputs": [],
   "source": [
    "x = [1,3,5]\n",
    "y = [10, 28, 40]\n",
    "w = tf.placeholder(tf.float64)"
   ]
  },
  {
   "cell_type": "code",
   "execution_count": 23,
   "metadata": {},
   "outputs": [],
   "source": [
    "hf = x*w\n",
    "loss =  tf.reduce_mean(tf.square(hf-y))"
   ]
  },
  {
   "cell_type": "code",
   "execution_count": 27,
   "metadata": {},
   "outputs": [
    {
     "ename": "ValueError",
     "evalue": "Cannot feed value of shape () for Tensor 'Variable:0', which has shape '(1,)'",
     "output_type": "error",
     "traceback": [
      "\u001b[1;31m---------------------------------------------------------------------------\u001b[0m",
      "\u001b[1;31mValueError\u001b[0m                                Traceback (most recent call last)",
      "\u001b[1;32m<ipython-input-27-fbc0519c72f8>\u001b[0m in \u001b[0;36m<module>\u001b[1;34m\u001b[0m\n\u001b[0;32m      4\u001b[0m \u001b[1;32mfor\u001b[0m \u001b[0mi\u001b[0m \u001b[1;32min\u001b[0m \u001b[0mrange\u001b[0m \u001b[1;33m(\u001b[0m\u001b[1;33m-\u001b[0m\u001b[1;36m30\u001b[0m\u001b[1;33m,\u001b[0m\u001b[1;36m50\u001b[0m\u001b[1;33m)\u001b[0m\u001b[1;33m:\u001b[0m\u001b[1;33m\u001b[0m\u001b[1;33m\u001b[0m\u001b[0m\n\u001b[0;32m      5\u001b[0m     \u001b[0mcurrw\u001b[0m\u001b[1;33m=\u001b[0m\u001b[0mi\u001b[0m\u001b[1;33m*\u001b[0m\u001b[1;36m0.1\u001b[0m\u001b[1;33m\u001b[0m\u001b[1;33m\u001b[0m\u001b[0m\n\u001b[1;32m----> 6\u001b[1;33m     \u001b[0mloss_value\u001b[0m \u001b[1;33m=\u001b[0m \u001b[0msession\u001b[0m\u001b[1;33m.\u001b[0m\u001b[0mrun\u001b[0m\u001b[1;33m(\u001b[0m\u001b[0mloss\u001b[0m\u001b[1;33m,\u001b[0m \u001b[0mfeed_dict\u001b[0m\u001b[1;33m=\u001b[0m\u001b[1;33m{\u001b[0m\u001b[0mw\u001b[0m\u001b[1;33m:\u001b[0m\u001b[0mcurrw\u001b[0m\u001b[1;33m}\u001b[0m\u001b[1;33m)\u001b[0m\u001b[1;33m\u001b[0m\u001b[1;33m\u001b[0m\u001b[0m\n\u001b[0m\u001b[0;32m      7\u001b[0m     \u001b[0mw_history\u001b[0m\u001b[1;33m.\u001b[0m\u001b[0mappend\u001b[0m\u001b[1;33m(\u001b[0m\u001b[0mcurrw\u001b[0m\u001b[1;33m)\u001b[0m\u001b[1;33m\u001b[0m\u001b[1;33m\u001b[0m\u001b[0m\n\u001b[0;32m      8\u001b[0m     \u001b[0mcore_history\u001b[0m\u001b[1;33m.\u001b[0m\u001b[0mappend\u001b[0m\u001b[1;33m(\u001b[0m\u001b[0mloss_value\u001b[0m\u001b[1;33m)\u001b[0m\u001b[1;33m\u001b[0m\u001b[1;33m\u001b[0m\u001b[0m\n",
      "\u001b[1;32m~\\Anaconda3\\lib\\site-packages\\tensorflow_core\\python\\client\\session.py\u001b[0m in \u001b[0;36mrun\u001b[1;34m(self, fetches, feed_dict, options, run_metadata)\u001b[0m\n\u001b[0;32m    954\u001b[0m     \u001b[1;32mtry\u001b[0m\u001b[1;33m:\u001b[0m\u001b[1;33m\u001b[0m\u001b[1;33m\u001b[0m\u001b[0m\n\u001b[0;32m    955\u001b[0m       result = self._run(None, fetches, feed_dict, options_ptr,\n\u001b[1;32m--> 956\u001b[1;33m                          run_metadata_ptr)\n\u001b[0m\u001b[0;32m    957\u001b[0m       \u001b[1;32mif\u001b[0m \u001b[0mrun_metadata\u001b[0m\u001b[1;33m:\u001b[0m\u001b[1;33m\u001b[0m\u001b[1;33m\u001b[0m\u001b[0m\n\u001b[0;32m    958\u001b[0m         \u001b[0mproto_data\u001b[0m \u001b[1;33m=\u001b[0m \u001b[0mtf_session\u001b[0m\u001b[1;33m.\u001b[0m\u001b[0mTF_GetBuffer\u001b[0m\u001b[1;33m(\u001b[0m\u001b[0mrun_metadata_ptr\u001b[0m\u001b[1;33m)\u001b[0m\u001b[1;33m\u001b[0m\u001b[1;33m\u001b[0m\u001b[0m\n",
      "\u001b[1;32m~\\Anaconda3\\lib\\site-packages\\tensorflow_core\\python\\client\\session.py\u001b[0m in \u001b[0;36m_run\u001b[1;34m(self, handle, fetches, feed_dict, options, run_metadata)\u001b[0m\n\u001b[0;32m   1154\u001b[0m                 \u001b[1;34m'Cannot feed value of shape %r for Tensor %r, '\u001b[0m\u001b[1;33m\u001b[0m\u001b[1;33m\u001b[0m\u001b[0m\n\u001b[0;32m   1155\u001b[0m                 \u001b[1;34m'which has shape %r'\u001b[0m \u001b[1;33m%\u001b[0m\u001b[1;33m\u001b[0m\u001b[1;33m\u001b[0m\u001b[0m\n\u001b[1;32m-> 1156\u001b[1;33m                 (np_val.shape, subfeed_t.name, str(subfeed_t.get_shape())))\n\u001b[0m\u001b[0;32m   1157\u001b[0m           \u001b[1;32mif\u001b[0m \u001b[1;32mnot\u001b[0m \u001b[0mself\u001b[0m\u001b[1;33m.\u001b[0m\u001b[0mgraph\u001b[0m\u001b[1;33m.\u001b[0m\u001b[0mis_feedable\u001b[0m\u001b[1;33m(\u001b[0m\u001b[0msubfeed_t\u001b[0m\u001b[1;33m)\u001b[0m\u001b[1;33m:\u001b[0m\u001b[1;33m\u001b[0m\u001b[1;33m\u001b[0m\u001b[0m\n\u001b[0;32m   1158\u001b[0m             \u001b[1;32mraise\u001b[0m \u001b[0mValueError\u001b[0m\u001b[1;33m(\u001b[0m\u001b[1;34m'Tensor %s may not be fed.'\u001b[0m \u001b[1;33m%\u001b[0m \u001b[0msubfeed_t\u001b[0m\u001b[1;33m)\u001b[0m\u001b[1;33m\u001b[0m\u001b[1;33m\u001b[0m\u001b[0m\n",
      "\u001b[1;31mValueError\u001b[0m: Cannot feed value of shape () for Tensor 'Variable:0', which has shape '(1,)'"
     ]
    }
   ],
   "source": [
    "w_history = []\n",
    "cost_history = []\n",
    "\n",
    "for i in range (-30,50):\n",
    "    currw=i*0.1\n",
    "    loss_value = session.run(loss, feed_dict={w:currw})\n",
    "    w_history.append(currw)\n",
    "    core_history.append(loss_value)\n",
    "    \n",
    "import matplotlib.pyplot as plt\n",
    "plt.plot(w_history,core_history)\n",
    "plt.show\n",
    "                             "
   ]
  },
  {
   "cell_type": "code",
   "execution_count": null,
   "metadata": {},
   "outputs": [],
   "source": []
  },
  {
   "cell_type": "code",
   "execution_count": null,
   "metadata": {},
   "outputs": [],
   "source": []
  },
  {
   "cell_type": "code",
   "execution_count": 29,
   "metadata": {},
   "outputs": [],
   "source": [
    "# upgrade\n",
    "xdata = [1,2,3]\n",
    "ydata = [1,2,3]\n",
    "w = tf.Variable(tf.random_normal([1]))\n",
    "x = tf.placeholder(tf.float32)\n",
    "y = tf.placeholder(tf.float32)\n",
    "\n",
    "hf = x*w"
   ]
  },
  {
   "cell_type": "code",
   "execution_count": 30,
   "metadata": {},
   "outputs": [],
   "source": [
    "lr = 0.1\n",
    "cost = tf.reduce_mean(tf.square(hf-y))\n",
    "gradient = tf.reduce_mean(((w*x-y)*x))\n",
    "descent = w-lr*gradient\n",
    "update = w.assign(descent)"
   ]
  },
  {
   "cell_type": "code",
   "execution_count": 32,
   "metadata": {},
   "outputs": [
    {
     "name": "stdout",
     "output_type": "stream",
     "text": [
      "0 [0.0824157] [0.0824157]\n",
      "1 [0.5106217] [0.5106217]\n",
      "2 [0.7389983] [0.7389983]\n",
      "3 [0.8607991] [0.8607991]\n",
      "4 [0.9257595] [0.9257595]\n",
      "5 [0.96040505] [0.96040505]\n",
      "6 [0.9788827] [0.9788827]\n",
      "7 [0.98873746] [0.98873746]\n",
      "8 [0.99399334] [0.99399334]\n",
      "9 [0.9967964] [0.9967964]\n",
      "10 [0.99829143] [0.99829143]\n",
      "11 [0.99908876] [0.99908876]\n",
      "12 [0.999514] [0.999514]\n",
      "13 [0.9997408] [0.9997408]\n",
      "14 [0.9998618] [0.9998618]\n",
      "15 [0.99992627] [0.99992627]\n",
      "16 [0.99996066] [0.99996066]\n",
      "17 [0.999979] [0.999979]\n",
      "18 [0.9999888] [0.9999888]\n",
      "19 [0.99999404] [0.99999404]\n",
      "20 [0.99999684] [0.99999684]\n"
     ]
    }
   ],
   "source": [
    "session = tf.Session()\n",
    "session.run(tf.global_variables_initializer())\n",
    "for step in range(21):\n",
    "    print(step, session.run(update, feed_dict={x:xdata,y:ydata}),session.run(w)) "
   ]
  },
  {
   "cell_type": "code",
   "execution_count": null,
   "metadata": {},
   "outputs": [],
   "source": []
  },
  {
   "cell_type": "code",
   "execution_count": null,
   "metadata": {},
   "outputs": [],
   "source": []
  },
  {
   "cell_type": "code",
   "execution_count": null,
   "metadata": {},
   "outputs": [],
   "source": []
  },
  {
   "cell_type": "code",
   "execution_count": 149,
   "metadata": {},
   "outputs": [],
   "source": [
    "## multi variable linear regression\n",
    "x1data = [73,93,90,95,72]\n",
    "x2data = [80,88,92,98,66]\n",
    "x3data = [75,92,90,100,70]\n",
    "ydata = [152,185,180,195,140]"
   ]
  },
  {
   "cell_type": "code",
   "execution_count": 150,
   "metadata": {},
   "outputs": [],
   "source": [
    "x1 = tf.placeholder(tf.float32)\n",
    "x2 = tf.placeholder(tf.float32)\n",
    "x3 = tf.placeholder(tf.float32)\n",
    "y = tf.placeholder(tf.float32)"
   ]
  },
  {
   "cell_type": "code",
   "execution_count": 151,
   "metadata": {},
   "outputs": [],
   "source": [
    "w1 = tf.Variable(tf.random_normal([1]))\n",
    "w2 = tf.Variable(tf.random_normal([1]))\n",
    "w3 = tf.Variable(tf.random_normal([1]))\n",
    "b = tf.Variable(tf.random_normal([1]))"
   ]
  },
  {
   "cell_type": "code",
   "execution_count": 152,
   "metadata": {},
   "outputs": [],
   "source": [
    "hf = (w1*x1) + (w2*x2) + (w3*x3) +b\n",
    "cost = tf.reduce_mean(tf.square(hf-y))"
   ]
  },
  {
   "cell_type": "code",
   "execution_count": 153,
   "metadata": {},
   "outputs": [],
   "source": [
    "opt = tf.train.GradientDescentOptimizer(1e-5)\n",
    "train = opt.minimize(cost)"
   ]
  },
  {
   "cell_type": "code",
   "execution_count": 154,
   "metadata": {},
   "outputs": [],
   "source": [
    "session = tf.Session()\n",
    "session.run(tf.global_variables_initializer())"
   ]
  },
  {
   "cell_type": "code",
   "execution_count": 156,
   "metadata": {},
   "outputs": [
    {
     "name": "stdout",
     "output_type": "stream",
     "text": [
      "0 cost :  6.1499033 \n",
      "pred :  [147.35031 185.87961 179.82005 196.06105 142.6829 ]\n",
      "100 cost :  5.93 \n",
      "pred :  [147.42566 185.82414 179.84383 196.07703 142.6195 ]\n",
      "200 cost :  5.720698 \n",
      "pred :  [147.49918 185.77005 179.86708 196.0925  142.55771]\n",
      "300 cost :  5.5215073 \n",
      "pred :  [147.57089 185.71732 179.88982 196.10748 142.49747]\n",
      "400 cost :  5.3318925 \n",
      "pred :  [147.6409  185.66594 179.91205 196.12198 142.43878]\n",
      "500 cost :  5.151416 \n",
      "pred :  [147.70917 185.61581 179.93379 196.13599 142.38155]\n",
      "600 cost :  4.979594 \n",
      "pred :  [147.77579 185.56694 179.95503 196.14952 142.32576]\n",
      "700 cost :  4.816039 \n",
      "pred :  [147.8408  185.5193  179.97581 196.16264 142.27141]\n",
      "800 cost :  4.6602945 \n",
      "pred :  [147.90427 185.47287 179.99614 196.17532 142.21843]\n",
      "900 cost :  4.5120497 \n",
      "pred :  [147.96614 185.42757 180.01599 196.18753 142.16678]\n",
      "1000 cost :  4.3708963 \n",
      "pred :  [148.02654 185.3834  180.03543 196.19934 142.11646]\n",
      "1100 cost :  4.2364554 \n",
      "pred :  [148.08548 185.34036 180.05444 196.21075 142.06738]\n",
      "1200 cost :  4.1084604 \n",
      "pred :  [148.143   185.2984  180.07304 196.22179 142.01959]\n",
      "1300 cost :  3.9865794 \n",
      "pred :  [148.19911 185.25749 180.09123 196.2324  141.97299]\n",
      "1400 cost :  3.8704677 \n",
      "pred :  [148.2539  185.21762 180.10904 196.24268 141.9276 ]\n",
      "1500 cost :  3.759919 \n",
      "pred :  [148.30734 185.17873 180.12643 196.25258 141.88335]\n",
      "1600 cost :  3.654609 \n",
      "pred :  [148.35948 185.1408  180.14345 196.2621  141.84021]\n",
      "1700 cost :  3.554268 \n",
      "pred :  [148.4104  185.10385 180.16014 196.2713  141.79819]\n",
      "1800 cost :  3.4587016 \n",
      "pred :  [148.46007 185.06781 180.17645 196.28015 141.75723]\n",
      "1900 cost :  3.367622 \n",
      "pred :  [148.50856 185.0327  180.1924  196.28868 141.71732]\n",
      "2000 cost :  3.2808762 \n",
      "pred :  [148.55586 184.99844 180.20802 196.29689 141.67842]\n"
     ]
    }
   ],
   "source": [
    "for step in range(2001):\n",
    "    cv,hfv,_ = session.run([cost,hf,train],feed_dict={x1:x1data,x2:x2data,x3:x3data,y:ydata})\n",
    "    if step%100==0:\n",
    "        print(step, 'cost : ',cv, '\\npred : ',hfv)"
   ]
  },
  {
   "cell_type": "code",
   "execution_count": null,
   "metadata": {},
   "outputs": [],
   "source": []
  },
  {
   "cell_type": "code",
   "execution_count": null,
   "metadata": {},
   "outputs": [],
   "source": []
  },
  {
   "cell_type": "code",
   "execution_count": 157,
   "metadata": {},
   "outputs": [],
   "source": [
    "# 행렬 곱셈\n",
    "xdata = [[73,93,90,95,72],\n",
    "        [80,88,92,98,66],\n",
    "        [75,92,90,100,70]]\n",
    "ydata = [[152],[185],[180],[195],[140]]"
   ]
  },
  {
   "cell_type": "code",
   "execution_count": 158,
   "metadata": {},
   "outputs": [],
   "source": [
    "xdata = np.array(xdata).T"
   ]
  },
  {
   "cell_type": "code",
   "execution_count": 159,
   "metadata": {},
   "outputs": [],
   "source": [
    "x = tf.placeholder(tf.float32,shape=[None,3])\n",
    "y = tf.placeholder(tf.float32,shape=[None,1])\n",
    "w = tf.Variable(tf.random_normal([3,1]))\n",
    "b = tf.Variable(tf.random_normal([1]))"
   ]
  },
  {
   "cell_type": "code",
   "execution_count": 160,
   "metadata": {},
   "outputs": [],
   "source": [
    "# hf = (5,3)*(3,1)+1\n",
    "#hf = xdata * w + b\n",
    "hf = tf.matmul(x,w)+b"
   ]
  },
  {
   "cell_type": "code",
   "execution_count": 161,
   "metadata": {},
   "outputs": [],
   "source": [
    "cost = tf.reduce_mean(tf.square(hf-y))\n",
    "opt = tf.train.GradientDescentOptimizer(1e-5)\n",
    "train = opt.minimize(cost)\n",
    "\n",
    "session = tf.Session()\n",
    "session.run(tf.global_variables_initializer())"
   ]
  },
  {
   "cell_type": "code",
   "execution_count": 162,
   "metadata": {},
   "outputs": [
    {
     "name": "stdout",
     "output_type": "stream",
     "text": [
      "136525.45 [[-177.20445]\n",
      " [-209.63411]\n",
      " [-210.40378]\n",
      " [-224.71936]\n",
      " [-159.89354]]\n",
      "1.8939139 [[150.89435]\n",
      " [183.24127]\n",
      " [181.01419]\n",
      " [196.95312]\n",
      " [139.4426 ]]\n",
      "1.8801072 [[150.88058]\n",
      " [183.25348]\n",
      " [181.01225]\n",
      " [196.94373]\n",
      " [139.45743]]\n",
      "1.8668013 [[150.86719]\n",
      " [183.2654 ]\n",
      " [181.0104 ]\n",
      " [196.93445]\n",
      " [139.47191]]\n",
      "1.8540001 [[150.85417]\n",
      " [183.27701]\n",
      " [181.00867]\n",
      " [196.92531]\n",
      " [139.48604]]\n",
      "1.8416529 [[150.84154]\n",
      " [183.28838]\n",
      " [181.00706]\n",
      " [196.91632]\n",
      " [139.4999 ]]\n",
      "1.8297424 [[150.82922]\n",
      " [183.29941]\n",
      " [181.0055 ]\n",
      " [196.9074 ]\n",
      " [139.51337]]\n",
      "1.8182367 [[150.81729]\n",
      " [183.31023]\n",
      " [181.00406]\n",
      " [196.89862]\n",
      " [139.52655]]\n",
      "1.8071461 [[150.80566]\n",
      " [183.32076]\n",
      " [181.00269]\n",
      " [196.88995]\n",
      " [139.53943]]\n",
      "1.7964227 [[150.7944 ]\n",
      " [183.33105]\n",
      " [181.00142]\n",
      " [196.88142]\n",
      " [139.55203]]\n",
      "1.7860931 [[150.78343]\n",
      " [183.34108]\n",
      " [181.00023]\n",
      " [196.873  ]\n",
      " [139.56432]]\n",
      "1.7761166 [[150.77277]\n",
      " [183.35085]\n",
      " [180.99913]\n",
      " [196.86467]\n",
      " [139.57631]]\n",
      "1.7664295 [[150.76244]\n",
      " [183.3604 ]\n",
      " [180.9981 ]\n",
      " [196.85645]\n",
      " [139.58804]]\n",
      "1.7570798 [[150.75238]\n",
      " [183.36972]\n",
      " [180.99716]\n",
      " [196.84833]\n",
      " [139.59952]]\n",
      "1.7480179 [[150.74261]\n",
      " [183.37881]\n",
      " [180.99628]\n",
      " [196.8403 ]\n",
      " [139.6107 ]]\n",
      "1.7392555 [[150.73314]\n",
      " [183.38768]\n",
      " [180.99548]\n",
      " [196.83238]\n",
      " [139.62164]]\n",
      "1.7307764 [[150.72392]\n",
      " [183.39636]\n",
      " [180.99477]\n",
      " [196.82458]\n",
      " [139.63232]]\n",
      "1.7225583 [[150.715  ]\n",
      " [183.40482]\n",
      " [180.99413]\n",
      " [196.81688]\n",
      " [139.64278]]\n",
      "1.7145936 [[150.70633]\n",
      " [183.41306]\n",
      " [180.99355]\n",
      " [196.80927]\n",
      " [139.65298]]\n",
      "1.7068634 [[150.69786]\n",
      " [183.42108]\n",
      " [180.993  ]\n",
      " [196.8017 ]\n",
      " [139.66293]]\n",
      "1.6993535 [[150.68968]\n",
      " [183.42894]\n",
      " [180.99254]\n",
      " [196.79425]\n",
      " [139.67268]]\n"
     ]
    }
   ],
   "source": [
    "for step in range(2001):\n",
    "    cv,hfv,_ = session.run([cost,hf,train],feed_dict={x:xdata,y:ydata})\n",
    "    if step%100==0:\n",
    "        print(cv,hfv)"
   ]
  },
  {
   "cell_type": "code",
   "execution_count": null,
   "metadata": {},
   "outputs": [],
   "source": []
  },
  {
   "cell_type": "code",
   "execution_count": null,
   "metadata": {},
   "outputs": [],
   "source": []
  },
  {
   "cell_type": "code",
   "execution_count": 163,
   "metadata": {},
   "outputs": [],
   "source": [
    "path = r'C:\\\\Users\\\\student\\\\Desktop'\n",
    "\n",
    "data = pd.read_csv(path+'\\\\data-01-test-score.csv', header=None)"
   ]
  },
  {
   "cell_type": "code",
   "execution_count": 164,
   "metadata": {},
   "outputs": [
    {
     "data": {
      "text/html": [
       "<div>\n",
       "<style scoped>\n",
       "    .dataframe tbody tr th:only-of-type {\n",
       "        vertical-align: middle;\n",
       "    }\n",
       "\n",
       "    .dataframe tbody tr th {\n",
       "        vertical-align: top;\n",
       "    }\n",
       "\n",
       "    .dataframe thead th {\n",
       "        text-align: right;\n",
       "    }\n",
       "</style>\n",
       "<table border=\"1\" class=\"dataframe\">\n",
       "  <thead>\n",
       "    <tr style=\"text-align: right;\">\n",
       "      <th></th>\n",
       "      <th>0</th>\n",
       "      <th>1</th>\n",
       "      <th>2</th>\n",
       "      <th>3</th>\n",
       "    </tr>\n",
       "  </thead>\n",
       "  <tbody>\n",
       "    <tr>\n",
       "      <td>0</td>\n",
       "      <td>73</td>\n",
       "      <td>80</td>\n",
       "      <td>75</td>\n",
       "      <td>152</td>\n",
       "    </tr>\n",
       "    <tr>\n",
       "      <td>1</td>\n",
       "      <td>93</td>\n",
       "      <td>88</td>\n",
       "      <td>93</td>\n",
       "      <td>185</td>\n",
       "    </tr>\n",
       "    <tr>\n",
       "      <td>2</td>\n",
       "      <td>89</td>\n",
       "      <td>91</td>\n",
       "      <td>90</td>\n",
       "      <td>180</td>\n",
       "    </tr>\n",
       "  </tbody>\n",
       "</table>\n",
       "</div>"
      ],
      "text/plain": [
       "    0   1   2    3\n",
       "0  73  80  75  152\n",
       "1  93  88  93  185\n",
       "2  89  91  90  180"
      ]
     },
     "execution_count": 164,
     "metadata": {},
     "output_type": "execute_result"
    }
   ],
   "source": [
    "data.head(3)"
   ]
  },
  {
   "cell_type": "code",
   "execution_count": 165,
   "metadata": {},
   "outputs": [
    {
     "data": {
      "text/html": [
       "<div>\n",
       "<style scoped>\n",
       "    .dataframe tbody tr th:only-of-type {\n",
       "        vertical-align: middle;\n",
       "    }\n",
       "\n",
       "    .dataframe tbody tr th {\n",
       "        vertical-align: top;\n",
       "    }\n",
       "\n",
       "    .dataframe thead th {\n",
       "        text-align: right;\n",
       "    }\n",
       "</style>\n",
       "<table border=\"1\" class=\"dataframe\">\n",
       "  <thead>\n",
       "    <tr style=\"text-align: right;\">\n",
       "      <th></th>\n",
       "      <th>0</th>\n",
       "      <th>1</th>\n",
       "      <th>2</th>\n",
       "    </tr>\n",
       "  </thead>\n",
       "  <tbody>\n",
       "    <tr>\n",
       "      <td>0</td>\n",
       "      <td>73</td>\n",
       "      <td>80</td>\n",
       "      <td>75</td>\n",
       "    </tr>\n",
       "    <tr>\n",
       "      <td>1</td>\n",
       "      <td>93</td>\n",
       "      <td>88</td>\n",
       "      <td>93</td>\n",
       "    </tr>\n",
       "    <tr>\n",
       "      <td>2</td>\n",
       "      <td>89</td>\n",
       "      <td>91</td>\n",
       "      <td>90</td>\n",
       "    </tr>\n",
       "  </tbody>\n",
       "</table>\n",
       "</div>"
      ],
      "text/plain": [
       "    0   1   2\n",
       "0  73  80  75\n",
       "1  93  88  93\n",
       "2  89  91  90"
      ]
     },
     "execution_count": 165,
     "metadata": {},
     "output_type": "execute_result"
    }
   ],
   "source": [
    "xdata = data.iloc[:,:3]\n",
    "xdata.head(3)"
   ]
  },
  {
   "cell_type": "code",
   "execution_count": 166,
   "metadata": {},
   "outputs": [
    {
     "data": {
      "text/plain": [
       "0    152\n",
       "1    185\n",
       "2    180\n",
       "Name: 3, dtype: int64"
      ]
     },
     "execution_count": 166,
     "metadata": {},
     "output_type": "execute_result"
    }
   ],
   "source": [
    "ydata = data.iloc[:,3]\n",
    "ydata.head(3)"
   ]
  },
  {
   "cell_type": "code",
   "execution_count": 168,
   "metadata": {},
   "outputs": [
    {
     "data": {
      "text/plain": [
       "(25, 3)"
      ]
     },
     "execution_count": 168,
     "metadata": {},
     "output_type": "execute_result"
    }
   ],
   "source": [
    "# xdata = np.array(xdata).T\n",
    "xdata.shape"
   ]
  },
  {
   "cell_type": "code",
   "execution_count": 169,
   "metadata": {},
   "outputs": [
    {
     "data": {
      "text/plain": [
       "(25,)"
      ]
     },
     "execution_count": 169,
     "metadata": {},
     "output_type": "execute_result"
    }
   ],
   "source": [
    "ydata.shape"
   ]
  },
  {
   "cell_type": "code",
   "execution_count": 170,
   "metadata": {},
   "outputs": [],
   "source": [
    "x = tf.placeholder(tf.float32,shape=[None,3])\n",
    "y = tf.placeholder(tf.float32,shape=[None,1])\n",
    "w = tf.Variable(tf.random_normal([3,1]))\n",
    "b = tf.Variable(tf.random_normal([1]))"
   ]
  },
  {
   "cell_type": "code",
   "execution_count": 171,
   "metadata": {},
   "outputs": [],
   "source": [
    "hf = tf.matmul(x,w)+b"
   ]
  },
  {
   "cell_type": "code",
   "execution_count": 172,
   "metadata": {},
   "outputs": [],
   "source": [
    "cost = tf.reduce_mean(tf.square(hf-y))\n",
    "opt = tf.train.GradientDescentOptimizer(1e-5)\n",
    "train = opt.minimize(cost)\n",
    "\n",
    "session = tf.Session()\n",
    "session.run(tf.global_variables_initializer())"
   ]
  },
  {
   "cell_type": "code",
   "execution_count": 174,
   "metadata": {},
   "outputs": [
    {
     "ename": "ValueError",
     "evalue": "Cannot feed value of shape (25,) for Tensor 'Placeholder_52:0', which has shape '(?, 1)'",
     "output_type": "error",
     "traceback": [
      "\u001b[1;31m---------------------------------------------------------------------------\u001b[0m",
      "\u001b[1;31mValueError\u001b[0m                                Traceback (most recent call last)",
      "\u001b[1;32m<ipython-input-174-709261957e3e>\u001b[0m in \u001b[0;36m<module>\u001b[1;34m\u001b[0m\n\u001b[0;32m      1\u001b[0m \u001b[1;32mfor\u001b[0m \u001b[0mstep\u001b[0m \u001b[1;32min\u001b[0m \u001b[0mrange\u001b[0m\u001b[1;33m(\u001b[0m\u001b[1;36m2001\u001b[0m\u001b[1;33m)\u001b[0m\u001b[1;33m:\u001b[0m\u001b[1;33m\u001b[0m\u001b[1;33m\u001b[0m\u001b[0m\n\u001b[1;32m----> 2\u001b[1;33m     \u001b[0mcv\u001b[0m\u001b[1;33m,\u001b[0m\u001b[0mhfv\u001b[0m\u001b[1;33m,\u001b[0m\u001b[0m_\u001b[0m \u001b[1;33m=\u001b[0m \u001b[0msession\u001b[0m\u001b[1;33m.\u001b[0m\u001b[0mrun\u001b[0m\u001b[1;33m(\u001b[0m\u001b[1;33m[\u001b[0m\u001b[0mcost\u001b[0m\u001b[1;33m,\u001b[0m\u001b[0mhf\u001b[0m\u001b[1;33m,\u001b[0m\u001b[0mtrain\u001b[0m\u001b[1;33m]\u001b[0m\u001b[1;33m,\u001b[0m\u001b[0mfeed_dict\u001b[0m\u001b[1;33m=\u001b[0m\u001b[1;33m{\u001b[0m\u001b[0mx\u001b[0m\u001b[1;33m:\u001b[0m\u001b[0mxdata\u001b[0m\u001b[1;33m,\u001b[0m\u001b[0my\u001b[0m\u001b[1;33m:\u001b[0m\u001b[0mydata\u001b[0m\u001b[1;33m}\u001b[0m\u001b[1;33m)\u001b[0m\u001b[1;33m\u001b[0m\u001b[1;33m\u001b[0m\u001b[0m\n\u001b[0m\u001b[0;32m      3\u001b[0m     \u001b[1;32mif\u001b[0m \u001b[0mstep\u001b[0m\u001b[1;33m%\u001b[0m\u001b[1;36m100\u001b[0m\u001b[1;33m==\u001b[0m\u001b[1;36m0\u001b[0m\u001b[1;33m:\u001b[0m\u001b[1;33m\u001b[0m\u001b[1;33m\u001b[0m\u001b[0m\n\u001b[0;32m      4\u001b[0m         \u001b[0mprint\u001b[0m\u001b[1;33m(\u001b[0m\u001b[0mcv\u001b[0m\u001b[1;33m,\u001b[0m\u001b[0mhfv\u001b[0m\u001b[1;33m)\u001b[0m\u001b[1;33m\u001b[0m\u001b[1;33m\u001b[0m\u001b[0m\n",
      "\u001b[1;32m~\\Anaconda3\\lib\\site-packages\\tensorflow_core\\python\\client\\session.py\u001b[0m in \u001b[0;36mrun\u001b[1;34m(self, fetches, feed_dict, options, run_metadata)\u001b[0m\n\u001b[0;32m    954\u001b[0m     \u001b[1;32mtry\u001b[0m\u001b[1;33m:\u001b[0m\u001b[1;33m\u001b[0m\u001b[1;33m\u001b[0m\u001b[0m\n\u001b[0;32m    955\u001b[0m       result = self._run(None, fetches, feed_dict, options_ptr,\n\u001b[1;32m--> 956\u001b[1;33m                          run_metadata_ptr)\n\u001b[0m\u001b[0;32m    957\u001b[0m       \u001b[1;32mif\u001b[0m \u001b[0mrun_metadata\u001b[0m\u001b[1;33m:\u001b[0m\u001b[1;33m\u001b[0m\u001b[1;33m\u001b[0m\u001b[0m\n\u001b[0;32m    958\u001b[0m         \u001b[0mproto_data\u001b[0m \u001b[1;33m=\u001b[0m \u001b[0mtf_session\u001b[0m\u001b[1;33m.\u001b[0m\u001b[0mTF_GetBuffer\u001b[0m\u001b[1;33m(\u001b[0m\u001b[0mrun_metadata_ptr\u001b[0m\u001b[1;33m)\u001b[0m\u001b[1;33m\u001b[0m\u001b[1;33m\u001b[0m\u001b[0m\n",
      "\u001b[1;32m~\\Anaconda3\\lib\\site-packages\\tensorflow_core\\python\\client\\session.py\u001b[0m in \u001b[0;36m_run\u001b[1;34m(self, handle, fetches, feed_dict, options, run_metadata)\u001b[0m\n\u001b[0;32m   1154\u001b[0m                 \u001b[1;34m'Cannot feed value of shape %r for Tensor %r, '\u001b[0m\u001b[1;33m\u001b[0m\u001b[1;33m\u001b[0m\u001b[0m\n\u001b[0;32m   1155\u001b[0m                 \u001b[1;34m'which has shape %r'\u001b[0m \u001b[1;33m%\u001b[0m\u001b[1;33m\u001b[0m\u001b[1;33m\u001b[0m\u001b[0m\n\u001b[1;32m-> 1156\u001b[1;33m                 (np_val.shape, subfeed_t.name, str(subfeed_t.get_shape())))\n\u001b[0m\u001b[0;32m   1157\u001b[0m           \u001b[1;32mif\u001b[0m \u001b[1;32mnot\u001b[0m \u001b[0mself\u001b[0m\u001b[1;33m.\u001b[0m\u001b[0mgraph\u001b[0m\u001b[1;33m.\u001b[0m\u001b[0mis_feedable\u001b[0m\u001b[1;33m(\u001b[0m\u001b[0msubfeed_t\u001b[0m\u001b[1;33m)\u001b[0m\u001b[1;33m:\u001b[0m\u001b[1;33m\u001b[0m\u001b[1;33m\u001b[0m\u001b[0m\n\u001b[0;32m   1158\u001b[0m             \u001b[1;32mraise\u001b[0m \u001b[0mValueError\u001b[0m\u001b[1;33m(\u001b[0m\u001b[1;34m'Tensor %s may not be fed.'\u001b[0m \u001b[1;33m%\u001b[0m \u001b[0msubfeed_t\u001b[0m\u001b[1;33m)\u001b[0m\u001b[1;33m\u001b[0m\u001b[1;33m\u001b[0m\u001b[0m\n",
      "\u001b[1;31mValueError\u001b[0m: Cannot feed value of shape (25,) for Tensor 'Placeholder_52:0', which has shape '(?, 1)'"
     ]
    }
   ],
   "source": [
    "for step in range(2001):\n",
    "    cv,hfv,_ = session.run([cost,hf,train],feed_dict={x:xdata,y:ydata})\n",
    "    if step%100==0:\n",
    "        print(cv,hfv)"
   ]
  },
  {
   "cell_type": "code",
   "execution_count": null,
   "metadata": {},
   "outputs": [],
   "source": []
  },
  {
   "cell_type": "code",
   "execution_count": null,
   "metadata": {},
   "outputs": [],
   "source": []
  },
  {
   "cell_type": "code",
   "execution_count": 175,
   "metadata": {},
   "outputs": [],
   "source": [
    "### logistic regression\n",
    "xdata = [[1,2],\n",
    "        [2,3],\n",
    "        [3,1],\n",
    "        [4,3],\n",
    "        [5,3],\n",
    "        [6,2]]\n",
    "ydata = [[0],\n",
    "        [0],\n",
    "        [0],\n",
    "        [1],\n",
    "        [1],\n",
    "        [1]]"
   ]
  },
  {
   "cell_type": "code",
   "execution_count": 176,
   "metadata": {},
   "outputs": [],
   "source": [
    "x = tf.placeholder(tf.float32, shape=[None,2])\n",
    "y = tf.placeholder(tf.float32, shape=[None,1])\n",
    "w = tf.Variable(tf.random_normal([2,1]))\n",
    "b = tf.Variable(tf.random_normal([1]))"
   ]
  },
  {
   "cell_type": "code",
   "execution_count": 177,
   "metadata": {},
   "outputs": [],
   "source": [
    "hf = tf.sigmoid(tf.matmul(x,w)+b)\n",
    "cost = -tf.reduce_mean(y*tf.log(hf)+(1-y)*tf.log(1-hf))\n",
    "train = tf.train.GradientDescentOptimizer(0.01).minimize(cost)"
   ]
  },
  {
   "cell_type": "code",
   "execution_count": null,
   "metadata": {},
   "outputs": [],
   "source": []
  },
  {
   "cell_type": "code",
   "execution_count": 178,
   "metadata": {},
   "outputs": [
    {
     "name": "stdout",
     "output_type": "stream",
     "text": [
      "0 0.62309486\n",
      "4000 0.2605465\n",
      "8000 0.1717112\n",
      "12000 0.12764817\n",
      "16000 0.101727284\n",
      "20000 0.084693916\n",
      "예측값 :  [[0.00897123]\n",
      " [0.11037017]\n",
      " [0.17158212]\n",
      " [0.85132694]\n",
      " [0.97493875]\n",
      " [0.9924251 ]] \n",
      "예측분류 :  [[0.]\n",
      " [0.]\n",
      " [0.]\n",
      " [1.]\n",
      " [1.]\n",
      " [1.]] \n",
      "정확도 :  1.0\n"
     ]
    }
   ],
   "source": [
    "# 임계치 0.5 기준, 1.0 or 0.0\n",
    "pred = tf.cast(hf>0.5, dtype=tf.float32)\n",
    "accuracy = tf.reduce_mean(tf.cast(tf.equal(pred, y),dtype=tf.float32))\n",
    "\n",
    "with tf.Session() as session:\n",
    "    session.run(tf.global_variables_initializer())\n",
    "    for step in range(20001):\n",
    "        _,cv = session.run([train, cost], feed_dict={x:xdata, y:ydata})\n",
    "        if step%4000==0:\n",
    "            print(step, cv)\n",
    "    hv,pv,av = session.run([hf,pred,accuracy], feed_dict={x:xdata,y:ydata})\n",
    "    print('예측값 : ',hv, '\\n예측분류 : ', pv, '\\n정확도 : ',av)"
   ]
  },
  {
   "cell_type": "code",
   "execution_count": null,
   "metadata": {},
   "outputs": [],
   "source": []
  },
  {
   "cell_type": "code",
   "execution_count": null,
   "metadata": {},
   "outputs": [],
   "source": []
  },
  {
   "cell_type": "code",
   "execution_count": null,
   "metadata": {},
   "outputs": [],
   "source": []
  }
 ],
 "metadata": {
  "kernelspec": {
   "display_name": "Python 3",
   "language": "python",
   "name": "python3"
  },
  "language_info": {
   "codemirror_mode": {
    "name": "ipython",
    "version": 3
   },
   "file_extension": ".py",
   "mimetype": "text/x-python",
   "name": "python",
   "nbconvert_exporter": "python",
   "pygments_lexer": "ipython3",
   "version": "3.7.4"
  }
 },
 "nbformat": 4,
 "nbformat_minor": 2
}
