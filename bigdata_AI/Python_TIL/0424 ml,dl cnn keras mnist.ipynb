{
 "cells": [
  {
   "cell_type": "code",
   "execution_count": 2,
   "metadata": {},
   "outputs": [],
   "source": [
    "### mnist CNN"
   ]
  },
  {
   "cell_type": "code",
   "execution_count": 102,
   "metadata": {},
   "outputs": [],
   "source": [
    "from keras.datasets import mnist\n",
    "from keras.utils import np_utils\n",
    "from keras.models import Sequential\n",
    "from keras.layers import *\n",
    "from keras.callbacks import ModelCheckpoint, EarlyStopping\n",
    "import numpy as np\n",
    "import sys\n",
    "import tensorflow as tf\n",
    "import os"
   ]
  },
  {
   "cell_type": "code",
   "execution_count": 103,
   "metadata": {},
   "outputs": [],
   "source": [
    "(xtrain,ytrain), (xtest,ytest) = mnist.load_data()"
   ]
  },
  {
   "cell_type": "code",
   "execution_count": 104,
   "metadata": {},
   "outputs": [],
   "source": [
    "xtrain = xtrain.reshape(xtrain.shape[0],28,28,1).astype('float64')/255\n",
    "xtest = xtest.reshape(xtest.shape[0],28,28,1).astype('float64')/255"
   ]
  },
  {
   "cell_type": "code",
   "execution_count": 105,
   "metadata": {},
   "outputs": [],
   "source": [
    "ytrain = np_utils.to_categorical(ytrain,10)\n",
    "ytest = np_utils.to_categorical(ytest,10)"
   ]
  },
  {
   "cell_type": "code",
   "execution_count": 106,
   "metadata": {},
   "outputs": [
    {
     "name": "stdout",
     "output_type": "stream",
     "text": [
      "(60000, 28, 28, 1) (60000, 10) (10000, 28, 28, 1) (10000, 10)\n"
     ]
    }
   ],
   "source": [
    "print(xtrain.shape, ytrain.shape, xtest.shape, ytest.shape)"
   ]
  },
  {
   "cell_type": "code",
   "execution_count": 107,
   "metadata": {},
   "outputs": [],
   "source": [
    "# model 구성\n",
    "model = Sequential()\n",
    "# Conv2D(filter갯수, kernel_size=(,), input_shape=(r,c,color), activation= )\n",
    "model.add(Conv2D(32, kernel_size=(3,3), input_shape=(28,28,1), activation='relu'))\n",
    "model.add(Conv2D(64, kernel_size=(3,3), activation='relu'))\n",
    "model.add(MaxPooling2D(pool_size=2))\n",
    "model.add(Dropout(0.25))\n",
    "# Flatten() - 1차원으로 변경\n",
    "model.add(Flatten())\n",
    "model.add(Dense(128, activation='relu'))\n",
    "model.add(Dropout(0.5))\n",
    "model.add(Dense(10, activation='softmax'))"
   ]
  },
  {
   "cell_type": "code",
   "execution_count": 108,
   "metadata": {},
   "outputs": [],
   "source": [
    "## model 환경 설정\n",
    "model.compile(loss='categorical_crossentropy', optimizer='adam', metrics=['accuracy'])"
   ]
  },
  {
   "cell_type": "code",
   "execution_count": 109,
   "metadata": {},
   "outputs": [],
   "source": [
    "# model 최적화\n",
    "modeldir = './mycnnmodel/'\n",
    "\n",
    "if not os.path.exists(modeldir):\n",
    "    modelpath = './mycnnmodel/{epoch:02d}-{val_loss:.4f}.hdf5'\n",
    "    os.mkdir(modeldir)\n",
    "# model 저장 옵션 설정\n",
    "checkpointer = ModelCheckpoint(filepath=modelpath, monitor='val_loss', verbose=1, save_best_only=True)\n",
    "\n",
    "# \n",
    "es = EarlyStopping(monitor='val_loss', patience=10)"
   ]
  },
  {
   "cell_type": "code",
   "execution_count": null,
   "metadata": {},
   "outputs": [],
   "source": []
  },
  {
   "cell_type": "code",
   "execution_count": 110,
   "metadata": {},
   "outputs": [],
   "source": [
    "from keras.preprocessing.image import ImageDataGenerator"
   ]
  },
  {
   "cell_type": "code",
   "execution_count": 111,
   "metadata": {},
   "outputs": [
    {
     "name": "stdout",
     "output_type": "stream",
     "text": [
      "Found 45 images belonging to 3 classes.\n"
     ]
    }
   ],
   "source": [
    "train_gen = ImageDataGenerator(rescale=1./255)\n",
    "train_gen = train_gen.flow_from_directory('C:\\\\Users\\\\student\\\\Desktop\\\\dataset\\\\python\\\\image_data\\\\train', \n",
    "                             target_size=(24,24), batch_size=3, class_mode='categorical')"
   ]
  },
  {
   "cell_type": "code",
   "execution_count": 112,
   "metadata": {},
   "outputs": [
    {
     "name": "stdout",
     "output_type": "stream",
     "text": [
      "Found 15 images belonging to 3 classes.\n"
     ]
    }
   ],
   "source": [
    "test_gen = ImageDataGenerator(rescale=1./255)\n",
    "test_gen = test_gen.flow_from_directory('C:\\\\Users\\\\student\\\\Desktop\\\\dataset\\\\python\\\\image_data\\\\test', \n",
    "                             target_size=(24,24), batch_size=3, class_mode='categorical')"
   ]
  },
  {
   "cell_type": "code",
   "execution_count": 113,
   "metadata": {},
   "outputs": [],
   "source": [
    "# 크기(24,24), 채널 3, 필터 3*3, 필터개수 32, relu\n",
    "model=Sequential()\n",
    "model.add(Conv2D(32, kernel_size=(3,3), activation='relu', input_shape=(24,24,3)))\n",
    "# 필터 3*3, 필터개수 64, relu\n",
    "model.add(Conv2D(64, kernel_size=(3,3), activation='relu'))\n",
    "# maxpool 2*2\n",
    "model.add(MaxPooling2D(pool_size=(2,2)))\n",
    "# 플래튼 => Dense(128개 뉴런 출력) => Dense(softmax)\n",
    "model.add(Flatten())\n",
    "model.add(Dense(128, activation='relu'))\n",
    "model.add(Dense(3, activation='softmax'))"
   ]
  },
  {
   "cell_type": "code",
   "execution_count": 114,
   "metadata": {},
   "outputs": [
    {
     "name": "stdout",
     "output_type": "stream",
     "text": [
      "Model: \"sequential_8\"\n",
      "_________________________________________________________________\n",
      "Layer (type)                 Output Shape              Param #   \n",
      "=================================================================\n",
      "conv2d_15 (Conv2D)           (None, 22, 22, 32)        896       \n",
      "_________________________________________________________________\n",
      "conv2d_16 (Conv2D)           (None, 20, 20, 64)        18496     \n",
      "_________________________________________________________________\n",
      "max_pooling2d_8 (MaxPooling2 (None, 10, 10, 64)        0         \n",
      "_________________________________________________________________\n",
      "flatten_8 (Flatten)          (None, 6400)              0         \n",
      "_________________________________________________________________\n",
      "dense_15 (Dense)             (None, 128)               819328    \n",
      "_________________________________________________________________\n",
      "dense_16 (Dense)             (None, 3)                 387       \n",
      "=================================================================\n",
      "Total params: 839,107\n",
      "Trainable params: 839,107\n",
      "Non-trainable params: 0\n",
      "_________________________________________________________________\n"
     ]
    }
   ],
   "source": [
    "model.summary()"
   ]
  },
  {
   "cell_type": "code",
   "execution_count": 115,
   "metadata": {},
   "outputs": [],
   "source": [
    "model.compile(loss='categorical_crossentropy', optimizer='adam', metrics=['accuracy'])"
   ]
  },
  {
   "cell_type": "code",
   "execution_count": 116,
   "metadata": {},
   "outputs": [
    {
     "name": "stdout",
     "output_type": "stream",
     "text": [
      "Epoch 1/50\n",
      "15/15 [==============================] - 1s 70ms/step - loss: 0.8140 - accuracy: 0.6444 - val_loss: 0.2304 - val_accuracy: 0.9333\n",
      "Epoch 2/50\n",
      "15/15 [==============================] - 0s 29ms/step - loss: 0.1056 - accuracy: 0.9556 - val_loss: 0.0052 - val_accuracy: 0.9333\n",
      "Epoch 3/50\n",
      "15/15 [==============================] - 0s 32ms/step - loss: 0.0203 - accuracy: 1.0000 - val_loss: 0.2091 - val_accuracy: 1.0000\n",
      "Epoch 4/50\n",
      "15/15 [==============================] - 1s 34ms/step - loss: 0.0056 - accuracy: 1.0000 - val_loss: 0.0155 - val_accuracy: 0.9333\n",
      "Epoch 5/50\n",
      "15/15 [==============================] - 1s 34ms/step - loss: 7.7786e-04 - accuracy: 1.0000 - val_loss: 0.0014 - val_accuracy: 0.9333\n",
      "Epoch 6/50\n",
      "15/15 [==============================] - 1s 36ms/step - loss: 2.7077e-04 - accuracy: 1.0000 - val_loss: 3.1471e-05 - val_accuracy: 0.9333\n",
      "Epoch 7/50\n",
      "15/15 [==============================] - 1s 34ms/step - loss: 1.8724e-04 - accuracy: 1.0000 - val_loss: 0.0096 - val_accuracy: 1.0000\n",
      "Epoch 8/50\n",
      "15/15 [==============================] - 0s 33ms/step - loss: 1.4989e-04 - accuracy: 1.0000 - val_loss: 0.0017 - val_accuracy: 1.0000\n",
      "Epoch 9/50\n",
      "15/15 [==============================] - 1s 35ms/step - loss: 1.2851e-04 - accuracy: 1.0000 - val_loss: 2.6358e-04 - val_accuracy: 0.9333\n",
      "Epoch 10/50\n",
      "15/15 [==============================] - 1s 34ms/step - loss: 1.0298e-04 - accuracy: 1.0000 - val_loss: 0.0048 - val_accuracy: 0.9333\n",
      "Epoch 11/50\n",
      "15/15 [==============================] - 1s 38ms/step - loss: 8.5131e-05 - accuracy: 1.0000 - val_loss: 3.4967e-05 - val_accuracy: 0.9333\n",
      "Epoch 12/50\n",
      "15/15 [==============================] - 0s 32ms/step - loss: 6.9764e-05 - accuracy: 1.0000 - val_loss: 0.0041 - val_accuracy: 0.9333\n",
      "Epoch 13/50\n",
      "15/15 [==============================] - 0s 33ms/step - loss: 5.6910e-05 - accuracy: 1.0000 - val_loss: 7.6711e-04 - val_accuracy: 0.9333\n",
      "Epoch 14/50\n",
      "15/15 [==============================] - 1s 36ms/step - loss: 4.8668e-05 - accuracy: 1.0000 - val_loss: 0.3560 - val_accuracy: 0.9333\n",
      "Epoch 15/50\n",
      "15/15 [==============================] - 0s 32ms/step - loss: 4.1757e-05 - accuracy: 1.0000 - val_loss: 1.1149e-04 - val_accuracy: 0.9333\n",
      "Epoch 16/50\n",
      "15/15 [==============================] - 1s 44ms/step - loss: 3.7156e-05 - accuracy: 1.0000 - val_loss: 0.3111 - val_accuracy: 0.9333\n",
      "Epoch 17/50\n",
      "15/15 [==============================] - 1s 39ms/step - loss: 3.2805e-05 - accuracy: 1.0000 - val_loss: 1.0712e-04 - val_accuracy: 0.9333\n",
      "Epoch 18/50\n",
      "15/15 [==============================] - 1s 34ms/step - loss: 2.9379e-05 - accuracy: 1.0000 - val_loss: 1.0927e-05 - val_accuracy: 0.9333\n",
      "Epoch 19/50\n",
      "15/15 [==============================] - 1s 43ms/step - loss: 2.6331e-05 - accuracy: 1.0000 - val_loss: 0.0027 - val_accuracy: 0.9333\n",
      "Epoch 20/50\n",
      "15/15 [==============================] - 1s 37ms/step - loss: 2.3610e-05 - accuracy: 1.0000 - val_loss: 0.2952 - val_accuracy: 1.0000\n",
      "Epoch 21/50\n",
      "15/15 [==============================] - 1s 47ms/step - loss: 2.1685e-05 - accuracy: 1.0000 - val_loss: 0.0043 - val_accuracy: 1.0000\n",
      "Epoch 22/50\n",
      "15/15 [==============================] - 1s 37ms/step - loss: 2.0146e-05 - accuracy: 1.0000 - val_loss: 0.0043 - val_accuracy: 1.0000\n",
      "Epoch 23/50\n",
      "15/15 [==============================] - 1s 42ms/step - loss: 1.8167e-05 - accuracy: 1.0000 - val_loss: 0.2962 - val_accuracy: 1.0000\n",
      "Epoch 24/50\n",
      "15/15 [==============================] - 1s 38ms/step - loss: 1.6895e-05 - accuracy: 1.0000 - val_loss: 0.3067 - val_accuracy: 0.9333\n",
      "Epoch 25/50\n",
      "15/15 [==============================] - 0s 32ms/step - loss: 1.5997e-05 - accuracy: 1.0000 - val_loss: 1.3113e-05 - val_accuracy: 0.9333\n",
      "Epoch 26/50\n",
      "15/15 [==============================] - 1s 35ms/step - loss: 1.4654e-05 - accuracy: 1.0000 - val_loss: 0.0019 - val_accuracy: 1.0000\n",
      "Epoch 27/50\n",
      "15/15 [==============================] - 0s 33ms/step - loss: 1.3465e-05 - accuracy: 1.0000 - val_loss: 6.9015e-04 - val_accuracy: 1.0000\n",
      "Epoch 28/50\n",
      "15/15 [==============================] - 0s 32ms/step - loss: 1.2594e-05 - accuracy: 1.0000 - val_loss: 8.0665e-06 - val_accuracy: 1.0000\n",
      "Epoch 29/50\n",
      "15/15 [==============================] - 1s 35ms/step - loss: 1.1616e-05 - accuracy: 1.0000 - val_loss: 8.5830e-06 - val_accuracy: 1.0000\n",
      "Epoch 30/50\n",
      "15/15 [==============================] - 0s 30ms/step - loss: 1.1025e-05 - accuracy: 1.0000 - val_loss: 0.0016 - val_accuracy: 1.0000\n",
      "Epoch 31/50\n",
      "15/15 [==============================] - 1s 40ms/step - loss: 1.0223e-05 - accuracy: 1.0000 - val_loss: 3.9019e-05 - val_accuracy: 1.0000\n",
      "Epoch 32/50\n",
      "15/15 [==============================] - 1s 40ms/step - loss: 9.7459e-06 - accuracy: 1.0000 - val_loss: 0.0046 - val_accuracy: 1.0000\n",
      "Epoch 33/50\n",
      "15/15 [==============================] - 1s 35ms/step - loss: 9.0280e-06 - accuracy: 1.0000 - val_loss: 5.3247e-06 - val_accuracy: 1.0000\n",
      "Epoch 34/50\n",
      "15/15 [==============================] - 1s 34ms/step - loss: 8.4902e-06 - accuracy: 1.0000 - val_loss: 3.1470e-05 - val_accuracy: 1.0000\n",
      "Epoch 35/50\n",
      "15/15 [==============================] - 1s 36ms/step - loss: 8.4161e-06 - accuracy: 1.0000 - val_loss: 0.0014 - val_accuracy: 1.0000\n",
      "Epoch 36/50\n",
      "15/15 [==============================] - 1s 36ms/step - loss: 7.5445e-06 - accuracy: 1.0000 - val_loss: 0.2400 - val_accuracy: 1.0000\n",
      "Epoch 37/50\n",
      "15/15 [==============================] - 1s 38ms/step - loss: 7.1816e-06 - accuracy: 1.0000 - val_loss: 3.0597e-06 - val_accuracy: 1.0000\n",
      "Epoch 38/50\n",
      "15/15 [==============================] - 1s 36ms/step - loss: 6.7763e-06 - accuracy: 1.0000 - val_loss: 5.9219e-04 - val_accuracy: 1.0000\n",
      "Epoch 39/50\n",
      "15/15 [==============================] - 1s 38ms/step - loss: 6.5193e-06 - accuracy: 1.0000 - val_loss: 0.2381 - val_accuracy: 1.0000\n",
      "Epoch 40/50\n",
      "15/15 [==============================] - 1s 36ms/step - loss: 6.2041e-06 - accuracy: 1.0000 - val_loss: 0.2402 - val_accuracy: 1.0000\n",
      "Epoch 41/50\n",
      "15/15 [==============================] - 1s 38ms/step - loss: 5.8544e-06 - accuracy: 1.0000 - val_loss: 2.1855e-06 - val_accuracy: 1.0000\n",
      "Epoch 42/50\n",
      "15/15 [==============================] - 0s 29ms/step - loss: 5.7061e-06 - accuracy: 1.0000 - val_loss: 1.9788e-05 - val_accuracy: 1.0000\n",
      "Epoch 43/50\n",
      "15/15 [==============================] - 1s 38ms/step - loss: 5.2769e-06 - accuracy: 1.0000 - val_loss: 5.7934e-04 - val_accuracy: 1.0000\n",
      "Epoch 44/50\n",
      "15/15 [==============================] - 1s 38ms/step - loss: 5.0120e-06 - accuracy: 1.0000 - val_loss: 5.6668e-04 - val_accuracy: 1.0000\n",
      "Epoch 45/50\n",
      "15/15 [==============================] - 0s 32ms/step - loss: 4.8081e-06 - accuracy: 1.0000 - val_loss: 5.9031e-04 - val_accuracy: 1.0000\n",
      "Epoch 46/50\n",
      "15/15 [==============================] - 1s 37ms/step - loss: 4.5723e-06 - accuracy: 1.0000 - val_loss: 2.7021e-06 - val_accuracy: 1.0000\n",
      "Epoch 47/50\n",
      "15/15 [==============================] - 1s 35ms/step - loss: 4.4134e-06 - accuracy: 1.0000 - val_loss: 0.0016 - val_accuracy: 1.0000\n",
      "Epoch 48/50\n",
      "15/15 [==============================] - 1s 38ms/step - loss: 4.1988e-06 - accuracy: 1.0000 - val_loss: 2.9007e-06 - val_accuracy: 1.0000\n",
      "Epoch 49/50\n",
      "15/15 [==============================] - 1s 38ms/step - loss: 3.9763e-06 - accuracy: 1.0000 - val_loss: 1.7881e-06 - val_accuracy: 1.0000\n",
      "Epoch 50/50\n",
      "15/15 [==============================] - 0s 32ms/step - loss: 3.8597e-06 - accuracy: 1.0000 - val_loss: 0.1899 - val_accuracy: 1.0000\n"
     ]
    },
    {
     "data": {
      "text/plain": [
       "<keras.callbacks.callbacks.History at 0x1cc0603d4c8>"
      ]
     },
     "execution_count": 116,
     "metadata": {},
     "output_type": "execute_result"
    }
   ],
   "source": [
    "model.fit_generator(train_gen, steps_per_epoch=15, epochs=50, validation_data=test_gen, validation_steps=5)"
   ]
  },
  {
   "cell_type": "code",
   "execution_count": 123,
   "metadata": {},
   "outputs": [
    {
     "data": {
      "text/plain": [
       "1.0"
      ]
     },
     "execution_count": 123,
     "metadata": {},
     "output_type": "execute_result"
    }
   ],
   "source": [
    "model.evaluate_generator(test_gen, steps=5)[1]"
   ]
  },
  {
   "cell_type": "code",
   "execution_count": 118,
   "metadata": {},
   "outputs": [
    {
     "data": {
      "text/plain": [
       "array([[6.8117572e-07, 9.9999928e-01, 6.8646683e-10],\n",
       "       [9.9999654e-01, 2.2137046e-06, 1.1500473e-06],\n",
       "       [8.8876398e-08, 9.9999988e-01, 1.1503687e-09],\n",
       "       [4.3985364e-07, 7.3109054e-06, 9.9999225e-01],\n",
       "       [9.9674428e-01, 1.6082970e-05, 3.2396787e-03],\n",
       "       [3.6007477e-05, 1.2474626e-02, 9.8748940e-01],\n",
       "       [2.0504087e-06, 9.9999785e-01, 7.6969521e-08],\n",
       "       [1.3800776e-08, 1.6366633e-06, 9.9999833e-01],\n",
       "       [9.9999952e-01, 3.4526209e-07, 1.0084351e-07],\n",
       "       [4.7108729e-06, 9.9999523e-01, 3.2205250e-09],\n",
       "       [3.5531835e-07, 1.4823418e-07, 9.9999952e-01],\n",
       "       [9.9999714e-01, 2.6842101e-06, 8.6667605e-08],\n",
       "       [2.9297391e-01, 5.6657231e-01, 1.4045385e-01],\n",
       "       [9.9995375e-01, 4.2251031e-05, 4.1034159e-06],\n",
       "       [3.5929490e-06, 1.6049069e-03, 9.9839145e-01]], dtype=float32)"
      ]
     },
     "execution_count": 118,
     "metadata": {},
     "output_type": "execute_result"
    }
   ],
   "source": [
    "model.predict_generator(test_gen, steps=5)"
   ]
  },
  {
   "cell_type": "code",
   "execution_count": 119,
   "metadata": {},
   "outputs": [],
   "source": [
    "from keras.preprocessing.image import array_to_img, img_to_array, load_img\n",
    "re_gen = ImageDataGenerator(rescale=1./255, rotation_range=15, width_shift_range=0.1, height_shift_range=0.1,\n",
    "                  shear_range=0.5, zoom_range=[0.8,2.0], horizontal_flip=True,  vertical_flip=True, fill_mode='nearest')"
   ]
  },
  {
   "cell_type": "code",
   "execution_count": 120,
   "metadata": {},
   "outputs": [],
   "source": [
    "img = load_img('C:\\\\Users\\\\student\\\\Desktop\\\\dataset\\\\python\\\\image_data\\\\train\\\\triangle\\\\triangle001.png')"
   ]
  },
  {
   "cell_type": "code",
   "execution_count": 121,
   "metadata": {},
   "outputs": [
    {
     "data": {
      "text/plain": [
       "(1, 24, 24, 3)"
      ]
     },
     "execution_count": 121,
     "metadata": {},
     "output_type": "execute_result"
    }
   ],
   "source": [
    "x = img_to_array(img)\n",
    "x = x.reshape((1,)+x.shape)\n",
    "x.shape"
   ]
  },
  {
   "cell_type": "code",
   "execution_count": 122,
   "metadata": {},
   "outputs": [],
   "source": [
    "i = 0\n",
    "for batch in re_gen.flow(x,batch_size=1, save_to_dir='store', save_prefix='tri', save_format='png'):\n",
    "    i += 1\n",
    "    if i > 50:\n",
    "        break"
   ]
  },
  {
   "cell_type": "code",
   "execution_count": null,
   "metadata": {},
   "outputs": [],
   "source": []
  },
  {
   "cell_type": "code",
   "execution_count": null,
   "metadata": {},
   "outputs": [],
   "source": []
  },
  {
   "cell_type": "code",
   "execution_count": null,
   "metadata": {},
   "outputs": [],
   "source": []
  },
  {
   "cell_type": "code",
   "execution_count": null,
   "metadata": {},
   "outputs": [],
   "source": []
  },
  {
   "cell_type": "code",
   "execution_count": null,
   "metadata": {},
   "outputs": [],
   "source": []
  },
  {
   "cell_type": "code",
   "execution_count": null,
   "metadata": {},
   "outputs": [],
   "source": []
  },
  {
   "cell_type": "code",
   "execution_count": null,
   "metadata": {},
   "outputs": [],
   "source": []
  },
  {
   "cell_type": "code",
   "execution_count": null,
   "metadata": {},
   "outputs": [],
   "source": []
  }
 ],
 "metadata": {
  "kernelspec": {
   "display_name": "Python 3",
   "language": "python",
   "name": "python3"
  },
  "language_info": {
   "codemirror_mode": {
    "name": "ipython",
    "version": 3
   },
   "file_extension": ".py",
   "mimetype": "text/x-python",
   "name": "python",
   "nbconvert_exporter": "python",
   "pygments_lexer": "ipython3",
   "version": "3.7.4"
  }
 },
 "nbformat": 4,
 "nbformat_minor": 2
}
